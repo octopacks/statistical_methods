{
 "cells": [
  {
   "cell_type": "markdown",
   "metadata": {},
   "source": [
    "# Question 1\n",
    "The Board of Directors of a company wishes to form a quality management committee to monitor the quality of their products.  The company has 5 Scientists, 4 Engineers and 6 Accountants. Find the probability that the committee will contain 2 Scientists, 1 Engineer and 2 Accountants."
   ]
  },
  {
   "cell_type": "markdown",
   "metadata": {},
   "source": [
    "**Solution**\n",
    "\n",
    "* Total ways to pick (2 + 1 + 2) people from (5 + 4 + 6) people = T = (15 C 5)\n",
    "* Number of ways to pick 2 scientists from 5 scientists = Ps = (5 C 2)\n",
    "* Number of ways to pick 1 engineer from 4 engineers = Pe = (4 C 1)\n",
    "* Number of ways to pick 2 accountants from 6 accountants = Pa = (6 C 2)"
   ]
  },
  {
   "cell_type": "code",
   "execution_count": 1,
   "metadata": {},
   "outputs": [
    {
     "name": "stdout",
     "output_type": "stream",
     "text": [
      "T =  3003\n",
      "Ps =  10\n",
      "Pe =  4\n",
      "Pa =  15\n"
     ]
    }
   ],
   "source": [
    "import math\n",
    "\n",
    "print('T = ', math.comb(15, 5))\n",
    "print('Ps = ', math.comb(5, 2))\n",
    "print('Pe = ', math.comb(4, 1))\n",
    "print('Pa = ', math.comb(6, 2))"
   ]
  },
  {
   "cell_type": "code",
   "execution_count": 2,
   "metadata": {},
   "outputs": [
    {
     "name": "stdout",
     "output_type": "stream",
     "text": [
      "Probability of desired selection =  0.1998\n"
     ]
    }
   ],
   "source": [
    "print('Probability of desired selection = ', round((10 * 4 * 15)/ 3003, 4))"
   ]
  },
  {
   "cell_type": "markdown",
   "metadata": {},
   "source": [
    "# Question 2\n",
    "A number is selected at random from the numbers 1 to 30.  What is the probability that \n",
    "\n",
    "* i)\tIt is divisible by either 3 or 7\n",
    "* ii)\tIt is divisible by 5 or 13?"
   ]
  },
  {
   "cell_type": "markdown",
   "metadata": {},
   "source": [
    "**Solution**\n",
    "\n",
    "* Total possible outcomes T = 30"
   ]
  },
  {
   "cell_type": "code",
   "execution_count": 4,
   "metadata": {},
   "outputs": [
    {
     "name": "stdout",
     "output_type": "stream",
     "text": [
      "[3, 6, 7, 9, 12, 14, 15, 18, 21, 24, 27, 28, 30]\n",
      "i) Probability of number divisible by either 3 or 7 is 0.4333\n"
     ]
    }
   ],
   "source": [
    "num = [x for x in range(1, 31) if x % 3 == 0 or x % 7 == 0]\n",
    "print(num)\n",
    "print('i) Probability of number divisible by either 3 or 7 is', round(len(num)/30, 4))"
   ]
  },
  {
   "cell_type": "code",
   "execution_count": 5,
   "metadata": {},
   "outputs": [
    {
     "name": "stdout",
     "output_type": "stream",
     "text": [
      "[5, 10, 13, 15, 20, 25, 26, 30]\n",
      "ii) Probability of number divisible by 5 or 13 is 0.2667\n"
     ]
    }
   ],
   "source": [
    "num = [x for x in range(1, 31) if x % 5 == 0 or x % 13 == 0]\n",
    "print(num)\n",
    "print('ii) Probability of number divisible by 5 or 13 is', round(len(num)/30, 4))"
   ]
  },
  {
   "cell_type": "markdown",
   "metadata": {},
   "source": [
    "# Question 3\n",
    "\n",
    "The odds favoring the event of a person hitting a target are 3 to 5.  The odds against the event of another person hitting the target are 3 to 2.  If each of them fire once at the target, find the probability that:\n",
    "* i)\tboth of them hit it \n",
    "* ii)\tat least one of them hit the target"
   ]
  },
  {
   "cell_type": "markdown",
   "metadata": {},
   "source": [
    "**Solution**\n",
    "\n",
    "* Odds favoring person A hitting = 3:5; p(A) = 3/8\n",
    "* Odds favoring person B hitting = 2:3; p(B) = 2/5"
   ]
  },
  {
   "cell_type": "code",
   "execution_count": 6,
   "metadata": {},
   "outputs": [
    {
     "name": "stdout",
     "output_type": "stream",
     "text": [
      "i)  Probability of both hitting is 0.15\n",
      "ii) Probability of at least one of them hitting is 0.625\n"
     ]
    }
   ],
   "source": [
    "pA = 3/8\n",
    "pB = 2/5\n",
    "\n",
    "print('i)  Probability of both hitting is', round(pA * pB, 4))\n",
    "\n",
    "# Probability of at least one of them hitting the target is complement of both missing the target i.e. 1 - (pcA * pcB)\n",
    "print('ii) Probability of at least one of them hitting is', round(1 - (5/8 * 3/5), 4))"
   ]
  },
  {
   "cell_type": "markdown",
   "metadata": {},
   "source": [
    "# Question 4\n",
    "\n",
    "A bin contains 3 different types of lamps.  The probability that a type 1 lamp will give over 100 hours of use is 0.7, with the corresponding probabilities for type 2 and 3 lamps being 0.4 and 0.3 respectively.  Suppose that 20 per cent of the lamps in the bin are of type 1, 30 per cent are of type 2 and 50 per cent are of type 3.\n",
    "\n",
    "* a.\tWhat is the probability that a randomly selected lamp will last more than 100 hours?\n",
    "* b.\tGiven that a selected lamp lasted more than 100 hours, what are the conditional probabilities that are of type 1, type 2, and type 3?"
   ]
  },
  {
   "cell_type": "markdown",
   "metadata": {},
   "source": [
    "**Solution**\n",
    "\n",
    "Given:\n",
    "* Probability of lamp being type 1 = p(L1) = 0.2\n",
    "* Probability of lamp being type 2 = p(L2) = 0.3\n",
    "* Probability of lamp being type 3 = p(L3) = 0.5\n",
    "\n",
    "\n",
    "* Probability of lamp lasting 100 hours given it is type 1 = p(E|L1) = 0.7\n",
    "* Probability of lamp lasting 100 hours given it is type 2 = p(E|L2) = 0.4\n",
    "* Probability of lamp lasting 100 hours given it is type 3 = p(E|L3) = 0.3"
   ]
  },
  {
   "cell_type": "code",
   "execution_count": 7,
   "metadata": {},
   "outputs": [
    {
     "name": "stdout",
     "output_type": "stream",
     "text": [
      "a. Probability of randomly selected lamp lasting more than 100 hours is pE = 0.41\n"
     ]
    }
   ],
   "source": [
    "pL1 = 0.2\n",
    "pL2 = 0.3\n",
    "pL3 = 0.5\n",
    "\n",
    "p_E_L1 = 0.7\n",
    "p_E_L2 = 0.4\n",
    "p_E_L3 = 0.3\n",
    "\n",
    "# Probability of randomly selected lamp lasting more than 100 hours = sum of joint probabilities\n",
    "print('a. Probability of randomly selected lamp lasting more than 100 hours is pE =', \n",
    "      round(pL1 * p_E_L1 + pL2 * p_E_L2 + pL3 * p_E_L3, 4))"
   ]
  },
  {
   "cell_type": "code",
   "execution_count": 8,
   "metadata": {},
   "outputs": [
    {
     "name": "stdout",
     "output_type": "stream",
     "text": [
      "b. Probability of lamp being type 1 given it has lasted 100 hours is 0.3415\n",
      "b. Probability of lamp being type 2 given it has lasted 100 hours is 0.2927\n",
      "b. Probability of lamp being type 3 given it has lasted 100 hours is 0.3659\n"
     ]
    }
   ],
   "source": [
    "# From part a., probability of a lamp lasting more than 100 hours = pE = 0.41\n",
    "# From Bayes' theorem, p(A|B) = p(A) * p(B|A) / p(B)\n",
    "\n",
    "pE = 0.41\n",
    "\n",
    "print('b. Probability of lamp being type 1 given it has lasted 100 hours is', round(pL1 * p_E_L1 / pE, 4))\n",
    "print('b. Probability of lamp being type 2 given it has lasted 100 hours is', round(pL2 * p_E_L2 / pE, 4))\n",
    "print('b. Probability of lamp being type 3 given it has lasted 100 hours is', round(pL3 * p_E_L3 / pE, 4))"
   ]
  },
  {
   "cell_type": "markdown",
   "metadata": {},
   "source": [
    "# Question 5\n",
    "\n",
    "In one of the cities of India out of 1,00,000 people 51,500 are male and 48,500 are female.  Among the males, 9,000 use cosmetics.  Among the women, 30,200 use cosmetics.  If a person is selected at random, what is the probability that:\n",
    "* i.\tHe or she uses cosmetics.\n",
    "* ii.\tA male or a person using cosmetics is chosen. P(A or B)\n",
    "* iii.\tA male not using cosmetics or a female using cosmetics, is chosen.\n",
    "* iv.\tA male not using cosmetics is chosen."
   ]
  },
  {
   "cell_type": "markdown",
   "metadata": {},
   "source": [
    "**Solution**\n",
    "\n",
    "Given: \n",
    "\n",
    "|                       | Male     | Female  |  Total   | \n",
    "| -------               | -------  | ------  | ------   |\n",
    "| Use cosmetics         | 9000     | 30200   | 39200    |\n",
    "| Do not use cosmetics  | 42500    | 18300   | 60800    |\n",
    "| Total                 | 51500    | 48500   | 100000   |"
   ]
  },
  {
   "cell_type": "code",
   "execution_count": 8,
   "metadata": {},
   "outputs": [
    {
     "name": "stdout",
     "output_type": "stream",
     "text": [
      "i.   Porbability that he or she uses cosmetics is 0.392\n",
      "ii.  Probability that a male or a person using cosmetics is chosen is 0.817\n",
      "iii. Probability that a male not using cosmetics or a female using cosmetics is chosen is 0.727\n",
      "iv.  Probability that a male not using cosmetics is chosen is 0.425\n"
     ]
    }
   ],
   "source": [
    "print('i.   Porbability that he or she uses cosmetics is', round(39200/100000, 4))\n",
    "\n",
    "# ii. (A Male) OR (A person using cosmetics) is chosen\n",
    "print('ii.  Probability that a male or a person using cosmetics is chosen is', \n",
    "      round((51500/100000) + (39200/100000) - (9000/100000), 4))\n",
    "\n",
    "print('iii. Probability that a male not using cosmetics or a female using cosmetics is chosen is', \n",
    "     round((42500/100000) + (30200/100000), 4))\n",
    "\n",
    "print('iv.  Probability that a male not using cosmetics is chosen is', round(42500/100000, 4))"
   ]
  },
  {
   "cell_type": "markdown",
   "metadata": {},
   "source": [
    "# Question 6\n",
    "\n",
    "The probabilities that drivers A, B and C will drive home safely after dining at party are 2/5, 3/7 and 3/4, respectively.  What is the probability that they will all drive home safely after the late night party?"
   ]
  },
  {
   "cell_type": "markdown",
   "metadata": {},
   "source": [
    "**Solution**\n",
    "\n",
    "Given: \n",
    "* p(A) = 2/5\n",
    "* p(B) = 3/7\n",
    "* p(C) = 3/4"
   ]
  },
  {
   "cell_type": "code",
   "execution_count": 10,
   "metadata": {},
   "outputs": [
    {
     "name": "stdout",
     "output_type": "stream",
     "text": [
      "Probability that A, B and C will all drive home safely is 0.1286\n"
     ]
    }
   ],
   "source": [
    "pA = 2/5\n",
    "pB = 3/7\n",
    "pC = 3/4\n",
    "print('Probability that A, B and C will all drive home safely is', round(pA * pB * pC, 4))"
   ]
  },
  {
   "cell_type": "markdown",
   "metadata": {},
   "source": [
    "# Question 7\n",
    "\n",
    "A factory has 65% male workers.  70% of the total workers are married.  47% of the workers are  married males.  Find the probability that a worker chosen randomly is:\n",
    "* i.\tMarried female\n",
    "* ii.\tA male and married"
   ]
  },
  {
   "cell_type": "markdown",
   "metadata": {},
   "source": [
    "**Solution**\n",
    "\n",
    "Let's assume there are total 100 workers in the factory.\n",
    "\n",
    "Given:\n",
    "* Number of male workers = 65; p(male) = 0.65\n",
    "* Number of married workers = 70; p(married) = 0.70\n",
    "* Number of married male workers = 47; p(married_male) = 0.47\n",
    "\n",
    "Deductions:\n",
    "* Number of married female workers = (70-47) = 23; p(married_female) = 0.23\n",
    "\n",
    "Contingency table:\n",
    "\n",
    "\n",
    "|         | Male    | Female |  Total | \n",
    "| ------- | ------- | ------ | ------ |\n",
    "| Married |   47    |   23   |   70   |\n",
    "| Single  |   18    |   12   |   30   |\n",
    "| Total   |   65    |   35   |  100   |\n"
   ]
  },
  {
   "cell_type": "code",
   "execution_count": 5,
   "metadata": {},
   "outputs": [
    {
     "name": "stdout",
     "output_type": "stream",
     "text": [
      "i.  Probability of married female is 0.23\n",
      "ii. Probability of married given male is 0.47\n"
     ]
    }
   ],
   "source": [
    "print('i.  Probability of married female is', 23/100)\n",
    "print('ii. Probability of married given male is', 47/100)"
   ]
  },
  {
   "cell_type": "markdown",
   "metadata": {},
   "source": [
    "# Question 8\n",
    "\n",
    "A research group says, illiquidity of scripts is occurring only one-third as often as quoting below par. The probability of both illiquidity and below par is 0.05. If 80% of scripts have none of these problems, how low must the illiquidity problem probability be?"
   ]
  },
  {
   "cell_type": "markdown",
   "metadata": {},
   "source": [
    "**Solution**\n",
    "\n",
    "Given:\n",
    "* Probability of illiquidity (pA) = 1/3rd of Probability of below par (pB) i.e. pA = 1/3 * pB\n",
    "* Probability of both illiquidity and below par (pA * pB) = 0.05\n",
    "* 80 % of scripts have no problem, this implies 20% of scripts have either illiquidity or below par problem\n",
    "\n",
    "\n",
    "* p(A + B) = p(A) + p(B) - (pA * pB)\n",
    "* 0.2 = pA + 3*pA - 0.05\n",
    "* Solving for pA, we get pA = 1/16"
   ]
  },
  {
   "cell_type": "code",
   "execution_count": 13,
   "metadata": {},
   "outputs": [
    {
     "name": "stdout",
     "output_type": "stream",
     "text": [
      "Probability of illiquidity is 0.0625\n"
     ]
    }
   ],
   "source": [
    "print('Probability of illiquidity is', 1/16)"
   ]
  },
  {
   "cell_type": "markdown",
   "metadata": {},
   "source": [
    "# Question 9\n",
    "\n",
    "The probabilities that “A” and “B” will tell the truth are 2/3 and 4/5 respectively.  What is the probability that \n",
    "* i) they agree with each other \n",
    "* ii) they contradict  each other while giving a witness in the court"
   ]
  },
  {
   "cell_type": "markdown",
   "metadata": {},
   "source": [
    "**Solution**\n",
    "\n",
    "Given: \n",
    "* probability of A telling truth = pA = 2/3\n",
    "* probability of B telling truth = pB = 4/5\n",
    "\n",
    "Implied: \n",
    "* probability of A not telling truth = pcA = 1/3\n",
    "* probability of B not telling truth = pcB = 1/5"
   ]
  },
  {
   "cell_type": "code",
   "execution_count": 14,
   "metadata": {},
   "outputs": [
    {
     "name": "stdout",
     "output_type": "stream",
     "text": [
      "i)  Probability A and B agree is 0.6\n",
      "ii) Probability A and B contradict each other is 0.4\n"
     ]
    }
   ],
   "source": [
    "# i) A and B agree with each other if both tell truth OR both lie:\n",
    "# (pA * pB) + (pcA * pcB)\n",
    "\n",
    "pA = 2/3\n",
    "pB = 4/5\n",
    "pcA = 1/3\n",
    "pcB = 1/5\n",
    "\n",
    "print('i)  Probability A and B agree is', round((pA * pB) + (pcA * pcB), 4))\n",
    "\n",
    "# ii) A and B contradict each other IF (A tells truth AND B tells lie) OR IF (A tells lie AND B tells truth)\n",
    "# (pA * pcB) + (pcA * pB)\n",
    "\n",
    "print('ii) Probability A and B contradict each other is', round((pA * pcB) + (pcA * pB), 4))"
   ]
  },
  {
   "cell_type": "markdown",
   "metadata": {},
   "source": [
    "# Question 10\n",
    "\n",
    "Five Managers A, B C, D and E of a Bank are considered for a 3 member Trade delegation to represent the bank in an international trade conference. Construct the sample space and find the probability that \n",
    "* a.) A is selected \n",
    "* b.) A is not selected \n",
    "* c.) Either A or D (not both) is selected. (Assume Natural assignment of probability)."
   ]
  },
  {
   "cell_type": "markdown",
   "metadata": {},
   "source": [
    "**Solution**\n",
    "\n",
    "Given: \n",
    "* A 3 member trade delegation is to be formed out of 5 people\n",
    "* Total ways 3 people can be selected out of 5 people = pT = (5 C 3)\n",
    "* If A is selected, remaining 2 managers out of 4 can be selected in (4 C 2) ways i.e. there are 6 possible outcomes\n",
    "* If A is selected and we cannot select D, then we have to select 2 people out of 3 in (3 C 2) ways. Same is true for selecting D and not picking A \n",
    "\n",
    "\n",
    "* Sample space = [ABC, BCD, CDE, DEA, EAB, BDE, BCE, CEA, ACD, ABD]"
   ]
  },
  {
   "cell_type": "code",
   "execution_count": 15,
   "metadata": {},
   "outputs": [
    {
     "name": "stdout",
     "output_type": "stream",
     "text": [
      "a.) Probability that A is selected is 0.6\n",
      "b.) Probability that A is not selected is 0.4\n",
      "c.) Probability that either A or D is selected is 0.6\n"
     ]
    }
   ],
   "source": [
    "import math\n",
    "print('a.) Probability that A is selected is', math.comb(4, 2)/math.comb(5, 3))\n",
    "print('b.) Probability that A is not selected is', 1 - math.comb(4, 2)/math.comb(5, 3))\n",
    "print('c.) Probability that either A or D is selected is', 2 * math.comb(3, 2)/math.comb(5, 3))"
   ]
  },
  {
   "cell_type": "markdown",
   "metadata": {},
   "source": [
    "# Question 11\n",
    "\n",
    "A recently developed car has two important components A and B.  The probability of failure of A and B are 0.2 and 0.1.  What is the probability that the car will fail?"
   ]
  },
  {
   "cell_type": "markdown",
   "metadata": {},
   "source": [
    "**Solution**\n",
    "\n",
    "Given:\n",
    "* probability of failure of A = pA = 0.2\n",
    "* probability of failure of B = pB = 0.1"
   ]
  },
  {
   "cell_type": "code",
   "execution_count": 16,
   "metadata": {},
   "outputs": [
    {
     "name": "stdout",
     "output_type": "stream",
     "text": [
      "Probability that the car will fail is 0.28\n"
     ]
    }
   ],
   "source": [
    "# Car will fail IF (A fails) OR IF (B fails) \n",
    "# p(AUB) = pA + pB - (pA * pB)\n",
    "\n",
    "pA = 0.2\n",
    "pB = 0.1\n",
    "\n",
    "print('Probability that the car will fail is', round(pA + pB - pA * pB, 4))"
   ]
  },
  {
   "cell_type": "markdown",
   "metadata": {},
   "source": [
    "# Question 12\n",
    "\n",
    "A manufacturing firm is engaged in the production of steel pipes in its three plants with a daily production of 1000, 1500 and 2500 units respectively. Based on the past experience, it is known that the fractions of defective pipes produced by the three plants are respectively 0.04, 0.09 and 0.07. If a pipe is selected from a day’s total production and found to be defective, find out:\n",
    "* i.\tWhat is the probability of the defective pipes?  \n",
    "* ii.\tWhat is the probability that it has come from the second plant?"
   ]
  },
  {
   "cell_type": "markdown",
   "metadata": {},
   "source": [
    "**Solution**\n",
    "\n",
    "Given: \n",
    "\n",
    "* Probability of pipe from plant 1 being defective = p(D|M1) = 0.04\n",
    "* Probability of pipe from plant 2 being defective = p(D|M2) = 0.09\n",
    "* Probability of pipe from plant 3 being defective = p(D|M3) = 0.07\n",
    "\n",
    "\n",
    "* Probability of any pipe being from plant 1 = p(M1) = 1000/3500 = 2/7\n",
    "* Probability of any pipe being from plant 2 = p(M2) = 1500/3500 = 3/7\n",
    "* Probability of any pipe being from plant 3 = p(M3) = 2500/3500 = 5/7"
   ]
  },
  {
   "cell_type": "code",
   "execution_count": 42,
   "metadata": {},
   "outputs": [
    {
     "name": "stdout",
     "output_type": "stream",
     "text": [
      "i.  Probability of defective pipes is 0.1\n",
      "ii. Probability that defective pipe has come from second plant is 0.3857\n"
     ]
    }
   ],
   "source": [
    "p_D_M1 = 0.04\n",
    "p_D_M2 = 0.09\n",
    "p_D_M3 = 0.07\n",
    "\n",
    "pM1 = 2/7\n",
    "pM2 = 3/7\n",
    "pM3 = 5/7\n",
    "\n",
    "# Probability of defective pipes = sum of joint probabilities\n",
    "print('i.  Probability of defective pipes is', pM1 * p_D_M1 + pM2 * p_D_M2 + pM3 * p_D_M3)\n",
    "\n",
    "# Probability that defective pipe has come from second plant can be found using Bayes' theorem\n",
    "print('ii. Probability that defective pipe has come from second plant is', \n",
    "      round((p_D_M2 * pM2)/(pM1 * p_D_M1 + pM2 * p_D_M2 + pM3 * p_D_M3), 4))"
   ]
  },
  {
   "cell_type": "markdown",
   "metadata": {},
   "source": [
    "# Question 13\n",
    "\n",
    "What is the probability of getting 53 Mondays in a leap year?"
   ]
  },
  {
   "cell_type": "markdown",
   "metadata": {},
   "source": [
    "**Solution**\n",
    "\n",
    "* Number of days in a leap year = 366\n",
    "* Number of days in a non-leap year = 365\n",
    "* There will be 52 full weeks, so 52 * 7 = 364\n",
    "\n",
    "\n",
    "* For remaining 2 days, following can be the outcome:\n",
    "    - Sunday, Monday\n",
    "    - Monday, Tuesday\n",
    "    - Tuesday, Wednesday\n",
    "    - Wednesday, Thursday\n",
    "    - Thursday, Friday\n",
    "    - Friday, Saturday\n",
    "    - Saturday, Sunday\n",
    "\n",
    "\n",
    "* This indicates 2 outcomes are possible for Monday out of 7 total outcomes"
   ]
  },
  {
   "cell_type": "code",
   "execution_count": 17,
   "metadata": {},
   "outputs": [
    {
     "name": "stdout",
     "output_type": "stream",
     "text": [
      "Probability of getting 53 Mondays in a leap year is 2/7\n"
     ]
    }
   ],
   "source": [
    "print('Probability of getting 53 Mondays in a leap year is 2/7')"
   ]
  },
  {
   "cell_type": "markdown",
   "metadata": {},
   "source": [
    "# Question 14\n",
    "\n",
    "Box I contains 5 Red and 6 Blue balls.  Box II contains 6 Red and 4 Blue balls.  A ball is drawn at random from box I and is transferred to box II.  Now from Box II, a ball is drawn at random.  What is the probability that it is red?"
   ]
  },
  {
   "cell_type": "markdown",
   "metadata": {},
   "source": [
    "**Solution**\n",
    "\n",
    "Given: \n",
    "* Probability of selecting red ball from box I = p(B1) = 5/11\n",
    "* Probability of selecting red ball from box II = p(B2) = 6/10\n",
    "\n",
    "* Probability of selecting red ball from box II given that a red ball from box I has been transferred to it = p(B2|B1) = 7/11\n",
    "\n",
    "\n",
    "* There are 2 outcomes to be considered: \n",
    "* 1) ball transferred to box II is red\n",
    "* 2) ball transferred to box II is blue"
   ]
  },
  {
   "cell_type": "code",
   "execution_count": 3,
   "metadata": {},
   "outputs": [
    {
     "name": "stdout",
     "output_type": "stream",
     "text": [
      "Probability of selecting red ball from box II is 0.5372\n"
     ]
    }
   ],
   "source": [
    "print('Probability of selecting red ball from box II is', round(5/11 * 7/11 + 5/11 * 6/11, 4))"
   ]
  },
  {
   "cell_type": "markdown",
   "metadata": {},
   "source": [
    "# Question 15\n",
    "\n",
    "The probability of Mr. Sunil solving a problem is 3/4. The probability of Mr. Anish solving is 1/4.  What is the probability that a given problem will be solved?"
   ]
  },
  {
   "cell_type": "markdown",
   "metadata": {},
   "source": [
    "**Solution**\n",
    "\n",
    "Given: \n",
    "* Probability of Mr. Sunil solving = pS = 3/4\n",
    "* Probability of Mr. Anil solving = pA = 1/4"
   ]
  },
  {
   "cell_type": "code",
   "execution_count": 46,
   "metadata": {},
   "outputs": [
    {
     "name": "stdout",
     "output_type": "stream",
     "text": [
      "Probability that the problem will be solved is 0.8125\n"
     ]
    }
   ],
   "source": [
    "# Problem will be solved IF (Sunil solves) OR IF (Anil solves) \n",
    "# p(AUB) = pA + pB - (pA * pB)\n",
    "\n",
    "pS = 3/4\n",
    "pA = 1/4 \n",
    "\n",
    "print('Probability that the problem will be solved is', round(pS + pA - pS * pA, 4))"
   ]
  },
  {
   "cell_type": "markdown",
   "metadata": {},
   "source": [
    "# Question 16\n",
    "\n",
    "A company has two plants to manufacture televisions. Plant 1 manufactures 80% of the televisions and Plant 2 manufactures 20%. At plant 1, 85 out of 100 televisions are rated standard quality or better. At plant 2, only 65 out of 100 televisions are rated standard quality or better.\n",
    "* i. What is the probability that the television selected at random came from plant 1 if, it is known that the television is of standard quality?\n",
    "* ii.\tWhat is the probability that the television came from plant 2 if it is known that the television is of standard quality?\n",
    "\n",
    "\n",
    "* A - event of drawing a television from plant 1 \n",
    "* B - event of drawing a television from plant 2\n",
    "* C be the event of std quality tv by either plant 1 or 2"
   ]
  },
  {
   "cell_type": "markdown",
   "metadata": {},
   "source": [
    "**Solution**\n",
    "\n",
    "Given: \n",
    "* Probability of selecting TV from plant 1 = pA = 0.8\n",
    "* Probability of selecting TV from plant 2 = pB = 0.2\n",
    "\n",
    "* Probability of getting standard quality TV from plant 1 = pSA = 0.85\n",
    "* Probability of getting standard quality TV from plant 2 = pSB = 0.65"
   ]
  },
  {
   "cell_type": "code",
   "execution_count": 9,
   "metadata": {},
   "outputs": [
    {
     "name": "stdout",
     "output_type": "stream",
     "text": [
      "i. Probability that the television selected at random came from plant 1 if it is known that the television is of standard quality is 0.8395\n",
      "\n",
      "\n",
      "ii. Probability that the television came from plant 2 if it is known that the television is of standard quality is 0.1605\n"
     ]
    }
   ],
   "source": [
    "pA = 0.8\n",
    "pB = 0.2\n",
    "\n",
    "pSA = 0.85\n",
    "pSB = 0.65\n",
    "\n",
    "pS = (pA * pSA + pB * pSB)\n",
    "\n",
    "# i. Probability of selecting TV from plant 1 given it is of standard quality\n",
    "print('i. Probability that the television selected at random came from plant 1 if it is known that the television is of standard quality is', \n",
    "     round(pA * pSA/pS, 4))\n",
    "\n",
    "print('\\n')\n",
    "\n",
    "# ii. Probability of selecting TV from plant 2 given it is of standard quality\n",
    "print('ii. Probability that the television came from plant 2 if it is known that the television is of standard quality is', \n",
    "     round(pB * pSB/pS, 4))"
   ]
  },
  {
   "cell_type": "markdown",
   "metadata": {},
   "source": [
    "# Question 17\n",
    "\n",
    "An urn contains 100 marbles: 45 are green, and 20 of these green marbles are swirled. The rest of them are red, and 30 of the red ones are swirled. The marbles that are not swirled are clear. What is the probability of drawing:\n",
    "* i. A green marble from the urn\n",
    "* ii. A clear marble from the urn\n",
    "* iii. A green, swirled marble\n",
    "* iv. A red, clear marble\n",
    "* v. A swirled marble"
   ]
  },
  {
   "cell_type": "markdown",
   "metadata": {},
   "source": [
    "**Solution**\n",
    "\n",
    "Given: \n",
    "\n",
    "|         | Green   |  Red   | Total  | \n",
    "| ------- | ------- | ------ | ------ |\n",
    "| Swirled |   20    |   30   |   50   |\n",
    "| Clear   |   25    |   25   |   50   |\n",
    "| Total   |   45    |   55   |  100   |"
   ]
  },
  {
   "cell_type": "code",
   "execution_count": 2,
   "metadata": {},
   "outputs": [
    {
     "name": "stdout",
     "output_type": "stream",
     "text": [
      "i.   Probability of drawing a green marble from the urn is 0.45\n",
      "ii.  Probability of drawing a clear marble from the urn is 0.5\n",
      "iii. Probability of drawing a green, swirled marble is 0.2\n",
      "iv.  Probability of drawing a red, clear marble is 0.25\n",
      "v.   Probability of drawing a swirled marble is 0.5\n"
     ]
    }
   ],
   "source": [
    "print('i.   Probability of drawing a green marble from the urn is', 45/100)\n",
    "print('ii.  Probability of drawing a clear marble from the urn is', 50/100)\n",
    "print('iii. Probability of drawing a green, swirled marble is', 20/100)\n",
    "print('iv.  Probability of drawing a red, clear marble is', 25/100)\n",
    "print('v.   Probability of drawing a swirled marble is', 50/100)"
   ]
  },
  {
   "cell_type": "markdown",
   "metadata": {},
   "source": [
    "# Question 18\n",
    "\n",
    "The probabilities that component A and component B of a machine will fail are 0.09 and 0.06 respectively.  The machine will fail if any one of them fails.  Find the probability that it will fail."
   ]
  },
  {
   "cell_type": "markdown",
   "metadata": {},
   "source": [
    "**Solution**\n",
    "\n",
    "Given: \n",
    "* Probability of A failing = pA = 0.09\n",
    "* Probability of B failing = pB = 0.06"
   ]
  },
  {
   "cell_type": "code",
   "execution_count": 47,
   "metadata": {},
   "outputs": [
    {
     "name": "stdout",
     "output_type": "stream",
     "text": [
      "Probability that the machine will fail is 0.1446\n"
     ]
    }
   ],
   "source": [
    "# p(AUB) = pA + pB - (pA * pB)\n",
    "\n",
    "pA = 0.09\n",
    "pB = 0.06\n",
    "\n",
    "print('Probability that the machine will fail is', round(pA + pB - pA * pB, 4))"
   ]
  },
  {
   "cell_type": "markdown",
   "metadata": {},
   "source": [
    "# Question 19\n",
    "\n",
    "Data on the largest equity and debt funds provided 1-year and 3-year percentage returns for the period ending March 31, 2008. Suppose we consider a 1-year return in excess of 50% to be high and a 3-year return in excess of 100% to be high. 11 of the funds had 1-year returns in excess of 50% , 9 of the funds had 3-year in excess of 100% and five of the funds had both 1-year returns in excess of 50% and 3-year returns of 100%\n",
    "* i.\tWhat is the probability of a high 1-year return, and what is the probability of a high 3-year return?\n",
    "* ii.\tWhat is the probability of both a high 1-year return and a high 3-year return?\n",
    "* iii.\tWhat is the probability of neither a high 1-year return nor a high 3-year return?"
   ]
  },
  {
   "cell_type": "markdown",
   "metadata": {},
   "source": [
    "**Solution**\n",
    "\n",
    "Given:\n",
    "* 11 funds have high 1-year returns\n",
    "* 9 funds have high 3-year returns\n",
    "* 5 funds have both high 1-year and 3-year returns\n",
    "\n",
    "\n",
    "* Since total number of largest equity and debt funds is not mentioned in the question, we can assume the total number = 11 + 9 + 5 = 25"
   ]
  },
  {
   "cell_type": "code",
   "execution_count": 13,
   "metadata": {},
   "outputs": [
    {
     "name": "stdout",
     "output_type": "stream",
     "text": [
      "i.    Probability of a high 1-year return is 0.64\n",
      "i.    Probability of a high 3-year return is 0.56\n",
      "ii.   Probability of both a high 1-year and high 3-year return is 0.2\n",
      "iii.  Probability of neither a high 1-year return nor a high 3-year return is 0\n"
     ]
    }
   ],
   "source": [
    "print('i.    Probability of a high 1-year return is', (11 + 5)/25)\n",
    "print('i.    Probability of a high 3-year return is', (9 + 5)/25)\n",
    "print('ii.   Probability of both a high 1-year and high 3-year return is', 5/25)\n",
    "print('iii.  Probability of neither a high 1-year return nor a high 3-year return is', 0)"
   ]
  },
  {
   "cell_type": "markdown",
   "metadata": {},
   "source": [
    "# Question 20\n",
    "\n",
    "An investment analyst presents the following table giving probabilities of next year’s economic conditions normal or good or very good, in the country and probabilities of the movement increase or decline\n",
    "\n",
    "|                    | Increase   |  Decline   |\n",
    "| ------------------ | ---------- | ---------- | \n",
    "| Zero growth (same) |   0.33     |    0.17    |\n",
    "| Positive (≥ +1%)\t |   0.24     |    0.06    |\n",
    "| Negative (< -1%)\t |   0.18     |    0.02    | \n",
    "\n",
    "Find the probability that the market will increase, given that the GDP growth will be positive."
   ]
  },
  {
   "cell_type": "markdown",
   "metadata": {},
   "source": [
    "**Solution**\n",
    "\n",
    "Given:\n",
    "\n",
    "|                    | Increase   |  Decline   | Total |\n",
    "| ------------------ | ---------- | ---------- | ----- | \n",
    "| Zero growth (same) |   0.33     |    0.17    |  0.5  |\n",
    "| Positive (≥ +1%)\t |   0.24     |    0.06    |  0.3  |\n",
    "| Negative (< -1%)\t |   0.18     |    0.02    |  0.2  |\n",
    "|   Total            |   0.75     |    0.25    |  1.0  |"
   ]
  },
  {
   "cell_type": "code",
   "execution_count": 15,
   "metadata": {},
   "outputs": [
    {
     "name": "stdout",
     "output_type": "stream",
     "text": [
      "Probability that the market will increase, given the GDP growth will be positive is 0.8\n"
     ]
    }
   ],
   "source": [
    "print('Probability that the market will increase, given the GDP growth will be positive is', 0.24/(0.24 + 0.06))"
   ]
  },
  {
   "cell_type": "code",
   "execution_count": null,
   "metadata": {},
   "outputs": [],
   "source": []
  }
 ],
 "metadata": {
  "kernelspec": {
   "display_name": "Python 3",
   "language": "python",
   "name": "python3"
  },
  "language_info": {
   "codemirror_mode": {
    "name": "ipython",
    "version": 3
   },
   "file_extension": ".py",
   "mimetype": "text/x-python",
   "name": "python",
   "nbconvert_exporter": "python",
   "pygments_lexer": "ipython3",
   "version": "3.8.5"
  }
 },
 "nbformat": 4,
 "nbformat_minor": 4
}
