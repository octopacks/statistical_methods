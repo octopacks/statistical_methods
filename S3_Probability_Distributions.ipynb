{
 "cells": [
  {
   "cell_type": "markdown",
   "metadata": {
    "collapsed": true,
    "id": "KmIxSsFsLXlM"
   },
   "source": [
    "## Probability Distributions"
   ]
  },
  {
   "cell_type": "markdown",
   "metadata": {
    "id": "8hWZAoYBLXlN"
   },
   "source": [
    "-----------"
   ]
  },
  {
   "cell_type": "code",
   "execution_count": 1,
   "metadata": {
    "id": "jcw7GtfELXlN"
   },
   "outputs": [],
   "source": [
    "## CALLING LIBRARIES\n",
    "\n",
    "import numpy as np\n",
    "import pandas as pd\n",
    "import scipy.stats as stats\n",
    "import math\n",
    "import matplotlib.pyplot as plt\n",
    "%matplotlib inline"
   ]
  },
  {
   "cell_type": "markdown",
   "metadata": {
    "id": "ux1sRL5zLXlS"
   },
   "source": [
    "1. **Problem:** The percentage of orders filled correctly at Wendy's was approximately 86.8%. Suppose that you go to drive-through window at Wendy's and place an order. Two friends of yours independently place orders at the drive-through window at the same Wendy's.\n",
    "\n",
    "\n",
    "------------------\n",
    "\n",
    "What are the probabilities that \n",
    "* a) all three \n",
    "* b) none of the three\n",
    "* c) atleast two of the three orders will be filled correctly?\n",
    "* d) what is the mean and standard deviation of the orders filled correctly?\n",
    "* e) Plot the binomial distribution function"
   ]
  },
  {
   "cell_type": "markdown",
   "metadata": {
    "id": "eoZmLGhiLXlV"
   },
   "source": [
    "#### a) all the three orders are filled correctly?\n",
    "-------------"
   ]
  },
  {
   "cell_type": "code",
   "execution_count": 93,
   "metadata": {
    "id": "pY5o7mfIMKX4"
   },
   "outputs": [
    {
     "name": "stdout",
     "output_type": "stream",
     "text": [
      "[0.00229997 0.0453721  0.2983559  0.65397203]\n"
     ]
    }
   ],
   "source": [
    "# Let X be the event of getting order filled correctly at Wendy's\n",
    "# X follows binomial distribution since there are only 2 possible outcomes: order gets filled correctly or does not\n",
    "\n",
    "# Given: \n",
    "\n",
    "p = 0.868 # probabiility of success of getting order correctly\n",
    "n = 3 # sample size\n",
    "k = np.arange(0, 4)\n",
    "\n",
    "binomial = stats.binom.pmf(k, n, p)\n",
    "print(binomial)"
   ]
  },
  {
   "cell_type": "code",
   "execution_count": 94,
   "metadata": {},
   "outputs": [
    {
     "name": "stdout",
     "output_type": "stream",
     "text": [
      "a) Probability that all 3 get orders filled correctly is 0.6540\n"
     ]
    }
   ],
   "source": [
    "print('a) Probability that all 3 get orders filled correctly is %1.4f' %binomial[3])"
   ]
  },
  {
   "cell_type": "markdown",
   "metadata": {
    "id": "4slave-4LXlc"
   },
   "source": [
    "#### b) none of the three orders are filled correctly?\n",
    "-----------------"
   ]
  },
  {
   "cell_type": "code",
   "execution_count": 95,
   "metadata": {
    "colab": {
     "base_uri": "https://localhost:8080/"
    },
    "id": "Z33nQZSRLXlc",
    "outputId": "9ac18f6d-f4d5-4cf1-914a-5f873a7ce139"
   },
   "outputs": [
    {
     "name": "stdout",
     "output_type": "stream",
     "text": [
      "b) Probability that none of the 3 get orders filled correctly is 0.002299968\n"
     ]
    }
   ],
   "source": [
    "print('b) Probability that none of the 3 get orders filled correctly is', binomial[0])"
   ]
  },
  {
   "cell_type": "markdown",
   "metadata": {
    "id": "eZPUlP7ILXlf"
   },
   "source": [
    "**To answer this question** \n",
    "\n",
    "#### c) atleast two of the three orders are filled correctly, we need to find out 1 - Probability of upto 1 failure\n",
    "\n",
    "\n",
    "\n",
    "\n",
    "\n",
    "---------------"
   ]
  },
  {
   "cell_type": "code",
   "execution_count": 96,
   "metadata": {},
   "outputs": [
    {
     "name": "stdout",
     "output_type": "stream",
     "text": [
      "[0.00229997 0.04767206 0.34602797 1.        ]\n",
      "\n",
      "\n",
      "c) Probability that atleast two of the three orders are filled correctly is 0.952327936\n"
     ]
    }
   ],
   "source": [
    "# Prob(at least 2) = 1 - prob(1)\n",
    "cumbinomial = stats.binom.cdf(k, n, p)\n",
    "print(cumbinomial)\n",
    "print('\\n')\n",
    "print('c) Probability that atleast two of the three orders are filled correctly is', 1 - cumbinomial[1])"
   ]
  },
  {
   "cell_type": "markdown",
   "metadata": {
    "id": "wBGlqJTRLXlk"
   },
   "source": [
    "#### d) what is the mean and standard deviation of the orders filled correctly?\n",
    "--------------"
   ]
  },
  {
   "cell_type": "code",
   "execution_count": 97,
   "metadata": {
    "id": "pQv5OzdfmkWI"
   },
   "outputs": [
    {
     "name": "stdout",
     "output_type": "stream",
     "text": [
      "Mean of the orders filled correctly is 2.604\n",
      "Standard deviation of the orders filled correctly is 0.3437\n"
     ]
    }
   ],
   "source": [
    "# Mean of binomial distribution = np\n",
    "print('Mean of the orders filled correctly is', n * p)\n",
    "\n",
    "# Standard deviation of binomial distribution = sqrt(npq) = sqrt(np(1-p))\n",
    "print('Standard deviation of the orders filled correctly is', round(n * p * (1-p), 4))"
   ]
  },
  {
   "cell_type": "markdown",
   "metadata": {
    "id": "_Vqb1HGsLXlq"
   },
   "source": [
    "#### e). Plot  the binomial distribution function?"
   ]
  },
  {
   "cell_type": "code",
   "execution_count": 98,
   "metadata": {},
   "outputs": [
    {
     "data": {
      "image/png": "[encoded data removed]",
      "text/plain": [
       "<Figure size 504x360 with 1 Axes>"
      ]
     },
     "metadata": {
      "needs_background": "light"
     },
     "output_type": "display_data"
    }
   ],
   "source": [
    "plt.figure(figsize = (7, 5))\n",
    "plt.plot(k, binomial, 'bo', markersize = 12)\n",
    "plt.vlines(k, 0, binomial, colors = 'b', linewidth = 8, alpha = 0.5)\n",
    "plt.xlabel('Number of orders filled correctly', fontsize = 12)\n",
    "plt.ylabel('Probability of orders filled correctly', fontsize = 12)\n",
    "plt.title('Binomial distribution of orders filled correctly', fontsize = 14)\n",
    "plt.xticks(range(0, 4))\n",
    "plt.show()"
   ]
  },
  {
   "cell_type": "markdown",
   "metadata": {
    "id": "9ctTcUg6LXlv"
   },
   "source": [
    "#### 2. **Problem:** A Life Insurance agent sells on the average 3 life insurance policies per week. \n",
    "Use the Poisson law to calculate the probability that in a given week, he will sell\n",
    "\n",
    "a) Some policies\n",
    "\n",
    "b) 2 or more but less than 5 policies?\n",
    "\n",
    "c) Plot the Poisson distribution function?"
   ]
  },
  {
   "cell_type": "markdown",
   "metadata": {
    "id": "9uJLn4HtLXl1"
   },
   "source": [
    "#### a) Probability that the agent sells some policies?\n",
    "-----------"
   ]
  },
  {
   "cell_type": "code",
   "execution_count": 99,
   "metadata": {},
   "outputs": [
    {
     "name": "stdout",
     "output_type": "stream",
     "text": [
      "[0.04978707 0.14936121 0.22404181 0.22404181 0.16803136 0.10081881\n",
      " 0.05040941 0.02160403 0.00810151 0.0027005 ]\n",
      "\n",
      "\n",
      "a) Probability that the agent sells some policies is 0.9502\n"
     ]
    }
   ],
   "source": [
    "# Let X be the event of an agent selling a policy\n",
    "# Given X follows Poisson distribution\n",
    "# Given an agent sells 3 life insurance policies per week i.e. mean of the distribution λ = 3\n",
    "\n",
    "rate = 3 # mean value\n",
    "n = np.arange(0, 10)\n",
    "poisson = stats.poisson.pmf(n, rate)\n",
    "print(poisson)\n",
    "print('\\n')\n",
    "\n",
    "# Probability that the agent sells some policies means he manages to sell atleast 1 policy. \n",
    "#Therefore P(at least 1 policy) = 1 - P(None sold)\n",
    "\n",
    "print('a) Probability that the agent sells some policies is', round(1 - poisson[0], 4))"
   ]
  },
  {
   "cell_type": "markdown",
   "metadata": {
    "id": "cIjy9vdULXl7"
   },
   "source": [
    "#### b) Agent sells 2 or more but less than 5 policies?\n",
    " ------------"
   ]
  },
  {
   "cell_type": "code",
   "execution_count": 100,
   "metadata": {},
   "outputs": [
    {
     "name": "stdout",
     "output_type": "stream",
     "text": [
      "b) Probability that the agent sells 2 or more but less than 5 policies is 0.6161\n"
     ]
    }
   ],
   "source": [
    "# Probability that the agent sells 2 or more but less than 5 policies means sum of 2, 3, 4 policies\n",
    "print('b) Probability that the agent sells 2 or more but less than 5 policies is', \n",
    "      round(poisson[2] + poisson[3] + poisson[4], 4))"
   ]
  },
  {
   "cell_type": "markdown",
   "metadata": {
    "id": "iVzBGGgTLXl_"
   },
   "source": [
    "#### c) Plot the Poisson distribution function?\n",
    "---------"
   ]
  },
  {
   "cell_type": "code",
   "execution_count": 101,
   "metadata": {},
   "outputs": [
    {
     "data": {
      "image/png": "[encoded data removed]",
      "text/plain": [
       "<Figure size 504x360 with 1 Axes>"
      ]
     },
     "metadata": {
      "needs_background": "light"
     },
     "output_type": "display_data"
    }
   ],
   "source": [
    "plt.figure(figsize = (7, 5))\n",
    "x = np.arange(stats.poisson.ppf(0.01, rate), stats.poisson.ppf(0.99, rate))\n",
    "plt.plot(x, stats.poisson.pmf(x, rate), 'bo', markersize = 12)\n",
    "plt.vlines(x, 0, stats.poisson.pmf(x, rate), colors = 'b', linewidth = 8, alpha = 0.5)\n",
    "plt.xlabel('Number of policies sold', fontsize = 12)\n",
    "plt.ylabel('Probability of number of policies sold', fontsize = 12)\n",
    "plt.title('Poisson distribution of policies sold', fontsize = 14)\n",
    "plt.show()"
   ]
  },
  {
   "cell_type": "markdown",
   "metadata": {
    "id": "MQq9FcWgLXmD"
   },
   "source": [
    "3. **Problem:** The mean salaries of Data Scientists working in Chennai, India is calculated to be 7,00,000 INR with a standard deviation of 90,000 INR. The random variable salary of Data Scientists follows a normal distribution.\n",
    "\n",
    "\n",
    "-----------------\n",
    "\n",
    "* a) What is the probability that a Data Scientist in Chennai has a salary more than 10,00,000 INR?\n",
    "* b) What is the probability that a Data Scientist in Chennai has a salary between 6,00,000 & 9,00,000 INR?\n",
    "* c) What is the probability that a Data Scientist in Chennai has a salary less than 4,00,000 INR?"
   ]
  },
  {
   "cell_type": "markdown",
   "metadata": {
    "id": "qa2763xmLXmD"
   },
   "source": [
    "#### a) What is the probability that a Data Scientist in Chennai has a salary more than 10,00,000 INR?\n",
    "------------"
   ]
  },
  {
   "cell_type": "code",
   "execution_count": 106,
   "metadata": {},
   "outputs": [
    {
     "name": "stdout",
     "output_type": "stream",
     "text": [
      "a) Probability that a data scientist in Chennai has salary more than 10,00,000 INR is 0.0004290603331967846\n"
     ]
    }
   ],
   "source": [
    "# Given random variable salary of data scientists follows normal distribution\n",
    "# Mean of the distribution = mu = 700000\n",
    "# Standard deviation of the distribution = sigma = 90000\n",
    "\n",
    "mu = 700000\n",
    "sigma = 90000\n",
    "z = (1000000 - mu)/sigma\n",
    "P = 1 - stats.norm.cdf(z)\n",
    "print('a) Probability that a data scientist in Chennai has salary more than 10,00,000 INR is', P)"
   ]
  },
  {
   "cell_type": "markdown",
   "metadata": {
    "id": "ycm0GvNULXmF"
   },
   "source": [
    "#### b) What is the probability that a Data Scientist in Chennai has a salary between 6,00,000 & 9,00,000 INR?\n",
    "-----------------"
   ]
  },
  {
   "cell_type": "code",
   "execution_count": 107,
   "metadata": {},
   "outputs": [
    {
     "name": "stdout",
     "output_type": "stream",
     "text": [
      "b) Probability that a data scientist in Chennai has salary between 6,00,000 INR & 9,00,000 INR is 0.8536055914064735\n"
     ]
    }
   ],
   "source": [
    "z1 = (600000 - mu)/sigma\n",
    "z2 = (900000 - mu)/sigma\n",
    "\n",
    "P1 = stats.norm.cdf(z1)\n",
    "P2 = stats.norm.cdf(z2)\n",
    "\n",
    "print('b) Probability that a data scientist in Chennai has salary between 6,00,000 INR & 9,00,000 INR is', P2 - P1)"
   ]
  },
  {
   "cell_type": "markdown",
   "metadata": {
    "id": "QvVXJ6_LLXmI"
   },
   "source": [
    "#### c) What is the probability that a Data Scientist in Chennai has a salary less than 4,00,000 INR?\n",
    "-------------"
   ]
  },
  {
   "cell_type": "code",
   "execution_count": 108,
   "metadata": {},
   "outputs": [
    {
     "name": "stdout",
     "output_type": "stream",
     "text": [
      "c) Probability that a data scientist in Chennai has salary less than 4,00,000 INR is 0.0004290603331968372\n"
     ]
    }
   ],
   "source": [
    "z = (400000 - mu)/sigma\n",
    "P = stats.norm.cdf(z)\n",
    "print('c) Probability that a data scientist in Chennai has salary less than 4,00,000 INR is', P)"
   ]
  },
  {
   "cell_type": "markdown",
   "metadata": {
    "id": "sLunETApLXmL"
   },
   "source": [
    "----------------"
   ]
  },
  {
   "cell_type": "markdown",
   "metadata": {
    "id": "4EMErZT2EV_v"
   },
   "source": [
    "4. Problem:1). The overall miles per Gallon (MPG) of 2017 small SUVs ( n =40) is given.**\n",
    "\n",
    "mpg = np.array([19, 20, 20, 20, 21, 19, 21, 19, 21, 20, 20, 20, 19, 21, 21, 22, 20, 22, 20, 20, 22, 20, 22, 21, 19, 19, 20, 20, 21, 20, 19, 18, 20, 21, 21, 20, 21, 21, 20,  21])\n",
    "\n",
    "Decide whether the data appears to be normally distributed by looking at the Mean and median."
   ]
  },
  {
   "cell_type": "code",
   "execution_count": 126,
   "metadata": {},
   "outputs": [
    {
     "name": "stdout",
     "output_type": "stream",
     "text": [
      "20.275\n",
      "20.0\n",
      "[20]\n"
     ]
    },
    {
     "data": {
      "text/plain": [
       "ShapiroResult(statistic=0.9063215255737305, pvalue=0.002935052616521716)"
      ]
     },
     "execution_count": 126,
     "metadata": {},
     "output_type": "execute_result"
    }
   ],
   "source": [
    "mpg = np.array([19, 20, 20, 20, 21, 19, 21, 19, 21, 20, 20, 20, 19, 21, 21, 22, 20, 22, 20, 20, 22, \n",
    "                20, 22, 21, 19, 19, 20, 20, 21, 20, 19, 18, 20, 21, 21, 20, 21, 21, 20, 21])\n",
    "\n",
    "mpg_mean = mpg.mean()\n",
    "mpg_median = np.median(mpg)\n",
    "mpg_mode = stats.mode(mpg)\n",
    "\n",
    "print(mpg_mean)\n",
    "print(mpg_median)\n",
    "print(mpg_mode[0])\n",
    "stats.shapiro(mpg)"
   ]
  },
  {
   "cell_type": "markdown",
   "metadata": {
    "colab": {
     "base_uri": "https://localhost:8080/"
    },
    "id": "dtBFKD2iU1U3",
    "outputId": "0a1b6d51-5a35-4bb8-dfd1-2a911d5bbd48"
   },
   "source": [
    "* By looking at mean and median, since both are almost similar to each other and the mode, we can say the data appears to be normally distributed\n",
    "* The Shapiro test p-value is < 0.05, which indicates the data may not be Gaussian. So we may have to check p-value from other tests, or we can assume the data to be Gaussian"
   ]
  },
  {
   "cell_type": "markdown",
   "metadata": {
    "id": "uCkWoHxSLXmU"
   },
   "source": [
    "----------------"
   ]
  }
 ],
 "metadata": {
  "colab": {
   "collapsed_sections": [],
   "name": "S3_Probability_Distributions_Questions-20-5-2021.ipynb",
   "provenance": []
  },
  "kernelspec": {
   "display_name": "Python 3",
   "language": "python",
   "name": "python3"
  },
  "language_info": {
   "codemirror_mode": {
    "name": "ipython",
    "version": 3
   },
   "file_extension": ".py",
   "mimetype": "text/x-python",
   "name": "python",
   "nbconvert_exporter": "python",
   "pygments_lexer": "ipython3",
   "version": "3.8.5"
  }
 },
 "nbformat": 4,
 "nbformat_minor": 1
}
