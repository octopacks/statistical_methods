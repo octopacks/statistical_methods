{
 "cells": [
  {
   "cell_type": "markdown",
   "metadata": {
    "colab_type": "text",
    "id": "0yzl3MKzf98L"
   },
   "source": [
    "<table align=\"center\" width=100%>\n",
    "    <tr>\n",
    "        <td width=\"10%\">\n",
    "            <img src=\"in_class.png\">\n",
    "        </td>\n",
    "        <td>\n",
    "            <div align=\"center\">\n",
    "                <font color=\"#21618C\" size=8px>\n",
    "                    <b> Inclass-Lab  <br>(Day 4)\n",
    "                    </b>\n",
    "                </font>\n",
    "            </div>\n",
    "        </td>\n",
    "    </tr>\n",
    "</table>"
   ]
  },
  {
   "cell_type": "markdown",
   "metadata": {},
   "source": [
    "## Table of Content\n",
    "\n",
    "1. **[Chi-Square Test](#chisq)**\n",
    "2. **[One-way ANOVA](#1way)**\n",
    "3. **[Equivalent Non-parametric Test](#non-para)**\n",
    "4. **[Two-way ANOVA](#2way)**"
   ]
  },
  {
   "cell_type": "markdown",
   "metadata": {},
   "source": [
    "**Import the required libraries**"
   ]
  },
  {
   "cell_type": "code",
   "execution_count": 1,
   "metadata": {},
   "outputs": [
    {
     "name": "stdout",
     "output_type": "stream",
     "text": [
      "Requirement already satisfied: scikit_posthocs in c:\\users\\roopak\\anaconda3\\lib\\site-packages (0.6.7)\n",
      "Requirement already satisfied: statsmodels in c:\\users\\roopak\\anaconda3\\lib\\site-packages (from scikit_posthocs) (0.12.0)\n",
      "Requirement already satisfied: pandas>=0.20.0 in c:\\users\\roopak\\anaconda3\\lib\\site-packages (from scikit_posthocs) (1.1.3)\n",
      "Requirement already satisfied: seaborn in c:\\users\\roopak\\anaconda3\\lib\\site-packages (from scikit_posthocs) (0.11.0)\n",
      "Requirement already satisfied: scipy in c:\\users\\roopak\\anaconda3\\lib\\site-packages (from scikit_posthocs) (1.5.2)\n",
      "Requirement already satisfied: numpy in c:\\users\\roopak\\anaconda3\\lib\\site-packages (from scikit_posthocs) (1.19.2)\n",
      "Requirement already satisfied: matplotlib in c:\\users\\roopak\\anaconda3\\lib\\site-packages (from scikit_posthocs) (3.3.2)\n",
      "Requirement already satisfied: patsy>=0.5 in c:\\users\\roopak\\anaconda3\\lib\\site-packages (from statsmodels->scikit_posthocs) (0.5.1)\n",
      "Requirement already satisfied: python-dateutil>=2.7.3 in c:\\users\\roopak\\anaconda3\\lib\\site-packages (from pandas>=0.20.0->scikit_posthocs) (2.8.1)\n",
      "Requirement already satisfied: pytz>=2017.2 in c:\\users\\roopak\\anaconda3\\lib\\site-packages (from pandas>=0.20.0->scikit_posthocs) (2020.1)\n",
      "Requirement already satisfied: pyparsing!=2.0.4,!=2.1.2,!=2.1.6,>=2.0.3 in c:\\users\\roopak\\anaconda3\\lib\\site-packages (from matplotlib->scikit_posthocs) (2.4.7)\n",
      "Requirement already satisfied: pillow>=6.2.0 in c:\\users\\roopak\\anaconda3\\lib\\site-packages (from matplotlib->scikit_posthocs) (8.0.1)\n",
      "Requirement already satisfied: cycler>=0.10 in c:\\users\\roopak\\anaconda3\\lib\\site-packages (from matplotlib->scikit_posthocs) (0.10.0)\n",
      "Requirement already satisfied: kiwisolver>=1.0.1 in c:\\users\\roopak\\anaconda3\\lib\\site-packages (from matplotlib->scikit_posthocs) (1.3.0)\n",
      "Requirement already satisfied: certifi>=2020.06.20 in c:\\users\\roopak\\anaconda3\\lib\\site-packages (from matplotlib->scikit_posthocs) (2020.6.20)\n",
      "Requirement already satisfied: six in c:\\users\\roopak\\anaconda3\\lib\\site-packages (from patsy>=0.5->statsmodels->scikit_posthocs) (1.15.0)\n"
     ]
    }
   ],
   "source": [
    "import pandas as pd\n",
    "import scipy.stats as stats\n",
    "import numpy as np\n",
    "import statistics\n",
    "import seaborn as sns\n",
    "import matplotlib.pyplot as plt\n",
    "from scipy.stats import shapiro\n",
    "from statsmodels.stats import weightstats as stests\n",
    "\n",
    "import statsmodels.api as sm\n",
    "from statsmodels.formula.api import ols\n",
    "from statsmodels.stats.anova import anova_lm\n",
    "\n",
    "import statsmodels.stats.multicomp as mc\n",
    "\n",
    "!pip install scikit_posthocs\n",
    "import scikit_posthocs"
   ]
  },
  {
   "cell_type": "markdown",
   "metadata": {
    "colab_type": "text",
    "id": "psOYFu6zf98N"
   },
   "source": [
    "### Let's begin with some hands-on practice exercises"
   ]
  },
  {
   "cell_type": "markdown",
   "metadata": {
    "colab_type": "text",
    "id": "r4J-iIEhf98N"
   },
   "source": [
    "<a id = \"chisq\"> </a>\n",
    "## 1. Chi-Square Test"
   ]
  },
  {
   "cell_type": "markdown",
   "metadata": {},
   "source": [
    "Use the data available in the CSV file `Employee_Attrition.csv` for questions 1 to 8."
   ]
  },
  {
   "cell_type": "markdown",
   "metadata": {
    "colab_type": "text",
    "id": "77vuf1DVf98O"
   },
   "source": [
    "<table align=\"left\">\n",
    "    <tr>\n",
    "        <td width=\"6%\">\n",
    "            <img src=\"question_icon.png\">\n",
    "        </td>\n",
    "        <td>\n",
    "            <div align=\"left\", style=\"font-size:120%\">\n",
    "                <font color=\"#21618C\">\n",
    "                    <b>1. A company in Los Angeles has three functional departments - Research and Development, Sales, and Human Resources. The company claims that the percentage of employees in these 3 departments is 55%, 35% and 10% respectively. Check the company's claim using p-value criteria. Consider a 5% level of significance.</b>\n",
    "                </font>\n",
    "            </div>\n",
    "        </td>\n",
    "    </tr>\n",
    "</table>"
   ]
  },
  {
   "cell_type": "code",
   "execution_count": 4,
   "metadata": {},
   "outputs": [
    {
     "data": {
      "text/html": [
       "<div>\n",
       "<style scoped>\n",
       "    .dataframe tbody tr th:only-of-type {\n",
       "        vertical-align: middle;\n",
       "    }\n",
       "\n",
       "    .dataframe tbody tr th {\n",
       "        vertical-align: top;\n",
       "    }\n",
       "\n",
       "    .dataframe thead th {\n",
       "        text-align: right;\n",
       "    }\n",
       "</style>\n",
       "<table border=\"1\" class=\"dataframe\">\n",
       "  <thead>\n",
       "    <tr style=\"text-align: right;\">\n",
       "      <th></th>\n",
       "      <th>Age</th>\n",
       "      <th>Attrition</th>\n",
       "      <th>BusinessTravel</th>\n",
       "      <th>DailyRate</th>\n",
       "      <th>Department</th>\n",
       "      <th>DistanceFromHome</th>\n",
       "      <th>Education</th>\n",
       "      <th>EducationField</th>\n",
       "      <th>EmployeeCount</th>\n",
       "      <th>EmployeeNumber</th>\n",
       "      <th>...</th>\n",
       "      <th>RelationshipSatisfaction</th>\n",
       "      <th>StandardHours</th>\n",
       "      <th>StockOptionLevel</th>\n",
       "      <th>TotalWorkingYears</th>\n",
       "      <th>TrainingTimesLastYear</th>\n",
       "      <th>WorkLifeBalance</th>\n",
       "      <th>YearsAtCompany</th>\n",
       "      <th>YearsInCurrentRole</th>\n",
       "      <th>YearsSinceLastPromotion</th>\n",
       "      <th>YearsWithCurrManager</th>\n",
       "    </tr>\n",
       "  </thead>\n",
       "  <tbody>\n",
       "    <tr>\n",
       "      <th>0</th>\n",
       "      <td>41</td>\n",
       "      <td>Yes</td>\n",
       "      <td>Travel_Rarely</td>\n",
       "      <td>1102</td>\n",
       "      <td>Sales</td>\n",
       "      <td>1</td>\n",
       "      <td>2</td>\n",
       "      <td>Life Sciences</td>\n",
       "      <td>1</td>\n",
       "      <td>1</td>\n",
       "      <td>...</td>\n",
       "      <td>1</td>\n",
       "      <td>80</td>\n",
       "      <td>0</td>\n",
       "      <td>8</td>\n",
       "      <td>0</td>\n",
       "      <td>1</td>\n",
       "      <td>6</td>\n",
       "      <td>4</td>\n",
       "      <td>0</td>\n",
       "      <td>5</td>\n",
       "    </tr>\n",
       "    <tr>\n",
       "      <th>1</th>\n",
       "      <td>49</td>\n",
       "      <td>No</td>\n",
       "      <td>Travel_Frequently</td>\n",
       "      <td>279</td>\n",
       "      <td>Research &amp; Development</td>\n",
       "      <td>8</td>\n",
       "      <td>1</td>\n",
       "      <td>Life Sciences</td>\n",
       "      <td>1</td>\n",
       "      <td>2</td>\n",
       "      <td>...</td>\n",
       "      <td>4</td>\n",
       "      <td>80</td>\n",
       "      <td>1</td>\n",
       "      <td>10</td>\n",
       "      <td>3</td>\n",
       "      <td>3</td>\n",
       "      <td>10</td>\n",
       "      <td>7</td>\n",
       "      <td>1</td>\n",
       "      <td>7</td>\n",
       "    </tr>\n",
       "    <tr>\n",
       "      <th>2</th>\n",
       "      <td>37</td>\n",
       "      <td>Yes</td>\n",
       "      <td>Travel_Rarely</td>\n",
       "      <td>1373</td>\n",
       "      <td>Research &amp; Development</td>\n",
       "      <td>2</td>\n",
       "      <td>2</td>\n",
       "      <td>Other</td>\n",
       "      <td>1</td>\n",
       "      <td>4</td>\n",
       "      <td>...</td>\n",
       "      <td>2</td>\n",
       "      <td>80</td>\n",
       "      <td>0</td>\n",
       "      <td>7</td>\n",
       "      <td>3</td>\n",
       "      <td>3</td>\n",
       "      <td>0</td>\n",
       "      <td>0</td>\n",
       "      <td>0</td>\n",
       "      <td>0</td>\n",
       "    </tr>\n",
       "    <tr>\n",
       "      <th>3</th>\n",
       "      <td>33</td>\n",
       "      <td>No</td>\n",
       "      <td>Travel_Frequently</td>\n",
       "      <td>1392</td>\n",
       "      <td>Research &amp; Development</td>\n",
       "      <td>3</td>\n",
       "      <td>4</td>\n",
       "      <td>Life Sciences</td>\n",
       "      <td>1</td>\n",
       "      <td>5</td>\n",
       "      <td>...</td>\n",
       "      <td>3</td>\n",
       "      <td>80</td>\n",
       "      <td>0</td>\n",
       "      <td>8</td>\n",
       "      <td>3</td>\n",
       "      <td>3</td>\n",
       "      <td>8</td>\n",
       "      <td>7</td>\n",
       "      <td>3</td>\n",
       "      <td>0</td>\n",
       "    </tr>\n",
       "    <tr>\n",
       "      <th>4</th>\n",
       "      <td>27</td>\n",
       "      <td>No</td>\n",
       "      <td>Travel_Rarely</td>\n",
       "      <td>591</td>\n",
       "      <td>Research &amp; Development</td>\n",
       "      <td>2</td>\n",
       "      <td>1</td>\n",
       "      <td>Medical</td>\n",
       "      <td>1</td>\n",
       "      <td>7</td>\n",
       "      <td>...</td>\n",
       "      <td>4</td>\n",
       "      <td>80</td>\n",
       "      <td>1</td>\n",
       "      <td>6</td>\n",
       "      <td>3</td>\n",
       "      <td>3</td>\n",
       "      <td>2</td>\n",
       "      <td>2</td>\n",
       "      <td>2</td>\n",
       "      <td>2</td>\n",
       "    </tr>\n",
       "  </tbody>\n",
       "</table>\n",
       "<p>5 rows × 35 columns</p>\n",
       "</div>"
      ],
      "text/plain": [
       "   Age Attrition     BusinessTravel  DailyRate              Department  \\\n",
       "0   41       Yes      Travel_Rarely       1102                   Sales   \n",
       "1   49        No  Travel_Frequently        279  Research & Development   \n",
       "2   37       Yes      Travel_Rarely       1373  Research & Development   \n",
       "3   33        No  Travel_Frequently       1392  Research & Development   \n",
       "4   27        No      Travel_Rarely        591  Research & Development   \n",
       "\n",
       "   DistanceFromHome  Education EducationField  EmployeeCount  EmployeeNumber  \\\n",
       "0                 1          2  Life Sciences              1               1   \n",
       "1                 8          1  Life Sciences              1               2   \n",
       "2                 2          2          Other              1               4   \n",
       "3                 3          4  Life Sciences              1               5   \n",
       "4                 2          1        Medical              1               7   \n",
       "\n",
       "   ...  RelationshipSatisfaction StandardHours  StockOptionLevel  \\\n",
       "0  ...                         1            80                 0   \n",
       "1  ...                         4            80                 1   \n",
       "2  ...                         2            80                 0   \n",
       "3  ...                         3            80                 0   \n",
       "4  ...                         4            80                 1   \n",
       "\n",
       "   TotalWorkingYears  TrainingTimesLastYear WorkLifeBalance  YearsAtCompany  \\\n",
       "0                  8                      0               1               6   \n",
       "1                 10                      3               3              10   \n",
       "2                  7                      3               3               0   \n",
       "3                  8                      3               3               8   \n",
       "4                  6                      3               3               2   \n",
       "\n",
       "  YearsInCurrentRole  YearsSinceLastPromotion  YearsWithCurrManager  \n",
       "0                  4                        0                     5  \n",
       "1                  7                        1                     7  \n",
       "2                  0                        0                     0  \n",
       "3                  7                        3                     0  \n",
       "4                  2                        2                     2  \n",
       "\n",
       "[5 rows x 35 columns]"
      ]
     },
     "execution_count": 4,
     "metadata": {},
     "output_type": "execute_result"
    }
   ],
   "source": [
    "emp_attrition = pd.read_csv('S7_Employee_Attrition.csv')\n",
    "emp_attrition.head()"
   ]
  },
  {
   "cell_type": "code",
   "execution_count": 12,
   "metadata": {},
   "outputs": [
    {
     "data": {
      "text/plain": [
       "Research & Development    961\n",
       "Sales                     446\n",
       "Human Resources            63\n",
       "Name: Department, dtype: int64"
      ]
     },
     "execution_count": 12,
     "metadata": {},
     "output_type": "execute_result"
    }
   ],
   "source": [
    "# H0 : Percentage of employees is as per company claims\n",
    "# H1 : Percentage of employees is different from company claims\n",
    "\n",
    "emp_attrition['Department'].value_counts()"
   ]
  },
  {
   "cell_type": "code",
   "execution_count": 24,
   "metadata": {},
   "outputs": [
    {
     "name": "stdout",
     "output_type": "stream",
     "text": [
      "n = 1470\n",
      "\n",
      "Observed values [961 446  63]\n",
      "Expected values [808.5 514.5 147. ]\n",
      "\n",
      "At 5 %s level of significance, the p-value is 2.2406437256053955e-19\n",
      "At 5 % level of significance, the chi observed is 85.8847\n"
     ]
    }
   ],
   "source": [
    "observed_values    = np.array([961, 446, 63])\n",
    "n                  = observed_values.sum()\n",
    "print('n =', n)\n",
    "\n",
    "expected_values    = np.array([n*0.55, n*0.35, n*0.1])\n",
    "print('\\nObserved values', observed_values)\n",
    "print('Expected values', expected_values)\n",
    "\n",
    "chi_square_stat, p_value = stats.chisquare(observed_values, f_exp=expected_values)\n",
    "\n",
    "print('\\nAt 5 %s level of significance, the p-value is', p_value)\n",
    "\n",
    "print('At 5 %s level of significance, the chi observed is %1.4f' %('%', chi_square_stat))"
   ]
  },
  {
   "cell_type": "markdown",
   "metadata": {},
   "source": [
    "* In this example, p-value is 2.2406437256053955e-19 and lesser than alpha (0.05)\n",
    "* So we reject the null hypothesis"
   ]
  },
  {
   "cell_type": "markdown",
   "metadata": {
    "colab_type": "text",
    "id": "9qnEEhR4f98X"
   },
   "source": [
    "<table align=\"left\">\n",
    "    <tr>\n",
    "        <td width=\"6%\">\n",
    "            <img src=\"question_icon.png\">\n",
    "        </td>\n",
    "        <td>\n",
    "            <div align=\"left\", style=\"font-size:120%\">\n",
    "                <font color=\"#21618C\">\n",
    "                    <b>2. The employees in an IT firm undergo an online assessment survey. The survey reveals that 20% of employees are least satisfied, 18% are fairly satisfied, 30% are moderately satisfied and 32% are highly satisfied with their job. Use a critical value method to test the survey result with 90% confidence.</b>\n",
    "                </font>\n",
    "            </div>\n",
    "        </td>\n",
    "    </tr>\n",
    "</table>"
   ]
  },
  {
   "cell_type": "code",
   "execution_count": 20,
   "metadata": {},
   "outputs": [
    {
     "data": {
      "text/plain": [
       "4    459\n",
       "3    442\n",
       "1    289\n",
       "2    280\n",
       "Name: JobSatisfaction, dtype: int64"
      ]
     },
     "execution_count": 20,
     "metadata": {},
     "output_type": "execute_result"
    }
   ],
   "source": [
    "# H0 : Percentage of employee satisfaction is as per survey claims\n",
    "# H1 : Percentage of employee satisfaction is different from survey claims\n",
    "\n",
    "# JobSatisfaction: 1 = 'Least', 2 = 'Fairly', 3 = 'Moderately', 4 = 'Highly'\n",
    "\n",
    "emp_attrition['JobSatisfaction'].value_counts()"
   ]
  },
  {
   "cell_type": "code",
   "execution_count": 21,
   "metadata": {},
   "outputs": [
    {
     "name": "stdout",
     "output_type": "stream",
     "text": [
      "n = 1470\n",
      "\n",
      "Observed values [289 280 442 459]\n",
      "Expected values [294.  264.6 441.  470.4]\n",
      "\n",
      "At 5 %s level of significance, the p-value is 0.7386828586247451\n",
      "At 5 % level of significance, the chi observed is 1.2599\n"
     ]
    }
   ],
   "source": [
    "observed_values    = np.array([289, 280, 442, 459])\n",
    "n                  = observed_values.sum()\n",
    "print('n =', n)\n",
    "\n",
    "expected_values    = np.array([n*0.2, n*0.18, n*0.3, n*0.32])\n",
    "print('\\nObserved values', observed_values)\n",
    "print('Expected values', expected_values)\n",
    "\n",
    "chi_square_stat, p_value = stats.chisquare(observed_values, f_exp=expected_values)\n",
    "\n",
    "print('\\nAt 5 %s level of significance, the p-value is', p_value)\n",
    "\n",
    "print('At 5 %s level of significance, the chi observed is %1.4f' %('%', chi_square_stat))"
   ]
  },
  {
   "cell_type": "code",
   "execution_count": 22,
   "metadata": {},
   "outputs": [
    {
     "name": "stdout",
     "output_type": "stream",
     "text": [
      "Critical value for chi-square test: 6.2514\n"
     ]
    }
   ],
   "source": [
    "# calculate the χ2-value for 90% of confidence level\n",
    "# use 'stats.chi2.isf()' to find the χ2-value corresponding to the upper tail probability 'q'\n",
    "\n",
    "chi2_val = np.abs(round(stats.chi2.isf(q = 0.1, df = 3), 4))\n",
    "\n",
    "print('Critical value for chi-square test:', chi2_val)"
   ]
  },
  {
   "cell_type": "markdown",
   "metadata": {},
   "source": [
    "* In this example, test statistic (1.2599) is lesser than Chi-crit (6.2514) \n",
    "* Test statistic falls to left of Chi-crit i.e. it falls in acceptance region of H0\n",
    "* p-value is  0.7386 and greater than alpha (0.1)\n",
    "* So we fail to reject the null hypothesis"
   ]
  },
  {
   "cell_type": "markdown",
   "metadata": {
    "colab_type": "text",
    "id": "EFaFOXFTf99t"
   },
   "source": [
    "<table align=\"left\">\n",
    "    <tr>\n",
    "        <td width=\"6%\">\n",
    "            <img src=\"question_icon.png\">\n",
    "        </td>\n",
    "        <td>\n",
    "            <div align=\"left\", style=\"font-size:120%\">\n",
    "                <font color=\"#21618C\">\n",
    "                    <b>3. The company claims that in the organization, 68% of employees are there with rare travelling, 20% with frequent travelling and 12% of employees does not need to travel for business. Check if the given data fits with the company's claimed distribution. Use the p-value technique with 99% confidence. </b>\n",
    "                </font>\n",
    "            </div>\n",
    "        </td>\n",
    "    </tr>\n",
    "</table>"
   ]
  },
  {
   "cell_type": "code",
   "execution_count": 23,
   "metadata": {},
   "outputs": [
    {
     "data": {
      "text/plain": [
       "Travel_Rarely        1043\n",
       "Travel_Frequently     277\n",
       "Non-Travel            150\n",
       "Name: BusinessTravel, dtype: int64"
      ]
     },
     "execution_count": 23,
     "metadata": {},
     "output_type": "execute_result"
    }
   ],
   "source": [
    "# H0 : Percentage of travel is as per company claims\n",
    "# H1 : Percentage of travel is different from company claims\n",
    "\n",
    "emp_attrition['BusinessTravel'].value_counts()"
   ]
  },
  {
   "cell_type": "code",
   "execution_count": 25,
   "metadata": {},
   "outputs": [
    {
     "name": "stdout",
     "output_type": "stream",
     "text": [
      "n = 1470\n",
      "\n",
      "Observed values [1043  277  150]\n",
      "Expected values [999.6 294.  176.4]\n",
      "\n",
      "At 5 %s level of significance, the p-value is 0.0330688454314459\n",
      "At 5 % level of significance, the chi observed is 6.8183273\n"
     ]
    }
   ],
   "source": [
    "observed_values    = np.array([1043, 277, 150])\n",
    "n                  = observed_values.sum()\n",
    "print('n =', n)\n",
    "\n",
    "expected_values    = np.array([n*0.68, n*0.2, n*0.12])\n",
    "print('\\nObserved values', observed_values)\n",
    "print('Expected values', expected_values)\n",
    "\n",
    "chi_square_stat, p_value = stats.chisquare(observed_values, f_exp=expected_values)\n",
    "\n",
    "print('\\nAt 5 %s level of significance, the p-value is', p_value)\n",
    "\n",
    "print('At 5 %s level of significance, the chi observed is %1.7f' %('%', chi_square_stat))"
   ]
  },
  {
   "cell_type": "markdown",
   "metadata": {},
   "source": [
    "* In this example, p-value is 0.0330688454314459 and greater than alpha (0.01)\n",
    "* So we fail to reject the null hypothesis"
   ]
  },
  {
   "cell_type": "markdown",
   "metadata": {
    "colab_type": "text",
    "id": "Lzs2ddCwf99m"
   },
   "source": [
    "<table align=\"left\">\n",
    "    <tr>\n",
    "        <td width=\"6%\">\n",
    "            <img src=\"question_icon.png\">\n",
    "        </td>\n",
    "        <td>\n",
    "            <div align=\"left\", style=\"font-size:120%\">\n",
    "                <font color=\"#21618C\">\n",
    "                    <b>4. Check whether travelling for work depends upon the job role of an employee. Use p-value criteria to test the dependence with 99% confidence.</b>\n",
    "                </font>\n",
    "            </div>\n",
    "        </td>\n",
    "    </tr>\n",
    "</table>"
   ]
  },
  {
   "cell_type": "code",
   "execution_count": 37,
   "metadata": {},
   "outputs": [
    {
     "name": "stdout",
     "output_type": "stream",
     "text": [
      "BusinessTravel             Non-Travel  Travel_Frequently  Travel_Rarely\n",
      "JobRole                                                                \n",
      "Healthcare Representative          15                 26             90\n",
      "Human Resources                     4                 10             38\n",
      "Laboratory Technician              28                 51            180\n",
      "Manager                            12                 13             77\n",
      "Manufacturing Director             13                 29            103\n",
      "Research Director                   6                 12             62\n",
      "Research Scientist                 28                 54            210\n",
      "Sales Executive                    39                 59            228\n",
      "Sales Representative                5                 23             55\n"
     ]
    },
    {
     "data": {
      "text/plain": [
       "array([[ 15,  26,  90],\n",
       "       [  4,  10,  38],\n",
       "       [ 28,  51, 180],\n",
       "       [ 12,  13,  77],\n",
       "       [ 13,  29, 103],\n",
       "       [  6,  12,  62],\n",
       "       [ 28,  54, 210],\n",
       "       [ 39,  59, 228],\n",
       "       [  5,  23,  55]], dtype=int64)"
      ]
     },
     "execution_count": 37,
     "metadata": {},
     "output_type": "execute_result"
    }
   ],
   "source": [
    "# H0 : Travelling for business is independent of job role\n",
    "# H1 : Travelling for business is dependent on job role\n",
    "\n",
    "# use 'crosstab()' to create a table for each job role level and business travel count \n",
    "table = pd.crosstab(emp_attrition['JobRole'], emp_attrition['BusinessTravel'])\n",
    "print(table)\n",
    "\n",
    "# observed values  \n",
    "observed_value = table.values\n",
    "observed_value"
   ]
  },
  {
   "cell_type": "code",
   "execution_count": 33,
   "metadata": {},
   "outputs": [
    {
     "name": "stdout",
     "output_type": "stream",
     "text": [
      "Critical value for chi-square test: 31.9999\n"
     ]
    }
   ],
   "source": [
    "# calculate the χ2-value for 99% of confidence level\n",
    "# use 'stats.chi2.isf()' to find the χ2-value corresponding to the upper tail probability 'q'\n",
    "\n",
    "# df = (r - 1) * (c - 1)\n",
    "# df = 8 * 2 = 16\n",
    "\n",
    "chi2_val = np.abs(round(stats.chi2.isf(q = 0.01, df = 16), 4))\n",
    "\n",
    "print('Critical value for chi-square test:', chi2_val)"
   ]
  },
  {
   "cell_type": "code",
   "execution_count": 41,
   "metadata": {},
   "outputs": [
    {
     "name": "stdout",
     "output_type": "stream",
     "text": [
      "Test statistic: 11.987695596739206\n",
      "p-value: 0.7448263418408124\n",
      "Degrees of freedom: 16\n",
      "\n",
      "Expected values: [[ 13.36734694  24.68503401  92.94761905]\n",
      " [  5.30612245   9.79863946  36.8952381 ]\n",
      " [ 26.42857143  48.8047619  183.76666667]\n",
      " [ 10.40816327  19.22040816  72.37142857]\n",
      " [ 14.79591837  27.32312925 102.88095238]\n",
      " [  8.16326531  15.07482993  56.76190476]\n",
      " [ 29.79591837  55.02312925 207.18095238]\n",
      " [ 33.26530612  61.42993197 231.3047619 ]\n",
      " [  8.46938776  15.64013605  58.89047619]]\n"
     ]
    }
   ],
   "source": [
    "# use the 'chi2_contingency()' to check the independence of variables\n",
    "\n",
    "test_stat, p, dof, expected_value = stats.chi2_contingency(observed = observed_value, correction = False)\n",
    "\n",
    "print(\"Test statistic:\", test_stat)\n",
    "print(\"p-value:\", p)\n",
    "print(\"Degrees of freedom:\", dof)\n",
    "print(\"\\nExpected values:\", expected_value)"
   ]
  },
  {
   "cell_type": "markdown",
   "metadata": {},
   "source": [
    "* In this example, p-value is 0.7448263418408124 and greater than alpha (0.01)\n",
    "* Test statistic (11.9876) is less than Chi-crit (31.9999) i.e. it falls in acceptance region of H0\n",
    "* So we fail to reject the null hypothesis"
   ]
  },
  {
   "cell_type": "markdown",
   "metadata": {
    "colab_type": "text",
    "id": "V7QJT8W9f98T"
   },
   "source": [
    "<table align=\"left\">\n",
    "    <tr>\n",
    "        <td width=\"6%\">\n",
    "            <img src=\"question_icon.png\">\n",
    "        </td>\n",
    "        <td>\n",
    "            <div align=\"left\", style=\"font-size:120%\">\n",
    "                <font color=\"#21618C\">\n",
    "                    <b>5. Is there any relationship between the attrition of an employee and his/her marital status? Use the critical value technique to test the relationship with 95% confidence. </b>\n",
    "                </font>\n",
    "            </div>\n",
    "        </td>\n",
    "    </tr>\n",
    "</table>"
   ]
  },
  {
   "cell_type": "code",
   "execution_count": 42,
   "metadata": {},
   "outputs": [
    {
     "name": "stdout",
     "output_type": "stream",
     "text": [
      "Attrition       No  Yes\n",
      "MaritalStatus          \n",
      "Divorced       294   33\n",
      "Married        589   84\n",
      "Single         350  120\n"
     ]
    },
    {
     "data": {
      "text/plain": [
       "array([[294,  33],\n",
       "       [589,  84],\n",
       "       [350, 120]], dtype=int64)"
      ]
     },
     "execution_count": 42,
     "metadata": {},
     "output_type": "execute_result"
    }
   ],
   "source": [
    "# H0 : Employee attrition is independent of marital status\n",
    "# H1 : Employee attrition is dependent on marital status\n",
    "\n",
    "# use 'crosstab()' to create a table for each job role level and business travel count \n",
    "table = pd.crosstab(emp_attrition['MaritalStatus'], emp_attrition['Attrition'])\n",
    "print(table)\n",
    "\n",
    "# observed values  \n",
    "observed_value = table.values\n",
    "observed_value"
   ]
  },
  {
   "cell_type": "code",
   "execution_count": 43,
   "metadata": {},
   "outputs": [
    {
     "name": "stdout",
     "output_type": "stream",
     "text": [
      "Critical value for chi-square test: 5.9915\n"
     ]
    }
   ],
   "source": [
    "# calculate the χ2-value for 99% of confidence level\n",
    "# use 'stats.chi2.isf()' to find the χ2-value corresponding to the upper tail probability 'q'\n",
    "\n",
    "# df = (r - 1) * (c - 1)\n",
    "# df = 2 * 1 = 2\n",
    "\n",
    "chi2_val = np.abs(round(stats.chi2.isf(q = 0.05, df = 2), 4))\n",
    "\n",
    "print('Critical value for chi-square test:', chi2_val)"
   ]
  },
  {
   "cell_type": "code",
   "execution_count": 44,
   "metadata": {},
   "outputs": [
    {
     "name": "stdout",
     "output_type": "stream",
     "text": [
      "Test statistic: 46.163676540848705\n",
      "p-value: 9.45551106034083e-11\n",
      "Degrees of freedom: 2\n",
      "\n",
      "Expected values: [[274.27959184  52.72040816]\n",
      " [564.49591837 108.50408163]\n",
      " [394.2244898   75.7755102 ]]\n"
     ]
    }
   ],
   "source": [
    "# use the 'chi2_contingency()' to check the independence of variables\n",
    "\n",
    "test_stat, p, dof, expected_value = stats.chi2_contingency(observed = observed_value, correction = False)\n",
    "\n",
    "print(\"Test statistic:\", test_stat)\n",
    "print(\"p-value:\", p)\n",
    "print(\"Degrees of freedom:\", dof)\n",
    "print(\"\\nExpected values:\", expected_value)"
   ]
  },
  {
   "cell_type": "markdown",
   "metadata": {},
   "source": [
    "* In this example, test statistic (46.1636) is greater than Chi-crit (5.9915) i.e. it falls in rejection region of H0 \n",
    "* p-value is 9.45551106034083e-11 and lesser than alpha (0.05) \n",
    "* So we reject the null hypothesis"
   ]
  },
  {
   "cell_type": "markdown",
   "metadata": {
    "colab_type": "text",
    "id": "EFaFOXFTf99t"
   },
   "source": [
    "<table align=\"left\">\n",
    "    <tr>\n",
    "        <td width=\"6%\">\n",
    "            <img src=\"question_icon.png\">\n",
    "        </td>\n",
    "        <td>\n",
    "            <div align=\"left\", style=\"font-size:120%\">\n",
    "                <font color=\"#21618C\">\n",
    "                    <b>6. Check whether travelling for the business depends on the gender of an employee. Use the p-value technique to test the claim with 90% confidence. </b>\n",
    "                </font>\n",
    "            </div>\n",
    "        </td>\n",
    "    </tr>\n",
    "</table>"
   ]
  },
  {
   "cell_type": "code",
   "execution_count": 45,
   "metadata": {},
   "outputs": [
    {
     "name": "stdout",
     "output_type": "stream",
     "text": [
      "BusinessTravel  Non-Travel  Travel_Frequently  Travel_Rarely\n",
      "Gender                                                      \n",
      "Female                  49                117            422\n",
      "Male                   101                160            621\n"
     ]
    },
    {
     "data": {
      "text/plain": [
       "array([[ 49, 117, 422],\n",
       "       [101, 160, 621]], dtype=int64)"
      ]
     },
     "execution_count": 45,
     "metadata": {},
     "output_type": "execute_result"
    }
   ],
   "source": [
    "# H0 : Travelling for business is independent of gender\n",
    "# H1 : Travelling for business is dependent on gender\n",
    "\n",
    "# use 'crosstab()' to create a table for each job role level and business travel count \n",
    "table = pd.crosstab(emp_attrition['Gender'], emp_attrition['BusinessTravel'])\n",
    "print(table)\n",
    "\n",
    "# observed values  \n",
    "observed_value = table.values\n",
    "observed_value"
   ]
  },
  {
   "cell_type": "code",
   "execution_count": 46,
   "metadata": {},
   "outputs": [
    {
     "name": "stdout",
     "output_type": "stream",
     "text": [
      "Critical value for chi-square test: 4.6052\n"
     ]
    }
   ],
   "source": [
    "# calculate the χ2-value for 99% of confidence level\n",
    "# use 'stats.chi2.isf()' to find the χ2-value corresponding to the upper tail probability 'q'\n",
    "\n",
    "# df = (r - 1) * (c - 1)\n",
    "# df = 1 * 2 = 2\n",
    "\n",
    "chi2_val = np.abs(round(stats.chi2.isf(q = 0.1, df = 2), 4))\n",
    "\n",
    "print('Critical value for chi-square test:', chi2_val)"
   ]
  },
  {
   "cell_type": "code",
   "execution_count": 47,
   "metadata": {},
   "outputs": [
    {
     "name": "stdout",
     "output_type": "stream",
     "text": [
      "Test statistic: 4.031372310350092\n",
      "p-value: 0.13322895625828154\n",
      "Degrees of freedom: 2\n",
      "\n",
      "Expected values: [[ 60.  110.8 417.2]\n",
      " [ 90.  166.2 625.8]]\n"
     ]
    }
   ],
   "source": [
    "# use the 'chi2_contingency()' to check the independence of variables\n",
    "\n",
    "test_stat, p, dof, expected_value = stats.chi2_contingency(observed = observed_value, correction = False)\n",
    "\n",
    "print(\"Test statistic:\", test_stat)\n",
    "print(\"p-value:\", p)\n",
    "print(\"Degrees of freedom:\", dof)\n",
    "print(\"\\nExpected values:\", expected_value)"
   ]
  },
  {
   "cell_type": "markdown",
   "metadata": {},
   "source": [
    "* In this example, p-value is 0.13322895625828154 and greater than alpha (0.1)\n",
    "* Test statistic (4.03137) is less than Chi-crit (4.6052) i.e. it falls in acceptance region of H0\n",
    "* So we fail to reject the null hypothesis"
   ]
  },
  {
   "cell_type": "markdown",
   "metadata": {
    "colab_type": "text",
    "id": "6YXVLVi9f98b"
   },
   "source": [
    "<table align=\"left\">\n",
    "    <tr>\n",
    "        <td width=\"6%\">\n",
    "            <img src=\"question_icon.png\">\n",
    "        </td>\n",
    "        <td>\n",
    "            <div align=\"left\", style=\"font-size:120%\">\n",
    "                <font color=\"#21618C\">\n",
    "                    <b>7. The economic forum claims that the variance in the percentage salary hike is more the 12% in Manhattan. To test the forum's claim use the data obtained from a telecom company in Manhattan. Use a critical value method to test the claim with 90% confidence.</b>\n",
    "                </font>\n",
    "            </div>\n",
    "        </td>\n",
    "    </tr>\n",
    "</table>"
   ]
  },
  {
   "cell_type": "code",
   "execution_count": 20,
   "metadata": {},
   "outputs": [
    {
     "name": "stdout",
     "output_type": "stream",
     "text": [
      "Degrees of freedom: 1469\n",
      "Population mean: 15.209523809523809\n"
     ]
    }
   ],
   "source": [
    "# H0 : var <= 12\n",
    "# H1 : var > 12\n",
    "\n",
    "# alpha = 0.1\n",
    "\n",
    "# hypothesized variance\n",
    "sig_2 = 12\n",
    "\n",
    "# population size\n",
    "n = len(emp_attrition)\n",
    "\n",
    "# degrees of freedom\n",
    "print('Degrees of freedom:', n-1)\n",
    "\n",
    "# population mean\n",
    "pop_mean = np.mean(emp_attrition['PercentSalaryHike'])\n",
    "print('Population mean:', pop_mean)"
   ]
  },
  {
   "cell_type": "code",
   "execution_count": 21,
   "metadata": {},
   "outputs": [
    {
     "name": "stdout",
     "output_type": "stream",
     "text": [
      "Critical value for right-tail chi-square test: 1399.978\n"
     ]
    }
   ],
   "source": [
    "# calculate the χ2-value for 95% of confidence level\n",
    "# use 'stats.chi2.isf()' to find the χ2-value corresponding to the upper tail probability 'q'\n",
    "\n",
    "chi2_val_right = np.abs(round(stats.chi2.isf(q = 1-0.1, df = n-1), 4))\n",
    "\n",
    "print('Critical value for right-tail chi-square test:', chi2_val_right)"
   ]
  },
  {
   "cell_type": "code",
   "execution_count": 22,
   "metadata": {},
   "outputs": [
    {
     "name": "stdout",
     "output_type": "stream",
     "text": [
      "Test Statistic: 1639.788888888889\n"
     ]
    }
   ],
   "source": [
    "# calculate the test statistic\n",
    "chi_test = (np.sum((emp_attrition['PercentSalaryHike'] - pop_mean)**2)) / sig_2\n",
    "\n",
    "# print the test statistic\n",
    "print('Test Statistic:', chi_test)"
   ]
  },
  {
   "cell_type": "code",
   "execution_count": 24,
   "metadata": {},
   "outputs": [
    {
     "name": "stdout",
     "output_type": "stream",
     "text": [
      "p-value: 0.0011494196273865566\n"
     ]
    }
   ],
   "source": [
    "# calculate P(X > chi_test)\n",
    "p_val = stats.chi2.sf(x = chi_test, df = n-1)\n",
    "\n",
    "# print the p-value\n",
    "print('p-value:', p_val)"
   ]
  },
  {
   "cell_type": "markdown",
   "metadata": {},
   "source": [
    "* In this example, test statistic (1639.78888) is greater than Chi-crit (1399.978) for upper-tailed test\n",
    "* Test statistic falls to right side of Chi-crit i.e. it falls in rejection region of H0\n",
    "* p-value is 0.00114941 and lesser than alpha (0.1)\n",
    "* So we reject the null hypothesis"
   ]
  },
  {
   "cell_type": "markdown",
   "metadata": {
    "colab_type": "text",
    "id": "EFaFOXFTf99t"
   },
   "source": [
    "<table align=\"left\">\n",
    "    <tr>\n",
    "        <td width=\"6%\">\n",
    "            <img src=\"question_icon.png\">\n",
    "        </td>\n",
    "        <td>\n",
    "            <div align=\"left\", style=\"font-size:120%\">\n",
    "                <font color=\"#21618C\">\n",
    "                    <b>8. The worker's association claims that the distance travelled by each employee to reach the office has a variance of less than 15 miles. Use a critical value method to test the claim with 95% confidence.</b>\n",
    "                </font>\n",
    "            </div>\n",
    "        </td>\n",
    "    </tr>\n",
    "</table>"
   ]
  },
  {
   "cell_type": "code",
   "execution_count": 10,
   "metadata": {},
   "outputs": [
    {
     "name": "stdout",
     "output_type": "stream",
     "text": [
      "Degrees of freedom: 1469\n",
      "Population mean: 9.19251700680272\n"
     ]
    }
   ],
   "source": [
    "# H0 : var >= 15\n",
    "# H1 : var < 15\n",
    "\n",
    "# alpha = 0.05\n",
    "\n",
    "# hypothesized variance\n",
    "sig_2 = 15\n",
    "\n",
    "# population size\n",
    "n = len(emp_attrition)\n",
    "\n",
    "# degrees of freedom\n",
    "print('Degrees of freedom:', n-1)\n",
    "\n",
    "# population mean\n",
    "pop_mean = np.mean(emp_attrition['DistanceFromHome'])\n",
    "print('Population mean:', pop_mean)"
   ]
  },
  {
   "cell_type": "code",
   "execution_count": 11,
   "metadata": {},
   "outputs": [
    {
     "name": "stdout",
     "output_type": "stream",
     "text": [
      "Critical value for left-tail chi-square test: 1380.9949\n"
     ]
    }
   ],
   "source": [
    "# calculate the χ2-value for 95% of confidence level\n",
    "# use 'stats.chi2.ppf()' to find the χ2-value corresponding to the lower tail probability 'q'\n",
    "\n",
    "chi2_val_left = np.abs(round(stats.chi2.ppf(q = 0.05, df = n-1), 4))\n",
    "\n",
    "print('Critical value for left-tail chi-square test:', chi2_val_left)"
   ]
  },
  {
   "cell_type": "code",
   "execution_count": 12,
   "metadata": {},
   "outputs": [
    {
     "name": "stdout",
     "output_type": "stream",
     "text": [
      "Test Statistic: 6436.301179138322\n"
     ]
    }
   ],
   "source": [
    "# calculate the test statistic\n",
    "chi_test = (np.sum((emp_attrition['DistanceFromHome'] - pop_mean)**2)) / sig_2\n",
    "\n",
    "# print the test statistic\n",
    "print('Test Statistic:', chi_test)"
   ]
  },
  {
   "cell_type": "code",
   "execution_count": 15,
   "metadata": {},
   "outputs": [
    {
     "name": "stdout",
     "output_type": "stream",
     "text": [
      "p-value: 1.0\n"
     ]
    }
   ],
   "source": [
    "# calculate P(X < chi_test)\n",
    "p_val = stats.chi2.cdf(x = chi_test, df = n-1)\n",
    "\n",
    "# print the p-value\n",
    "print('p-value:', p_val)"
   ]
  },
  {
   "cell_type": "markdown",
   "metadata": {},
   "source": [
    "* In this example, test statistic (6436.30117) is greater than Chi-crit (1380.9949) for lower tailed test\n",
    "* Test statistic falls to right side of Chi-crit i.e. it falls in acceptance region of H0\n",
    "* p-value is 1 and greater than alpha (0.05)\n",
    "* So we fail to reject the null hypothesis"
   ]
  },
  {
   "cell_type": "markdown",
   "metadata": {
    "colab_type": "text",
    "id": "QLSslfFdf98b"
   },
   "source": [
    "<a id = \"1way\"> </a>\n",
    "## 2. One-way ANOVA"
   ]
  },
  {
   "cell_type": "markdown",
   "metadata": {},
   "source": [
    "Use the data available in the CSV file `sales_emp.csv` for questions 9 to 13."
   ]
  },
  {
   "cell_type": "markdown",
   "metadata": {
    "colab_type": "text",
    "id": "YIaQZc58f98p"
   },
   "source": [
    "<table align=\"left\">\n",
    "    <tr>\n",
    "        <td width=\"6%\">\n",
    "            <img src=\"question_icon.png\">\n",
    "        </td>\n",
    "        <td>\n",
    "            <div align=\"left\", style=\"font-size:120%\">\n",
    "                <font color=\"#21618C\">\n",
    "                    <b>9. Check whether we can use the given dataset to study the equality of average monthly income of sales executives with a different education background in the company. Use a p-value technique to test at a 5% level of significance.</b>\n",
    "                </font>\n",
    "            </div>\n",
    "        </td>\n",
    "    </tr>\n",
    "</table>"
   ]
  },
  {
   "cell_type": "code",
   "execution_count": 2,
   "metadata": {},
   "outputs": [
    {
     "data": {
      "text/html": [
       "<div>\n",
       "<style scoped>\n",
       "    .dataframe tbody tr th:only-of-type {\n",
       "        vertical-align: middle;\n",
       "    }\n",
       "\n",
       "    .dataframe tbody tr th {\n",
       "        vertical-align: top;\n",
       "    }\n",
       "\n",
       "    .dataframe thead th {\n",
       "        text-align: right;\n",
       "    }\n",
       "</style>\n",
       "<table border=\"1\" class=\"dataframe\">\n",
       "  <thead>\n",
       "    <tr style=\"text-align: right;\">\n",
       "      <th></th>\n",
       "      <th>Age</th>\n",
       "      <th>BusinessTravel</th>\n",
       "      <th>DailyRate</th>\n",
       "      <th>DistanceFromHome</th>\n",
       "      <th>Education</th>\n",
       "      <th>EducationField</th>\n",
       "      <th>EmployeeCount</th>\n",
       "      <th>EmployeeNumber</th>\n",
       "      <th>EnvironmentSatisfaction</th>\n",
       "      <th>HourlyRate</th>\n",
       "      <th>...</th>\n",
       "      <th>RelationshipSatisfaction</th>\n",
       "      <th>StandardHours</th>\n",
       "      <th>StockOptionLevel</th>\n",
       "      <th>TotalWorkingYears</th>\n",
       "      <th>TrainingTimesLastYear</th>\n",
       "      <th>WorkLifeBalance</th>\n",
       "      <th>YearsAtCompany</th>\n",
       "      <th>YearsInCurrentRole</th>\n",
       "      <th>YearsSinceLastPromotion</th>\n",
       "      <th>YearsWithCurrManager</th>\n",
       "    </tr>\n",
       "  </thead>\n",
       "  <tbody>\n",
       "    <tr>\n",
       "      <th>0</th>\n",
       "      <td>36</td>\n",
       "      <td>Travel_Rarely</td>\n",
       "      <td>1218</td>\n",
       "      <td>9</td>\n",
       "      <td>4</td>\n",
       "      <td>Life Sciences</td>\n",
       "      <td>1</td>\n",
       "      <td>27</td>\n",
       "      <td>3</td>\n",
       "      <td>82</td>\n",
       "      <td>...</td>\n",
       "      <td>2</td>\n",
       "      <td>80</td>\n",
       "      <td>0</td>\n",
       "      <td>10</td>\n",
       "      <td>4</td>\n",
       "      <td>3</td>\n",
       "      <td>5</td>\n",
       "      <td>3</td>\n",
       "      <td>0</td>\n",
       "      <td>3</td>\n",
       "    </tr>\n",
       "    <tr>\n",
       "      <th>1</th>\n",
       "      <td>39</td>\n",
       "      <td>Travel_Rarely</td>\n",
       "      <td>895</td>\n",
       "      <td>5</td>\n",
       "      <td>3</td>\n",
       "      <td>Technical Degree</td>\n",
       "      <td>1</td>\n",
       "      <td>42</td>\n",
       "      <td>4</td>\n",
       "      <td>56</td>\n",
       "      <td>...</td>\n",
       "      <td>3</td>\n",
       "      <td>80</td>\n",
       "      <td>1</td>\n",
       "      <td>19</td>\n",
       "      <td>6</td>\n",
       "      <td>4</td>\n",
       "      <td>1</td>\n",
       "      <td>0</td>\n",
       "      <td>0</td>\n",
       "      <td>0</td>\n",
       "    </tr>\n",
       "    <tr>\n",
       "      <th>2</th>\n",
       "      <td>50</td>\n",
       "      <td>Travel_Rarely</td>\n",
       "      <td>869</td>\n",
       "      <td>3</td>\n",
       "      <td>2</td>\n",
       "      <td>Marketing</td>\n",
       "      <td>1</td>\n",
       "      <td>47</td>\n",
       "      <td>1</td>\n",
       "      <td>86</td>\n",
       "      <td>...</td>\n",
       "      <td>3</td>\n",
       "      <td>80</td>\n",
       "      <td>0</td>\n",
       "      <td>3</td>\n",
       "      <td>2</td>\n",
       "      <td>3</td>\n",
       "      <td>3</td>\n",
       "      <td>2</td>\n",
       "      <td>0</td>\n",
       "      <td>2</td>\n",
       "    </tr>\n",
       "    <tr>\n",
       "      <th>3</th>\n",
       "      <td>46</td>\n",
       "      <td>Travel_Rarely</td>\n",
       "      <td>669</td>\n",
       "      <td>9</td>\n",
       "      <td>2</td>\n",
       "      <td>Medical</td>\n",
       "      <td>1</td>\n",
       "      <td>118</td>\n",
       "      <td>3</td>\n",
       "      <td>64</td>\n",
       "      <td>...</td>\n",
       "      <td>4</td>\n",
       "      <td>80</td>\n",
       "      <td>0</td>\n",
       "      <td>9</td>\n",
       "      <td>3</td>\n",
       "      <td>3</td>\n",
       "      <td>9</td>\n",
       "      <td>8</td>\n",
       "      <td>4</td>\n",
       "      <td>7</td>\n",
       "    </tr>\n",
       "    <tr>\n",
       "      <th>4</th>\n",
       "      <td>25</td>\n",
       "      <td>Non-Travel</td>\n",
       "      <td>240</td>\n",
       "      <td>5</td>\n",
       "      <td>3</td>\n",
       "      <td>Marketing</td>\n",
       "      <td>1</td>\n",
       "      <td>142</td>\n",
       "      <td>3</td>\n",
       "      <td>46</td>\n",
       "      <td>...</td>\n",
       "      <td>4</td>\n",
       "      <td>80</td>\n",
       "      <td>0</td>\n",
       "      <td>6</td>\n",
       "      <td>1</td>\n",
       "      <td>3</td>\n",
       "      <td>6</td>\n",
       "      <td>4</td>\n",
       "      <td>0</td>\n",
       "      <td>3</td>\n",
       "    </tr>\n",
       "  </tbody>\n",
       "</table>\n",
       "<p>5 rows × 31 columns</p>\n",
       "</div>"
      ],
      "text/plain": [
       "   Age BusinessTravel  DailyRate  DistanceFromHome  Education  \\\n",
       "0   36  Travel_Rarely       1218                 9          4   \n",
       "1   39  Travel_Rarely        895                 5          3   \n",
       "2   50  Travel_Rarely        869                 3          2   \n",
       "3   46  Travel_Rarely        669                 9          2   \n",
       "4   25     Non-Travel        240                 5          3   \n",
       "\n",
       "     EducationField  EmployeeCount  EmployeeNumber  EnvironmentSatisfaction  \\\n",
       "0     Life Sciences              1              27                        3   \n",
       "1  Technical Degree              1              42                        4   \n",
       "2         Marketing              1              47                        1   \n",
       "3           Medical              1             118                        3   \n",
       "4         Marketing              1             142                        3   \n",
       "\n",
       "   HourlyRate  ...  RelationshipSatisfaction  StandardHours  StockOptionLevel  \\\n",
       "0          82  ...                         2             80                 0   \n",
       "1          56  ...                         3             80                 1   \n",
       "2          86  ...                         3             80                 0   \n",
       "3          64  ...                         4             80                 0   \n",
       "4          46  ...                         4             80                 0   \n",
       "\n",
       "  TotalWorkingYears  TrainingTimesLastYear  WorkLifeBalance  YearsAtCompany  \\\n",
       "0                10                      4                3               5   \n",
       "1                19                      6                4               1   \n",
       "2                 3                      2                3               3   \n",
       "3                 9                      3                3               9   \n",
       "4                 6                      1                3               6   \n",
       "\n",
       "  YearsInCurrentRole YearsSinceLastPromotion  YearsWithCurrManager  \n",
       "0                  3                       0                     3  \n",
       "1                  0                       0                     0  \n",
       "2                  2                       0                     2  \n",
       "3                  8                       4                     7  \n",
       "4                  4                       0                     3  \n",
       "\n",
       "[5 rows x 31 columns]"
      ]
     },
     "execution_count": 2,
     "metadata": {},
     "output_type": "execute_result"
    }
   ],
   "source": [
    "sales_emp = pd.read_csv('S7_sales_emp.csv')\n",
    "sales_emp.head()"
   ]
  },
  {
   "cell_type": "code",
   "execution_count": 24,
   "metadata": {},
   "outputs": [
    {
     "data": {
      "text/plain": [
       "array(['Life Sciences', 'Technical Degree', 'Marketing', 'Medical',\n",
       "       'Other'], dtype=object)"
      ]
     },
     "execution_count": 24,
     "metadata": {},
     "output_type": "execute_result"
    }
   ],
   "source": [
    "# H0: The average monthly income of sales executives is same\n",
    "# H1: At least one set of sales executives with different education background has a different monthly income\n",
    "\n",
    "# unique education background in the data\n",
    "sales_emp['EducationField'].unique()"
   ]
  },
  {
   "cell_type": "markdown",
   "metadata": {},
   "source": [
    "There are total 5 unique education fields in the dataset."
   ]
  },
  {
   "cell_type": "code",
   "execution_count": 25,
   "metadata": {},
   "outputs": [],
   "source": [
    "# given data\n",
    "gr_lf = sales_emp[sales_emp['EducationField'] == 'Life Sciences']['MonthlyIncome']\n",
    "gr_td = sales_emp[sales_emp['EducationField'] == 'Technical Degree']['MonthlyIncome']\n",
    "gr_mar = sales_emp[sales_emp['EducationField'] == 'Marketing']['MonthlyIncome']\n",
    "gr_med = sales_emp[sales_emp['EducationField'] == 'Medical']['MonthlyIncome']\n",
    "gr_oth = sales_emp[sales_emp['EducationField'] == 'Other']['MonthlyIncome']"
   ]
  },
  {
   "cell_type": "code",
   "execution_count": 26,
   "metadata": {},
   "outputs": [
    {
     "name": "stdout",
     "output_type": "stream",
     "text": [
      "p-value: 0.05732710659503937\n"
     ]
    }
   ],
   "source": [
    "# perform Shapiro-Wilk test to test the normality\n",
    "stat, p_value = stats.shapiro(sales_emp['MonthlyIncome'])\n",
    "\n",
    "# print the p-value\n",
    "print('p-value:', p_value)"
   ]
  },
  {
   "cell_type": "markdown",
   "metadata": {},
   "source": [
    "From the above result, we can see that the p-value is greater than 0.05, thus we can say that the average monthly income of sales executives from each group are normally distributed. Thus the assumption of normality is satisfied."
   ]
  },
  {
   "cell_type": "code",
   "execution_count": 27,
   "metadata": {},
   "outputs": [
    {
     "name": "stdout",
     "output_type": "stream",
     "text": [
      "p-value: 0.23476859109336565\n"
     ]
    }
   ],
   "source": [
    "# perform Levene's test for the equality of variances \n",
    "stat, p_value = stats.levene(gr_lf, gr_td, gr_mar, gr_med, gr_oth)\n",
    "\n",
    "# print the p-value \n",
    "print('p-value:', p_value)"
   ]
  },
  {
   "cell_type": "markdown",
   "metadata": {},
   "source": [
    "From the above result, we can see that the p-value is greater than 0.05, thus we can say that the population variances are equal for all the samples.\n",
    "\n",
    "* Assumption of normality is satisfied by Shapiro-Wilk test\n",
    "* Assumption of equality of variance is satisfied by Levene's test\n",
    "* So we can use the dataset to study the equality of average monthly income"
   ]
  },
  {
   "cell_type": "code",
   "execution_count": 28,
   "metadata": {},
   "outputs": [
    {
     "name": "stdout",
     "output_type": "stream",
     "text": [
      "t: 5\n",
      "N: 54\n"
     ]
    }
   ],
   "source": [
    "# obtain number of unique education backgrounds\n",
    "t = sales_emp['EducationField'].nunique()\n",
    "print('t:', t)\n",
    "\n",
    "# consider the total number of employees in all education backgrounds\n",
    "N = sales_emp['EducationField'].value_counts().sum()\n",
    "print('N:', N)"
   ]
  },
  {
   "cell_type": "code",
   "execution_count": 29,
   "metadata": {},
   "outputs": [
    {
     "name": "stdout",
     "output_type": "stream",
     "text": [
      "Critical value for F-test: 2.5611\n"
     ]
    }
   ],
   "source": [
    "# calculate the F-value for 95% of confidence level\n",
    "# use 'stats.f.isf()' to find the F-value corresponding to the upper tail probability 'q'\n",
    "\n",
    "f = np.abs(round(stats.f.isf(q = 0.05, dfn = t-1, dfd = N-t), 4))\n",
    "\n",
    "print('Critical value for F-test:', f)"
   ]
  },
  {
   "cell_type": "code",
   "execution_count": 30,
   "metadata": {},
   "outputs": [
    {
     "name": "stdout",
     "output_type": "stream",
     "text": [
      "Test statistic: 0.9546031924978221\n",
      "p-value: 0.4407865128409415\n"
     ]
    }
   ],
   "source": [
    "# perform one-way ANOVA\n",
    "# pass the given data\n",
    "f_test, p_val = stats.f_oneway(gr_lf, gr_td, gr_mar, gr_med, gr_oth)\n",
    "\n",
    "# print the test statistic and corresponding p-value\n",
    "print('Test statistic:', f_test)\n",
    "print('p-value:', p_val)"
   ]
  },
  {
   "cell_type": "markdown",
   "metadata": {},
   "source": [
    "* In this example, p-value (0.4407) is greater than alpha (0.05)\n",
    "* So we fail to reject the null hypothesis"
   ]
  },
  {
   "cell_type": "markdown",
   "metadata": {
    "colab_type": "text",
    "id": "qI6L73Qhf98t"
   },
   "source": [
    " <table align=\"left\">\n",
    "    <tr>\n",
    "        <td width=\"6%\">\n",
    "            <img src=\"question_icon.png\">\n",
    "        </td>\n",
    "        <td>\n",
    "            <div align=\"left\", style=\"font-size:120%\">\n",
    "                <font color=\"#21618C\">\n",
    "                    <b>10. Use the sales employees' dataset to test whether the average monthly income of sales executives with different education background is equal or not. Use a critical value method with 95% confidence.</b>\n",
    "                </font>\n",
    "            </div>\n",
    "        </td>\n",
    "    </tr>\n",
    "</table>"
   ]
  },
  {
   "cell_type": "code",
   "execution_count": 31,
   "metadata": {},
   "outputs": [],
   "source": [
    "# H0: The average monthly income of sales executives is same\n",
    "# H1: At least one set of sales executives with different education background has a different monthly income\n",
    "\n",
    "# given data\n",
    "gr_lf = sales_emp[sales_emp['EducationField'] == 'Life Sciences']['MonthlyIncome']\n",
    "gr_td = sales_emp[sales_emp['EducationField'] == 'Technical Degree']['MonthlyIncome']\n",
    "gr_mar = sales_emp[sales_emp['EducationField'] == 'Marketing']['MonthlyIncome']\n",
    "gr_med = sales_emp[sales_emp['EducationField'] == 'Medical']['MonthlyIncome']\n",
    "gr_oth = sales_emp[sales_emp['EducationField'] == 'Other']['MonthlyIncome']"
   ]
  },
  {
   "cell_type": "code",
   "execution_count": 32,
   "metadata": {},
   "outputs": [
    {
     "name": "stdout",
     "output_type": "stream",
     "text": [
      "t: 5\n",
      "N: 54\n"
     ]
    }
   ],
   "source": [
    "# obtain number of unique education backgrounds\n",
    "t = sales_emp['EducationField'].nunique()\n",
    "print('t:', t)\n",
    "\n",
    "# consider the total number of employees in all education backgrounds\n",
    "N = sales_emp['EducationField'].value_counts().sum()\n",
    "print('N:', N)"
   ]
  },
  {
   "cell_type": "code",
   "execution_count": 33,
   "metadata": {},
   "outputs": [
    {
     "name": "stdout",
     "output_type": "stream",
     "text": [
      "Critical value for F-test: 2.5611\n"
     ]
    }
   ],
   "source": [
    "# calculate the F-value for 95% of confidence level\n",
    "# use 'stats.f.isf()' to find the F-value corresponding to the upper tail probability 'q'\n",
    "\n",
    "f = np.abs(round(stats.f.isf(q = 0.05, dfn = t-1, dfd = N-t), 4))\n",
    "\n",
    "print('Critical value for F-test:', f)"
   ]
  },
  {
   "cell_type": "code",
   "execution_count": 34,
   "metadata": {},
   "outputs": [
    {
     "name": "stdout",
     "output_type": "stream",
     "text": [
      "Test statistic: 0.9546031924978221\n",
      "p-value: 0.4407865128409415\n"
     ]
    }
   ],
   "source": [
    "# perform one-way ANOVA\n",
    "# pass the given data\n",
    "f_test, p_val = stats.f_oneway(gr_lf, gr_td, gr_mar, gr_med, gr_oth)\n",
    "\n",
    "# print the test statistic and corresponding p-value\n",
    "print('Test statistic:', f_test)\n",
    "print('p-value:', p_val)"
   ]
  },
  {
   "cell_type": "markdown",
   "metadata": {},
   "source": [
    "* In this example, test statistic (0.4407) is lesser than Chi-crit (2.5611)\n",
    "* Test statistic falls to the left of Chi-crit i.e. it falls in acceptance region of H0\n",
    "* So we fail to reject the null hypothesis"
   ]
  },
  {
   "cell_type": "markdown",
   "metadata": {
    "colab_type": "text",
    "id": "iZkGr2rTf98y"
   },
   "source": [
    "<table align=\"left\">\n",
    "    <tr>\n",
    "        <td width=\"6%\">\n",
    "            <img src=\"question_icon.png\">\n",
    "        </td>\n",
    "        <td>\n",
    "            <div align=\"left\", style=\"font-size:120%\">\n",
    "                <font color=\"#21618C\">\n",
    "                    <b>11. Can we use the given data of sales executives to check the equality of the average daily rate for different types of business travellers? Use a p-value technique to test at a 1% level of significance.</b>\n",
    "                </font>\n",
    "            </div>\n",
    "        </td>\n",
    "    </tr>\n",
    "</table>"
   ]
  },
  {
   "cell_type": "code",
   "execution_count": 35,
   "metadata": {},
   "outputs": [
    {
     "data": {
      "text/html": [
       "<div>\n",
       "<style scoped>\n",
       "    .dataframe tbody tr th:only-of-type {\n",
       "        vertical-align: middle;\n",
       "    }\n",
       "\n",
       "    .dataframe tbody tr th {\n",
       "        vertical-align: top;\n",
       "    }\n",
       "\n",
       "    .dataframe thead th {\n",
       "        text-align: right;\n",
       "    }\n",
       "</style>\n",
       "<table border=\"1\" class=\"dataframe\">\n",
       "  <thead>\n",
       "    <tr style=\"text-align: right;\">\n",
       "      <th></th>\n",
       "      <th>Age</th>\n",
       "      <th>BusinessTravel</th>\n",
       "      <th>DailyRate</th>\n",
       "      <th>DistanceFromHome</th>\n",
       "      <th>Education</th>\n",
       "      <th>EducationField</th>\n",
       "      <th>EmployeeCount</th>\n",
       "      <th>EmployeeNumber</th>\n",
       "      <th>EnvironmentSatisfaction</th>\n",
       "      <th>HourlyRate</th>\n",
       "      <th>...</th>\n",
       "      <th>RelationshipSatisfaction</th>\n",
       "      <th>StandardHours</th>\n",
       "      <th>StockOptionLevel</th>\n",
       "      <th>TotalWorkingYears</th>\n",
       "      <th>TrainingTimesLastYear</th>\n",
       "      <th>WorkLifeBalance</th>\n",
       "      <th>YearsAtCompany</th>\n",
       "      <th>YearsInCurrentRole</th>\n",
       "      <th>YearsSinceLastPromotion</th>\n",
       "      <th>YearsWithCurrManager</th>\n",
       "    </tr>\n",
       "  </thead>\n",
       "  <tbody>\n",
       "    <tr>\n",
       "      <th>0</th>\n",
       "      <td>36</td>\n",
       "      <td>Travel_Rarely</td>\n",
       "      <td>1218</td>\n",
       "      <td>9</td>\n",
       "      <td>4</td>\n",
       "      <td>Life Sciences</td>\n",
       "      <td>1</td>\n",
       "      <td>27</td>\n",
       "      <td>3</td>\n",
       "      <td>82</td>\n",
       "      <td>...</td>\n",
       "      <td>2</td>\n",
       "      <td>80</td>\n",
       "      <td>0</td>\n",
       "      <td>10</td>\n",
       "      <td>4</td>\n",
       "      <td>3</td>\n",
       "      <td>5</td>\n",
       "      <td>3</td>\n",
       "      <td>0</td>\n",
       "      <td>3</td>\n",
       "    </tr>\n",
       "    <tr>\n",
       "      <th>1</th>\n",
       "      <td>39</td>\n",
       "      <td>Travel_Rarely</td>\n",
       "      <td>895</td>\n",
       "      <td>5</td>\n",
       "      <td>3</td>\n",
       "      <td>Technical Degree</td>\n",
       "      <td>1</td>\n",
       "      <td>42</td>\n",
       "      <td>4</td>\n",
       "      <td>56</td>\n",
       "      <td>...</td>\n",
       "      <td>3</td>\n",
       "      <td>80</td>\n",
       "      <td>1</td>\n",
       "      <td>19</td>\n",
       "      <td>6</td>\n",
       "      <td>4</td>\n",
       "      <td>1</td>\n",
       "      <td>0</td>\n",
       "      <td>0</td>\n",
       "      <td>0</td>\n",
       "    </tr>\n",
       "    <tr>\n",
       "      <th>2</th>\n",
       "      <td>50</td>\n",
       "      <td>Travel_Rarely</td>\n",
       "      <td>869</td>\n",
       "      <td>3</td>\n",
       "      <td>2</td>\n",
       "      <td>Marketing</td>\n",
       "      <td>1</td>\n",
       "      <td>47</td>\n",
       "      <td>1</td>\n",
       "      <td>86</td>\n",
       "      <td>...</td>\n",
       "      <td>3</td>\n",
       "      <td>80</td>\n",
       "      <td>0</td>\n",
       "      <td>3</td>\n",
       "      <td>2</td>\n",
       "      <td>3</td>\n",
       "      <td>3</td>\n",
       "      <td>2</td>\n",
       "      <td>0</td>\n",
       "      <td>2</td>\n",
       "    </tr>\n",
       "    <tr>\n",
       "      <th>3</th>\n",
       "      <td>46</td>\n",
       "      <td>Travel_Rarely</td>\n",
       "      <td>669</td>\n",
       "      <td>9</td>\n",
       "      <td>2</td>\n",
       "      <td>Medical</td>\n",
       "      <td>1</td>\n",
       "      <td>118</td>\n",
       "      <td>3</td>\n",
       "      <td>64</td>\n",
       "      <td>...</td>\n",
       "      <td>4</td>\n",
       "      <td>80</td>\n",
       "      <td>0</td>\n",
       "      <td>9</td>\n",
       "      <td>3</td>\n",
       "      <td>3</td>\n",
       "      <td>9</td>\n",
       "      <td>8</td>\n",
       "      <td>4</td>\n",
       "      <td>7</td>\n",
       "    </tr>\n",
       "    <tr>\n",
       "      <th>4</th>\n",
       "      <td>25</td>\n",
       "      <td>Non-Travel</td>\n",
       "      <td>240</td>\n",
       "      <td>5</td>\n",
       "      <td>3</td>\n",
       "      <td>Marketing</td>\n",
       "      <td>1</td>\n",
       "      <td>142</td>\n",
       "      <td>3</td>\n",
       "      <td>46</td>\n",
       "      <td>...</td>\n",
       "      <td>4</td>\n",
       "      <td>80</td>\n",
       "      <td>0</td>\n",
       "      <td>6</td>\n",
       "      <td>1</td>\n",
       "      <td>3</td>\n",
       "      <td>6</td>\n",
       "      <td>4</td>\n",
       "      <td>0</td>\n",
       "      <td>3</td>\n",
       "    </tr>\n",
       "  </tbody>\n",
       "</table>\n",
       "<p>5 rows × 31 columns</p>\n",
       "</div>"
      ],
      "text/plain": [
       "   Age BusinessTravel  DailyRate  DistanceFromHome  Education  \\\n",
       "0   36  Travel_Rarely       1218                 9          4   \n",
       "1   39  Travel_Rarely        895                 5          3   \n",
       "2   50  Travel_Rarely        869                 3          2   \n",
       "3   46  Travel_Rarely        669                 9          2   \n",
       "4   25     Non-Travel        240                 5          3   \n",
       "\n",
       "     EducationField  EmployeeCount  EmployeeNumber  EnvironmentSatisfaction  \\\n",
       "0     Life Sciences              1              27                        3   \n",
       "1  Technical Degree              1              42                        4   \n",
       "2         Marketing              1              47                        1   \n",
       "3           Medical              1             118                        3   \n",
       "4         Marketing              1             142                        3   \n",
       "\n",
       "   HourlyRate  ...  RelationshipSatisfaction  StandardHours  StockOptionLevel  \\\n",
       "0          82  ...                         2             80                 0   \n",
       "1          56  ...                         3             80                 1   \n",
       "2          86  ...                         3             80                 0   \n",
       "3          64  ...                         4             80                 0   \n",
       "4          46  ...                         4             80                 0   \n",
       "\n",
       "  TotalWorkingYears  TrainingTimesLastYear  WorkLifeBalance  YearsAtCompany  \\\n",
       "0                10                      4                3               5   \n",
       "1                19                      6                4               1   \n",
       "2                 3                      2                3               3   \n",
       "3                 9                      3                3               9   \n",
       "4                 6                      1                3               6   \n",
       "\n",
       "  YearsInCurrentRole YearsSinceLastPromotion  YearsWithCurrManager  \n",
       "0                  3                       0                     3  \n",
       "1                  0                       0                     0  \n",
       "2                  2                       0                     2  \n",
       "3                  8                       4                     7  \n",
       "4                  4                       0                     3  \n",
       "\n",
       "[5 rows x 31 columns]"
      ]
     },
     "execution_count": 35,
     "metadata": {},
     "output_type": "execute_result"
    }
   ],
   "source": [
    "sales_emp.head()"
   ]
  },
  {
   "cell_type": "code",
   "execution_count": 36,
   "metadata": {},
   "outputs": [
    {
     "data": {
      "text/plain": [
       "array(['Travel_Rarely', 'Non-Travel', 'Travel_Frequently'], dtype=object)"
      ]
     },
     "execution_count": 36,
     "metadata": {},
     "output_type": "execute_result"
    }
   ],
   "source": [
    "# H0: The average daily rate for different types of business travellers is same\n",
    "# H1: The average daily rate for different types of business travellers is different\n",
    "\n",
    "# unique education background in the data\n",
    "sales_emp['BusinessTravel'].unique()"
   ]
  },
  {
   "cell_type": "markdown",
   "metadata": {},
   "source": [
    "There are total 3 unique types of business travel in the dataset."
   ]
  },
  {
   "cell_type": "code",
   "execution_count": 3,
   "metadata": {},
   "outputs": [],
   "source": [
    "# H0: The average daily rate for different types of business travellers is same\n",
    "# H1: The average daily rate for different types of business travellers is different\n",
    "\n",
    "# given data\n",
    "gr_tr = sales_emp[sales_emp['BusinessTravel'] == 'Travel_Rarely']['DailyRate']\n",
    "gr_nt = sales_emp[sales_emp['BusinessTravel'] == 'Non-Travel']['DailyRate']\n",
    "gr_tf = sales_emp[sales_emp['BusinessTravel'] == 'Travel_Frequently']['DailyRate']"
   ]
  },
  {
   "cell_type": "code",
   "execution_count": 38,
   "metadata": {},
   "outputs": [
    {
     "name": "stdout",
     "output_type": "stream",
     "text": [
      "p-value: 0.040250398218631744\n"
     ]
    }
   ],
   "source": [
    "# perform Shapiro-Wilk test to test the normality\n",
    "stat, p_value = stats.shapiro(sales_emp['DailyRate'])\n",
    "\n",
    "# print the p-value\n",
    "print('p-value:', p_value)"
   ]
  },
  {
   "cell_type": "markdown",
   "metadata": {},
   "source": [
    "From the above result, we can see that the p-value is greater than 0.01, thus we can say that the average daily rate from each group are normally distributed. Thus the assumption of normality is satisfied."
   ]
  },
  {
   "cell_type": "code",
   "execution_count": 39,
   "metadata": {},
   "outputs": [
    {
     "name": "stdout",
     "output_type": "stream",
     "text": [
      "p-value: 0.23137904227432696\n"
     ]
    }
   ],
   "source": [
    "# perform Levene's test for the equality of variances \n",
    "stat, p_value = stats.levene(gr_tr, gr_nt, gr_tf)\n",
    "\n",
    "# print the p-value \n",
    "print('p-value:', p_value)"
   ]
  },
  {
   "cell_type": "markdown",
   "metadata": {},
   "source": [
    "From the above result, we can see that the p-value is greater than 0.01, thus we can say that the population variances are equal for all the samples.\n",
    "\n",
    "* Assumption of normality is satisfied by Shapiro-Wilk test\n",
    "* Assumption of equality of variance is satisfied by Levene's test\n",
    "* So we can use the dataset to study the equality of average daily rate"
   ]
  },
  {
   "cell_type": "code",
   "execution_count": 4,
   "metadata": {},
   "outputs": [
    {
     "name": "stdout",
     "output_type": "stream",
     "text": [
      "t: 3\n",
      "N: 54\n"
     ]
    }
   ],
   "source": [
    "# obtain number of unique types of business travellers\n",
    "t = sales_emp['BusinessTravel'].nunique()\n",
    "print('t:', t)\n",
    "\n",
    "# consider the total number of employees in all types of business travel\n",
    "N = sales_emp['BusinessTravel'].value_counts().sum()\n",
    "print('N:', N)"
   ]
  },
  {
   "cell_type": "code",
   "execution_count": 5,
   "metadata": {},
   "outputs": [
    {
     "name": "stdout",
     "output_type": "stream",
     "text": [
      "Critical value for F-test: 5.0472\n"
     ]
    }
   ],
   "source": [
    "# calculate the F-value for 95% of confidence level\n",
    "# use 'stats.f.isf()' to find the F-value corresponding to the upper tail probability 'q'\n",
    "\n",
    "f = np.abs(round(stats.f.isf(q = 0.01, dfn = t-1, dfd = N-t), 4))\n",
    "\n",
    "print('Critical value for F-test:', f)"
   ]
  },
  {
   "cell_type": "code",
   "execution_count": 42,
   "metadata": {},
   "outputs": [
    {
     "name": "stdout",
     "output_type": "stream",
     "text": [
      "Test statistic: 15.815759872412409\n",
      "p-value: 4.527131533131016e-06\n"
     ]
    }
   ],
   "source": [
    "# perform one-way ANOVA\n",
    "# pass the given data\n",
    "f_test, p_val = stats.f_oneway(gr_tr, gr_nt, gr_tf)\n",
    "\n",
    "# print the test statistic and corresponding p-value\n",
    "print('Test statistic:', f_test)\n",
    "print('p-value:', p_val)"
   ]
  },
  {
   "cell_type": "markdown",
   "metadata": {},
   "source": [
    "* In this example, p-value (4.5271e-06) is lesser than alpha (0.01)\n",
    "* Test statistic (15.8157) is greater than Chi-crit (5.0472) i.e. it falls in rejection region of H0\n",
    "* So we reject the null hypothesis"
   ]
  },
  {
   "cell_type": "markdown",
   "metadata": {
    "collapsed": true
   },
   "source": [
    "<table align=\"left\">\n",
    "    <tr>\n",
    "        <td width=\"6%\">\n",
    "            <img src=\"question_icon.png\">\n",
    "        </td>\n",
    "        <td>\n",
    "            <div align=\"left\", style=\"font-size:120%\">\n",
    "                <font color=\"#21618C\">\n",
    "                    <b>12. Use the parametric test to check the equality of the average daily rate for all the types of business travelling. Use a p-value technique to test the data with 99% confidence.</b>\n",
    "                </font>\n",
    "            </div>\n",
    "        </td>\n",
    "    </tr>\n",
    "</table>"
   ]
  },
  {
   "cell_type": "code",
   "execution_count": 8,
   "metadata": {},
   "outputs": [
    {
     "data": {
      "text/html": [
       "<div>\n",
       "<style scoped>\n",
       "    .dataframe tbody tr th:only-of-type {\n",
       "        vertical-align: middle;\n",
       "    }\n",
       "\n",
       "    .dataframe tbody tr th {\n",
       "        vertical-align: top;\n",
       "    }\n",
       "\n",
       "    .dataframe thead th {\n",
       "        text-align: right;\n",
       "    }\n",
       "</style>\n",
       "<table border=\"1\" class=\"dataframe\">\n",
       "  <thead>\n",
       "    <tr style=\"text-align: right;\">\n",
       "      <th></th>\n",
       "      <th>df</th>\n",
       "      <th>sum_sq</th>\n",
       "      <th>mean_sq</th>\n",
       "      <th>F</th>\n",
       "      <th>PR(&gt;F)</th>\n",
       "    </tr>\n",
       "  </thead>\n",
       "  <tbody>\n",
       "    <tr>\n",
       "      <th>Q(\"BusinessTravel\")</th>\n",
       "      <td>2.0</td>\n",
       "      <td>3.755400e+06</td>\n",
       "      <td>1.877700e+06</td>\n",
       "      <td>15.81576</td>\n",
       "      <td>0.000005</td>\n",
       "    </tr>\n",
       "    <tr>\n",
       "      <th>Residual</th>\n",
       "      <td>51.0</td>\n",
       "      <td>6.054890e+06</td>\n",
       "      <td>1.187233e+05</td>\n",
       "      <td>NaN</td>\n",
       "      <td>NaN</td>\n",
       "    </tr>\n",
       "  </tbody>\n",
       "</table>\n",
       "</div>"
      ],
      "text/plain": [
       "                       df        sum_sq       mean_sq         F    PR(>F)\n",
       "Q(\"BusinessTravel\")   2.0  3.755400e+06  1.877700e+06  15.81576  0.000005\n",
       "Residual             51.0  6.054890e+06  1.187233e+05       NaN       NaN"
      ]
     },
     "execution_count": 8,
     "metadata": {},
     "output_type": "execute_result"
    }
   ],
   "source": [
    "# H0: The average daily rate for different types of business travellers is same\n",
    "# H1: The average daily rate for different types of business travellers is different\n",
    "\n",
    "# perform one-way ANOVA\n",
    "\n",
    "# fit an ols model on the datafreme 'sales_emp' \n",
    "# use 'Q()' to quote the variable name \n",
    "# use 'fit()' to fit the linear model\n",
    "test = ols('DailyRate ~ Q(\"BusinessTravel\")', sales_emp).fit()\n",
    "\n",
    "# create table for one-way ANOVA test\n",
    "# pass the linear model 'test'\n",
    "# 'typ = 1' performs two-way ANOVA\n",
    "anova_1 = anova_lm(test, typ = 1)\n",
    "\n",
    "# print the table\n",
    "anova_1"
   ]
  },
  {
   "cell_type": "markdown",
   "metadata": {},
   "source": [
    "* In this example, p-value (4.5271e-06) is lesser than alpha (0.01)\n",
    "* So we reject the null hypothesis"
   ]
  },
  {
   "cell_type": "markdown",
   "metadata": {
    "colab_type": "text",
    "id": "iOS1kKjWf983"
   },
   "source": [
    "<table align=\"left\">\n",
    "    <tr>\n",
    "        <td width=\"6%\">\n",
    "            <img src=\"question_icon.png\">\n",
    "        </td>\n",
    "        <td>\n",
    "            <div align=\"left\", style=\"font-size:120%\">\n",
    "                <font color=\"#21618C\">\n",
    "                    <b>13. Find the types of business travel for which the average daily rate is different. Use a 1% level of significance.</b>\n",
    "                </font>\n",
    "            </div>\n",
    "        </td>\n",
    "    </tr>\n",
    "</table>"
   ]
  },
  {
   "cell_type": "code",
   "execution_count": 49,
   "metadata": {},
   "outputs": [
    {
     "data": {
      "text/html": [
       "<table class=\"simpletable\">\n",
       "<caption>Multiple Comparison of Means - Tukey HSD, FWER=0.05</caption>\n",
       "<tr>\n",
       "       <th>group1</th>            <th>group2</th>       <th>meandiff</th>   <th>p-adj</th>   <th>lower</th>     <th>upper</th>   <th>reject</th>\n",
       "</tr>\n",
       "<tr>\n",
       "     <td>Non-Travel</td>     <td>Travel_Frequently</td> <td>639.7778</td>   <td>0.001</td> <td>362.5256</td>   <td>917.03</td>    <td>True</td> \n",
       "</tr>\n",
       "<tr>\n",
       "     <td>Non-Travel</td>       <td>Travel_Rarely</td>   <td>242.6667</td>  <td>0.0972</td> <td>-34.5855</td>  <td>519.9189</td>   <td>False</td>\n",
       "</tr>\n",
       "<tr>\n",
       "  <td>Travel_Frequently</td>   <td>Travel_Rarely</td>   <td>-397.1111</td> <td>0.0031</td> <td>-674.3633</td> <td>-119.8589</td>  <td>True</td> \n",
       "</tr>\n",
       "</table>"
      ],
      "text/plain": [
       "<class 'statsmodels.iolib.table.SimpleTable'>"
      ]
     },
     "execution_count": 49,
     "metadata": {},
     "output_type": "execute_result"
    }
   ],
   "source": [
    "# in above one-way ANOVA, we rejected the null hypothesis. \n",
    "# We conclude that atleast one type of business travellers has different avg daily rate\n",
    "# The post-hoc test or multi comparison test is used to identify this different group of business travellers\n",
    "# perform tukey's range test to compare the average daily rate for different types of business travellers\n",
    "\n",
    "# H0: The average daily rate for different types of business travellers is same\n",
    "# H1: The average daily rate for different types of business travellers is different\n",
    "\n",
    "comp = mc.MultiComparison(data = sales_emp['DailyRate'], groups = sales_emp['BusinessTravel'])\n",
    "\n",
    "# tukey's range test\n",
    "post_hoc = comp.tukeyhsd()\n",
    "\n",
    "# print the summary table\n",
    "post_hoc.summary()"
   ]
  },
  {
   "cell_type": "markdown",
   "metadata": {},
   "source": [
    "The reject=False for pairs (Non-Travel, Travel_Rarely) denotes that we fail to reject the null hypothesis; and conclude that the average daily rate due to Non-Travel and Travel_Rarely are same.\n",
    "\n",
    "The average daily rate is different for (Non-Travel, Travel_Frequently) and (Travel_Frequently, Travel_Rarely)\n",
    "\n",
    "The values in the columns lower and upper represent the lower and upper bound of the 95% confidence interval for the mean difference."
   ]
  },
  {
   "cell_type": "markdown",
   "metadata": {
    "colab_type": "text",
    "id": "OL9cj_rRf983"
   },
   "source": [
    "<a id= \"non-para\"></a>\n",
    "## 3. Equivalent Non-parametric Test"
   ]
  },
  {
   "cell_type": "markdown",
   "metadata": {},
   "source": [
    "Use the data available in the CSV file `Employee_Attrition.csv` for questions 14 to 18."
   ]
  },
  {
   "cell_type": "markdown",
   "metadata": {
    "colab_type": "text",
    "id": "YIaQZc58f98p"
   },
   "source": [
    "<table align=\"left\">\n",
    "    <tr>\n",
    "        <td width=\"6%\">\n",
    "            <img src=\"question_icon.png\">\n",
    "        </td>\n",
    "        <td>\n",
    "            <div align=\"left\", style=\"font-size:120%\">\n",
    "                <font color=\"#21618C\">\n",
    "                    <b>14. Can we use the non-parametric test to study the equality of average monthly income for all departments in the company? Use a p-value technique to test at 1% level of significance.</b>\n",
    "                </font>\n",
    "            </div>\n",
    "        </td>\n",
    "    </tr>\n",
    "</table>"
   ]
  },
  {
   "cell_type": "code",
   "execution_count": 52,
   "metadata": {},
   "outputs": [
    {
     "data": {
      "text/html": [
       "<div>\n",
       "<style scoped>\n",
       "    .dataframe tbody tr th:only-of-type {\n",
       "        vertical-align: middle;\n",
       "    }\n",
       "\n",
       "    .dataframe tbody tr th {\n",
       "        vertical-align: top;\n",
       "    }\n",
       "\n",
       "    .dataframe thead th {\n",
       "        text-align: right;\n",
       "    }\n",
       "</style>\n",
       "<table border=\"1\" class=\"dataframe\">\n",
       "  <thead>\n",
       "    <tr style=\"text-align: right;\">\n",
       "      <th></th>\n",
       "      <th>Age</th>\n",
       "      <th>Attrition</th>\n",
       "      <th>BusinessTravel</th>\n",
       "      <th>DailyRate</th>\n",
       "      <th>Department</th>\n",
       "      <th>DistanceFromHome</th>\n",
       "      <th>Education</th>\n",
       "      <th>EducationField</th>\n",
       "      <th>EmployeeCount</th>\n",
       "      <th>EmployeeNumber</th>\n",
       "      <th>...</th>\n",
       "      <th>RelationshipSatisfaction</th>\n",
       "      <th>StandardHours</th>\n",
       "      <th>StockOptionLevel</th>\n",
       "      <th>TotalWorkingYears</th>\n",
       "      <th>TrainingTimesLastYear</th>\n",
       "      <th>WorkLifeBalance</th>\n",
       "      <th>YearsAtCompany</th>\n",
       "      <th>YearsInCurrentRole</th>\n",
       "      <th>YearsSinceLastPromotion</th>\n",
       "      <th>YearsWithCurrManager</th>\n",
       "    </tr>\n",
       "  </thead>\n",
       "  <tbody>\n",
       "    <tr>\n",
       "      <th>0</th>\n",
       "      <td>41</td>\n",
       "      <td>Yes</td>\n",
       "      <td>Travel_Rarely</td>\n",
       "      <td>1102</td>\n",
       "      <td>Sales</td>\n",
       "      <td>1</td>\n",
       "      <td>2</td>\n",
       "      <td>Life Sciences</td>\n",
       "      <td>1</td>\n",
       "      <td>1</td>\n",
       "      <td>...</td>\n",
       "      <td>1</td>\n",
       "      <td>80</td>\n",
       "      <td>0</td>\n",
       "      <td>8</td>\n",
       "      <td>0</td>\n",
       "      <td>1</td>\n",
       "      <td>6</td>\n",
       "      <td>4</td>\n",
       "      <td>0</td>\n",
       "      <td>5</td>\n",
       "    </tr>\n",
       "    <tr>\n",
       "      <th>1</th>\n",
       "      <td>49</td>\n",
       "      <td>No</td>\n",
       "      <td>Travel_Frequently</td>\n",
       "      <td>279</td>\n",
       "      <td>Research &amp; Development</td>\n",
       "      <td>8</td>\n",
       "      <td>1</td>\n",
       "      <td>Life Sciences</td>\n",
       "      <td>1</td>\n",
       "      <td>2</td>\n",
       "      <td>...</td>\n",
       "      <td>4</td>\n",
       "      <td>80</td>\n",
       "      <td>1</td>\n",
       "      <td>10</td>\n",
       "      <td>3</td>\n",
       "      <td>3</td>\n",
       "      <td>10</td>\n",
       "      <td>7</td>\n",
       "      <td>1</td>\n",
       "      <td>7</td>\n",
       "    </tr>\n",
       "    <tr>\n",
       "      <th>2</th>\n",
       "      <td>37</td>\n",
       "      <td>Yes</td>\n",
       "      <td>Travel_Rarely</td>\n",
       "      <td>1373</td>\n",
       "      <td>Research &amp; Development</td>\n",
       "      <td>2</td>\n",
       "      <td>2</td>\n",
       "      <td>Other</td>\n",
       "      <td>1</td>\n",
       "      <td>4</td>\n",
       "      <td>...</td>\n",
       "      <td>2</td>\n",
       "      <td>80</td>\n",
       "      <td>0</td>\n",
       "      <td>7</td>\n",
       "      <td>3</td>\n",
       "      <td>3</td>\n",
       "      <td>0</td>\n",
       "      <td>0</td>\n",
       "      <td>0</td>\n",
       "      <td>0</td>\n",
       "    </tr>\n",
       "    <tr>\n",
       "      <th>3</th>\n",
       "      <td>33</td>\n",
       "      <td>No</td>\n",
       "      <td>Travel_Frequently</td>\n",
       "      <td>1392</td>\n",
       "      <td>Research &amp; Development</td>\n",
       "      <td>3</td>\n",
       "      <td>4</td>\n",
       "      <td>Life Sciences</td>\n",
       "      <td>1</td>\n",
       "      <td>5</td>\n",
       "      <td>...</td>\n",
       "      <td>3</td>\n",
       "      <td>80</td>\n",
       "      <td>0</td>\n",
       "      <td>8</td>\n",
       "      <td>3</td>\n",
       "      <td>3</td>\n",
       "      <td>8</td>\n",
       "      <td>7</td>\n",
       "      <td>3</td>\n",
       "      <td>0</td>\n",
       "    </tr>\n",
       "    <tr>\n",
       "      <th>4</th>\n",
       "      <td>27</td>\n",
       "      <td>No</td>\n",
       "      <td>Travel_Rarely</td>\n",
       "      <td>591</td>\n",
       "      <td>Research &amp; Development</td>\n",
       "      <td>2</td>\n",
       "      <td>1</td>\n",
       "      <td>Medical</td>\n",
       "      <td>1</td>\n",
       "      <td>7</td>\n",
       "      <td>...</td>\n",
       "      <td>4</td>\n",
       "      <td>80</td>\n",
       "      <td>1</td>\n",
       "      <td>6</td>\n",
       "      <td>3</td>\n",
       "      <td>3</td>\n",
       "      <td>2</td>\n",
       "      <td>2</td>\n",
       "      <td>2</td>\n",
       "      <td>2</td>\n",
       "    </tr>\n",
       "  </tbody>\n",
       "</table>\n",
       "<p>5 rows × 35 columns</p>\n",
       "</div>"
      ],
      "text/plain": [
       "   Age Attrition     BusinessTravel  DailyRate              Department  \\\n",
       "0   41       Yes      Travel_Rarely       1102                   Sales   \n",
       "1   49        No  Travel_Frequently        279  Research & Development   \n",
       "2   37       Yes      Travel_Rarely       1373  Research & Development   \n",
       "3   33        No  Travel_Frequently       1392  Research & Development   \n",
       "4   27        No      Travel_Rarely        591  Research & Development   \n",
       "\n",
       "   DistanceFromHome  Education EducationField  EmployeeCount  EmployeeNumber  \\\n",
       "0                 1          2  Life Sciences              1               1   \n",
       "1                 8          1  Life Sciences              1               2   \n",
       "2                 2          2          Other              1               4   \n",
       "3                 3          4  Life Sciences              1               5   \n",
       "4                 2          1        Medical              1               7   \n",
       "\n",
       "   ...  RelationshipSatisfaction StandardHours  StockOptionLevel  \\\n",
       "0  ...                         1            80                 0   \n",
       "1  ...                         4            80                 1   \n",
       "2  ...                         2            80                 0   \n",
       "3  ...                         3            80                 0   \n",
       "4  ...                         4            80                 1   \n",
       "\n",
       "   TotalWorkingYears  TrainingTimesLastYear WorkLifeBalance  YearsAtCompany  \\\n",
       "0                  8                      0               1               6   \n",
       "1                 10                      3               3              10   \n",
       "2                  7                      3               3               0   \n",
       "3                  8                      3               3               8   \n",
       "4                  6                      3               3               2   \n",
       "\n",
       "  YearsInCurrentRole  YearsSinceLastPromotion  YearsWithCurrManager  \n",
       "0                  4                        0                     5  \n",
       "1                  7                        1                     7  \n",
       "2                  0                        0                     0  \n",
       "3                  7                        3                     0  \n",
       "4                  2                        2                     2  \n",
       "\n",
       "[5 rows x 35 columns]"
      ]
     },
     "execution_count": 52,
     "metadata": {},
     "output_type": "execute_result"
    }
   ],
   "source": [
    "# H0 : The average monthly income for all departments is the same\n",
    "# H1 : The average monthly income for all departments is different\n",
    "\n",
    "emp_attrition = pd.read_csv('S7_Employee_Attrition.csv')\n",
    "emp_attrition.head()"
   ]
  },
  {
   "cell_type": "code",
   "execution_count": 51,
   "metadata": {},
   "outputs": [
    {
     "name": "stdout",
     "output_type": "stream",
     "text": [
      "p-value: 4.4031748323132235e-37\n"
     ]
    }
   ],
   "source": [
    "# perform Shapiro-Wilk test to test the normality\n",
    "stat, p_value = stats.shapiro(emp_attrition['MonthlyIncome'])\n",
    "\n",
    "# print the p-value\n",
    "print('p-value:', p_value)"
   ]
  },
  {
   "cell_type": "markdown",
   "metadata": {},
   "source": [
    "From the above result, we can see that the p-value is less than 0.01, thus we can say that the average monthly income for all departments in the company is not normally distributed. This does not satisfy the assumption of normality for ANOVA.\n",
    "\n",
    "Thus we can not apply one-way ANOVA to test the equality of average monthly income. We need to use the non-parametric equivalent Kruskal-Wallis H test"
   ]
  },
  {
   "cell_type": "markdown",
   "metadata": {
    "colab_type": "text",
    "id": "XID79y2_f99O"
   },
   "source": [
    "<table align=\"left\">\n",
    "    <tr>\n",
    "        <td width=\"6%\">\n",
    "            <img src=\"question_icon.png\">\n",
    "        </td>\n",
    "        <td>\n",
    "            <div align=\"left\", style=\"font-size:120%\">\n",
    "                <font color=\"#21618C\">\n",
    "                        <b>15. Check whether the monthly income for all the departments in a company is the same or not. Test using the critical value method at a 1% level of significance.</b>\n",
    "                </font>\n",
    "            </div>\n",
    "        </td>\n",
    "    </tr>\n",
    "</table>"
   ]
  },
  {
   "cell_type": "code",
   "execution_count": 57,
   "metadata": {},
   "outputs": [
    {
     "name": "stdout",
     "output_type": "stream",
     "text": [
      "t: 3\n",
      "['Sales' 'Research & Development' 'Human Resources']\n",
      "\n",
      "Critical value for chi-square test: 9.2103\n"
     ]
    }
   ],
   "source": [
    "# H0 : The average monthly income for all departments is the same\n",
    "# H1 : The average monthly income for all departments is different\n",
    "\n",
    "# obtain number of unique types of departments\n",
    "t = emp_attrition['Department'].nunique()\n",
    "print('t:', t)\n",
    "\n",
    "# unique education background in the data\n",
    "print(emp_attrition['Department'].unique())\n",
    "\n",
    "# calculate the χ2-value for 99% of confidence level\n",
    "# use 'stats.chi2.isf()' to find the χ2-value corresponding to the upper tail probability 'q'\n",
    "chi2_val = np.abs(round(stats.chi2.isf(q = 0.01, df = t-1), 4))\n",
    "\n",
    "print('\\nCritical value for chi-square test:', chi2_val)"
   ]
  },
  {
   "cell_type": "code",
   "execution_count": 58,
   "metadata": {},
   "outputs": [
    {
     "name": "stdout",
     "output_type": "stream",
     "text": [
      "Test statistic: 42.61858855841987\n",
      "p-value: 5.565332051212746e-10\n"
     ]
    }
   ],
   "source": [
    "inc_sales = emp_attrition[emp_attrition['Department'] == 'Sales']['MonthlyIncome']\n",
    "inc_rnd = emp_attrition[emp_attrition['Department'] == 'Research & Development']['MonthlyIncome']\n",
    "inc_hr = emp_attrition[emp_attrition['Department'] == 'Human Resources']['MonthlyIncome']\n",
    "\n",
    "# perform kruskal-wallis H test\n",
    "test_stat, p_val = stats.kruskal(inc_sales, inc_rnd, inc_hr)\n",
    "\n",
    "# print the test statistic and corresponding p-value\n",
    "print('Test statistic:', test_stat)\n",
    "print('p-value:', p_val)"
   ]
  },
  {
   "cell_type": "markdown",
   "metadata": {},
   "source": [
    "* In this example, test statistic (42.6185) is greater than Chi-crit (9.2103)\n",
    "* Test statistic falls to the right of Chi-crit i.e. it falls in rejection region of H0\n",
    "* p-value (5.5653e-10) is less than alpha (0.01)\n",
    "* So we reject the null hypothesis"
   ]
  },
  {
   "cell_type": "markdown",
   "metadata": {
    "colab_type": "text",
    "id": "XID79y2_f99O"
   },
   "source": [
    "<table align=\"left\">\n",
    "    <tr>\n",
    "        <td width=\"6%\">\n",
    "            <img src=\"question_icon.png\">\n",
    "        </td>\n",
    "        <td>\n",
    "            <div align=\"left\", style=\"font-size:120%\">\n",
    "                <font color=\"#21618C\">\n",
    "                    <b>16. Is it possible to identify the department with different average monthly income? If yes, perform the test at a 1% level of significance.</b>\n",
    "                </font>\n",
    "            </div>\n",
    "        </td>\n",
    "    </tr>\n",
    "</table>"
   ]
  },
  {
   "cell_type": "markdown",
   "metadata": {},
   "source": [
    "Since in the above question, Kruskal-Wallis H test rejects the null hypothesis; we conclude that at least one department has a average monthly income. The test does not distinguish a department with the different average monthly income. The post-hoc test is used to identify the department. Thus we use the conover test as a post-hoc test."
   ]
  },
  {
   "cell_type": "code",
   "execution_count": 64,
   "metadata": {},
   "outputs": [
    {
     "data": {
      "text/html": [
       "<div>\n",
       "<style scoped>\n",
       "    .dataframe tbody tr th:only-of-type {\n",
       "        vertical-align: middle;\n",
       "    }\n",
       "\n",
       "    .dataframe tbody tr th {\n",
       "        vertical-align: top;\n",
       "    }\n",
       "\n",
       "    .dataframe thead th {\n",
       "        text-align: right;\n",
       "    }\n",
       "</style>\n",
       "<table border=\"1\" class=\"dataframe\">\n",
       "  <thead>\n",
       "    <tr style=\"text-align: right;\">\n",
       "      <th></th>\n",
       "      <th>Human Resources</th>\n",
       "      <th>Research &amp; Development</th>\n",
       "      <th>Sales</th>\n",
       "    </tr>\n",
       "  </thead>\n",
       "  <tbody>\n",
       "    <tr>\n",
       "      <th>Human Resources</th>\n",
       "      <td>1.000000</td>\n",
       "      <td>7.431216e-01</td>\n",
       "      <td>2.076733e-03</td>\n",
       "    </tr>\n",
       "    <tr>\n",
       "      <th>Research &amp; Development</th>\n",
       "      <td>0.743122</td>\n",
       "      <td>1.000000e+00</td>\n",
       "      <td>1.084486e-10</td>\n",
       "    </tr>\n",
       "    <tr>\n",
       "      <th>Sales</th>\n",
       "      <td>0.002077</td>\n",
       "      <td>1.084486e-10</td>\n",
       "      <td>1.000000e+00</td>\n",
       "    </tr>\n",
       "  </tbody>\n",
       "</table>\n",
       "</div>"
      ],
      "text/plain": [
       "                        Human Resources  Research & Development         Sales\n",
       "Human Resources                1.000000            7.431216e-01  2.076733e-03\n",
       "Research & Development         0.743122            1.000000e+00  1.084486e-10\n",
       "Sales                          0.002077            1.084486e-10  1.000000e+00"
      ]
     },
     "execution_count": 64,
     "metadata": {},
     "output_type": "execute_result"
    }
   ],
   "source": [
    "# perform the conover test\n",
    "scikit_posthocs.posthoc_conover(a = emp_attrition, val_col = 'MonthlyIncome', group_col = 'Department')"
   ]
  },
  {
   "cell_type": "markdown",
   "metadata": {},
   "source": [
    "For α = 0.01, the p-value for pairs (HR, Sales) and (R & D, Sales) is less than 0.01. Thus we can conclude that there is a difference in the in the average monthly income for the pairs of departments (HR, Sales) and (R & D, Sales)."
   ]
  },
  {
   "cell_type": "markdown",
   "metadata": {
    "colab_type": "text",
    "id": "9qnEEhR4f98X"
   },
   "source": [
    "<table align=\"left\">\n",
    "    <tr>\n",
    "        <td width=\"6%\">\n",
    "            <img src=\"question_icon.png\">\n",
    "        </td>\n",
    "        <td>\n",
    "            <div align=\"left\", style=\"font-size:120%\">\n",
    "                <font color=\"#21618C\">\n",
    "                    <b>17. Check whether we can perform the Kruskal-Wallis H test to test the equality of the average experience of employees in all the departments. Consider a 5% level of significance.</b>\n",
    "                </font>\n",
    "            </div>\n",
    "        </td>\n",
    "    </tr>\n",
    "</table>"
   ]
  },
  {
   "cell_type": "code",
   "execution_count": 65,
   "metadata": {},
   "outputs": [
    {
     "name": "stdout",
     "output_type": "stream",
     "text": [
      "p-value: 5.62833706762415e-29\n"
     ]
    }
   ],
   "source": [
    "# H0 : The average experience (TotalWorkingYears) for all departments is the same\n",
    "# H1 : The average experience (TotalWorkingYears) for all departments is different\n",
    "\n",
    "# perform Shapiro-Wilk test to test the normality\n",
    "stat, p_value = stats.shapiro(emp_attrition['TotalWorkingYears'])\n",
    "\n",
    "# print the p-value\n",
    "print('p-value:', p_value)"
   ]
  },
  {
   "cell_type": "markdown",
   "metadata": {},
   "source": [
    "From the above result, we can see that the p-value is less than 0.05, thus we can say that the average experience of employees in all the departments is not normally distributed. This does not satisfy the assumption of normality for ANOVA.\n",
    "\n",
    "Thus we can not apply one-way ANOVA to test the equality of average monthly income. We can perform the non-parametric equivalent Kruskal-Wallis H test"
   ]
  },
  {
   "cell_type": "markdown",
   "metadata": {
    "colab_type": "text",
    "id": "6YXVLVi9f98b"
   },
   "source": [
    "<table align=\"left\">\n",
    "    <tr>\n",
    "        <td width=\"6%\">\n",
    "            <img src=\"question_icon.png\">\n",
    "        </td>\n",
    "        <td>\n",
    "            <div align=\"left\", style=\"font-size:120%\">\n",
    "                <font color=\"#21618C\">\n",
    "                        <b>18. Perform a non-parametric test to test the equality of the average experience of employees in all the departments. Use the p-value technique to perform the test with 95% confidence.</b>\n",
    "                </font>\n",
    "            </div>\n",
    "        </td>\n",
    "    </tr>\n",
    "</table>"
   ]
  },
  {
   "cell_type": "code",
   "execution_count": 66,
   "metadata": {},
   "outputs": [
    {
     "name": "stdout",
     "output_type": "stream",
     "text": [
      "t: 3\n",
      "['Sales' 'Research & Development' 'Human Resources']\n",
      "\n",
      "Critical value for chi-square test: 5.9915\n"
     ]
    }
   ],
   "source": [
    "# H0 : The average experience (TotalWorkingYears) for all departments is the same\n",
    "# H1 : The average experience (TotalWorkingYears) for all departments is different\n",
    "\n",
    "# obtain number of unique types of departments\n",
    "t = emp_attrition['Department'].nunique()\n",
    "print('t:', t)\n",
    "\n",
    "# unique education background in the data\n",
    "print(emp_attrition['Department'].unique())\n",
    "\n",
    "# calculate the χ2-value for 99% of confidence level\n",
    "# use 'stats.chi2.isf()' to find the χ2-value corresponding to the upper tail probability 'q'\n",
    "chi2_val = np.abs(round(stats.chi2.isf(q = 0.05, df = t-1), 4))\n",
    "\n",
    "print('\\nCritical value for chi-square test:', chi2_val)"
   ]
  },
  {
   "cell_type": "code",
   "execution_count": 67,
   "metadata": {},
   "outputs": [
    {
     "name": "stdout",
     "output_type": "stream",
     "text": [
      "Test statistic: 0.14222005425570283\n",
      "p-value: 0.9313594116888158\n"
     ]
    }
   ],
   "source": [
    "exp_sales = emp_attrition[emp_attrition['Department'] == 'Sales']['TotalWorkingYears']\n",
    "exp_rnd = emp_attrition[emp_attrition['Department'] == 'Research & Development']['TotalWorkingYears']\n",
    "exp_hr = emp_attrition[emp_attrition['Department'] == 'Human Resources']['TotalWorkingYears']\n",
    "\n",
    "# perform kruskal-wallis H test\n",
    "test_stat, p_val = stats.kruskal(exp_sales, exp_rnd, exp_hr)\n",
    "\n",
    "# print the test statistic and corresponding p-value\n",
    "print('Test statistic:', test_stat)\n",
    "print('p-value:', p_val)"
   ]
  },
  {
   "cell_type": "markdown",
   "metadata": {},
   "source": [
    "* In this example, p-value (0.9313) is greater than alpha (0.05)\n",
    "* Test statistic (0.1422) is lesser than Chi-crit (5.9915)\n",
    "* Test statistic falls to the left of Chi-crit i.e. it falls in acceptance region of H0\n",
    "* So we fail to reject the null hypothesis"
   ]
  },
  {
   "cell_type": "markdown",
   "metadata": {
    "colab_type": "text",
    "id": "OL9cj_rRf983"
   },
   "source": [
    "<a id= \"2way\"></a>\n",
    "## 4. Two-way ANOVA"
   ]
  },
  {
   "cell_type": "markdown",
   "metadata": {},
   "source": [
    "Use the data available in the CSV file `sales_emp.csv` for questions 19 and 20."
   ]
  },
  {
   "cell_type": "markdown",
   "metadata": {
    "colab_type": "text",
    "id": "3uPwVwgAf99s"
   },
   "source": [
    "<table align=\"left\">\n",
    "    <tr>\n",
    "        <td width=\"6%\">\n",
    "            <img src=\"question_icon.png\">\n",
    "        </td>\n",
    "        <td>\n",
    "            <div align=\"left\", style=\"font-size:120%\">\n",
    "                <font color=\"#21618C\">\n",
    "                    <b>19. Check whether the monthly income of employee depends on the education field and job involvement of the employee. Use the p-value technique with 5% level of significance.</b>\n",
    "                </font>\n",
    "            </div>\n",
    "        </td>\n",
    "    </tr>\n",
    "</table>"
   ]
  },
  {
   "cell_type": "code",
   "execution_count": 90,
   "metadata": {},
   "outputs": [
    {
     "data": {
      "text/html": [
       "<div>\n",
       "<style scoped>\n",
       "    .dataframe tbody tr th:only-of-type {\n",
       "        vertical-align: middle;\n",
       "    }\n",
       "\n",
       "    .dataframe tbody tr th {\n",
       "        vertical-align: top;\n",
       "    }\n",
       "\n",
       "    .dataframe thead th {\n",
       "        text-align: right;\n",
       "    }\n",
       "</style>\n",
       "<table border=\"1\" class=\"dataframe\">\n",
       "  <thead>\n",
       "    <tr style=\"text-align: right;\">\n",
       "      <th></th>\n",
       "      <th>Age</th>\n",
       "      <th>BusinessTravel</th>\n",
       "      <th>DailyRate</th>\n",
       "      <th>DistanceFromHome</th>\n",
       "      <th>Education</th>\n",
       "      <th>EducationField</th>\n",
       "      <th>EmployeeCount</th>\n",
       "      <th>EmployeeNumber</th>\n",
       "      <th>EnvironmentSatisfaction</th>\n",
       "      <th>HourlyRate</th>\n",
       "      <th>...</th>\n",
       "      <th>RelationshipSatisfaction</th>\n",
       "      <th>StandardHours</th>\n",
       "      <th>StockOptionLevel</th>\n",
       "      <th>TotalWorkingYears</th>\n",
       "      <th>TrainingTimesLastYear</th>\n",
       "      <th>WorkLifeBalance</th>\n",
       "      <th>YearsAtCompany</th>\n",
       "      <th>YearsInCurrentRole</th>\n",
       "      <th>YearsSinceLastPromotion</th>\n",
       "      <th>YearsWithCurrManager</th>\n",
       "    </tr>\n",
       "  </thead>\n",
       "  <tbody>\n",
       "    <tr>\n",
       "      <th>0</th>\n",
       "      <td>36</td>\n",
       "      <td>Travel_Rarely</td>\n",
       "      <td>1218</td>\n",
       "      <td>9</td>\n",
       "      <td>4</td>\n",
       "      <td>Life Sciences</td>\n",
       "      <td>1</td>\n",
       "      <td>27</td>\n",
       "      <td>3</td>\n",
       "      <td>82</td>\n",
       "      <td>...</td>\n",
       "      <td>2</td>\n",
       "      <td>80</td>\n",
       "      <td>0</td>\n",
       "      <td>10</td>\n",
       "      <td>4</td>\n",
       "      <td>3</td>\n",
       "      <td>5</td>\n",
       "      <td>3</td>\n",
       "      <td>0</td>\n",
       "      <td>3</td>\n",
       "    </tr>\n",
       "    <tr>\n",
       "      <th>1</th>\n",
       "      <td>39</td>\n",
       "      <td>Travel_Rarely</td>\n",
       "      <td>895</td>\n",
       "      <td>5</td>\n",
       "      <td>3</td>\n",
       "      <td>Technical Degree</td>\n",
       "      <td>1</td>\n",
       "      <td>42</td>\n",
       "      <td>4</td>\n",
       "      <td>56</td>\n",
       "      <td>...</td>\n",
       "      <td>3</td>\n",
       "      <td>80</td>\n",
       "      <td>1</td>\n",
       "      <td>19</td>\n",
       "      <td>6</td>\n",
       "      <td>4</td>\n",
       "      <td>1</td>\n",
       "      <td>0</td>\n",
       "      <td>0</td>\n",
       "      <td>0</td>\n",
       "    </tr>\n",
       "    <tr>\n",
       "      <th>2</th>\n",
       "      <td>50</td>\n",
       "      <td>Travel_Rarely</td>\n",
       "      <td>869</td>\n",
       "      <td>3</td>\n",
       "      <td>2</td>\n",
       "      <td>Marketing</td>\n",
       "      <td>1</td>\n",
       "      <td>47</td>\n",
       "      <td>1</td>\n",
       "      <td>86</td>\n",
       "      <td>...</td>\n",
       "      <td>3</td>\n",
       "      <td>80</td>\n",
       "      <td>0</td>\n",
       "      <td>3</td>\n",
       "      <td>2</td>\n",
       "      <td>3</td>\n",
       "      <td>3</td>\n",
       "      <td>2</td>\n",
       "      <td>0</td>\n",
       "      <td>2</td>\n",
       "    </tr>\n",
       "    <tr>\n",
       "      <th>3</th>\n",
       "      <td>46</td>\n",
       "      <td>Travel_Rarely</td>\n",
       "      <td>669</td>\n",
       "      <td>9</td>\n",
       "      <td>2</td>\n",
       "      <td>Medical</td>\n",
       "      <td>1</td>\n",
       "      <td>118</td>\n",
       "      <td>3</td>\n",
       "      <td>64</td>\n",
       "      <td>...</td>\n",
       "      <td>4</td>\n",
       "      <td>80</td>\n",
       "      <td>0</td>\n",
       "      <td>9</td>\n",
       "      <td>3</td>\n",
       "      <td>3</td>\n",
       "      <td>9</td>\n",
       "      <td>8</td>\n",
       "      <td>4</td>\n",
       "      <td>7</td>\n",
       "    </tr>\n",
       "    <tr>\n",
       "      <th>4</th>\n",
       "      <td>25</td>\n",
       "      <td>Non-Travel</td>\n",
       "      <td>240</td>\n",
       "      <td>5</td>\n",
       "      <td>3</td>\n",
       "      <td>Marketing</td>\n",
       "      <td>1</td>\n",
       "      <td>142</td>\n",
       "      <td>3</td>\n",
       "      <td>46</td>\n",
       "      <td>...</td>\n",
       "      <td>4</td>\n",
       "      <td>80</td>\n",
       "      <td>0</td>\n",
       "      <td>6</td>\n",
       "      <td>1</td>\n",
       "      <td>3</td>\n",
       "      <td>6</td>\n",
       "      <td>4</td>\n",
       "      <td>0</td>\n",
       "      <td>3</td>\n",
       "    </tr>\n",
       "  </tbody>\n",
       "</table>\n",
       "<p>5 rows × 31 columns</p>\n",
       "</div>"
      ],
      "text/plain": [
       "   Age BusinessTravel  DailyRate  DistanceFromHome  Education  \\\n",
       "0   36  Travel_Rarely       1218                 9          4   \n",
       "1   39  Travel_Rarely        895                 5          3   \n",
       "2   50  Travel_Rarely        869                 3          2   \n",
       "3   46  Travel_Rarely        669                 9          2   \n",
       "4   25     Non-Travel        240                 5          3   \n",
       "\n",
       "     EducationField  EmployeeCount  EmployeeNumber  EnvironmentSatisfaction  \\\n",
       "0     Life Sciences              1              27                        3   \n",
       "1  Technical Degree              1              42                        4   \n",
       "2         Marketing              1              47                        1   \n",
       "3           Medical              1             118                        3   \n",
       "4         Marketing              1             142                        3   \n",
       "\n",
       "   HourlyRate  ...  RelationshipSatisfaction  StandardHours  StockOptionLevel  \\\n",
       "0          82  ...                         2             80                 0   \n",
       "1          56  ...                         3             80                 1   \n",
       "2          86  ...                         3             80                 0   \n",
       "3          64  ...                         4             80                 0   \n",
       "4          46  ...                         4             80                 0   \n",
       "\n",
       "  TotalWorkingYears  TrainingTimesLastYear  WorkLifeBalance  YearsAtCompany  \\\n",
       "0                10                      4                3               5   \n",
       "1                19                      6                4               1   \n",
       "2                 3                      2                3               3   \n",
       "3                 9                      3                3               9   \n",
       "4                 6                      1                3               6   \n",
       "\n",
       "  YearsInCurrentRole YearsSinceLastPromotion  YearsWithCurrManager  \n",
       "0                  3                       0                     3  \n",
       "1                  0                       0                     0  \n",
       "2                  2                       0                     2  \n",
       "3                  8                       4                     7  \n",
       "4                  4                       0                     3  \n",
       "\n",
       "[5 rows x 31 columns]"
      ]
     },
     "execution_count": 90,
     "metadata": {},
     "output_type": "execute_result"
    }
   ],
   "source": [
    "sales_emp = pd.read_csv('S7_sales_emp.csv')\n",
    "sales_emp.head()"
   ]
  },
  {
   "cell_type": "code",
   "execution_count": 91,
   "metadata": {},
   "outputs": [
    {
     "name": "stdout",
     "output_type": "stream",
     "text": [
      "<class 'pandas.core.frame.DataFrame'>\n",
      "RangeIndex: 54 entries, 0 to 53\n",
      "Data columns (total 31 columns):\n",
      " #   Column                    Non-Null Count  Dtype \n",
      "---  ------                    --------------  ----- \n",
      " 0   Age                       54 non-null     int64 \n",
      " 1   BusinessTravel            54 non-null     object\n",
      " 2   DailyRate                 54 non-null     int64 \n",
      " 3   DistanceFromHome          54 non-null     int64 \n",
      " 4   Education                 54 non-null     int64 \n",
      " 5   EducationField            54 non-null     object\n",
      " 6   EmployeeCount             54 non-null     int64 \n",
      " 7   EmployeeNumber            54 non-null     int64 \n",
      " 8   EnvironmentSatisfaction   54 non-null     int64 \n",
      " 9   HourlyRate                54 non-null     int64 \n",
      " 10  JobInvolvement            54 non-null     int64 \n",
      " 11  JobLevel                  54 non-null     int64 \n",
      " 12  JobSatisfaction           54 non-null     int64 \n",
      " 13  MaritalStatus             54 non-null     object\n",
      " 14  MonthlyIncome             54 non-null     int64 \n",
      " 15  MonthlyRate               54 non-null     int64 \n",
      " 16  NumCompaniesWorked        54 non-null     int64 \n",
      " 17  Over18                    54 non-null     object\n",
      " 18  OverTime                  54 non-null     object\n",
      " 19  PercentSalaryHike         54 non-null     int64 \n",
      " 20  PerformanceRating         54 non-null     int64 \n",
      " 21  RelationshipSatisfaction  54 non-null     int64 \n",
      " 22  StandardHours             54 non-null     int64 \n",
      " 23  StockOptionLevel          54 non-null     int64 \n",
      " 24  TotalWorkingYears         54 non-null     int64 \n",
      " 25  TrainingTimesLastYear     54 non-null     int64 \n",
      " 26  WorkLifeBalance           54 non-null     int64 \n",
      " 27  YearsAtCompany            54 non-null     int64 \n",
      " 28  YearsInCurrentRole        54 non-null     int64 \n",
      " 29  YearsSinceLastPromotion   54 non-null     int64 \n",
      " 30  YearsWithCurrManager      54 non-null     int64 \n",
      "dtypes: int64(26), object(5)\n",
      "memory usage: 13.2+ KB\n"
     ]
    }
   ],
   "source": [
    "sales_emp.info()"
   ]
  },
  {
   "cell_type": "code",
   "execution_count": 92,
   "metadata": {},
   "outputs": [],
   "source": [
    "# since default Dtype of JobInvolvement is int64, we first need to make it categorical/nominal \n",
    "sales_emp['JobInvolvement'] = sales_emp['JobInvolvement'].astype(object)"
   ]
  },
  {
   "cell_type": "markdown",
   "metadata": {},
   "source": [
    "The two-way ANOVA can be used to test the effect due to the two nominal variables on a numeric variable."
   ]
  },
  {
   "cell_type": "markdown",
   "metadata": {},
   "source": [
    "The null and alternative hypothesis for education field:\n",
    "* H01 : The monthly income is independent of education field \n",
    "* H11 : The monthly income is dependent on education field\n",
    "\n",
    "The null and alternative hypothesis for job involvement:\n",
    "* H02 : The monthly income is independent of job involvement \n",
    "* H12 : The monthly income is dependent on job involvement"
   ]
  },
  {
   "cell_type": "code",
   "execution_count": 69,
   "metadata": {},
   "outputs": [
    {
     "name": "stdout",
     "output_type": "stream",
     "text": [
      "p-value: 0.05732710659503937\n"
     ]
    }
   ],
   "source": [
    "# perform Shapiro-Wilk test to test the normality\n",
    "stat, p_value = stats.shapiro(sales_emp['MonthlyIncome'])\n",
    "\n",
    "# print the p-value\n",
    "print('p-value:', p_value)"
   ]
  },
  {
   "cell_type": "markdown",
   "metadata": {},
   "source": [
    "From the above result, we can see that the p-value is greater than 0.05, thus we can say that the monthly income from different groups of education fields and job involvment are normally distributed. Thus the assumption of normality is satisfied."
   ]
  },
  {
   "cell_type": "code",
   "execution_count": 93,
   "metadata": {},
   "outputs": [
    {
     "name": "stdout",
     "output_type": "stream",
     "text": [
      "t: 5\n",
      "b: 4\n",
      "N: 54\n"
     ]
    }
   ],
   "source": [
    "# obtain number of unique education fields (treatments)\n",
    "t = sales_emp['EducationField'].nunique()\n",
    "print('t:', t)\n",
    "\n",
    "# obtain number of unique job involvement levels (blocks)\n",
    "b = sales_emp['JobInvolvement'].nunique()\n",
    "print('b:', b)\n",
    "\n",
    "# consider the total number of employees in all education fields\n",
    "N = sales_emp['EducationField'].value_counts().sum()\n",
    "print('N:', N)"
   ]
  },
  {
   "cell_type": "code",
   "execution_count": 97,
   "metadata": {},
   "outputs": [
    {
     "name": "stdout",
     "output_type": "stream",
     "text": [
      "Critical value (treatment - EducationField) for F-test: 3.2592\n"
     ]
    }
   ],
   "source": [
    "# degrees of freedom for treatment df_tr = [t-1, (t-1)(b-1)] = (4, 12)\n",
    "# calculate the F-value for 95% of confidence level\n",
    "# use 'stats.f.isf()' to find the F-value corresponding to the upper tail probability 'q'\n",
    "\n",
    "f = np.abs(round(stats.f.isf(q = 0.05, dfn = 4, dfd = 12), 4))\n",
    "print('Critical value (treatment - EducationField) for F-test:', f)"
   ]
  },
  {
   "cell_type": "code",
   "execution_count": 98,
   "metadata": {},
   "outputs": [
    {
     "name": "stdout",
     "output_type": "stream",
     "text": [
      "Critical value (block - JobInvolvement) for F-test: 3.4903\n"
     ]
    }
   ],
   "source": [
    "# degrees of freedom for block df_b = [b-1, (t-1)(b-1)] = (3, 12)\n",
    "# calculate the F-value for 95% of confidence level\n",
    "# use 'stats.f.isf()' to find the F-value corresponding to the upper tail probability 'q'\n",
    "\n",
    "f = np.abs(round(stats.f.isf(q = 0.05, dfn = 3, dfd = 12), 4))\n",
    "print('Critical value (block - JobInvolvement) for F-test:', f)"
   ]
  },
  {
   "cell_type": "code",
   "execution_count": 96,
   "metadata": {},
   "outputs": [
    {
     "data": {
      "text/html": [
       "<div>\n",
       "<style scoped>\n",
       "    .dataframe tbody tr th:only-of-type {\n",
       "        vertical-align: middle;\n",
       "    }\n",
       "\n",
       "    .dataframe tbody tr th {\n",
       "        vertical-align: top;\n",
       "    }\n",
       "\n",
       "    .dataframe thead th {\n",
       "        text-align: right;\n",
       "    }\n",
       "</style>\n",
       "<table border=\"1\" class=\"dataframe\">\n",
       "  <thead>\n",
       "    <tr style=\"text-align: right;\">\n",
       "      <th></th>\n",
       "      <th>sum_sq</th>\n",
       "      <th>df</th>\n",
       "      <th>F</th>\n",
       "      <th>PR(&gt;F)</th>\n",
       "    </tr>\n",
       "  </thead>\n",
       "  <tbody>\n",
       "    <tr>\n",
       "      <th>Q(\"EducationField\")</th>\n",
       "      <td>3.661317e+07</td>\n",
       "      <td>4.0</td>\n",
       "      <td>0.822651</td>\n",
       "      <td>0.517502</td>\n",
       "    </tr>\n",
       "    <tr>\n",
       "      <th>Q(\"JobInvolvement\")</th>\n",
       "      <td>1.274268e+07</td>\n",
       "      <td>3.0</td>\n",
       "      <td>0.381749</td>\n",
       "      <td>0.766613</td>\n",
       "    </tr>\n",
       "    <tr>\n",
       "      <th>Residual</th>\n",
       "      <td>5.118225e+08</td>\n",
       "      <td>46.0</td>\n",
       "      <td>NaN</td>\n",
       "      <td>NaN</td>\n",
       "    </tr>\n",
       "  </tbody>\n",
       "</table>\n",
       "</div>"
      ],
      "text/plain": [
       "                           sum_sq    df         F    PR(>F)\n",
       "Q(\"EducationField\")  3.661317e+07   4.0  0.822651  0.517502\n",
       "Q(\"JobInvolvement\")  1.274268e+07   3.0  0.381749  0.766613\n",
       "Residual             5.118225e+08  46.0       NaN       NaN"
      ]
     },
     "execution_count": 96,
     "metadata": {},
     "output_type": "execute_result"
    }
   ],
   "source": [
    "# perform two-way ANOVA\n",
    "test = ols('MonthlyIncome ~ Q(\"EducationField\") + Q(\"JobInvolvement\" )', sales_emp).fit()\n",
    "\n",
    "# create table for 2-way ANOVA test\n",
    "anova_2 = anova_lm(test, typ = 2)\n",
    "\n",
    "# print the table\n",
    "anova_2"
   ]
  },
  {
   "cell_type": "markdown",
   "metadata": {},
   "source": [
    "* The above output shows that the p-value for EducationField is greater than 0.05 \n",
    "* The Test statistic (0.8226) for EducationField is less than Chi-crit (3.2592) i.e. it falls in acceptance region of H01\n",
    "* Thus we fail to reject the null hypothesis (H01) for EducationField and conclude that the monthly income of employees does not depend on the education field\n",
    "\n",
    "\n",
    "* The above output shows that the p-value for JobInvolvement is greater than 0.05 \n",
    "* The Test statistic (0.3817) for JobInvolvement is less than Chi-crit (3.4903) i.e. it falls in acceptance region of H02\n",
    "* Thus we fail to reject the null hypothesis (H02) for JobInvolvement and conclude that the monthly income of employees does not depend on the job involvement"
   ]
  },
  {
   "cell_type": "markdown",
   "metadata": {
    "colab_type": "text",
    "id": "EE_L86gBf99t"
   },
   "source": [
    "<table align=\"left\">\n",
    "    <tr>\n",
    "        <td width=\"6%\">\n",
    "            <img src=\"question_icon.png\">\n",
    "        </td>\n",
    "        <td>\n",
    "            <div align=\"left\", style=\"font-size:120%\">\n",
    "                <font color=\"#21618C\">\n",
    "                    <b>20. Check whether the daily rate is affected by the types of business travel and levels of work-life balance. Use the p-value technique with 1% level of significance.</b>\n",
    "                </font> \n",
    "            </div>\n",
    "        </td>\n",
    "    </tr>\n",
    "</table>"
   ]
  },
  {
   "cell_type": "code",
   "execution_count": 99,
   "metadata": {},
   "outputs": [
    {
     "name": "stdout",
     "output_type": "stream",
     "text": [
      "<class 'pandas.core.frame.DataFrame'>\n",
      "RangeIndex: 54 entries, 0 to 53\n",
      "Data columns (total 31 columns):\n",
      " #   Column                    Non-Null Count  Dtype \n",
      "---  ------                    --------------  ----- \n",
      " 0   Age                       54 non-null     int64 \n",
      " 1   BusinessTravel            54 non-null     object\n",
      " 2   DailyRate                 54 non-null     int64 \n",
      " 3   DistanceFromHome          54 non-null     int64 \n",
      " 4   Education                 54 non-null     int64 \n",
      " 5   EducationField            54 non-null     object\n",
      " 6   EmployeeCount             54 non-null     int64 \n",
      " 7   EmployeeNumber            54 non-null     int64 \n",
      " 8   EnvironmentSatisfaction   54 non-null     int64 \n",
      " 9   HourlyRate                54 non-null     int64 \n",
      " 10  JobInvolvement            54 non-null     object\n",
      " 11  JobLevel                  54 non-null     int64 \n",
      " 12  JobSatisfaction           54 non-null     int64 \n",
      " 13  MaritalStatus             54 non-null     object\n",
      " 14  MonthlyIncome             54 non-null     int64 \n",
      " 15  MonthlyRate               54 non-null     int64 \n",
      " 16  NumCompaniesWorked        54 non-null     int64 \n",
      " 17  Over18                    54 non-null     object\n",
      " 18  OverTime                  54 non-null     object\n",
      " 19  PercentSalaryHike         54 non-null     int64 \n",
      " 20  PerformanceRating         54 non-null     int64 \n",
      " 21  RelationshipSatisfaction  54 non-null     int64 \n",
      " 22  StandardHours             54 non-null     int64 \n",
      " 23  StockOptionLevel          54 non-null     int64 \n",
      " 24  TotalWorkingYears         54 non-null     int64 \n",
      " 25  TrainingTimesLastYear     54 non-null     int64 \n",
      " 26  WorkLifeBalance           54 non-null     int64 \n",
      " 27  YearsAtCompany            54 non-null     int64 \n",
      " 28  YearsInCurrentRole        54 non-null     int64 \n",
      " 29  YearsSinceLastPromotion   54 non-null     int64 \n",
      " 30  YearsWithCurrManager      54 non-null     int64 \n",
      "dtypes: int64(25), object(6)\n",
      "memory usage: 13.2+ KB\n"
     ]
    }
   ],
   "source": [
    "sales_emp.info()"
   ]
  },
  {
   "cell_type": "code",
   "execution_count": 100,
   "metadata": {},
   "outputs": [],
   "source": [
    "# since default Dtype of WorkLifeBalance is int64, we first need to make it categorical/nominal \n",
    "sales_emp['WorkLifeBalance'] = sales_emp['WorkLifeBalance'].astype(object)"
   ]
  },
  {
   "cell_type": "markdown",
   "metadata": {},
   "source": [
    "The two-way ANOVA can be used to test the effect due to the two nominal variables on a numeric variable."
   ]
  },
  {
   "cell_type": "markdown",
   "metadata": {},
   "source": [
    "The null and alternative hypothesis for business travel:\n",
    "* H01 : The daily rate is independent of business travel\n",
    "* H11 : The daily rate is dependent on business travel\n",
    "\n",
    "The null and alternative hypothesis for levels of work-life balance:\n",
    "* H02 : The daily rate is independent of work-life balance\n",
    "* H12 : The daily rate is dependent on work-life balance"
   ]
  },
  {
   "cell_type": "code",
   "execution_count": 101,
   "metadata": {},
   "outputs": [
    {
     "name": "stdout",
     "output_type": "stream",
     "text": [
      "p-value: 0.040250398218631744\n"
     ]
    }
   ],
   "source": [
    "# perform Shapiro-Wilk test to test the normality\n",
    "stat, p_value = stats.shapiro(sales_emp['DailyRate'])\n",
    "\n",
    "# print the p-value\n",
    "print('p-value:', p_value)"
   ]
  },
  {
   "cell_type": "markdown",
   "metadata": {},
   "source": [
    "From the above result, we can see that the p-value is greater than 0.01, thus we can say that the daily rate from different types of business travel and work-life balance are normally distributed. Thus the assumption of normality is satisfied."
   ]
  },
  {
   "cell_type": "code",
   "execution_count": 102,
   "metadata": {},
   "outputs": [
    {
     "name": "stdout",
     "output_type": "stream",
     "text": [
      "t: 3\n",
      "b: 4\n",
      "N: 54\n"
     ]
    }
   ],
   "source": [
    "# obtain number of unique education fields (treatments)\n",
    "t = sales_emp['BusinessTravel'].nunique()\n",
    "print('t:', t)\n",
    "\n",
    "# obtain number of unique job involvement levels (blocks)\n",
    "b = sales_emp['WorkLifeBalance'].nunique()\n",
    "print('b:', b)\n",
    "\n",
    "# consider the total number of employees in all education fields\n",
    "N = sales_emp['BusinessTravel'].value_counts().sum()\n",
    "print('N:', N)"
   ]
  },
  {
   "cell_type": "code",
   "execution_count": 103,
   "metadata": {},
   "outputs": [
    {
     "name": "stdout",
     "output_type": "stream",
     "text": [
      "Critical value (treatment - BusinessTravel) for F-test: 10.9248\n"
     ]
    }
   ],
   "source": [
    "# degrees of freedom for treatment df_tr = [t-1, (t-1)(b-1)] = (2, 6)\n",
    "# calculate the F-value for 95% of confidence level\n",
    "# use 'stats.f.isf()' to find the F-value corresponding to the upper tail probability 'q'\n",
    "\n",
    "f = np.abs(round(stats.f.isf(q = 0.01, dfn = 2, dfd = 6), 4))\n",
    "print('Critical value (treatment - BusinessTravel) for F-test:', f)"
   ]
  },
  {
   "cell_type": "code",
   "execution_count": 104,
   "metadata": {},
   "outputs": [
    {
     "name": "stdout",
     "output_type": "stream",
     "text": [
      "Critical value (block - WorkLifeBalance) for F-test: 9.7795\n"
     ]
    }
   ],
   "source": [
    "# degrees of freedom for block df_b = [b-1, (t-1)(b-1)] = (3, 6)\n",
    "# calculate the F-value for 95% of confidence level\n",
    "# use 'stats.f.isf()' to find the F-value corresponding to the upper tail probability 'q'\n",
    "\n",
    "f = np.abs(round(stats.f.isf(q = 0.01, dfn = 3, dfd = 6), 4))\n",
    "print('Critical value (block - WorkLifeBalance) for F-test:', f)"
   ]
  },
  {
   "cell_type": "code",
   "execution_count": 105,
   "metadata": {},
   "outputs": [
    {
     "data": {
      "text/html": [
       "<div>\n",
       "<style scoped>\n",
       "    .dataframe tbody tr th:only-of-type {\n",
       "        vertical-align: middle;\n",
       "    }\n",
       "\n",
       "    .dataframe tbody tr th {\n",
       "        vertical-align: top;\n",
       "    }\n",
       "\n",
       "    .dataframe thead th {\n",
       "        text-align: right;\n",
       "    }\n",
       "</style>\n",
       "<table border=\"1\" class=\"dataframe\">\n",
       "  <thead>\n",
       "    <tr style=\"text-align: right;\">\n",
       "      <th></th>\n",
       "      <th>sum_sq</th>\n",
       "      <th>df</th>\n",
       "      <th>F</th>\n",
       "      <th>PR(&gt;F)</th>\n",
       "    </tr>\n",
       "  </thead>\n",
       "  <tbody>\n",
       "    <tr>\n",
       "      <th>Q(\"BusinessTravel\")</th>\n",
       "      <td>3.559568e+06</td>\n",
       "      <td>2.0</td>\n",
       "      <td>14.293493</td>\n",
       "      <td>0.000013</td>\n",
       "    </tr>\n",
       "    <tr>\n",
       "      <th>Q(\"WorkLifeBalance\")</th>\n",
       "      <td>7.806979e+04</td>\n",
       "      <td>3.0</td>\n",
       "      <td>0.208993</td>\n",
       "      <td>0.889682</td>\n",
       "    </tr>\n",
       "    <tr>\n",
       "      <th>Residual</th>\n",
       "      <td>5.976821e+06</td>\n",
       "      <td>48.0</td>\n",
       "      <td>NaN</td>\n",
       "      <td>NaN</td>\n",
       "    </tr>\n",
       "  </tbody>\n",
       "</table>\n",
       "</div>"
      ],
      "text/plain": [
       "                            sum_sq    df          F    PR(>F)\n",
       "Q(\"BusinessTravel\")   3.559568e+06   2.0  14.293493  0.000013\n",
       "Q(\"WorkLifeBalance\")  7.806979e+04   3.0   0.208993  0.889682\n",
       "Residual              5.976821e+06  48.0        NaN       NaN"
      ]
     },
     "execution_count": 105,
     "metadata": {},
     "output_type": "execute_result"
    }
   ],
   "source": [
    "# perform two-way ANOVA\n",
    "test = ols('DailyRate ~ Q(\"BusinessTravel\") + Q(\"WorkLifeBalance\" )', sales_emp).fit()\n",
    "\n",
    "# create table for 2-way ANOVA test\n",
    "anova_2 = anova_lm(test, typ = 2)\n",
    "\n",
    "# print the table\n",
    "anova_2"
   ]
  },
  {
   "cell_type": "markdown",
   "metadata": {},
   "source": [
    "* The above output shows that the p-value for BusinessTravel is lesser than 0.01\n",
    "* The Test statistic (14.2934) for BusinessTravel is greater than Chi-crit (10.9248) i.e. it falls in rejection region of H01\n",
    "* Thus reject the null hypothesis (H01) for BusinessTravel and conclude that the daily rate of employees depends on the type of business travel\n",
    "\n",
    "\n",
    "* The above output shows that the p-value for WorkLifeBalance is greater than 0.01 \n",
    "* The Test statistic (0.2089) for WorkLifeBalance is less than Chi-crit (9.7795) i.e. it falls in acceptance region of H02\n",
    "* Thus we fail to reject the null hypothesis (H02) for WorkLifeBalance and conclude that the daily rate of employees does not depend on the work-life balance"
   ]
  }
 ],
 "metadata": {
  "colab": {
   "name": "ITP - In-Class Lab Exercise (Day1) - Solutions [V1.0 030120].ipynb",
   "provenance": []
  },
  "kernelspec": {
   "display_name": "Python 3",
   "language": "python",
   "name": "python3"
  },
  "language_info": {
   "codemirror_mode": {
    "name": "ipython",
    "version": 3
   },
   "file_extension": ".py",
   "mimetype": "text/x-python",
   "name": "python",
   "nbconvert_exporter": "python",
   "pygments_lexer": "ipython3",
   "version": "3.8.5"
  }
 },
 "nbformat": 4,
 "nbformat_minor": 1
}
