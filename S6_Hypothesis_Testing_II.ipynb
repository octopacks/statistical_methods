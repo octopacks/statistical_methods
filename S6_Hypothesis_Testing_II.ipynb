{
 "cells": [
  {
   "cell_type": "markdown",
   "metadata": {
    "id": "0yzl3MKzf98L"
   },
   "source": [
    "<table align=\"center\" width=100%>\n",
    "    <tr>\n",
    "        <td width=\"10%\">\n",
    "            <img src=\"in_class.png\">\n",
    "        </td>\n",
    "        <td>\n",
    "            <div align=\"center\">\n",
    "                <font color=\"#21618C\" size=8px>\n",
    "                    <b> Inclass-Lab  <br>(Day 3)\n",
    "                    </b>\n",
    "                </font>\n",
    "            </div>\n",
    "        </td>\n",
    "    </tr>\n",
    "</table>"
   ]
  },
  {
   "cell_type": "markdown",
   "metadata": {
    "id": "V3pYCQwx5vZU"
   },
   "source": [
    "## Table of Content\n",
    "\n",
    "1. **[Large Sample Test](#z)**\n",
    "2. **[Small Sample Test](#t)**\n",
    "3. **[Z Proportion Test](#prop)**\n",
    "4. **[Non-parametric Tests](#non_para)**"
   ]
  },
  {
   "cell_type": "markdown",
   "metadata": {
    "id": "mlbxRWlY5vZV"
   },
   "source": [
    "**Import the required libraries**"
   ]
  },
  {
   "cell_type": "code",
   "execution_count": 1,
   "metadata": {
    "id": "ER6oSIy25vZW"
   },
   "outputs": [],
   "source": [
    "import pandas as pd\n",
    "import scipy.stats as stats\n",
    "import numpy as np\n",
    "import statistics\n",
    "import seaborn as sns\n",
    "import matplotlib.pyplot as plt\n",
    "from scipy.stats import shapiro\n",
    "from statsmodels.stats import weightstats as stests\n",
    "import statsmodels.api as sm"
   ]
  },
  {
   "cell_type": "markdown",
   "metadata": {
    "id": "psOYFu6zf98N"
   },
   "source": [
    "### Let's begin with some hands-on practice exercises"
   ]
  },
  {
   "cell_type": "markdown",
   "metadata": {
    "id": "r4J-iIEhf98N"
   },
   "source": [
    "<a id = \"z\"> </a>\n",
    "## 1. Large Sample Test"
   ]
  },
  {
   "cell_type": "markdown",
   "metadata": {
    "id": "77vuf1DVf98O"
   },
   "source": [
    "<table align=\"left\">\n",
    "    <tr>\n",
    "        <td width=\"6%\">\n",
    "            <img src=\"question_icon.png\">\n",
    "        </td>\n",
    "        <td>\n",
    "            <div align=\"left\", style=\"font-size:120%\">\n",
    "                <font color=\"#21618C\">\n",
    "                    <b>1. The computer engineer claims that the average time requires to scan a system is less than 2.3 minutes. A graduate student collects the time taken by 32 systems to test the engineer's claim. Check whether the graduate student can use the Z-test for testing the claim with 95% confidence. </b>\n",
    "                </font>\n",
    "            </div>\n",
    "        </td>\n",
    "    </tr>\n",
    "</table>"
   ]
  },
  {
   "cell_type": "markdown",
   "metadata": {
    "id": "ORNNMHkn5vZX"
   },
   "source": [
    "Use the data given below:\n",
    "        \n",
    "    time =  [2.51, 2.1, 2.18, 2.61, 1.9, 1.7, 1.95, 2.1, 1.58, 2.5, 2.19, 1.85, 1.35, 2.4, 2.22, 2.15, 1.82, 1.62, 1.26, \n",
    "             2.2, 2.35, 2.5, 2.18, 1.58, 2.24, 1.84, 2.31, 2.24, 1.75, 1.41, 1.57, 2.4]"
   ]
  },
  {
   "cell_type": "code",
   "execution_count": 38,
   "metadata": {
    "id": "oIjqJw5_5vZY"
   },
   "outputs": [
    {
     "name": "stdout",
     "output_type": "stream",
     "text": [
      "Using shapiro test:\n",
      "stat: 0.9538483023643494 \n",
      "p-value: 0.18520332872867584\n",
      "\n",
      "Using z-test:\n",
      "Z-score: -4.314055766276573\n",
      "p-value: 8.014324310930383e-06\n",
      "\n",
      "Z-crit = -1.64\n",
      "\n",
      "Using t-test:\n",
      "t-stat: -4.314055766276573 \n",
      "p-value: 7.57677677949103e-05\n"
     ]
    }
   ],
   "source": [
    "# H0 : mu >= 2.3\n",
    "# H1 : mu < 2.3\n",
    "\n",
    "# given data\n",
    "time = np.array ([2.51, 2.1, 2.18, 2.61, 1.9, 1.7, 1.95, 2.1, 1.58, 2.5, 2.19, 1.85, 1.35, 2.4, 2.22, 2.15, 1.82, 1.62, 1.26, \n",
    "         2.2, 2.35, 2.5, 2.18, 1.58, 2.24, 1.84, 2.31, 2.24, 1.75, 1.41, 1.57, 2.4])\n",
    "\n",
    "\n",
    "sample_mean = np.mean(time)\n",
    "mu = 2.3\n",
    "n = 32\n",
    "sample_std = np.std(time, ddof = 1)\n",
    "alpha = 0.05\n",
    "\n",
    "print('Using shapiro test:')\n",
    "stat, p_val = shapiro(time)\n",
    "print('stat:', stat, '\\np-value:', p_val)\n",
    "\n",
    "print('\\nUsing z-test:')\n",
    "# calculate the test statistic\n",
    "zscore =  (sample_mean - mu) / (sample_std /np.sqrt(n))\n",
    "print('Z-score:', z_stat)\n",
    "\n",
    "p_val = stats.norm.cdf(zscore)\n",
    "print('p-value:', p_val)\n",
    "\n",
    "\n",
    "# Critical z-value for two-tailed test\n",
    "zval = round(stats.norm.isf(q = alpha), 2)\n",
    "print('\\nZ-crit =', -zval)\n",
    "\n",
    "print('\\nUsing t-test:')\n",
    "# use 'ttest_1samp()' to calculate the test statistic and corresponding p-value for one-tailed left-tailed test\n",
    "t_stat, p_val = stats.ttest_1samp(list(time), popmean = 2.3)\n",
    "print('t-stat:', t_stat, '\\np-value:', p_val/2)"
   ]
  },
  {
   "cell_type": "markdown",
   "metadata": {},
   "source": [
    "Using shapiro test, p-value is > 0.05. So we can say the data is normally distributed. Further, sample size > 30 and test statistic value from Z-test and t-test are same. So the graduate student can use Z-test for testing the claim.  "
   ]
  },
  {
   "cell_type": "markdown",
   "metadata": {
    "id": "9qnEEhR4f98X"
   },
   "source": [
    "<table align=\"left\">\n",
    "    <tr>\n",
    "        <td width=\"6%\">\n",
    "            <img src=\"question_icon.png\">\n",
    "        </td>\n",
    "        <td>\n",
    "            <div align=\"left\", style=\"font-size:120%\">\n",
    "                <font color=\"#21618C\">\n",
    "                    <b>2. The computer engineer claims that the average time requires to scan a system is less than 2.3 minutes. A graduate student collects the time taken by 32 systems to test the engineer's claim. Use the given data and test the claim using p-value technique with 95% confidence.</b>\n",
    "                </font>\n",
    "            </div>\n",
    "        </td>\n",
    "    </tr>\n",
    "</table>"
   ]
  },
  {
   "cell_type": "markdown",
   "metadata": {
    "id": "dJWhgkT-5vZZ"
   },
   "source": [
    "Use the data given below:\n",
    "        \n",
    "    time =  [2.51, 2.1, 2.18, 2.61, 1.9, 1.7, 1.95, 2.1, 1.58, 2.5, 2.19, 1.85, 1.35, 2.4, 2.22, 2.15, 1.82, 1.62, 1.26, \n",
    "             2.2, 2.35, 2.5, 2.18, 1.58, 2.24, 1.84, 2.31, 2.24, 1.75, 1.41, 1.57, 2.4]"
   ]
  },
  {
   "cell_type": "code",
   "execution_count": 42,
   "metadata": {
    "id": "e87xa7el5vZZ"
   },
   "outputs": [
    {
     "name": "stdout",
     "output_type": "stream",
     "text": [
      "\n",
      "Using t-test:\n",
      "t-stat: -4.314055766276573 \n",
      "p-value: 7.57677677949103e-05\n",
      "\n",
      "t-crit = -1.7\n"
     ]
    }
   ],
   "source": [
    "# H0 : mu >= 2.3\n",
    "# H1 : mu < 2.3\n",
    "\n",
    "# given data\n",
    "time = np.array ([2.51, 2.1, 2.18, 2.61, 1.9, 1.7, 1.95, 2.1, 1.58, 2.5, 2.19, 1.85, 1.35, 2.4, 2.22, 2.15, 1.82, 1.62, 1.26, \n",
    "         2.2, 2.35, 2.5, 2.18, 1.58, 2.24, 1.84, 2.31, 2.24, 1.75, 1.41, 1.57, 2.4])\n",
    "\n",
    "\n",
    "sample_mean = np.mean(time)\n",
    "mu = 2.3\n",
    "n = 32\n",
    "sample_std = np.std(time, ddof = 1)\n",
    "alpha = 0.05\n",
    "\n",
    "print('\\nUsing t-test:')\n",
    "# use 'ttest_1samp()' to calculate the test statistic and corresponding p-value for one-tailed left-tailed test\n",
    "t_stat, p_val = stats.ttest_1samp(list(time), popmean = 2.3)\n",
    "print('t-stat:', t_stat, '\\np-value:', p_val/2)\n",
    "\n",
    "# Critical t-value for two-tailed test\n",
    "t_crit = round(stats.t.isf(q = 0.05, df = 31), 2)\n",
    "print('\\nt-crit =', -t_crit)"
   ]
  },
  {
   "cell_type": "markdown",
   "metadata": {},
   "source": [
    "* Here the p-value is lesser than alpha (0.05)\n",
    "* The t-statistic is lesser than -1.7 (t-crit) i.e. t-statistic falls in rejection region of H0\n",
    "* Thus we reject the null hypothesis"
   ]
  },
  {
   "cell_type": "markdown",
   "metadata": {
    "id": "Lzs2ddCwf99m"
   },
   "source": [
    "<table align=\"left\">\n",
    "    <tr>\n",
    "        <td width=\"6%\">\n",
    "            <img src=\"question_icon.png\">\n",
    "        </td>\n",
    "        <td>\n",
    "            <div align=\"left\", style=\"font-size:120%\">\n",
    "                <font color=\"#21618C\">\n",
    "                    <b>3. The sales manager at a car showroom claims that the cars in the showroom have average mileage per gallon (mpg) more than 18 mpg. Use the given dataset to test the manager's claim using critical value method at 90% confidence.</b>\n",
    "                </font>\n",
    "            </div>\n",
    "        </td>\n",
    "    </tr>\n",
    "</table>"
   ]
  },
  {
   "cell_type": "markdown",
   "metadata": {
    "id": "VcuMtL7q5vZc"
   },
   "source": [
    "Use the dataset given in the CSV file `cars.csv`"
   ]
  },
  {
   "cell_type": "code",
   "execution_count": 14,
   "metadata": {
    "id": "Y2t5rpfL5vZc"
   },
   "outputs": [
    {
     "data": {
      "text/html": [
       "<div>\n",
       "<style scoped>\n",
       "    .dataframe tbody tr th:only-of-type {\n",
       "        vertical-align: middle;\n",
       "    }\n",
       "\n",
       "    .dataframe tbody tr th {\n",
       "        vertical-align: top;\n",
       "    }\n",
       "\n",
       "    .dataframe thead th {\n",
       "        text-align: right;\n",
       "    }\n",
       "</style>\n",
       "<table border=\"1\" class=\"dataframe\">\n",
       "  <thead>\n",
       "    <tr style=\"text-align: right;\">\n",
       "      <th></th>\n",
       "      <th>name</th>\n",
       "      <th>mpg</th>\n",
       "      <th>cyl</th>\n",
       "      <th>disp</th>\n",
       "      <th>hp</th>\n",
       "      <th>drat</th>\n",
       "      <th>wt</th>\n",
       "      <th>qsec</th>\n",
       "      <th>vs</th>\n",
       "      <th>am</th>\n",
       "      <th>gear</th>\n",
       "      <th>carb</th>\n",
       "    </tr>\n",
       "  </thead>\n",
       "  <tbody>\n",
       "    <tr>\n",
       "      <th>0</th>\n",
       "      <td>Mazda RX4</td>\n",
       "      <td>21.0</td>\n",
       "      <td>6</td>\n",
       "      <td>160.0</td>\n",
       "      <td>110</td>\n",
       "      <td>3.90</td>\n",
       "      <td>2.620</td>\n",
       "      <td>16.46</td>\n",
       "      <td>0</td>\n",
       "      <td>M</td>\n",
       "      <td>4</td>\n",
       "      <td>4</td>\n",
       "    </tr>\n",
       "    <tr>\n",
       "      <th>1</th>\n",
       "      <td>Mazda RX4 Wag</td>\n",
       "      <td>21.0</td>\n",
       "      <td>6</td>\n",
       "      <td>160.0</td>\n",
       "      <td>110</td>\n",
       "      <td>3.90</td>\n",
       "      <td>2.875</td>\n",
       "      <td>17.02</td>\n",
       "      <td>0</td>\n",
       "      <td>M</td>\n",
       "      <td>4</td>\n",
       "      <td>4</td>\n",
       "    </tr>\n",
       "    <tr>\n",
       "      <th>2</th>\n",
       "      <td>Datsun 710</td>\n",
       "      <td>22.8</td>\n",
       "      <td>4</td>\n",
       "      <td>108.0</td>\n",
       "      <td>93</td>\n",
       "      <td>3.85</td>\n",
       "      <td>2.320</td>\n",
       "      <td>18.61</td>\n",
       "      <td>1</td>\n",
       "      <td>M</td>\n",
       "      <td>4</td>\n",
       "      <td>1</td>\n",
       "    </tr>\n",
       "    <tr>\n",
       "      <th>3</th>\n",
       "      <td>Hornet 4 Drive</td>\n",
       "      <td>21.4</td>\n",
       "      <td>6</td>\n",
       "      <td>258.0</td>\n",
       "      <td>110</td>\n",
       "      <td>3.08</td>\n",
       "      <td>3.215</td>\n",
       "      <td>19.44</td>\n",
       "      <td>1</td>\n",
       "      <td>A</td>\n",
       "      <td>3</td>\n",
       "      <td>1</td>\n",
       "    </tr>\n",
       "    <tr>\n",
       "      <th>4</th>\n",
       "      <td>Hornet Sportabout</td>\n",
       "      <td>18.7</td>\n",
       "      <td>8</td>\n",
       "      <td>360.0</td>\n",
       "      <td>175</td>\n",
       "      <td>3.15</td>\n",
       "      <td>3.440</td>\n",
       "      <td>17.02</td>\n",
       "      <td>0</td>\n",
       "      <td>A</td>\n",
       "      <td>3</td>\n",
       "      <td>2</td>\n",
       "    </tr>\n",
       "  </tbody>\n",
       "</table>\n",
       "</div>"
      ],
      "text/plain": [
       "                name   mpg  cyl   disp   hp  drat     wt   qsec  vs am  gear  \\\n",
       "0          Mazda RX4  21.0    6  160.0  110  3.90  2.620  16.46   0  M     4   \n",
       "1      Mazda RX4 Wag  21.0    6  160.0  110  3.90  2.875  17.02   0  M     4   \n",
       "2         Datsun 710  22.8    4  108.0   93  3.85  2.320  18.61   1  M     4   \n",
       "3     Hornet 4 Drive  21.4    6  258.0  110  3.08  3.215  19.44   1  A     3   \n",
       "4  Hornet Sportabout  18.7    8  360.0  175  3.15  3.440  17.02   0  A     3   \n",
       "\n",
       "   carb  \n",
       "0     4  \n",
       "1     4  \n",
       "2     1  \n",
       "3     1  \n",
       "4     2  "
      ]
     },
     "execution_count": 14,
     "metadata": {},
     "output_type": "execute_result"
    }
   ],
   "source": [
    "# H0 : mu <= 18\n",
    "# H1 : mu > 18\n",
    "\n",
    "cars = pd.read_csv('S6_cars.csv')\n",
    "mpg = cars['mpg']\n",
    "cars.head()"
   ]
  },
  {
   "cell_type": "code",
   "execution_count": 19,
   "metadata": {},
   "outputs": [
    {
     "name": "stdout",
     "output_type": "stream",
     "text": [
      "Test statistic: 0.9475650191307068\n",
      "p-Value: 0.12288373708724976\n"
     ]
    }
   ],
   "source": [
    "# perform Shapiro-Wilk test to test the normality\n",
    "stat, p_value = shapiro(mpg)\n",
    "\n",
    "# print the test statistic and corresponding p-value \n",
    "print('Test statistic:', stat)\n",
    "print('p-Value:', p_value)"
   ]
  },
  {
   "cell_type": "markdown",
   "metadata": {},
   "source": [
    "* From the above result, we can see that the p-value is greater than 0.1, thus we can say that the data is normally distributed."
   ]
  },
  {
   "cell_type": "code",
   "execution_count": 18,
   "metadata": {},
   "outputs": [
    {
     "name": "stdout",
     "output_type": "stream",
     "text": [
      "Critical value for one-tailed Z-test: 1.28\n",
      "\n",
      "Z-score:  1.962247030028023\n",
      "p-value:  0.02486686545272649\n"
     ]
    }
   ],
   "source": [
    "# calculate the z-value for 90% of confidence level\n",
    "z_crit = round(stats.norm.isf(q = 0.1), 2)\n",
    "\n",
    "print('Critical value for one-tailed Z-test:', z_crit)\n",
    "\n",
    "# Use one-tailed, right-tailed Z-test\n",
    "z_score, pval = stests.ztest(x1 = mpg, value = 18, alternative = 'larger')\n",
    "\n",
    "# print the test statistic and corresponding p-value\n",
    "print(\"\\nZ-score: \", z_score)\n",
    "print(\"p-value: \", pval)"
   ]
  },
  {
   "cell_type": "markdown",
   "metadata": {},
   "source": [
    "* Here the z-score is greater than 1.28 (z-crit) i.e. z-score falls in rejection region of H0\n",
    "* The p-value is also lesser than alpha (0.1)\n",
    "* Thus we reject the null hypothesis"
   ]
  },
  {
   "cell_type": "markdown",
   "metadata": {
    "id": "V7QJT8W9f98T"
   },
   "source": [
    "<table align=\"left\">\n",
    "    <tr>\n",
    "        <td width=\"6%\">\n",
    "            <img src=\"question_icon.png\">\n",
    "        </td>\n",
    "        <td>\n",
    "            <div align=\"left\", style=\"font-size:120%\">\n",
    "                <font color=\"#21618C\">\n",
    "                    <b>4. The company MangoFun that produces mango juice claims that the protein content in their juice is more than the juice produced by their competitor company FruitMix. Protein content in 50 boxes of MangoFun juice and 80 boxes of FruitMix juice is collected from a normal population which have an average protein content as 0.4 g and 0.35 g. The two samples have a standard deviation of 0.08 g for MangoFun juice and 0.05 g for FruitMix juice. Test the claim using a critical value method at a 1% level of significance.</b>\n",
    "                </font>\n",
    "            </div>\n",
    "        </td>\n",
    "    </tr>\n",
    "</table>"
   ]
  },
  {
   "cell_type": "code",
   "execution_count": 7,
   "metadata": {
    "id": "3369fn6u5vZd"
   },
   "outputs": [
    {
     "name": "stdout",
     "output_type": "stream",
     "text": [
      "Test Statistic: 4.389149444162152\n",
      "p-value: 1.1785231868001904e-05\n",
      "\n",
      "t-crit = 2.36\n"
     ]
    }
   ],
   "source": [
    "# H0 : mu_mangofun - mu_fruitmix <= 0\n",
    "# H1 : mu_mangofun - mu_fruitmix > 0 \n",
    "\n",
    "# Population standard deviations are not known.So use Two sample Unpaired, right-tailed t-test\n",
    "\n",
    "# given data\n",
    "n_mangofun = 50\n",
    "n_fruitmix = 80\n",
    "df_juice = n_mangofun + n_fruitmix - 2\n",
    "\n",
    "xbar_mangofun = 0.4\n",
    "xbar_fruitmix = 0.35\n",
    "\n",
    "samplestd_mangofun = 0.08\n",
    "samplestd_fruitmix = 0.05\n",
    "\n",
    "# calculate pooled standard deviation\n",
    "s = np.sqrt((((n_mangofun-1)*samplestd_mangofun**2) +  ((n_fruitmix-1)*samplestd_fruitmix**2)) / df_juice)\n",
    "\n",
    "# calculate the test statistic \n",
    "t_stat = (xbar_mangofun - xbar_fruitmix) / (s * np.sqrt(1/n_mangofun + 1/n_fruitmix))\n",
    "print('Test Statistic:', t_stat)\n",
    "\n",
    "# calculate p-value\n",
    "p_val = stats.t.sf(t_stat, df = df_juice)\n",
    "print('p-value:', p_val)\n",
    "\n",
    "# Critical t-value for right-tailed test\n",
    "t_crit = round(stats.t.isf(q = 0.01, df = df_juice), 2)\n",
    "print('\\nt-crit =', t_crit)"
   ]
  },
  {
   "cell_type": "markdown",
   "metadata": {},
   "source": [
    "* Here the t-statistic is greater than 2.36 (t-crit) i.e. t-statistic falls in rejection region of H0\n",
    "* The p-value is also lesser than alpha (0.01)\n",
    "* Thus we reject the null hypothesis"
   ]
  },
  {
   "cell_type": "markdown",
   "metadata": {
    "id": "6YXVLVi9f98b"
   },
   "source": [
    "<table align=\"left\">\n",
    "    <tr>\n",
    "        <td width=\"6%\">\n",
    "            <img src=\"question_icon.png\">\n",
    "        </td>\n",
    "        <td>\n",
    "            <div align=\"left\", style=\"font-size:120%\">\n",
    "                <font color=\"#21618C\">\n",
    "                    <b>5. The technician wants to test whether the price of a phablet is not the same as the price of tablet. For the study, the technician collects the data of 50 gadgets of each type. Check whether the data satisfies the conditions to use the two sample Z-test. (Use 5% level of significance)</b>\n",
    "                </font>\n",
    "            </div>\n",
    "        </td>\n",
    "    </tr>\n",
    "</table>"
   ]
  },
  {
   "cell_type": "markdown",
   "metadata": {
    "id": "BH2w0TFZ5vZd"
   },
   "source": [
    "Consider the dataset given in the CSV file `electronic.csv`. "
   ]
  },
  {
   "cell_type": "code",
   "execution_count": 30,
   "metadata": {
    "id": "feL8t-dh5vZe"
   },
   "outputs": [
    {
     "data": {
      "text/html": [
       "<div>\n",
       "<style scoped>\n",
       "    .dataframe tbody tr th:only-of-type {\n",
       "        vertical-align: middle;\n",
       "    }\n",
       "\n",
       "    .dataframe tbody tr th {\n",
       "        vertical-align: top;\n",
       "    }\n",
       "\n",
       "    .dataframe thead th {\n",
       "        text-align: right;\n",
       "    }\n",
       "</style>\n",
       "<table border=\"1\" class=\"dataframe\">\n",
       "  <thead>\n",
       "    <tr style=\"text-align: right;\">\n",
       "      <th></th>\n",
       "      <th>Screensize (inch)</th>\n",
       "      <th>Price ($)</th>\n",
       "      <th>Weight (g)</th>\n",
       "      <th>Type</th>\n",
       "    </tr>\n",
       "  </thead>\n",
       "  <tbody>\n",
       "    <tr>\n",
       "      <th>0</th>\n",
       "      <td>6.5</td>\n",
       "      <td>245</td>\n",
       "      <td>252</td>\n",
       "      <td>Phablet</td>\n",
       "    </tr>\n",
       "    <tr>\n",
       "      <th>1</th>\n",
       "      <td>6.3</td>\n",
       "      <td>210</td>\n",
       "      <td>252</td>\n",
       "      <td>Phablet</td>\n",
       "    </tr>\n",
       "    <tr>\n",
       "      <th>2</th>\n",
       "      <td>6.1</td>\n",
       "      <td>224</td>\n",
       "      <td>234</td>\n",
       "      <td>Phablet</td>\n",
       "    </tr>\n",
       "    <tr>\n",
       "      <th>3</th>\n",
       "      <td>6.0</td>\n",
       "      <td>217</td>\n",
       "      <td>212</td>\n",
       "      <td>Phablet</td>\n",
       "    </tr>\n",
       "    <tr>\n",
       "      <th>4</th>\n",
       "      <td>6.4</td>\n",
       "      <td>252</td>\n",
       "      <td>252</td>\n",
       "      <td>Phablet</td>\n",
       "    </tr>\n",
       "  </tbody>\n",
       "</table>\n",
       "</div>"
      ],
      "text/plain": [
       "   Screensize (inch)  Price ($)  Weight (g)     Type\n",
       "0                6.5        245         252  Phablet\n",
       "1                6.3        210         252  Phablet\n",
       "2                6.1        224         234  Phablet\n",
       "3                6.0        217         212  Phablet\n",
       "4                6.4        252         252  Phablet"
      ]
     },
     "execution_count": 30,
     "metadata": {},
     "output_type": "execute_result"
    }
   ],
   "source": [
    "# H0 : mu_phablet - mu_tablet = 0\n",
    "# H1 : mu_phablet - mu_tablet != 0\n",
    "\n",
    "electronic = pd.read_csv('S6_electronic.csv')\n",
    "electronic[electronic['Type'] == 'Phablet'].head()"
   ]
  },
  {
   "cell_type": "code",
   "execution_count": 31,
   "metadata": {},
   "outputs": [
    {
     "data": {
      "text/html": [
       "<div>\n",
       "<style scoped>\n",
       "    .dataframe tbody tr th:only-of-type {\n",
       "        vertical-align: middle;\n",
       "    }\n",
       "\n",
       "    .dataframe tbody tr th {\n",
       "        vertical-align: top;\n",
       "    }\n",
       "\n",
       "    .dataframe thead th {\n",
       "        text-align: right;\n",
       "    }\n",
       "</style>\n",
       "<table border=\"1\" class=\"dataframe\">\n",
       "  <thead>\n",
       "    <tr style=\"text-align: right;\">\n",
       "      <th></th>\n",
       "      <th>Screensize (inch)</th>\n",
       "      <th>Price ($)</th>\n",
       "      <th>Weight (g)</th>\n",
       "      <th>Type</th>\n",
       "    </tr>\n",
       "  </thead>\n",
       "  <tbody>\n",
       "    <tr>\n",
       "      <th>50</th>\n",
       "      <td>9.8</td>\n",
       "      <td>224</td>\n",
       "      <td>517</td>\n",
       "      <td>Tablet</td>\n",
       "    </tr>\n",
       "    <tr>\n",
       "      <th>51</th>\n",
       "      <td>9.2</td>\n",
       "      <td>224</td>\n",
       "      <td>495</td>\n",
       "      <td>Tablet</td>\n",
       "    </tr>\n",
       "    <tr>\n",
       "      <th>52</th>\n",
       "      <td>9.7</td>\n",
       "      <td>217</td>\n",
       "      <td>539</td>\n",
       "      <td>Tablet</td>\n",
       "    </tr>\n",
       "    <tr>\n",
       "      <th>53</th>\n",
       "      <td>8.3</td>\n",
       "      <td>161</td>\n",
       "      <td>440</td>\n",
       "      <td>Tablet</td>\n",
       "    </tr>\n",
       "    <tr>\n",
       "      <th>54</th>\n",
       "      <td>9.3</td>\n",
       "      <td>196</td>\n",
       "      <td>506</td>\n",
       "      <td>Tablet</td>\n",
       "    </tr>\n",
       "  </tbody>\n",
       "</table>\n",
       "</div>"
      ],
      "text/plain": [
       "    Screensize (inch)  Price ($)  Weight (g)    Type\n",
       "50                9.8        224         517  Tablet\n",
       "51                9.2        224         495  Tablet\n",
       "52                9.7        217         539  Tablet\n",
       "53                8.3        161         440  Tablet\n",
       "54                9.3        196         506  Tablet"
      ]
     },
     "execution_count": 31,
     "metadata": {},
     "output_type": "execute_result"
    }
   ],
   "source": [
    "electronic[electronic['Type'] == 'Tablet'].head()"
   ]
  },
  {
   "cell_type": "code",
   "execution_count": 39,
   "metadata": {},
   "outputs": [
    {
     "name": "stdout",
     "output_type": "stream",
     "text": [
      "n_phablet: 50\n",
      "mean_phablet: 239.26\n",
      "std_phablet: 26.671707856828366\n",
      "\n",
      "n_tablet: 50\n",
      "mean_phablet: 193.9\n",
      "std_phablet: 21.965882636488796\n"
     ]
    }
   ],
   "source": [
    "# price of phablets, number of phablets, mean price of phablets, standard deviation of phablets\n",
    "price_phablet = electronic[(electronic['Type'] == 'Phablet')]['Price ($)']\n",
    "n_phablet = len(price_phablet)\n",
    "mean_phablet = np.mean(price_phablet)\n",
    "std_phablet = statistics.stdev(price_phablet)\n",
    "\n",
    "# price of tablets, number of tablets, mean price of tablets, standard deviation of tablets\n",
    "price_tablet = electronic[(electronic['Type'] == 'Tablet')]['Price ($)']\n",
    "n_tablet = len(price_tablet)\n",
    "mean_tablet = np.mean(price_tablet)\n",
    "std_tablet = statistics.stdev(price_tablet)\n",
    "\n",
    "print('n_phablet:', n_phablet)\n",
    "print('mean_phablet:', mean_phablet)\n",
    "print('std_phablet:', std_phablet)\n",
    "\n",
    "print('\\nn_tablet:', n_tablet)\n",
    "print('mean_phablet:', mean_tablet)\n",
    "print('std_phablet:', std_tablet)"
   ]
  },
  {
   "cell_type": "code",
   "execution_count": 40,
   "metadata": {},
   "outputs": [
    {
     "name": "stdout",
     "output_type": "stream",
     "text": [
      "Test statistic: 0.9888564348220825\n",
      "P-Value: 0.5733178853988647\n"
     ]
    }
   ],
   "source": [
    "# perform Shapiro-Wilk test\n",
    "stat, p_value = shapiro(electronic['Price ($)'])\n",
    "\n",
    "print('Test statistic:', stat)\n",
    "print('P-Value:', p_value)"
   ]
  },
  {
   "cell_type": "markdown",
   "metadata": {},
   "source": [
    "From the above result, we can see that the p-value is greater than 0.05, thus we can say that the prices of phablets and tablets are normally distributed.\n",
    "\n",
    "\n",
    "Let us check the equality of variances."
   ]
  },
  {
   "cell_type": "code",
   "execution_count": 41,
   "metadata": {},
   "outputs": [
    {
     "name": "stdout",
     "output_type": "stream",
     "text": [
      "Test statistic: 0.6635459332943239\n",
      "P-Value: 0.4172859681296204\n"
     ]
    }
   ],
   "source": [
    "# perform Levene's test\n",
    "stat, p_value = stats.levene(price_phablet, price_tablet)\n",
    "\n",
    "print('Test statistic:', stat)\n",
    "print('P-Value:', p_value)"
   ]
  },
  {
   "cell_type": "markdown",
   "metadata": {},
   "source": [
    "From the above result, we can see that the p-value is greater than 0.05, thus we can say that the population variances are equal.\n",
    "\n",
    "* Therefore, the data satisfies the conditions to use the two sample Z-test"
   ]
  },
  {
   "cell_type": "markdown",
   "metadata": {
    "id": "YIaQZc58f98p"
   },
   "source": [
    "<table align=\"left\">\n",
    "    <tr>\n",
    "        <td width=\"6%\">\n",
    "            <img src=\"question_icon.png\">\n",
    "        </td>\n",
    "        <td>\n",
    "            <div align=\"left\", style=\"font-size:120%\">\n",
    "                <font color=\"#21618C\">\n",
    "                    <b>6. The technician claims that the price of phablet is not the same as the price of tablet. For the study, the technician collects the data of 50 gadgets of each type. Test the technician's claim using the 95% confidence interval.</b>\n",
    "                </font>\n",
    "            </div>\n",
    "        </td>\n",
    "    </tr>\n",
    "</table>"
   ]
  },
  {
   "cell_type": "markdown",
   "metadata": {
    "id": "pg7O5XQF5vZe"
   },
   "source": [
    "Consider the dataset given in the CSV file `electronic.csv`. "
   ]
  },
  {
   "cell_type": "code",
   "execution_count": 44,
   "metadata": {
    "id": "HQBCTFS35vZe"
   },
   "outputs": [
    {
     "name": "stdout",
     "output_type": "stream",
     "text": [
      "Critical value for two-tailed Z-test: 1.96 and -1.96\n",
      "\n",
      "Z-score:  9.282772555558113\n",
      "p-value:  3.302494646903457e-20\n"
     ]
    }
   ],
   "source": [
    "# H0 : mu_phablet - mu_tablet = 0\n",
    "# H1 : mu_phablet - mu_tablet != 0\n",
    "\n",
    "# alpha = 0.05\n",
    "\n",
    "# calculate the z-value for 95% of confidence level\n",
    "z_crit = round(stats.norm.isf(q = 0.05/2), 2)\n",
    "print('Critical value for two-tailed Z-test:', z_crit, 'and', -z_crit)\n",
    "\n",
    "# Use two-tailed Z-test\n",
    "z_score, pval = stests.ztest(x1 = price_phablet, x2 = price_tablet, value = 0, alternative = 'two-sided')\n",
    "\n",
    "# print the test statistic and corresponding p-value\n",
    "print(\"\\nZ-score: \", z_score)\n",
    "print(\"p-value: \", pval*2)"
   ]
  },
  {
   "cell_type": "markdown",
   "metadata": {},
   "source": [
    "* Here the z-score is greater than 1.96 (z-crit) i.e. z-score falls in rejection region of H0\n",
    "* The p-value is also lesser than alpha (0.05)\n",
    "* Thus we reject the null hypothesis"
   ]
  },
  {
   "cell_type": "markdown",
   "metadata": {
    "id": "QLSslfFdf98b"
   },
   "source": [
    "<a id=\"t\"></a>\n",
    "## 2. Small Sample Test"
   ]
  },
  {
   "cell_type": "markdown",
   "metadata": {
    "id": "qI6L73Qhf98t"
   },
   "source": [
    "<table align=\"left\">\n",
    "    <tr>\n",
    "        <td width=\"6%\">\n",
    "            <img src=\"question_icon.png\">\n",
    "        </td>\n",
    "        <td>\n",
    "            <div align=\"left\", style=\"font-size:120%\">\n",
    "                <font color=\"#21618C\">\n",
    "                    <b>7. The quality assurance department has collected 15 packets of potato chips. The department wants to test the average weight of the packets is more than 30 g. Check whether they can use the one sample t-test for the population mean with 95% confidence.</b>\n",
    "                </font>\n",
    "            </div>\n",
    "        </td>\n",
    "    </tr>\n",
    "</table>"
   ]
  },
  {
   "cell_type": "markdown",
   "metadata": {
    "id": "1cM4owol5vZf"
   },
   "source": [
    "Use the data given below:\n",
    "        \n",
    "    pack_wt = [26.8, 29.6, 27.8, 31.2, 30.9, 27.1, 28, 28.6, 29.4, 29.3, 31.5, 32.4, 29.7, 28.1, 31.9]"
   ]
  },
  {
   "cell_type": "code",
   "execution_count": 75,
   "metadata": {
    "id": "v0rPgHde5vZg"
   },
   "outputs": [
    {
     "name": "stdout",
     "output_type": "stream",
     "text": [
      "Test statistic: 0.9538426995277405\n",
      "p-value: 0.5868644714355469\n"
     ]
    }
   ],
   "source": [
    "# given data\n",
    "pack_wt = [26.8, 29.6, 27.8, 31.2, 30.9, 27.1, 28, 28.6, 29.4, 29.3, 31.5, 32.4, 29.7, 28.1, 31.9]\n",
    "\n",
    "# perform Shapiro-Wilk test to test the normality\n",
    "stat, p_value = shapiro(pack_wt)\n",
    "\n",
    "print('Test statistic:', stat)\n",
    "print('p-value:', p_value)"
   ]
  },
  {
   "cell_type": "markdown",
   "metadata": {},
   "source": [
    "From the above result, we can see that the p-value is greater than 0.05, thus we can say that the data is normally distributed.\n",
    "\n",
    "* Therefore, we can use the one sample t-test"
   ]
  },
  {
   "cell_type": "markdown",
   "metadata": {
    "id": "iZkGr2rTf98y"
   },
   "source": [
    "<table align=\"left\">\n",
    "    <tr>\n",
    "        <td width=\"6%\">\n",
    "            <img src=\"question_icon.png\">\n",
    "        </td>\n",
    "        <td>\n",
    "            <div align=\"left\", style=\"font-size:120%\">\n",
    "                <font color=\"#21618C\">\n",
    "                    <b>8. Use the weight of the potato chips packets given in the previous question and test whether the average weight of packet is more than 30 g. using p-value method. (Use 10% level of significance)</b>\n",
    "                </font>\n",
    "            </div>\n",
    "        </td>\n",
    "    </tr>\n",
    "</table>"
   ]
  },
  {
   "cell_type": "markdown",
   "metadata": {
    "id": "8V4LNY415vZh"
   },
   "source": [
    "Use the data given below:\n",
    "        \n",
    "    pack_wt = [26.8, 29.6, 27.8, 31.2, 30.9, 27.1, 28, 28.6, 29.4, 29.3, 31.5, 32.4, 29.7, 28.1, 31.9]"
   ]
  },
  {
   "cell_type": "code",
   "execution_count": 50,
   "metadata": {
    "id": "p2KYr4qx5vZh"
   },
   "outputs": [
    {
     "name": "stdout",
     "output_type": "stream",
     "text": [
      "t-crit = 1.35\n",
      "\n",
      "Using t-test:\n",
      "t-stat: -1.1204731591740873 \n",
      "p-value: 0.14068288127820355\n"
     ]
    }
   ],
   "source": [
    "# given data\n",
    "pack_wt = [26.8, 29.6, 27.8, 31.2, 30.9, 27.1, 28, 28.6, 29.4, 29.3, 31.5, 32.4, 29.7, 28.1, 31.9]\n",
    "\n",
    "# H0 : mu <= 30\n",
    "# H1 : mu > 30\n",
    "\n",
    "# alpha = 0.1\n",
    "# df = 15-1\n",
    "\n",
    "# calculate the t-value for 90% of confidence level\n",
    "t_crit = round(stats.t.isf(q = 0.1, df = 14), 2)\n",
    "print('t-crit =', t_crit)\n",
    "\n",
    "print('\\nUsing t-test:')\n",
    "# use 'ttest_1samp()' to calculate the test statistic and corresponding p-value for one-tailed right-tailed test\n",
    "t_stat, p_val = stats.ttest_1samp(pack_wt, popmean = 30)\n",
    "print('t-stat:', t_stat, '\\np-value:', p_val/2)"
   ]
  },
  {
   "cell_type": "code",
   "execution_count": 52,
   "metadata": {},
   "outputs": [
    {
     "name": "stdout",
     "output_type": "stream",
     "text": [
      "t-stat: -1.1204731591740873\n",
      "p-value: 0.14068288127820355\n"
     ]
    }
   ],
   "source": [
    "# Alternate method\n",
    "sample_mean = np.mean(pack_wt)\n",
    "mu = 30\n",
    "n = 15\n",
    "sample_std = np.std(pack_wt, ddof = 1)\n",
    "alpha = 0.1\n",
    "\n",
    "# calculate t-score using formulae\n",
    "t_stat = (sample_mean - mu) / (sample_std / np.sqrt(n))\n",
    "print('t-stat:', t_stat)\n",
    "\n",
    "# calculate p-value\n",
    "p_val = stats.t.cdf(t_stat, df = 14)\n",
    "print('p-value:', p_val)"
   ]
  },
  {
   "cell_type": "markdown",
   "metadata": {},
   "source": [
    "* Here the p-value is greater than the alpha (0.1)\n",
    "* The t-statistic is also lesser than the t-crit value (1.35) i.e. t-statistic falls in acceptance region of H0\n",
    "* Therefore, we fail to reject the null hypothesis"
   ]
  },
  {
   "cell_type": "markdown",
   "metadata": {
    "collapsed": true,
    "id": "kR2AYoMC5vZi"
   },
   "source": [
    "<table align=\"left\">\n",
    "    <tr>\n",
    "        <td width=\"6%\">\n",
    "            <img src=\"question_icon.png\">\n",
    "        </td>\n",
    "        <td>\n",
    "            <div align=\"left\", style=\"font-size:120%\">\n",
    "                <font color=\"#21618C\">\n",
    "                    <b>9. The orthopaedic surgeon states that a T-score for females older than 30 years is less than -1.2 which indicates the low bone density. To test the claim a sample of 10 women was selected and the average T-score was found to be -1.34 with a standard deviation of 0.8. Test the surgeon's claim using a critical value method with 95% confidence. (Assume the normality of the T-score). </b>\n",
    "                </font>\n",
    "            </div>\n",
    "        </td>\n",
    "    </tr>\n",
    "</table>"
   ]
  },
  {
   "cell_type": "code",
   "execution_count": 54,
   "metadata": {
    "id": "tCsXZXFv5vZi"
   },
   "outputs": [
    {
     "name": "stdout",
     "output_type": "stream",
     "text": [
      "t-crit: -1.8331129326536337\n",
      "\n",
      "Using left-tailed t-test:\n",
      "t-stat: -0.5533985905294669\n",
      "p-value: 0.29673469801808217\n"
     ]
    }
   ],
   "source": [
    "# H0 : mu >= -1.2\n",
    "# H1 : mu < -1.2\n",
    "\n",
    "# given data\n",
    "sample_mean = -1.34\n",
    "n = 10\n",
    "s = 0.8\n",
    "mu = -1.2\n",
    "alpha = 0.05\n",
    "\n",
    "# calculate the t-value for 95% of confidence level\n",
    "t_crit = stats.t.isf(q = 0.05, df = 9)\n",
    "print('t-crit:', -t_crit)\n",
    "\n",
    "print('\\nUsing left-tailed t-test:')\n",
    "# calculate t-score using formulae\n",
    "t_stat = (sample_mean - mu) / (s / np.sqrt(n))\n",
    "print('t-stat:', t_stat)\n",
    "\n",
    "# calculate p-value\n",
    "p_val = stats.t.cdf(t_stat, df = 9)\n",
    "print('p-value:', p_val)"
   ]
  },
  {
   "cell_type": "markdown",
   "metadata": {},
   "source": [
    "* The t-statistic is greater than the t-crit (-1.83)\n",
    "* The t-statistic falls to the right of t-crit i.e. t-statistic falls in acceptance region of H0\n",
    "* Also the p-value is greater than alpha (0.05)\n",
    "* Therefore we fail to reject the null hypothesis"
   ]
  },
  {
   "cell_type": "markdown",
   "metadata": {
    "id": "iOS1kKjWf983"
   },
   "source": [
    "<table align=\"left\">\n",
    "    <tr>\n",
    "        <td width=\"6%\">\n",
    "            <img src=\"question_icon.png\">\n",
    "        </td>\n",
    "        <td>\n",
    "            <div align=\"left\", style=\"font-size:120%\">\n",
    "                <font color=\"#21618C\">\n",
    "                    <b>10. The newspaper agency wants to test whether Harry takes less time to deliver the newspapers than his colleague Ron. The manager has collected time (in minutes) taken by Harry and Ron for 7 days. Is the given dataset unpaired? If yes, check whether the manager at newspaper agency can use the two sample t-test for unpaired data with 99% confidence.  </b>\n",
    "                </font>\n",
    "            </div>\n",
    "        </td>\n",
    "    </tr>\n",
    "</table>"
   ]
  },
  {
   "cell_type": "markdown",
   "metadata": {
    "id": "N7Yvnu7p5vZi"
   },
   "source": [
    "Use the data given below:\n",
    "        \n",
    "    harry = [18.5, 17.4, 19.2, 16, 15.8, 13.4, 19.5]\n",
    "    ron = [19.7, 18.6, 21.3, 17.5, 23.8, 20.7, 21]"
   ]
  },
  {
   "cell_type": "code",
   "execution_count": 73,
   "metadata": {
    "id": "IA3c9zJo5vZj"
   },
   "outputs": [],
   "source": [
    "# given data\n",
    "# dataset is unpaired\n",
    "harry = [18.5, 17.4, 19.2, 16, 15.8, 13.4, 19.5]\n",
    "ron = [19.7, 18.6, 21.3, 17.5, 23.8, 20.7, 21]"
   ]
  },
  {
   "cell_type": "markdown",
   "metadata": {},
   "source": [
    "The two sample t-test is used to compare the means of two independent populations. This test assumes that the populations are normally distributed from which the samples are taken."
   ]
  },
  {
   "cell_type": "code",
   "execution_count": 76,
   "metadata": {},
   "outputs": [
    {
     "name": "stdout",
     "output_type": "stream",
     "text": [
      "Test statistic: 0.986557126045227\n",
      "p-value: 0.9969169497489929\n"
     ]
    }
   ],
   "source": [
    "# perform Shapiro-Wilk test to test the normality\n",
    "stat, p_value = shapiro(harry + ron)\n",
    "\n",
    "print('Test statistic:', stat)\n",
    "print('p-value:', p_value)"
   ]
  },
  {
   "cell_type": "markdown",
   "metadata": {},
   "source": [
    "From the above result, we can see that the p-value is greater than 0.01, thus we can say that the data is normally distributed.\n",
    "\n",
    "\n",
    "Let us check the equality of variances."
   ]
  },
  {
   "cell_type": "code",
   "execution_count": 77,
   "metadata": {},
   "outputs": [
    {
     "name": "stdout",
     "output_type": "stream",
     "text": [
      "Test statistic: 0.12793271359008374\n",
      "p-value: 0.7267972480247995\n"
     ]
    }
   ],
   "source": [
    "# perform Levene's test\n",
    "stat, p_value = stats.levene(harry, ron)\n",
    "\n",
    "print('Test statistic:', stat)\n",
    "print('p-value:', p_value)"
   ]
  },
  {
   "cell_type": "markdown",
   "metadata": {},
   "source": [
    "From the above result, we can see that the p-value is greater than 0.01, thus we can say that the population variances are equal.\n",
    "\n",
    "* Thus, two-sample t-test for unpaired data can be used"
   ]
  },
  {
   "cell_type": "markdown",
   "metadata": {
    "id": "J8kt0Z8q5vZj"
   },
   "source": [
    "<table align=\"left\">\n",
    "    <tr>\n",
    "        <td width=\"6%\">\n",
    "            <img src=\"question_icon.png\">\n",
    "        </td>\n",
    "        <td>\n",
    "            <div align=\"left\", style=\"font-size:120%\">\n",
    "                <font color=\"#21618C\">\n",
    "                    <b>11. The newspaper agency wants to test whether Harry takes less time to deliver the newspapers than his colleague Ron. The manager has collected time (in minutes) taken by Harry and Ron for 7 days. Use the given data and test the hypothesis for population mean time using a critical value method and p-value criteria with 90% confidence.</b>\n",
    "                </font>\n",
    "            </div>\n",
    "        </td>\n",
    "    </tr>\n",
    "</table>"
   ]
  },
  {
   "cell_type": "markdown",
   "metadata": {
    "id": "JzfheCcr5vZj"
   },
   "source": [
    "Use the data given below:\n",
    "        \n",
    "    harry = [18.5, 17.4, 19.2, 16, 15.8, 13.4, 19.5]\n",
    "    ron = [19.7, 18.6, 21.3, 17.5, 23.8, 20.7, 21]"
   ]
  },
  {
   "cell_type": "code",
   "execution_count": 79,
   "metadata": {
    "id": "tvqOoypr5vZj"
   },
   "outputs": [
    {
     "name": "stdout",
     "output_type": "stream",
     "text": [
      "t-crit: -1.4397557472577691\n",
      "\n",
      "Using left-tailed t-test:\n",
      "t-stat: -2.8788582527177526 \n",
      "p-value: 0.00692997580305821\n"
     ]
    }
   ],
   "source": [
    "# H0 : mu_harry - mu_ron >= 0\n",
    "# H1 : mu_harry - mu_ron < 0 \n",
    "\n",
    "# given data\n",
    "harry = [18.5, 17.4, 19.2, 16, 15.8, 13.4, 19.5]\n",
    "ron = [19.7, 18.6, 21.3, 17.5, 23.8, 20.7, 21]\n",
    "\n",
    "# calculate the t-value for 90% of confidence level\n",
    "t_crit = stats.t.isf(q = 0.1, df = 6)\n",
    "print('t-crit:', -t_crit)\n",
    "\n",
    "print('\\nUsing left-tailed t-test:')\n",
    "# use 'ttest_ind()' to calculate the test statistic and corresponding p-value for 2 sample test\n",
    "t_stat, p_val = stats.ttest_ind(a = harry, b = ron)\n",
    "print('t-stat:', t_stat, '\\np-value:', p_val/2)"
   ]
  },
  {
   "cell_type": "markdown",
   "metadata": {},
   "source": [
    "* The t-statistic is lesser than t-crit (-1.43) i.e. t-statistic falls in rejection region of H0\n",
    "* The p-value is also less than alpha (0.1)\n",
    "* Thus we reject the null hypothesis"
   ]
  },
  {
   "cell_type": "markdown",
   "metadata": {
    "id": "XID79y2_f99O"
   },
   "source": [
    "<table align=\"left\">\n",
    "    <tr>\n",
    "        <td width=\"6%\">\n",
    "            <img src=\"question_icon.png\">\n",
    "        </td>\n",
    "        <td>\n",
    "            <div align=\"left\", style=\"font-size:120%\">\n",
    "                <font color=\"#21618C\">\n",
    "                        <b>12. The pharmaceutical company had organized a program to introduce its new drug to lower the sugar level. They recorded the fasting sugar (in mg/dl) of 25 diabetic people. Those people undergo a medication of the new drug for 10 days and again took a fasting sugar level test. The company claim that the sugar level decreases due to its new drug. Test the claim using p-value technique with 95% confidence.</b>\n",
    "                </font>\n",
    "            </div>\n",
    "        </td>\n",
    "    </tr>\n",
    "</table>"
   ]
  },
  {
   "cell_type": "markdown",
   "metadata": {
    "id": "5Ir44KaZ5vZk"
   },
   "source": [
    "Use the data given in the file `sugar_level.xlsx`"
   ]
  },
  {
   "cell_type": "code",
   "execution_count": 127,
   "metadata": {
    "id": "RBHCX-7G5vZk"
   },
   "outputs": [
    {
     "data": {
      "text/html": [
       "<div>\n",
       "<style scoped>\n",
       "    .dataframe tbody tr th:only-of-type {\n",
       "        vertical-align: middle;\n",
       "    }\n",
       "\n",
       "    .dataframe tbody tr th {\n",
       "        vertical-align: top;\n",
       "    }\n",
       "\n",
       "    .dataframe thead th {\n",
       "        text-align: right;\n",
       "    }\n",
       "</style>\n",
       "<table border=\"1\" class=\"dataframe\">\n",
       "  <thead>\n",
       "    <tr style=\"text-align: right;\">\n",
       "      <th></th>\n",
       "      <th>sugar_before</th>\n",
       "      <th>sugar_after</th>\n",
       "    </tr>\n",
       "  </thead>\n",
       "  <tbody>\n",
       "    <tr>\n",
       "      <th>0</th>\n",
       "      <td>135</td>\n",
       "      <td>132</td>\n",
       "    </tr>\n",
       "    <tr>\n",
       "      <th>1</th>\n",
       "      <td>132</td>\n",
       "      <td>136</td>\n",
       "    </tr>\n",
       "    <tr>\n",
       "      <th>2</th>\n",
       "      <td>142</td>\n",
       "      <td>139</td>\n",
       "    </tr>\n",
       "    <tr>\n",
       "      <th>3</th>\n",
       "      <td>154</td>\n",
       "      <td>151</td>\n",
       "    </tr>\n",
       "    <tr>\n",
       "      <th>4</th>\n",
       "      <td>198</td>\n",
       "      <td>192</td>\n",
       "    </tr>\n",
       "  </tbody>\n",
       "</table>\n",
       "</div>"
      ],
      "text/plain": [
       "   sugar_before  sugar_after\n",
       "0           135          132\n",
       "1           132          136\n",
       "2           142          139\n",
       "3           154          151\n",
       "4           198          192"
      ]
     },
     "execution_count": 127,
     "metadata": {},
     "output_type": "execute_result"
    }
   ],
   "source": [
    "sugar_level = pd.read_excel('S6_sugar_level.xlsx')\n",
    "sugar_level.head()"
   ]
  },
  {
   "cell_type": "code",
   "execution_count": 131,
   "metadata": {},
   "outputs": [
    {
     "name": "stdout",
     "output_type": "stream",
     "text": [
      "Mean difference in sugar level: -5.08\n",
      "Std deviation of difference in sugar level: 4.821134029803915\n",
      "Degrees of freedom: 24\n"
     ]
    }
   ],
   "source": [
    "# A paired t-test is used to compare the mean of the population for two dependent samples\n",
    "# The median of the difference between the two paired samples is denoted by mu_d\n",
    "# mu_d = Mean(after) - Mean(before)\n",
    "\n",
    "# H0 : mu_d >= 0\n",
    "# H1 : mu_d < 0\n",
    "\n",
    "# calculate the difference between the sugar levels\n",
    "diff_sugar = sugar_level['sugar_after'] - sugar_level['sugar_before']\n",
    "\n",
    "# calculate mean difference\n",
    "mean_diff = np.mean(diff_sugar)\n",
    "\n",
    "# calculate standard deviation of difference\n",
    "std_diff = statistics.stdev(diff_sugar)\n",
    "\n",
    "# sample size\n",
    "n = len(sugar_level)\n",
    "\n",
    "print('Mean difference in sugar level:', mean_diff)\n",
    "print('Std deviation of difference in sugar level:', std_diff)\n",
    "print('Degrees of freedom:', n-1)"
   ]
  },
  {
   "cell_type": "code",
   "execution_count": 133,
   "metadata": {},
   "outputs": [
    {
     "name": "stdout",
     "output_type": "stream",
     "text": [
      "Test statistic: 0.9284526109695435\n",
      "p-value: 0.08004998415708542\n"
     ]
    }
   ],
   "source": [
    "# perform Shapiro-Wilk test to test the normality for sugar level after drug treatment\n",
    "stat, p_value = shapiro(sugar_level['sugar_before'])\n",
    "\n",
    "# print the test statistic and corresponding p-value\n",
    "print('Test statistic:', stat)\n",
    "print('p-value:', p_value)"
   ]
  },
  {
   "cell_type": "markdown",
   "metadata": {},
   "source": [
    "From the above result, we can see that the p-value is greater than 0.05, thus we can say that the sugar level before drug treatment are normally distributed."
   ]
  },
  {
   "cell_type": "code",
   "execution_count": 134,
   "metadata": {},
   "outputs": [
    {
     "name": "stdout",
     "output_type": "stream",
     "text": [
      "Test statistic: 0.922091543674469\n",
      "p-value: 0.057184845209121704\n"
     ]
    }
   ],
   "source": [
    "# perform Shapiro-Wilk test to test the normality for sugar level after drug treatment\n",
    "stat, p_value = shapiro(sugar_level['sugar_after'])\n",
    "\n",
    "# print the test statistic and corresponding p-value\n",
    "print('Test statistic:', stat)\n",
    "print('p-value:', p_value)"
   ]
  },
  {
   "cell_type": "markdown",
   "metadata": {},
   "source": [
    "From the above result, we can see that the p-value is greater than 0.05, thus we can say that the sugar level after drug treatment are normally distributed."
   ]
  },
  {
   "cell_type": "code",
   "execution_count": 138,
   "metadata": {},
   "outputs": [
    {
     "name": "stdout",
     "output_type": "stream",
     "text": [
      "t-crit: -1.71\n",
      "\n",
      "Using left-tailed t-test:\n",
      "t-stat: -5.268469999584946 \n",
      "p-value: 1.0544706972911436e-05\n"
     ]
    }
   ],
   "source": [
    "# H0 : mu_d >= 0\n",
    "# H1 : mu_d < 0\n",
    "\n",
    "# calculate the t-value for 90% of confidence level\n",
    "t_crit = round(stats.t.isf(q = 0.05, df = 24), 2)\n",
    "print('t-crit:', -t_crit)\n",
    "\n",
    "print('\\nUsing left-tailed t-test:')\n",
    "# use 'ttest_rel()' to calculate the t-statistic and corresponding p-value for paired samples\n",
    "t_stat, p_val = stats.ttest_rel(sugar_level['sugar_after'], sugar_level['sugar_before'])\n",
    "print('t-stat:', t_stat, '\\np-value:', p_val/2)"
   ]
  },
  {
   "cell_type": "markdown",
   "metadata": {},
   "source": [
    "* The p-value is lesser than alpha value (0.05)\n",
    "* Also, the t-statistic is lesser than the t-crit value (-1.71)\n",
    "* t-statistic lies to the left of t-crit value i.e. it falls in the rejection region of H0\n",
    "* This we reject the null hypothesis"
   ]
  },
  {
   "cell_type": "markdown",
   "metadata": {
    "id": "OL9cj_rRf983"
   },
   "source": [
    "<a id= \"prop\"></a>\n",
    "## 3. Z Proportion Test"
   ]
  },
  {
   "cell_type": "markdown",
   "metadata": {
    "id": "F0nmcsmi5vZk"
   },
   "source": [
    "<table align=\"left\">\n",
    "    <tr>\n",
    "        <td width=\"6%\">\n",
    "            <img src=\"question_icon.png\">\n",
    "        </td>\n",
    "        <td>\n",
    "            <div align=\"left\", style=\"font-size:120%\">\n",
    "                <font color=\"#21618C\">\n",
    "                    <b>13. The physics department claims that it received 14% of fraud applications this year. The university head wants to test whether the percentage is different than what the department claims. The sample of 250 applications is selected out of which 38 applications are found to fraud. Test the claim with a 95% confidence interval.</b>\n",
    "                </font>\n",
    "            </div>\n",
    "        </td>\n",
    "    </tr>\n",
    "</table>"
   ]
  },
  {
   "cell_type": "code",
   "execution_count": 92,
   "metadata": {
    "id": "m0grvOlu5vZk"
   },
   "outputs": [
    {
     "name": "stdout",
     "output_type": "stream",
     "text": [
      "Critical value for two-tailed Z-test: 1.96 and -1.96\n",
      "\n",
      "Using two-tailed Z-test:\n",
      "Z-score 0.5468119624323661\n",
      "p-value 0.5845079238217354\n",
      "\n",
      "95% confidence interval for population proportion is (0.10749612708304186, 0.19650387291695814)\n"
     ]
    }
   ],
   "source": [
    "# H0 : p = 0.14\n",
    "# H1 : p != 0.14\n",
    "\n",
    "# sample size\n",
    "n = 250\n",
    "\n",
    "# number of fraud\n",
    "x = 38 \n",
    "\n",
    "# sample proportion\n",
    "p_samp = x/n\n",
    "\n",
    "# hypothesized proportion\n",
    "p_hypo = 0.14\n",
    "\n",
    "# calculate the z-value for 95% of confidence level\n",
    "z_crit = round(stats.norm.isf(q = 0.05/2), 2)\n",
    "print('Critical value for two-tailed Z-test:', z_crit, 'and', -z_crit)\n",
    "\n",
    "print('\\nUsing two-tailed Z-test:')\n",
    "# calculate test statistic value for 1 sample proportion test\n",
    "z_score = (p_samp - p_hypo) / np.sqrt((p_hypo * (1 - p_hypo)) / n)\n",
    "print('Z-score', z_score)\n",
    "\n",
    "# calculate p-value\n",
    "p_val = stats.norm.sf(z_score)\n",
    "print('p-value', p_val*2)\n",
    "\n",
    "# calculate the 95% confidence interval\n",
    "interval = stats.norm.interval(0.95, loc = p_samp, scale = np.sqrt(p_samp * (1 - p_samp)/n))\n",
    "print('\\n95% confidence interval for population proportion is', interval)"
   ]
  },
  {
   "cell_type": "markdown",
   "metadata": {},
   "source": [
    "* The 95% confidence interval contains the value in the null hypothesis (0.14)\n",
    "* The z-score is lesser than z-crit (1.96) i.e. z-score falls in acceptance region of H0\n",
    "* The p-value is greater than alpha (0.05) \n",
    "* Thus we fail to reject the null hypothesis"
   ]
  },
  {
   "cell_type": "markdown",
   "metadata": {
    "id": "kQab2xWt5vZl"
   },
   "source": [
    "<table align=\"left\">\n",
    "    <tr>\n",
    "        <td width=\"6%\">\n",
    "            <img src=\"question_icon.png\">\n",
    "        </td>\n",
    "        <td>\n",
    "            <div align=\"left\", style=\"font-size:120%\">\n",
    "                <font color=\"#21618C\">\n",
    "                    <b>14. The store manager claims that he received more 20% of defective plastic boxes in his previous order. Test the manager's claim using a critical value method. From a sample of 120 boxes, 42 were found to be defective. Test the claim with 90% confidence.</b>\n",
    "                </font>\n",
    "            </div>\n",
    "        </td>\n",
    "    </tr>\n",
    "</table>"
   ]
  },
  {
   "cell_type": "code",
   "execution_count": 94,
   "metadata": {
    "id": "MpECLYBq5vZl"
   },
   "outputs": [
    {
     "name": "stdout",
     "output_type": "stream",
     "text": [
      "Critical value for two-tailed Z-test: 1.28\n",
      "\n",
      "Using right-tailed Z-test:\n",
      "Z-score 4.107919181288744\n",
      "p-value 1.996198738450681e-05\n",
      "\n",
      "90% confidence interval for population proportion is (0.2783811514679558, 0.4216188485320441)\n"
     ]
    }
   ],
   "source": [
    "# H0 : p <= 0.2\n",
    "# H1 : p > 0.2\n",
    "\n",
    "# sample size\n",
    "n = 120\n",
    "\n",
    "# number of defective boxes\n",
    "x = 42\n",
    "\n",
    "# sample proportion\n",
    "p_samp = x/n\n",
    "\n",
    "# hypothesized proportion\n",
    "p_hypo = 0.2\n",
    "\n",
    "# calculate the z-value for 90% of confidence level\n",
    "z_crit = round(stats.norm.isf(q = 0.1), 2)\n",
    "print('Critical value for right-tailed Z-test:', z_crit)\n",
    "\n",
    "print('\\nUsing right-tailed Z-test:')\n",
    "# calculate test statistic value for 1 sample proportion test\n",
    "z_score = (p_samp - p_hypo) / np.sqrt((p_hypo * (1 - p_hypo)) / n)\n",
    "print('Z-score', z_score)\n",
    "\n",
    "# calculate p-value\n",
    "p_val = stats.norm.sf(z_score)\n",
    "print('p-value', p_val)\n",
    "\n",
    "# calculate the 90% confidence interval\n",
    "interval = stats.norm.interval(0.90, loc = p_samp, scale = np.sqrt(p_samp * (1 - p_samp)/n))\n",
    "print('\\n90% confidence interval for population proportion is', interval)"
   ]
  },
  {
   "cell_type": "markdown",
   "metadata": {},
   "source": [
    "* The 90% confidence interval does not contain the value in the null hypothesis (0.2)\n",
    "* The z-score is greater than z-crit (1.28) i.e. z-score falls in rejection region of H0\n",
    "* The p-value is lesser than alpha (0.1)\n",
    "* Thus we reject the null hypothesis"
   ]
  },
  {
   "cell_type": "markdown",
   "metadata": {
    "id": "vSDpOiVP5vZl"
   },
   "source": [
    "<table align=\"left\">\n",
    "    <tr>\n",
    "        <td width=\"6%\">\n",
    "            <img src=\"question_icon.png\">\n",
    "        </td>\n",
    "        <td>\n",
    "            <div align=\"left\", style=\"font-size:120%\">\n",
    "                <font color=\"#21618C\">\n",
    "                        <b>15. The HR head of a company claims that the company supports the woman empowerment and the proportion of female employees is same in the New York and Oneonta branches. The women empowerment cell wants to check whether the proportion is different for the two branches. The sample of 150 employees is selected from New York branch out of which 53 are females and a sample of 170 employees is selected from Oneonta branch out of which 76 are females. Use the p-value technique with 95% confidence. </b>\n",
    "                </font>\n",
    "            </div>\n",
    "        </td>\n",
    "    </tr>\n",
    "</table>"
   ]
  },
  {
   "cell_type": "code",
   "execution_count": 100,
   "metadata": {
    "id": "S5WViEkr5vZl"
   },
   "outputs": [
    {
     "name": "stdout",
     "output_type": "stream",
     "text": [
      "Critical value for two-tailed Z-test: 1.96 and -1.96\n",
      "\n",
      "Z-score: -1.705655272664087\n",
      "p-value: 0.08807228185564836\n"
     ]
    }
   ],
   "source": [
    "# H0 : p_ny = p_oo\n",
    "# H1 : p_ny != p_oo\n",
    "\n",
    "# sample size New York branch\n",
    "n_ny = 150\n",
    "\n",
    "# number of females New York branch\n",
    "x_ny = 53\n",
    "\n",
    "# sample size Oneonta branch\n",
    "n_oo = 170\n",
    "\n",
    "# number of females Oneonta branch\n",
    "x_oo = 76\n",
    "\n",
    "# calculate the z-value for 95% of confidence level\n",
    "z_crit = round(stats.norm.isf(q = 0.05/2), 2)\n",
    "print('Critical value for two-tailed Z-test:', z_crit, 'and', -z_crit)\n",
    "\n",
    "# calculate test statistic value for two sample proportion test\n",
    "z_score, p_val = sm.stats.proportions_ztest(count = np.array([x_ny, x_oo]), \n",
    "                                             nobs = np.array([n_ny, n_oo]),  \n",
    "                                             alternative = 'two-sided')\n",
    "\n",
    "print('\\nZ-score:', z_score)\n",
    "print('p-value:', p_val)"
   ]
  },
  {
   "cell_type": "markdown",
   "metadata": {},
   "source": [
    "* The p-value is greater than alpha (0.05) \n",
    "* Also, the z-score is greater than z-crit (-1.96) i.e. it falls in acceptance region of H0\n",
    "* Thus we fail to reject the null hypothesis"
   ]
  },
  {
   "cell_type": "markdown",
   "metadata": {
    "id": "3uPwVwgAf99s"
   },
   "source": [
    "<table align=\"left\">\n",
    "    <tr>\n",
    "        <td width=\"6%\">\n",
    "            <img src=\"question_icon.png\">\n",
    "        </td>\n",
    "        <td>\n",
    "            <div align=\"left\", style=\"font-size:120%\">\n",
    "                <font color=\"#21618C\">\n",
    "                    <b>16. The education department claims that the proportion of students failed in Mathematics is more than the proportion of students failed in English. To test the claim a sample of 200 students enrolled for Mathematics was considered out of which 73 students failed in the exam and a sample of 150 students enrolled for English was considered out of which 53 students failed in the exam. Use the critical value method to test the department's claim with 90% confidence. </b>\n",
    "                </font>\n",
    "            </div>\n",
    "        </td>\n",
    "    </tr>\n",
    "</table>"
   ]
  },
  {
   "cell_type": "code",
   "execution_count": 101,
   "metadata": {
    "id": "IF_-pu_G5vZl"
   },
   "outputs": [
    {
     "name": "stdout",
     "output_type": "stream",
     "text": [
      "Critical value for two-tailed Z-test: 1.28\n",
      "\n",
      "Z-score: 0.22502571869471721\n",
      "p-value: 0.41097963333926457\n"
     ]
    }
   ],
   "source": [
    "# H0 : p_math <= p_english\n",
    "# H1 : p_math > p_english\n",
    "\n",
    "# sample size Math\n",
    "n_M = 200\n",
    "\n",
    "# number of students failed in Math\n",
    "x_M =73\n",
    "\n",
    "# sample size English\n",
    "n_E = 150\n",
    "\n",
    "# number of students failed in English\n",
    "x_E = 53\n",
    "\n",
    "# calculate the z-value for 90% of confidence level\n",
    "z_crit = round(stats.norm.isf(q = 0.1), 2)\n",
    "print('Critical value for two-tailed Z-test:', z_crit)\n",
    "\n",
    "# calculate test statistic value for two sample proportion test\n",
    "z_score, p_val = sm.stats.proportions_ztest(count = np.array([x_M, x_E]), \n",
    "                                             nobs = np.array([n_M, n_E]),  \n",
    "                                             alternative = 'larger')\n",
    "\n",
    "print('\\nZ-score:', z_score)\n",
    "print('p-value:', p_val)"
   ]
  },
  {
   "cell_type": "markdown",
   "metadata": {},
   "source": [
    "* The z-score is lesser than z-crit (1.28) i.e. z-score falls in acceptance region of H0\n",
    "* Also, the p-value is greater than alpha (0.1) \n",
    "* Thus we fail to reject the null hypothesis"
   ]
  },
  {
   "cell_type": "markdown",
   "metadata": {
    "id": "kAqdcZEA5vZm"
   },
   "source": [
    "<a id= \"non_para\"></a>\n",
    "## 4. Non-parametric Tests"
   ]
  },
  {
   "cell_type": "markdown",
   "metadata": {
    "id": "EE_L86gBf99t"
   },
   "source": [
    "<table align=\"left\">\n",
    "    <tr>\n",
    "        <td width=\"6%\">\n",
    "            <img src=\"question_icon.png\">\n",
    "        </td>\n",
    "        <td>\n",
    "            <div align=\"left\", style=\"font-size:120%\">\n",
    "                <font color=\"#21618C\">\n",
    "                    <b>17. The car dealer claims that the median horsepower (hp) of the cars in his showroom is greater than 100 watts. Test the dealer's claim with 95% confidence.</b>\n",
    "                </font> \n",
    "            </div>\n",
    "        </td>\n",
    "    </tr>\n",
    "</table>"
   ]
  },
  {
   "cell_type": "markdown",
   "metadata": {
    "id": "381TLhfc5vZm"
   },
   "source": [
    "Use the dataset given in the CSV file `cars.csv`"
   ]
  },
  {
   "cell_type": "code",
   "execution_count": 108,
   "metadata": {
    "id": "6qdTHtKk5vZm"
   },
   "outputs": [
    {
     "data": {
      "text/html": [
       "<div>\n",
       "<style scoped>\n",
       "    .dataframe tbody tr th:only-of-type {\n",
       "        vertical-align: middle;\n",
       "    }\n",
       "\n",
       "    .dataframe tbody tr th {\n",
       "        vertical-align: top;\n",
       "    }\n",
       "\n",
       "    .dataframe thead th {\n",
       "        text-align: right;\n",
       "    }\n",
       "</style>\n",
       "<table border=\"1\" class=\"dataframe\">\n",
       "  <thead>\n",
       "    <tr style=\"text-align: right;\">\n",
       "      <th></th>\n",
       "      <th>name</th>\n",
       "      <th>mpg</th>\n",
       "      <th>cyl</th>\n",
       "      <th>disp</th>\n",
       "      <th>hp</th>\n",
       "      <th>drat</th>\n",
       "      <th>wt</th>\n",
       "      <th>qsec</th>\n",
       "      <th>vs</th>\n",
       "      <th>am</th>\n",
       "      <th>gear</th>\n",
       "      <th>carb</th>\n",
       "    </tr>\n",
       "  </thead>\n",
       "  <tbody>\n",
       "    <tr>\n",
       "      <th>0</th>\n",
       "      <td>Mazda RX4</td>\n",
       "      <td>21.0</td>\n",
       "      <td>6</td>\n",
       "      <td>160.0</td>\n",
       "      <td>110</td>\n",
       "      <td>3.90</td>\n",
       "      <td>2.620</td>\n",
       "      <td>16.46</td>\n",
       "      <td>0</td>\n",
       "      <td>M</td>\n",
       "      <td>4</td>\n",
       "      <td>4</td>\n",
       "    </tr>\n",
       "    <tr>\n",
       "      <th>1</th>\n",
       "      <td>Mazda RX4 Wag</td>\n",
       "      <td>21.0</td>\n",
       "      <td>6</td>\n",
       "      <td>160.0</td>\n",
       "      <td>110</td>\n",
       "      <td>3.90</td>\n",
       "      <td>2.875</td>\n",
       "      <td>17.02</td>\n",
       "      <td>0</td>\n",
       "      <td>M</td>\n",
       "      <td>4</td>\n",
       "      <td>4</td>\n",
       "    </tr>\n",
       "    <tr>\n",
       "      <th>2</th>\n",
       "      <td>Datsun 710</td>\n",
       "      <td>22.8</td>\n",
       "      <td>4</td>\n",
       "      <td>108.0</td>\n",
       "      <td>93</td>\n",
       "      <td>3.85</td>\n",
       "      <td>2.320</td>\n",
       "      <td>18.61</td>\n",
       "      <td>1</td>\n",
       "      <td>M</td>\n",
       "      <td>4</td>\n",
       "      <td>1</td>\n",
       "    </tr>\n",
       "    <tr>\n",
       "      <th>3</th>\n",
       "      <td>Hornet 4 Drive</td>\n",
       "      <td>21.4</td>\n",
       "      <td>6</td>\n",
       "      <td>258.0</td>\n",
       "      <td>110</td>\n",
       "      <td>3.08</td>\n",
       "      <td>3.215</td>\n",
       "      <td>19.44</td>\n",
       "      <td>1</td>\n",
       "      <td>A</td>\n",
       "      <td>3</td>\n",
       "      <td>1</td>\n",
       "    </tr>\n",
       "    <tr>\n",
       "      <th>4</th>\n",
       "      <td>Hornet Sportabout</td>\n",
       "      <td>18.7</td>\n",
       "      <td>8</td>\n",
       "      <td>360.0</td>\n",
       "      <td>175</td>\n",
       "      <td>3.15</td>\n",
       "      <td>3.440</td>\n",
       "      <td>17.02</td>\n",
       "      <td>0</td>\n",
       "      <td>A</td>\n",
       "      <td>3</td>\n",
       "      <td>2</td>\n",
       "    </tr>\n",
       "  </tbody>\n",
       "</table>\n",
       "</div>"
      ],
      "text/plain": [
       "                name   mpg  cyl   disp   hp  drat     wt   qsec  vs am  gear  \\\n",
       "0          Mazda RX4  21.0    6  160.0  110  3.90  2.620  16.46   0  M     4   \n",
       "1      Mazda RX4 Wag  21.0    6  160.0  110  3.90  2.875  17.02   0  M     4   \n",
       "2         Datsun 710  22.8    4  108.0   93  3.85  2.320  18.61   1  M     4   \n",
       "3     Hornet 4 Drive  21.4    6  258.0  110  3.08  3.215  19.44   1  A     3   \n",
       "4  Hornet Sportabout  18.7    8  360.0  175  3.15  3.440  17.02   0  A     3   \n",
       "\n",
       "   carb  \n",
       "0     4  \n",
       "1     4  \n",
       "2     1  \n",
       "3     1  \n",
       "4     2  "
      ]
     },
     "execution_count": 108,
     "metadata": {},
     "output_type": "execute_result"
    }
   ],
   "source": [
    "# H0 : mu <= 100\n",
    "# H1 : M > 100\n",
    "\n",
    "# Wilcoxon signed rank test (One-sample test) is used to compare the median (M) of a sample to a specific value (M0).\n",
    "\n",
    "cars = pd.read_csv('S6_cars.csv')\n",
    "cars.head()"
   ]
  },
  {
   "cell_type": "code",
   "execution_count": 109,
   "metadata": {},
   "outputs": [
    {
     "name": "stdout",
     "output_type": "stream",
     "text": [
      "Test statistic: 440.0\n",
      "p-value: 0.0004968423513640346\n"
     ]
    }
   ],
   "source": [
    "# given horsepower\n",
    "hp = cars['hp']\n",
    "\n",
    "# hypothesized median\n",
    "M0 = 100\n",
    "\n",
    "# calculate the difference between horsepower and M0\n",
    "diff = hp - M0\n",
    "\n",
    "# perform wilcoxon signed rank test\n",
    "test_stat, p_value = stats.wilcoxon(x = diff, alternative = 'greater')\n",
    "\n",
    "# print the test statistic and corresponding p-value\n",
    "print('Test statistic:', test_stat)\n",
    "print('p-value:', p_value)"
   ]
  },
  {
   "cell_type": "markdown",
   "metadata": {},
   "source": [
    "* Here the p-value is lesser than alpha (0.05)\n",
    "* Thus we reject the null hypothesis"
   ]
  },
  {
   "cell_type": "markdown",
   "metadata": {
    "id": "EFaFOXFTf99t"
   },
   "source": [
    "<table align=\"left\">\n",
    "    <tr>\n",
    "        <td width=\"6%\">\n",
    "            <img src=\"question_icon.png\">\n",
    "        </td>\n",
    "        <td>\n",
    "            <div align=\"left\", style=\"font-size:120%\">\n",
    "                <font color=\"#21618C\">\n",
    "                    <b>18. The customer claims that the median weight of watermelon in HealthyFood store is different than 2.5 kg. 8 watermelons are selected as a sample and the weight is recorded. Test the customer's claim at 90% confidence using p-value technique. </b>\n",
    "                </font>\n",
    "            </div>\n",
    "        </td>\n",
    "    </tr>\n",
    "</table>"
   ]
  },
  {
   "cell_type": "markdown",
   "metadata": {
    "id": "p6yIJ60k5vZn"
   },
   "source": [
    "Given data:\n",
    "\n",
    "        watermelon_wt = [1.81, 2.3, 1.8, 2.65, 3.9, 3.7, 1.9, 2.1]"
   ]
  },
  {
   "cell_type": "code",
   "execution_count": 104,
   "metadata": {
    "id": "tiG1Gz0v5vZn"
   },
   "outputs": [
    {
     "name": "stdout",
     "output_type": "stream",
     "text": [
      "Test statistic: 16.0\n",
      "p-value: 0.84375\n"
     ]
    }
   ],
   "source": [
    "# H0 : M = 2.5\n",
    "# H1 : M != 2.5\n",
    "\n",
    "# Wilcoxon signed rank test (One-sample test) is used to compare the median (M) of a sample to a specific value (M0).\n",
    "\n",
    "# given watermelon weights\n",
    "watermelon_wt = np.array([1.81, 2.3, 1.8, 2.65, 3.9, 3.7, 1.9, 2.1])\n",
    "\n",
    "# hypothesized median\n",
    "M0 = 2.5\n",
    "\n",
    "# calculate the difference between weights and M0\n",
    "diff = watermelon_wt - M0\n",
    "\n",
    "# perform wilcoxon signed rank test\n",
    "test_stat, p_value = stats.wilcoxon(x = diff, alternative = 'two-sided')\n",
    "\n",
    "# print the test statistic and corresponding p-value\n",
    "print('Test statistic:', test_stat)\n",
    "print('p-value:', p_value)"
   ]
  },
  {
   "cell_type": "markdown",
   "metadata": {},
   "source": [
    "* Here the p-value is greater than alpha (0.1)\n",
    "* Thus we fail to reject the null hypothesis "
   ]
  },
  {
   "cell_type": "markdown",
   "metadata": {
    "id": "-qD5ZQ7Bf99v"
   },
   "source": [
    "<table align=\"left\">\n",
    "    <tr>\n",
    "        <td width=\"6%\">\n",
    "            <img src=\"question_icon.png\">\n",
    "        </td>\n",
    "        <td>\n",
    "            <div align=\"left\", style=\"font-size:120%\">\n",
    "                <font color=\"#21618C\">\n",
    "                    <b>19. The gym trainer claims that the new aerobic exercise has reduced the weight of the customers. The weight in the last month before the aerobic exercise and weight in this month after the aerobic exercise is recorded for 6 people. Test the trainer's claim with 95% confidence.  </b>\n",
    "                </font>\n",
    "            </div>\n",
    "        </td>\n",
    "    </tr>\n",
    "</table>"
   ]
  },
  {
   "cell_type": "markdown",
   "metadata": {
    "id": "EFA0USSk5vZn"
   },
   "source": [
    "Given data:\n",
    "\n",
    "        wt_before = [85, 74, 63.5, 69.4, 71.6, 65]\n",
    "        wt_after = [82, 71, 64, 65.2, 67.8, 64.7]"
   ]
  },
  {
   "cell_type": "code",
   "execution_count": 110,
   "metadata": {
    "id": "sEC1xq0h5vZn"
   },
   "outputs": [
    {
     "name": "stdout",
     "output_type": "stream",
     "text": [
      "Test statistic: 19.0\n",
      "p-value: 0.046875\n"
     ]
    }
   ],
   "source": [
    "# Wilcoxon signed rank test (Two-sample paired test) can be used to compare medians of paired data\n",
    "# The median of the difference between the two paired samples is denoted by Md\n",
    "# Md = Median(before) - Median(after)\n",
    "\n",
    "# H0 : Md <= 0\n",
    "# H1 : Md > 0\n",
    "\n",
    "# given data\n",
    "wt_before = [85, 74, 63.5, 69.4, 71.6, 65]\n",
    "wt_after = [82, 71, 64, 65.2, 67.8, 64.7]\n",
    "\n",
    "# perform wilcoxon signed rank test for paired data\n",
    "test_stat, p_value = stats.wilcoxon(x = wt_before, y = wt_after, alternative = 'greater')\n",
    "\n",
    "# print the test statistic and corresponding p-value\n",
    "print('Test statistic:', test_stat)\n",
    "print('p-value:', p_value)"
   ]
  },
  {
   "cell_type": "markdown",
   "metadata": {},
   "source": [
    "* The p-value is lesser than alpha (0.05) \n",
    "* Thus we reject the null hypothesis"
   ]
  },
  {
   "cell_type": "markdown",
   "metadata": {
    "id": "3zWA4UWQf99u"
   },
   "source": [
    "<table align=\"left\">\n",
    "    <tr>\n",
    "        <td width=\"6%\">\n",
    "            <img src=\"question_icon.png\">\n",
    "        </td>\n",
    "        <td>\n",
    "            <div align=\"left\", style=\"font-size:120%\">\n",
    "                <font color=\"#21618C\">\n",
    "                    <b>20. Consider the cars dataset given below. Check whether the distribution of weight of the manual transmission cars is different than the distribution of weight of the automatic transmission cars. Use a 1% level of significance to check the noramlity of the data. And use the appropriate test with 90% confidence.</b>\n",
    "                </font>\n",
    "            </div>\n",
    "        </td>\n",
    "    </tr>\n",
    "</table>"
   ]
  },
  {
   "cell_type": "markdown",
   "metadata": {
    "id": "f4s9Mb2g5vZn"
   },
   "source": [
    "Use the dataset given in the CSV file `cars.csv`"
   ]
  },
  {
   "cell_type": "code",
   "execution_count": 111,
   "metadata": {
    "id": "KsddzKQY5vZo"
   },
   "outputs": [
    {
     "data": {
      "text/html": [
       "<div>\n",
       "<style scoped>\n",
       "    .dataframe tbody tr th:only-of-type {\n",
       "        vertical-align: middle;\n",
       "    }\n",
       "\n",
       "    .dataframe tbody tr th {\n",
       "        vertical-align: top;\n",
       "    }\n",
       "\n",
       "    .dataframe thead th {\n",
       "        text-align: right;\n",
       "    }\n",
       "</style>\n",
       "<table border=\"1\" class=\"dataframe\">\n",
       "  <thead>\n",
       "    <tr style=\"text-align: right;\">\n",
       "      <th></th>\n",
       "      <th>name</th>\n",
       "      <th>mpg</th>\n",
       "      <th>cyl</th>\n",
       "      <th>disp</th>\n",
       "      <th>hp</th>\n",
       "      <th>drat</th>\n",
       "      <th>wt</th>\n",
       "      <th>qsec</th>\n",
       "      <th>vs</th>\n",
       "      <th>am</th>\n",
       "      <th>gear</th>\n",
       "      <th>carb</th>\n",
       "    </tr>\n",
       "  </thead>\n",
       "  <tbody>\n",
       "    <tr>\n",
       "      <th>0</th>\n",
       "      <td>Mazda RX4</td>\n",
       "      <td>21.0</td>\n",
       "      <td>6</td>\n",
       "      <td>160.0</td>\n",
       "      <td>110</td>\n",
       "      <td>3.90</td>\n",
       "      <td>2.620</td>\n",
       "      <td>16.46</td>\n",
       "      <td>0</td>\n",
       "      <td>M</td>\n",
       "      <td>4</td>\n",
       "      <td>4</td>\n",
       "    </tr>\n",
       "    <tr>\n",
       "      <th>1</th>\n",
       "      <td>Mazda RX4 Wag</td>\n",
       "      <td>21.0</td>\n",
       "      <td>6</td>\n",
       "      <td>160.0</td>\n",
       "      <td>110</td>\n",
       "      <td>3.90</td>\n",
       "      <td>2.875</td>\n",
       "      <td>17.02</td>\n",
       "      <td>0</td>\n",
       "      <td>M</td>\n",
       "      <td>4</td>\n",
       "      <td>4</td>\n",
       "    </tr>\n",
       "    <tr>\n",
       "      <th>2</th>\n",
       "      <td>Datsun 710</td>\n",
       "      <td>22.8</td>\n",
       "      <td>4</td>\n",
       "      <td>108.0</td>\n",
       "      <td>93</td>\n",
       "      <td>3.85</td>\n",
       "      <td>2.320</td>\n",
       "      <td>18.61</td>\n",
       "      <td>1</td>\n",
       "      <td>M</td>\n",
       "      <td>4</td>\n",
       "      <td>1</td>\n",
       "    </tr>\n",
       "    <tr>\n",
       "      <th>3</th>\n",
       "      <td>Hornet 4 Drive</td>\n",
       "      <td>21.4</td>\n",
       "      <td>6</td>\n",
       "      <td>258.0</td>\n",
       "      <td>110</td>\n",
       "      <td>3.08</td>\n",
       "      <td>3.215</td>\n",
       "      <td>19.44</td>\n",
       "      <td>1</td>\n",
       "      <td>A</td>\n",
       "      <td>3</td>\n",
       "      <td>1</td>\n",
       "    </tr>\n",
       "    <tr>\n",
       "      <th>4</th>\n",
       "      <td>Hornet Sportabout</td>\n",
       "      <td>18.7</td>\n",
       "      <td>8</td>\n",
       "      <td>360.0</td>\n",
       "      <td>175</td>\n",
       "      <td>3.15</td>\n",
       "      <td>3.440</td>\n",
       "      <td>17.02</td>\n",
       "      <td>0</td>\n",
       "      <td>A</td>\n",
       "      <td>3</td>\n",
       "      <td>2</td>\n",
       "    </tr>\n",
       "  </tbody>\n",
       "</table>\n",
       "</div>"
      ],
      "text/plain": [
       "                name   mpg  cyl   disp   hp  drat     wt   qsec  vs am  gear  \\\n",
       "0          Mazda RX4  21.0    6  160.0  110  3.90  2.620  16.46   0  M     4   \n",
       "1      Mazda RX4 Wag  21.0    6  160.0  110  3.90  2.875  17.02   0  M     4   \n",
       "2         Datsun 710  22.8    4  108.0   93  3.85  2.320  18.61   1  M     4   \n",
       "3     Hornet 4 Drive  21.4    6  258.0  110  3.08  3.215  19.44   1  A     3   \n",
       "4  Hornet Sportabout  18.7    8  360.0  175  3.15  3.440  17.02   0  A     3   \n",
       "\n",
       "   carb  \n",
       "0     4  \n",
       "1     4  \n",
       "2     1  \n",
       "3     1  \n",
       "4     2  "
      ]
     },
     "execution_count": 111,
     "metadata": {},
     "output_type": "execute_result"
    }
   ],
   "source": [
    "# H0 : F_manual = F_auto\n",
    "# H1 : F_manual != F_auto\n",
    "\n",
    "# The Mann-Whitney U test is a non-parametric test that compares the \n",
    "# distributions of independent populations. \n",
    "#This test can be used as a non-parametric alternative for the unpaired t-test. \n",
    "\n",
    "cars = pd.read_csv('S6_cars.csv')\n",
    "cars.head()"
   ]
  },
  {
   "cell_type": "code",
   "execution_count": 122,
   "metadata": {},
   "outputs": [
    {
     "name": "stdout",
     "output_type": "stream",
     "text": [
      "p-value: 0.9091034531593323\n"
     ]
    }
   ],
   "source": [
    "# weight of manual transmission cars\n",
    "wt_manual = cars[cars['am'] == 'M']['wt']\n",
    "\n",
    "# perform Shapiro-Wilk test to test the normality\n",
    "stat, p_value = shapiro(wt_manual)\n",
    "\n",
    "# print the corresponding p-value \n",
    "print('p-value:', p_value)"
   ]
  },
  {
   "cell_type": "markdown",
   "metadata": {},
   "source": [
    "From the above result, we can see that the p-value is greater than 0.01, thus we can say that the weight of the manual transmission cars are normally distributed."
   ]
  },
  {
   "cell_type": "code",
   "execution_count": 123,
   "metadata": {},
   "outputs": [
    {
     "name": "stdout",
     "output_type": "stream",
     "text": [
      "p-value: 0.003307320410385728\n"
     ]
    }
   ],
   "source": [
    "# weight of automatic transmission cars\n",
    "wt_automatic = cars[cars['am'] == 'A']['wt']\n",
    "\n",
    "# perform Shapiro-Wilk test to test the normality\n",
    "stat, p_value = shapiro(wt_automatic)\n",
    "\n",
    "# print the corresponding p-value \n",
    "print('p-value:', p_value)"
   ]
  },
  {
   "cell_type": "markdown",
   "metadata": {},
   "source": [
    "From the above result, we can see that the p-value is lesser than 0.01, thus we can say that the weight of the automatic transmission cars are not normally distributed."
   ]
  },
  {
   "cell_type": "code",
   "execution_count": 124,
   "metadata": {},
   "outputs": [
    {
     "name": "stdout",
     "output_type": "stream",
     "text": [
      "Test statistic: 16.5\n",
      "p-value: 4.347025911450828e-05\n"
     ]
    }
   ],
   "source": [
    "# compute test statistic and corresponding p-value for two-tailed test\n",
    "test_stat, p_value = stats.mannwhitneyu(wt_manual, wt_automatic, alternative = 'two-sided')\n",
    "\n",
    "# print the test statistic and corresponding p-value\n",
    "print('Test statistic:', test_stat)\n",
    "print('p-value:', p_value)"
   ]
  },
  {
   "cell_type": "markdown",
   "metadata": {},
   "source": [
    "* Here, we can see that the p-value is lesser than the alpha value at 90% confidence (0.1)\n",
    "* Thus we reject the null hypothesis i.e. we cannot conclude the weight distribution of manual transmission cars is same as the weight distribution of automatic transmission cars"
   ]
  }
 ],
 "metadata": {
  "colab": {
   "name": "Hypothesis Testing II - Inclass_Questions.ipynb",
   "provenance": []
  },
  "kernelspec": {
   "display_name": "Python 3",
   "language": "python",
   "name": "python3"
  },
  "language_info": {
   "codemirror_mode": {
    "name": "ipython",
    "version": 3
   },
   "file_extension": ".py",
   "mimetype": "text/x-python",
   "name": "python",
   "nbconvert_exporter": "python",
   "pygments_lexer": "ipython3",
   "version": "3.8.5"
  }
 },
 "nbformat": 4,
 "nbformat_minor": 1
}
