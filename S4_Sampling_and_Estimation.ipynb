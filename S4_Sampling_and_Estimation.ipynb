{
 "cells": [
  {
   "cell_type": "markdown",
   "metadata": {
    "id": "9V_yUyivROb1"
   },
   "source": [
    "## Table of Content\n",
    "\n",
    "1. **Sampling**\n",
    "2. **Parameter Estimation**"
   ]
  },
  {
   "cell_type": "markdown",
   "metadata": {
    "id": "8FaCw2VvROb2"
   },
   "source": [
    "**Import the required libraries**"
   ]
  },
  {
   "cell_type": "code",
   "execution_count": 18,
   "metadata": {
    "id": "2N3mvrKyROb2"
   },
   "outputs": [],
   "source": [
    "# import pandas\n",
    "import pandas as pd\n",
    "\n",
    "# import 'numpy' \n",
    "import numpy as np\n",
    "\n",
    "# import subpackage of matplotlib\n",
    "import matplotlib.pyplot as plt\n",
    "\n",
    "# import 'seaborn'\n",
    "import seaborn as sns\n",
    "\n",
    "# to suppress warnings \n",
    "from warnings import filterwarnings\n",
    "filterwarnings('ignore')\n",
    "\n",
    "# import statistics to perform statistical computation  \n",
    "import statistics\n",
    "\n",
    "# import 'stats' package from scipy library\n",
    "from scipy import stats\n",
    "\n",
    "# import a library to perform Z-test\n",
    "from statsmodels.stats import weightstats as stests\n",
    "\n",
    "# to test the normality \n",
    "from scipy.stats import shapiro\n",
    "\n",
    "# import the function to calculate the power of test\n",
    "from statsmodels.stats import power\n",
    "\n",
    "# import 'random' to generate a random sample\n",
    "import random"
   ]
  },
  {
   "cell_type": "code",
   "execution_count": 2,
   "metadata": {
    "id": "45qjaEYEROb2"
   },
   "outputs": [],
   "source": [
    "# set the plot size using 'rcParams'\n",
    "# once the plot size is set using 'rcParams', it sets the size of all the forthcoming plots in the file\n",
    "# pass width and height in inches to 'figure.figsize' \n",
    "plt.rcParams['figure.figsize'] = [15,8]"
   ]
  },
  {
   "cell_type": "markdown",
   "metadata": {
    "id": "psOYFu6zf98N"
   },
   "source": [
    "### Let's begin with some hands-on practice exercises"
   ]
  },
  {
   "cell_type": "markdown",
   "metadata": {
    "id": "GhwNCvTmf99O"
   },
   "source": [
    "<a id=\"sample\"></a>\n",
    "## 1. Sampling"
   ]
  },
  {
   "cell_type": "markdown",
   "metadata": {
    "id": "EE_L86gBf99t"
   },
   "source": [
    "<table align=\"left\">\n",
    "    <tr>\n",
    "        <td width=\"6%\">\n",
    "            <img src=\"question_icon.png\">\n",
    "        </td>\n",
    "        <td>\n",
    "            <div align=\"left\", style=\"font-size:120%\">\n",
    "                <font color=\"#21618C\">\n",
    "                    <b>1. A farmer has planted 98 tomato plants last year. He has numbered each plant with numbers 1,2,...98. Now he wants to study the growth of the plants. Help the farmer to select 12 plants randomly as a sample for the study using an appropriate sampling technique.</b>\n",
    "                </font>\n",
    "            </div>\n",
    "        </td>\n",
    "    </tr>\n",
    "</table>"
   ]
  },
  {
   "cell_type": "markdown",
   "metadata": {},
   "source": [
    "**Answer**"
   ]
  },
  {
   "cell_type": "code",
   "execution_count": 9,
   "metadata": {},
   "outputs": [
    {
     "name": "stdout",
     "output_type": "stream",
     "text": [
      "[1, 2, 3, 4, 5, 6, 7, 8, 9, 10, 11, 12, 13, 14, 15, 16, 17, 18, 19, 20, 21, 22, 23, 24, 25, 26, 27, 28, 29, 30, 31, 32, 33, 34, 35, 36, 37, 38, 39, 40, 41, 42, 43, 44, 45, 46, 47, 48, 49, 50, 51, 52, 53, 54, 55, 56, 57, 58, 59, 60, 61, 62, 63, 64, 65, 66, 67, 68, 69, 70, 71, 72, 73, 74, 75, 76, 77, 78, 79, 80, 81, 82, 83, 84, 85, 86, 87, 88, 89, 90, 91, 92, 93, 94, 95, 96, 97, 98]\n",
      "\n",
      "\n",
      "Sample of 12 plants selected randomly without replacement: [61, 12, 88, 31, 80, 64, 53, 54, 18, 71, 93, 85]\n"
     ]
    }
   ],
   "source": [
    "data = list(range(1,99))\n",
    "print(data)\n",
    "print('\\n')\n",
    "\n",
    "# Simple random sampling without replacement\n",
    "sample_plant = random.sample(population = data, k = 12)\n",
    "print('Sample of 12 plants selected randomly without replacement:', sample_plant)"
   ]
  },
  {
   "cell_type": "markdown",
   "metadata": {
    "id": "EFaFOXFTf99t"
   },
   "source": [
    "<table align=\"left\">\n",
    "    <tr>\n",
    "        <td width=\"6%\">\n",
    "            <img src=\"question_icon.png\">\n",
    "        </td>\n",
    "        <td>\n",
    "            <div align=\"left\", style=\"font-size:120%\">\n",
    "                <font color=\"#21618C\">\n",
    "                    <b>2. Ann has collected 20 beautiful blue marbles pebbles on her last summer vacation. Her mother gave her permission to take only 4 pebbles for her friends. Each of the marble is coded with numbers as 1,2,...20. As 2 is her favorite number, she wants to select pebbles starting from the 2nd pebble. Help Ann to systematically select the 4 marble pebbles for her friends.</b>\n",
    "                </font>\n",
    "            </div>\n",
    "        </td>\n",
    "    </tr>\n",
    "</table>"
   ]
  },
  {
   "cell_type": "markdown",
   "metadata": {},
   "source": [
    "**Answer**"
   ]
  },
  {
   "cell_type": "code",
   "execution_count": 69,
   "metadata": {},
   "outputs": [
    {
     "name": "stdout",
     "output_type": "stream",
     "text": [
      "[[ 1  2  3  4  5]\n",
      " [ 6  7  8  9 10]\n",
      " [11 12 13 14 15]\n",
      " [16 17 18 19 20]]\n",
      "\n",
      "\n",
      "Systematic sample:\n",
      "[2, 7, 12, 17]\n"
     ]
    }
   ],
   "source": [
    "pebbles = np.array(range(1, 21))\n",
    "\n",
    "# total number of pebbles\n",
    "N = len(pebbles)\n",
    "\n",
    "# required number of pebbles\n",
    "n = 4\n",
    "\n",
    "# i.e. k = 5\n",
    "# arrange data in 4 rows and 5 columns using 'reshape()'\n",
    "pebbles = pebbles.reshape(4, 5)\n",
    "print(pebbles)\n",
    "print('\\n')\n",
    "print('Systematic sample:')\n",
    "\n",
    "sample_pebbles = []\n",
    "# use for loop to select each sample\n",
    "for i in range(4):\n",
    "    sample_pebbles.append(pebbles[i][1])\n",
    "\n",
    "print(sample_pebbles)"
   ]
  },
  {
   "cell_type": "markdown",
   "metadata": {
    "id": "3zWA4UWQf99u"
   },
   "source": [
    "<table align=\"left\">\n",
    "    <tr>\n",
    "        <td width=\"6%\">\n",
    "            <img src=\"question_icon.png\">\n",
    "        </td>\n",
    "        <td>\n",
    "            <div align=\"left\", style=\"font-size:120%\">\n",
    "                <font color=\"#21618C\">\n",
    "                    <b>3. A rose nursery contains roses of 5 distinct colors. Select two plants of each color randomly.</b>\n",
    "                </font>\n",
    "            </div>\n",
    "        </td>\n",
    "    </tr>\n",
    "</table>"
   ]
  },
  {
   "cell_type": "markdown",
   "metadata": {
    "id": "NloHVsilR4SJ"
   },
   "source": [
    "Given data:\n",
    "\n",
    "          rose_col = ['White', 'Pink', 'White', 'Red', 'Yellow', 'Orange', 'Orange', 'Red', 'Yellow', 'White', 'Pink', \n",
    "                      'White', 'Red', 'Orange']"
   ]
  },
  {
   "cell_type": "markdown",
   "metadata": {},
   "source": [
    "**Answer**"
   ]
  },
  {
   "cell_type": "code",
   "execution_count": 55,
   "metadata": {},
   "outputs": [
    {
     "name": "stdout",
     "output_type": "stream",
     "text": [
      "Color\n",
      "Orange    3\n",
      "Pink      2\n",
      "Red       3\n",
      "White     4\n",
      "Yellow    2\n",
      "dtype: int64\n",
      "\n",
      "Stratified sample:\n"
     ]
    },
    {
     "data": {
      "text/html": [
       "<div>\n",
       "<style scoped>\n",
       "    .dataframe tbody tr th:only-of-type {\n",
       "        vertical-align: middle;\n",
       "    }\n",
       "\n",
       "    .dataframe tbody tr th {\n",
       "        vertical-align: top;\n",
       "    }\n",
       "\n",
       "    .dataframe thead th {\n",
       "        text-align: right;\n",
       "    }\n",
       "</style>\n",
       "<table border=\"1\" class=\"dataframe\">\n",
       "  <thead>\n",
       "    <tr style=\"text-align: right;\">\n",
       "      <th></th>\n",
       "      <th>Color</th>\n",
       "    </tr>\n",
       "  </thead>\n",
       "  <tbody>\n",
       "    <tr>\n",
       "      <th>5</th>\n",
       "      <td>Orange</td>\n",
       "    </tr>\n",
       "    <tr>\n",
       "      <th>13</th>\n",
       "      <td>Orange</td>\n",
       "    </tr>\n",
       "    <tr>\n",
       "      <th>1</th>\n",
       "      <td>Pink</td>\n",
       "    </tr>\n",
       "    <tr>\n",
       "      <th>10</th>\n",
       "      <td>Pink</td>\n",
       "    </tr>\n",
       "    <tr>\n",
       "      <th>3</th>\n",
       "      <td>Red</td>\n",
       "    </tr>\n",
       "    <tr>\n",
       "      <th>12</th>\n",
       "      <td>Red</td>\n",
       "    </tr>\n",
       "    <tr>\n",
       "      <th>11</th>\n",
       "      <td>White</td>\n",
       "    </tr>\n",
       "    <tr>\n",
       "      <th>9</th>\n",
       "      <td>White</td>\n",
       "    </tr>\n",
       "    <tr>\n",
       "      <th>4</th>\n",
       "      <td>Yellow</td>\n",
       "    </tr>\n",
       "    <tr>\n",
       "      <th>8</th>\n",
       "      <td>Yellow</td>\n",
       "    </tr>\n",
       "  </tbody>\n",
       "</table>\n",
       "</div>"
      ],
      "text/plain": [
       "     Color\n",
       "5   Orange\n",
       "13  Orange\n",
       "1     Pink\n",
       "10    Pink\n",
       "3      Red\n",
       "12     Red\n",
       "11   White\n",
       "9    White\n",
       "4   Yellow\n",
       "8   Yellow"
      ]
     },
     "execution_count": 55,
     "metadata": {},
     "output_type": "execute_result"
    }
   ],
   "source": [
    "# create dataframe from given data\n",
    "rose_col = pd.DataFrame(dict(Color = ['White', 'Pink', 'White', 'Red', 'Yellow', 'Orange', 'Orange', 'Red', 'Yellow', 'White', 'Pink', \n",
    "                  'White', 'Red', 'Orange']))\n",
    "\n",
    "print(rose_col.groupby(['Color']).size())\n",
    "print('\\nStratified sample:')\n",
    "\n",
    "rose_col.groupby('Color', group_keys = False).apply(lambda x: x.sample(2, random_state = 1))"
   ]
  },
  {
   "cell_type": "markdown",
   "metadata": {
    "id": "-qD5ZQ7Bf99v"
   },
   "source": [
    "<table align=\"left\">\n",
    "    <tr>\n",
    "        <td width=\"6%\">\n",
    "            <img src=\"question_icon.png\">\n",
    "        </td>\n",
    "        <td>\n",
    "            <div align=\"left\", style=\"font-size:120%\">\n",
    "                <font color=\"#21618C\">\n",
    "                    <b>4. Ron found gold, silver and copper coin on his way home. He asked 10 people to choose a coin randomly. He then created a list of coins chosen by each individual. Find one of the possible sample space for this experiment. </b>\n",
    "                </font>\n",
    "            </div>\n",
    "        </td>\n",
    "    </tr>\n",
    "</table>"
   ]
  },
  {
   "cell_type": "markdown",
   "metadata": {
    "id": "o_xF71OKR4SJ"
   },
   "source": [
    "The obtained sample is one of the possible outcomes of Ron's experiment."
   ]
  },
  {
   "cell_type": "markdown",
   "metadata": {},
   "source": [
    "**Answer**"
   ]
  },
  {
   "cell_type": "code",
   "execution_count": 28,
   "metadata": {},
   "outputs": [
    {
     "name": "stdout",
     "output_type": "stream",
     "text": [
      "A possible sample space for this experiment is:\n",
      " ['Gold', 'Silver', 'Silver', 'Silver', 'Silver', 'Silver', 'Copper', 'Copper', 'Copper', 'Silver']\n"
     ]
    }
   ],
   "source": [
    "# Given Ron found a gold, silver and copper coin\n",
    "coin_space = ['Gold', 'Silver', 'Copper']\n",
    "\n",
    "# Sample with replacement\n",
    "sample_wr = random.choices(population = coin_space, k = 10)\n",
    "print('A possible sample space for this experiment is:\\n', sample_wr)"
   ]
  },
  {
   "cell_type": "markdown",
   "metadata": {
    "id": "r4J-iIEhf98N"
   },
   "source": [
    "<a id = \"est\"> </a>\n",
    "## 2. Parameter Estimation"
   ]
  },
  {
   "cell_type": "markdown",
   "metadata": {
    "id": "77vuf1DVf98O"
   },
   "source": [
    "<table align=\"left\">\n",
    "    <tr>\n",
    "        <td width=\"6%\">\n",
    "            <img src=\"question_icon.png\">\n",
    "        </td>\n",
    "        <td>\n",
    "            <div align=\"left\", style=\"font-size:120%\">\n",
    "                <font color=\"#21618C\">\n",
    "                    <b>1. The quality controller at the automobile company needs to know the average length of a steel rod produced in the company. He managed to collect the length (in cm) of 15 rods produced in the last week. Find the point estimate for the average length of the steel rod using sample data. </b>\n",
    "                </font>\n",
    "            </div>\n",
    "        </td>\n",
    "    </tr>\n",
    "</table>"
   ]
  },
  {
   "cell_type": "markdown",
   "metadata": {
    "id": "T5AL0M02ROb2"
   },
   "source": [
    "Given data:\n",
    "\n",
    "        len_rod (cm) = [25.2, 26.3, 28, 21.9, 23.4, 24, 27.2, 23, 29.2, 28.7, 23.1, 23.5, 26.4, 22.8, 24.7]"
   ]
  },
  {
   "cell_type": "markdown",
   "metadata": {},
   "source": [
    "**Answer**"
   ]
  },
  {
   "cell_type": "code",
   "execution_count": 64,
   "metadata": {},
   "outputs": [
    {
     "name": "stdout",
     "output_type": "stream",
     "text": [
      "The point estimate for the average length of the steel rod is 25.16 cm\n"
     ]
    }
   ],
   "source": [
    "len_rod = [25.2, 26.3, 28, 21.9, 23.4, 24, 27.2, 23, 29.2, 28.7, 23.1, 23.5, 26.4, 22.8, 24.7]\n",
    "\n",
    "print('The point estimate for the average length of the steel rod is', np.mean(len_rod), 'cm')"
   ]
  },
  {
   "cell_type": "markdown",
   "metadata": {
    "id": "9qnEEhR4f98X"
   },
   "source": [
    "<table align=\"left\">\n",
    "    <tr>\n",
    "        <td width=\"6%\">\n",
    "            <img src=\"question_icon.png\">\n",
    "        </td>\n",
    "        <td>\n",
    "            <div align=\"left\", style=\"font-size:120%\">\n",
    "                <font color=\"#21618C\">\n",
    "                    <b>2. The production manager at the automobile company states that all the steel rods are produced with an average length of 26 cm. Use the data given in the previous question and calculate the sampling error for the mean.</b>\n",
    "                </font>\n",
    "            </div>\n",
    "        </td>\n",
    "    </tr>\n",
    "</table>"
   ]
  },
  {
   "cell_type": "markdown",
   "metadata": {
    "id": "5Y3knIbTROb5"
   },
   "source": [
    "Given data:\n",
    "\n",
    "        len_rod (cm) = [25.2, 26.3, 28, 21.9, 23.4, 24, 27.2, 23, 29.2, 28.7, 23.1, 23.5, 26.4, 22.8, 24.7]"
   ]
  },
  {
   "cell_type": "markdown",
   "metadata": {},
   "source": [
    "**Answer**"
   ]
  },
  {
   "cell_type": "code",
   "execution_count": 65,
   "metadata": {},
   "outputs": [
    {
     "name": "stdout",
     "output_type": "stream",
     "text": [
      "Sampling error for the mean is 0.84 cm\n"
     ]
    }
   ],
   "source": [
    "len_rod = [25.2, 26.3, 28, 21.9, 23.4, 24, 27.2, 23, 29.2, 28.7, 23.1, 23.5, 26.4, 22.8, 24.7]\n",
    "\n",
    "sample_mean = np.mean(len_rod)\n",
    "\n",
    "# Given: population mean = 26cm\n",
    "pop_mean = 26\n",
    "\n",
    "print(\"Sampling error for the mean is\", round(np.abs(sample_mean - pop_mean), 4), 'cm')"
   ]
  },
  {
   "cell_type": "markdown",
   "metadata": {
    "id": "V7QJT8W9f98T"
   },
   "source": [
    "<table align=\"left\">\n",
    "    <tr>\n",
    "        <td width=\"6%\">\n",
    "            <img src=\"question_icon.png\">\n",
    "        </td>\n",
    "        <td>\n",
    "            <div align=\"left\", style=\"font-size:120%\">\n",
    "                <font color=\"#21618C\">\n",
    "                    <b>3. The NY university has opened the post of Astrophysics professor. The total number of applications was 36. To check the authenticity of the applicants a sample of 10 applications was collected, out of which 3 applicants were found to be a fraud. Estimate the number of fraud applicants from all the applications.</b>\n",
    "                </font>\n",
    "            </div>\n",
    "        </td>\n",
    "    </tr>\n",
    "</table>"
   ]
  },
  {
   "cell_type": "markdown",
   "metadata": {},
   "source": [
    "**Answer**"
   ]
  },
  {
   "cell_type": "code",
   "execution_count": 4,
   "metadata": {},
   "outputs": [
    {
     "name": "stdout",
     "output_type": "stream",
     "text": [
      "Estimated number of fraud applications is 11\n"
     ]
    }
   ],
   "source": [
    "# Let us assume the probability of fraud applications follows a normal distribution\n",
    "# Given: \n",
    "\n",
    "# total number of applications\n",
    "N = 36 \n",
    "\n",
    "# number of applications considered in sample\n",
    "n = 10\n",
    "\n",
    "# number of fraud applications in sample\n",
    "x = 3\n",
    "\n",
    "# sample proportion\n",
    "p_samp = x/n\n",
    "\n",
    "# estimate the number of fraud applications\n",
    "num_fraud = p_samp * N\n",
    "\n",
    "print('Estimated number of fraud applications is', round(num_fraud))"
   ]
  },
  {
   "cell_type": "markdown",
   "metadata": {
    "id": "6YXVLVi9f98b"
   },
   "source": [
    "<table align=\"left\">\n",
    "    <tr>\n",
    "        <td width=\"6%\">\n",
    "            <img src=\"question_icon.png\">\n",
    "        </td>\n",
    "        <td>\n",
    "            <div align=\"left\", style=\"font-size:120%\">\n",
    "                <font color=\"#21618C\">\n",
    "                    <b>4. The production manager at tea emporium wants to estimate the weight of a green tea bag. The previous study shows that the standard deviation of weight is 2.3 g. The manager collects 65 tea bags for the study. How much margin of error the manager should consider to estimate the weight with 99%  confidence. </b>\n",
    "                </font>\n",
    "            </div>\n",
    "        </td>\n",
    "    </tr>\n",
    "</table>"
   ]
  },
  {
   "cell_type": "markdown",
   "metadata": {},
   "source": [
    "**Answer**"
   ]
  },
  {
   "cell_type": "code",
   "execution_count": 89,
   "metadata": {},
   "outputs": [
    {
     "name": "stdout",
     "output_type": "stream",
     "text": [
      "z_alpha_by_2 = 2.5758\n",
      "Margin of error to estimate weight with 99% confidence is 0.7348\n"
     ]
    }
   ],
   "source": [
    "# sample standard deviation\n",
    "std = 2.3\n",
    "\n",
    "# sample number of tea bags\n",
    "n = 65\n",
    "\n",
    "# given alpha (1 - confidence %)\n",
    "alpha = 0.01\n",
    "\n",
    "# calculate z_alpha_by_2 with (1-alpha) = 0.01\n",
    "z_alpha_by_2 = round(stats.norm.isf(q = 0.01/2), 4)\n",
    "print('z_alpha_by_2 =', z_alpha_by_2)\n",
    "\n",
    "error = (z_alpha_by_2 * std)/np.sqrt(n)\n",
    "\n",
    "print(\"Margin of error to estimate weight with 99% confidence is\", round(error, 4))"
   ]
  },
  {
   "cell_type": "markdown",
   "metadata": {
    "id": "YIaQZc58f98p"
   },
   "source": [
    "<table align=\"left\">\n",
    "    <tr>\n",
    "        <td width=\"6%\">\n",
    "            <img src=\"question_icon.png\">\n",
    "        </td>\n",
    "        <td>\n",
    "            <div align=\"left\", style=\"font-size:120%\">\n",
    "                <font color=\"#21618C\">\n",
    "                    <b>5. The bank manager has received several fraud complaints from past a few weeks. The report from accountant states that the standard deviation in frauds is 16. The manager is ready to consider the margin of error as 5. To estimate the average number of frauds with 90% confidence how many transactions should the manager consider?</b>\n",
    "                </font>\n",
    "            </div>\n",
    "        </td>\n",
    "    </tr>\n",
    "</table>"
   ]
  },
  {
   "cell_type": "markdown",
   "metadata": {},
   "source": [
    "**Answer**"
   ]
  },
  {
   "cell_type": "code",
   "execution_count": 8,
   "metadata": {},
   "outputs": [
    {
     "name": "stdout",
     "output_type": "stream",
     "text": [
      "z_alpha_by_2 = 1.6449\n",
      "Number of transactions to consider to estimate average number of frauds with 90% confidence is 28\n"
     ]
    }
   ],
   "source": [
    "# standard deviation\n",
    "std = 16\n",
    "\n",
    "# given alpha (1 - confidence %)\n",
    "alpha = 0.1\n",
    "\n",
    "# calculate z_alpha_by_2 with (1 - confidence %) = 0.1\n",
    "z_alpha_by_2 = round(stats.norm.isf(q = 0.1/2), 4)\n",
    "print('z_alpha_by_2 =', z_alpha_by_2)\n",
    "\n",
    "# Given error \n",
    "margin_error = 5\n",
    "\n",
    "# error = (z_alpha_by_2 * std)/np.sqrt(n)\n",
    "n = ((z_alpha_by_2 * std)/margin_error) ** 2\n",
    "print(\"Number of transactions to consider to estimate average number of frauds with 90% confidence is\", round(n))"
   ]
  },
  {
   "cell_type": "markdown",
   "metadata": {
    "id": "qI6L73Qhf98t"
   },
   "source": [
    "<table align=\"left\">\n",
    "    <tr>\n",
    "        <td width=\"6%\">\n",
    "            <img src=\"question_icon.png\">\n",
    "        </td>\n",
    "        <td>\n",
    "            <div align=\"left\", style=\"font-size:120%\">\n",
    "                <font color=\"#21618C\">\n",
    "                    <b>6. A paediatrician wants to check the amount of sugar in the 100g pack of baby food produced by KidsGrow company. The medical journal states that a standard deviation of sugar in 100g pack is 8g. The paediatrician collects 37 packets of baby food and found that the average sugar is 24g. Find the 90% confidence interval for the population mean.</b>\n",
    "                </font>\n",
    "            </div>\n",
    "        </td>\n",
    "    </tr>\n",
    "</table>"
   ]
  },
  {
   "cell_type": "markdown",
   "metadata": {
    "id": "_VQX7SVsROb5"
   },
   "source": [
    "As the sample size is large (> 30), we use the Z-distribution to calculate the confidence interval."
   ]
  },
  {
   "cell_type": "markdown",
   "metadata": {},
   "source": [
    "**Answer**"
   ]
  },
  {
   "cell_type": "code",
   "execution_count": 6,
   "metadata": {},
   "outputs": [
    {
     "name": "stdout",
     "output_type": "stream",
     "text": [
      "90% confidence interval for the population mean is (21.83670183570907, 26.16329816429093)\n"
     ]
    }
   ],
   "source": [
    "# standard deviation\n",
    "sample_std = 8\n",
    "\n",
    "# sample number of baby food packets\n",
    "n = 37\n",
    "\n",
    "# sample mean \n",
    "sample_avg = 24\n",
    "\n",
    "# calculate the 90% confidence interval\n",
    "interval = stats.norm.interval(0.9, loc = sample_avg, scale = sample_std/np.sqrt(n))\n",
    "\n",
    "print('90% confidence interval for the population mean is', interval)"
   ]
  },
  {
   "cell_type": "markdown",
   "metadata": {
    "id": "iZkGr2rTf98y"
   },
   "source": [
    "<table align=\"left\">\n",
    "    <tr>\n",
    "        <td width=\"6%\">\n",
    "            <img src=\"question_icon.png\">\n",
    "        </td>\n",
    "        <td>\n",
    "            <div align=\"left\", style=\"font-size:120%\">\n",
    "                <font color=\"#21618C\">\n",
    "                    <b>7. The physical trainer at a university wants to estimate the average height of students at the university. The trainer collects the data of 100 students and found that the average height is 168 cm with a standard deviation of 12 cm. Find the 95% confidence interval for the population average height.</b>\n",
    "                </font>\n",
    "            </div>\n",
    "        </td>\n",
    "    </tr>\n",
    "</table>"
   ]
  },
  {
   "cell_type": "markdown",
   "metadata": {
    "id": "oSw3TfeGROb5"
   },
   "source": [
    "As the sample size is large (> 30), we use the Z-distribution to calculate the confidence interval."
   ]
  },
  {
   "cell_type": "markdown",
   "metadata": {},
   "source": [
    "**Answer**"
   ]
  },
  {
   "cell_type": "code",
   "execution_count": 7,
   "metadata": {},
   "outputs": [
    {
     "name": "stdout",
     "output_type": "stream",
     "text": [
      "95% confidence interval for the population average height is (165.64804321855195, 170.35195678144805)\n"
     ]
    }
   ],
   "source": [
    "# standard deviation\n",
    "sample_std = 12\n",
    "\n",
    "# sample number of baby food packets\n",
    "n = 100\n",
    "\n",
    "# sample mean \n",
    "sample_avg = 168\n",
    "\n",
    "# calculate the 90% confidence interval\n",
    "interval = stats.norm.interval(0.95, loc = sample_avg, scale = sample_std/np.sqrt(n))\n",
    "\n",
    "print('95% confidence interval for the population average height is', interval)"
   ]
  },
  {
   "cell_type": "markdown",
   "metadata": {
    "id": "iOS1kKjWf983"
   },
   "source": [
    "<table align=\"left\">\n",
    "    <tr>\n",
    "        <td width=\"6%\">\n",
    "            <img src=\"question_icon.png\">\n",
    "        </td>\n",
    "        <td>\n",
    "            <div align=\"left\", style=\"font-size:120%\">\n",
    "                <font color=\"#21618C\">\n",
    "                    <b>8. The health magazine in Los Angeles states that a person should drink 1.8 L water every day. To study this statement, the physician collects the data of 15 people and found that the average water intake for these people is 1.6 L with a standard deviation of 0.5 L. Calculate the 90% confidence interval for the population average water intake.</b>\n",
    "                </font>\n",
    "            </div>\n",
    "        </td>\n",
    "    </tr>\n",
    "</table>"
   ]
  },
  {
   "cell_type": "markdown",
   "metadata": {
    "id": "6rjlSs9rROb5"
   },
   "source": [
    "As the sample size is small (< 30), we use the t-distribution to calculate the confidence interval."
   ]
  },
  {
   "cell_type": "markdown",
   "metadata": {},
   "source": [
    "**Answer**"
   ]
  },
  {
   "cell_type": "code",
   "execution_count": 9,
   "metadata": {},
   "outputs": [
    {
     "name": "stdout",
     "output_type": "stream",
     "text": [
      "90% confidence interval for the population average water intake is (1.3726158392212553, 1.8273841607787449)\n"
     ]
    }
   ],
   "source": [
    "# standard deviation\n",
    "sample_std = 0.5\n",
    "\n",
    "# sample number of baby food packets\n",
    "n = 15\n",
    "\n",
    "# sample mean \n",
    "sample_avg = 1.6\n",
    "\n",
    "# calculate the 90% confidence interval using t-distribution\n",
    "interval = stats.t.interval(0.9, df = n-1, loc = sample_avg, scale = sample_std/np.sqrt(n))\n",
    "\n",
    "print('90% confidence interval for the population average water intake is', interval)"
   ]
  },
  {
   "cell_type": "markdown",
   "metadata": {
    "id": "wx9I4FarROb5"
   },
   "source": [
    "<table align=\"left\">\n",
    "    <tr>\n",
    "        <td width=\"6%\">\n",
    "            <img src=\"question_icon.png\">\n",
    "        </td>\n",
    "        <td>\n",
    "            <div align=\"left\", style=\"font-size:120%\">\n",
    "                <font color=\"#21618C\">\n",
    "                    <b>9. The NY university has opened the post of Astrophysics professor. The total number of applications was 36. To check the authenticity of the applicants a sample of 10 applications was collected, out of which 3 applicants were found to be a fraud. Construct the 95% confidence interval for the population proportion.</b>\n",
    "                </font>\n",
    "            </div>\n",
    "        </td>\n",
    "    </tr>\n",
    "</table>"
   ]
  },
  {
   "cell_type": "markdown",
   "metadata": {},
   "source": [
    "**Answer**"
   ]
  },
  {
   "cell_type": "code",
   "execution_count": 16,
   "metadata": {},
   "outputs": [
    {
     "name": "stdout",
     "output_type": "stream",
     "text": [
      "95% confidence interval for the population proportion is (0.015974234910674623, 0.5840257650893254)\n"
     ]
    }
   ],
   "source": [
    "# total number of applications\n",
    "N = 36 \n",
    "\n",
    "# number of applications considered in sample\n",
    "n = 10\n",
    "\n",
    "# number of fraud applications in sample\n",
    "x = 3\n",
    "\n",
    "# sample proportion\n",
    "p_samp = x/n\n",
    "\n",
    "# Calculate 95% confidence interval using t-distribution\n",
    "interval = stats.norm.interval(0.95, loc = p_samp, scale = np.sqrt((p_samp * (1 - p_samp))/n))\n",
    "\n",
    "print('95% confidence interval for the population proportion is', interval)"
   ]
  }
 ],
 "metadata": {
  "colab": {
   "name": "S4_Sampling_and_Estimation_inclass_Questions.ipynb",
   "provenance": []
  },
  "kernelspec": {
   "display_name": "Python 3",
   "language": "python",
   "name": "python3"
  },
  "language_info": {
   "codemirror_mode": {
    "name": "ipython",
    "version": 3
   },
   "file_extension": ".py",
   "mimetype": "text/x-python",
   "name": "python",
   "nbconvert_exporter": "python",
   "pygments_lexer": "ipython3",
   "version": "3.8.5"
  }
 },
 "nbformat": 4,
 "nbformat_minor": 1
}
