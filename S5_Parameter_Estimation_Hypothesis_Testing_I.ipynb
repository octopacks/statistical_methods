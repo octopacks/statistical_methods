{
 "cells": [
  {
   "cell_type": "markdown",
   "metadata": {
    "id": "N58yF_7y6n4j"
   },
   "source": [
    "## Table of Content\n",
    "\n",
    "1. **[Parameter Estimation](#est)**\n",
    "2. **[Hypothesis Tests with Z Statistic](#eg)**\n"
   ]
  },
  {
   "cell_type": "markdown",
   "metadata": {
    "id": "NRRqhXHJ6n4k"
   },
   "source": [
    "**Import the required libraries**"
   ]
  },
  {
   "cell_type": "code",
   "execution_count": 1,
   "metadata": {
    "executionInfo": {
     "elapsed": 2259,
     "status": "ok",
     "timestamp": 1614592550075,
     "user": {
      "displayName": "Sudha B G",
      "photoUrl": "https://lh3.googleusercontent.com/a-/AOh14GhlQTgtbIyY5WGHUlbWkOwvQCZHf7kALTNEVAhkbw=s64",
      "userId": "11454725486752146023"
     },
     "user_tz": -330
    },
    "id": "EK9Mwy6l6n4k"
   },
   "outputs": [],
   "source": [
    "import scipy.stats as stats\n",
    "import numpy as np\n",
    "import statistics\n",
    "import seaborn as sns\n",
    "import matplotlib.pyplot as plt\n",
    "from scipy.stats import shapiro\n",
    "from statsmodels.stats import weightstats as stests"
   ]
  },
  {
   "cell_type": "code",
   "execution_count": 47,
   "metadata": {},
   "outputs": [],
   "source": [
    "# set the plot size using 'rcParams'\n",
    "# once the plot size is set using 'rcParams', it sets the size of all the forthcoming plots in the file\n",
    "# pass width and height in inches to 'figure.figsize' \n",
    "plt.rcParams['figure.figsize'] = [20,11]\n",
    "\n",
    "import warnings\n",
    "warnings.simplefilter(action='ignore', category=FutureWarning)"
   ]
  },
  {
   "cell_type": "markdown",
   "metadata": {
    "id": "psOYFu6zf98N"
   },
   "source": [
    "### Let's begin with some hands-on practice exercises"
   ]
  },
  {
   "cell_type": "markdown",
   "metadata": {
    "id": "r4J-iIEhf98N"
   },
   "source": [
    "<a id = \"est\"> </a>\n",
    "## 1. Parameter Estimation"
   ]
  },
  {
   "cell_type": "markdown",
   "metadata": {
    "id": "6YXVLVi9f98b"
   },
   "source": [
    "<table align=\"left\">\n",
    "    <tr>\n",
    "        <td width=\"6%\">\n",
    "            <img src=\"question_icon.png\">\n",
    "        </td>\n",
    "        <td>\n",
    "            <div align=\"left\", style=\"font-size:120%\">\n",
    "                <font color=\"#21618C\">\n",
    "                    <b>1. The production manager at tea emporium wants to estimate the weight of a green tea bag. The previous study shows that the standard deviation of weight is 2.3 g. The manager collects 65 tea bags for the study. How much margin of error the manager should consider to estimate the weight with 99%  confidence. </b>\n",
    "                </font>\n",
    "            </div>\n",
    "        </td>\n",
    "    </tr>\n",
    "</table>"
   ]
  },
  {
   "cell_type": "code",
   "execution_count": 48,
   "metadata": {
    "id": "-qFeD6x09znR"
   },
   "outputs": [
    {
     "name": "stdout",
     "output_type": "stream",
     "text": [
      "z_alpha_by_2 = 2.5758\n",
      "Margin of error to estimate weight with 99% confidence is 0.7348\n"
     ]
    }
   ],
   "source": [
    "# sample standard deviation\n",
    "std = 2.3\n",
    "\n",
    "# sample number of tea bags\n",
    "n = 65\n",
    "\n",
    "# given alpha (1 - confidence %)\n",
    "alpha = 0.01\n",
    "\n",
    "# calculate z_alpha_by_2 with (1-alpha) = 0.01\n",
    "z_alpha_by_2 = round(stats.norm.isf(q = 0.01/2), 4)\n",
    "print('z_alpha_by_2 =', z_alpha_by_2)\n",
    "\n",
    "error = (z_alpha_by_2 * std)/np.sqrt(n)\n",
    "\n",
    "print(\"Margin of error to estimate weight with 99% confidence is\", round(error, 4))"
   ]
  },
  {
   "cell_type": "markdown",
   "metadata": {
    "id": "YIaQZc58f98p"
   },
   "source": [
    "<table align=\"left\">\n",
    "    <tr>\n",
    "        <td width=\"6%\">\n",
    "            <img src=\"question_icon.png\">\n",
    "        </td>\n",
    "        <td>\n",
    "            <div align=\"left\", style=\"font-size:120%\">\n",
    "                <font color=\"#21618C\">\n",
    "                    <b>2. The bank manager has received several fraud complaints from past a few weeks. The report from accountant states that the standard deviation in frauds is 16. The manager is ready to consider the margin of error as 5. To estimate the average number of frauds with 90% confidence how many transactions should the manager consider?</b>\n",
    "                </font>\n",
    "            </div>\n",
    "        </td>\n",
    "    </tr>\n",
    "</table>"
   ]
  },
  {
   "cell_type": "code",
   "execution_count": 49,
   "metadata": {
    "id": "12DSIdIZ6n4n"
   },
   "outputs": [
    {
     "name": "stdout",
     "output_type": "stream",
     "text": [
      "z_alpha_by_2 = 1.6449\n",
      "Number of transactions to consider to estimate average number of frauds with 90% confidence is 28\n"
     ]
    }
   ],
   "source": [
    "# standard deviation\n",
    "std = 16\n",
    "\n",
    "# given alpha (1 - confidence %)\n",
    "alpha = 0.1\n",
    "\n",
    "# calculate z_alpha_by_2 with (1 - confidence %) = 0.1\n",
    "z_alpha_by_2 = round(stats.norm.isf(q = 0.1/2), 4)\n",
    "print('z_alpha_by_2 =', z_alpha_by_2)\n",
    "\n",
    "# Given error \n",
    "margin_error = 5\n",
    "\n",
    "# error = (z_alpha_by_2 * std)/np.sqrt(n)\n",
    "n = ((z_alpha_by_2 * std)/margin_error) ** 2\n",
    "print(\"Number of transactions to consider to estimate average number of frauds with 90% confidence is\", round(n))"
   ]
  },
  {
   "cell_type": "markdown",
   "metadata": {
    "id": "qI6L73Qhf98t"
   },
   "source": [
    "<table align=\"left\">\n",
    "    <tr>\n",
    "        <td width=\"6%\">\n",
    "            <img src=\"question_icon.png\">\n",
    "        </td>\n",
    "        <td>\n",
    "            <div align=\"left\", style=\"font-size:120%\">\n",
    "                <font color=\"#21618C\">\n",
    "                    <b>3. A paediatrician wants to check the amount of sugar in the 100g pack of baby food produced by KidsGrow company. The medical journal states that a standard deviation of sugar in 100g pack is 8g. The paediatrician collects 37 packets of baby food and found that the average sugar is 24g. Find the 90% confidence interval for the population mean.</b>\n",
    "                </font>\n",
    "            </div>\n",
    "        </td>\n",
    "    </tr>\n",
    "</table>"
   ]
  },
  {
   "cell_type": "code",
   "execution_count": 50,
   "metadata": {
    "id": "iqpSq_pL6n4n"
   },
   "outputs": [
    {
     "name": "stdout",
     "output_type": "stream",
     "text": [
      "90% confidence interval for the population mean is (21.83670183570907, 26.16329816429093)\n"
     ]
    }
   ],
   "source": [
    "# standard deviation\n",
    "sample_std = 8\n",
    "\n",
    "# sample number of baby food packets\n",
    "n = 37\n",
    "\n",
    "# sample mean \n",
    "sample_avg = 24\n",
    "\n",
    "# calculate the 90% confidence interval\n",
    "interval = stats.norm.interval(0.9, loc = sample_avg, scale = sample_std/np.sqrt(n))\n",
    "\n",
    "print('90% confidence interval for the population mean is', interval)"
   ]
  },
  {
   "cell_type": "markdown",
   "metadata": {
    "id": "iZkGr2rTf98y"
   },
   "source": [
    "<table align=\"left\">\n",
    "    <tr>\n",
    "        <td width=\"6%\">\n",
    "            <img src=\"question_icon.png\">\n",
    "        </td>\n",
    "        <td>\n",
    "            <div align=\"left\", style=\"font-size:120%\">\n",
    "                <font color=\"#21618C\">\n",
    "                    <b>4. The physical trainer at a university wants to estimate the average height of students at the university. The trainer collects the data of 100 students and found that the average height is 168 cm with a standard deviation of 12 cm. Find the 95% confidence interval for the population average height.</b>\n",
    "                </font>\n",
    "            </div>\n",
    "        </td>\n",
    "    </tr>\n",
    "</table>"
   ]
  },
  {
   "cell_type": "code",
   "execution_count": 51,
   "metadata": {
    "id": "mqc5wK1p6n4n"
   },
   "outputs": [
    {
     "name": "stdout",
     "output_type": "stream",
     "text": [
      "95% confidence interval for the population average height is (165.64804321855195, 170.35195678144805)\n"
     ]
    }
   ],
   "source": [
    "# As the sample size is large (> 30), we use the Z-distribution to calculate the confidence interval.\n",
    "\n",
    "# standard deviation\n",
    "sample_std = 12\n",
    "\n",
    "# sample number of baby food packets\n",
    "n = 100\n",
    "\n",
    "# sample mean \n",
    "sample_avg = 168\n",
    "\n",
    "# calculate the 90% confidence interval\n",
    "interval = stats.norm.interval(0.95, loc = sample_avg, scale = sample_std/np.sqrt(n))\n",
    "\n",
    "print('95% confidence interval for the population average height is', interval)"
   ]
  },
  {
   "cell_type": "markdown",
   "metadata": {
    "id": "iOS1kKjWf983"
   },
   "source": [
    "<table align=\"left\">\n",
    "    <tr>\n",
    "        <td width=\"6%\">\n",
    "            <img src=\"question_icon.png\">\n",
    "        </td>\n",
    "        <td>\n",
    "            <div align=\"left\", style=\"font-size:120%\">\n",
    "                <font color=\"#21618C\">\n",
    "                    <b>5. The health magazine in Los Angeles states that a person should drink 1.8 L water every day. To study this statement, the physician collects the data of 15 people and found that the average water intake for these people is 1.6 L with a standard deviation of 0.5 L. Calculate the 90% confidence interval for the population average water intake.</b>\n",
    "                </font>\n",
    "            </div>\n",
    "        </td>\n",
    "    </tr>\n",
    "</table>"
   ]
  },
  {
   "cell_type": "code",
   "execution_count": 52,
   "metadata": {
    "id": "iPKIyS7u6n4n"
   },
   "outputs": [
    {
     "name": "stdout",
     "output_type": "stream",
     "text": [
      "90% confidence interval for the population average water intake is (1.3726158392212553, 1.8273841607787449)\n"
     ]
    }
   ],
   "source": [
    "# As the sample size is small (< 30), we use the t-distribution to calculate the confidence interval.\n",
    "\n",
    "# standard deviation\n",
    "sample_std = 0.5\n",
    "\n",
    "# sample number of baby food packets\n",
    "n = 15\n",
    "\n",
    "# sample mean \n",
    "sample_avg = 1.6\n",
    "\n",
    "# calculate the 90% confidence interval using t-distribution\n",
    "interval = stats.t.interval(0.9, df = n-1, loc = sample_avg, scale = sample_std/np.sqrt(n))\n",
    "\n",
    "print('90% confidence interval for the population average water intake is', interval)"
   ]
  },
  {
   "cell_type": "markdown",
   "metadata": {
    "id": "zInMfkli6n4n"
   },
   "source": [
    "<table align=\"left\">\n",
    "    <tr>\n",
    "        <td width=\"6%\">\n",
    "            <img src=\"question_icon.png\">\n",
    "        </td>\n",
    "        <td>\n",
    "            <div align=\"left\", style=\"font-size:120%\">\n",
    "                <font color=\"#21618C\">\n",
    "                    <b>6. The NY university has opened the post of Astrophysics professor. The total number of applications was 36. To check the authenticity of the applicants a sample of 10 applications was collected, out of which 3 applicants were found to be a fraud. Construct the 95% confidence interval for the population proportion.</b>\n",
    "                </font>\n",
    "            </div>\n",
    "        </td>\n",
    "    </tr>\n",
    "</table>"
   ]
  },
  {
   "cell_type": "code",
   "execution_count": 53,
   "metadata": {
    "id": "lVHF1oiT6n4n"
   },
   "outputs": [
    {
     "name": "stdout",
     "output_type": "stream",
     "text": [
      "95% confidence interval for the population proportion is (0.015974234910674623, 0.5840257650893254)\n"
     ]
    }
   ],
   "source": [
    "# total number of applications\n",
    "N = 36 \n",
    "\n",
    "# number of applications considered in sample\n",
    "n = 10\n",
    "\n",
    "# number of fraud applications in sample\n",
    "x = 3\n",
    "\n",
    "# sample proportion\n",
    "p_samp = x/n\n",
    "\n",
    "# Calculate 95% confidence interval using t-distribution\n",
    "interval = stats.norm.interval(0.95, loc = p_samp, scale = np.sqrt((p_samp * (1 - p_samp))/n))\n",
    "\n",
    "print('95% confidence interval for the population proportion is', interval)"
   ]
  },
  {
   "cell_type": "markdown",
   "metadata": {
    "id": "QLSslfFdf98b"
   },
   "source": [
    "<a id = \"eg\"> </a>\n",
    "## 2. Hypothesis Tests with Z Statistic"
   ]
  },
  {
   "cell_type": "markdown",
   "metadata": {
    "id": "XID79y2_f99O"
   },
   "source": [
    "<table align=\"left\">\n",
    "    <tr>\n",
    "        <td width=\"6%\">\n",
    "            <img src=\"question_icon.png\">\n",
    "        </td>\n",
    "        <td>\n",
    "            <div align=\"left\", style=\"font-size:120%\">\n",
    "                <font color=\"#21618C\">\n",
    "                    <b>7. The temperature (in degree Celsius) at Manhattan is recorded for 45 winter days. A student from the Geography department wants to test the claim proposed by the weather department. Check whether the given data satisfies the condition of normality with 99% confidence?</b>\n",
    "                </font>\n",
    "            </div>\n",
    "        </td>\n",
    "    </tr>\n",
    "</table>"
   ]
  },
  {
   "cell_type": "markdown",
   "metadata": {
    "id": "3v1egc8o6n4n"
   },
   "source": [
    "Use the data given below:\n",
    "        \n",
    "    temp_winter =  [2.51, 2.6, 1.8, 2.61, 3.9, 1.7, 1.9, 3.1, 1.58, 2.85, 2.9, 1.25, 1.3, 2.4, 3.22, 2.56, 1.32, 1.2, 1.26, \n",
    "                    3.2, 2.7, 3.5, 2.8, 1.5, 3.8, 1.84, 3.31, 1.24, 1.75, 1.41, 1.57, 1.4, 1.49, 2.26, 2.5, 2.52, 3.42,\n",
    "                    1.36, 2.35, 2.47, 2.28, 2.22, 2.66, 3.43, 1.98]"
   ]
  },
  {
   "cell_type": "code",
   "execution_count": 54,
   "metadata": {
    "executionInfo": {
     "elapsed": 1523,
     "status": "ok",
     "timestamp": 1614590626428,
     "user": {
      "displayName": "Sudha B G",
      "photoUrl": "https://lh3.googleusercontent.com/a-/AOh14GhlQTgtbIyY5WGHUlbWkOwvQCZHf7kALTNEVAhkbw=s64",
      "userId": "11454725486752146023"
     },
     "user_tz": -330
    },
    "id": "FOsOKMTvGbcN"
   },
   "outputs": [
    {
     "name": "stdout",
     "output_type": "stream",
     "text": [
      "Test statistic = 0.9453739523887634 \n",
      "P-value = 0.03401985391974449\n",
      "\n",
      "p_val is greater than alpha at 99% confidence level. So the data is normally distributed\n"
     ]
    }
   ],
   "source": [
    "temp_winter =  [2.51, 2.6, 1.8, 2.61, 3.9, 1.7, 1.9, 3.1, 1.58, 2.85, 2.9, 1.25, 1.3, 2.4, 3.22, 2.56, 1.32, 1.2, 1.26, \n",
    "                3.2, 2.7, 3.5, 2.8, 1.5, 3.8, 1.84, 3.31, 1.24, 1.75, 1.41, 1.57, 1.4, 1.49, 2.26, 2.5, 2.52, 3.42, 1.36, \n",
    "                2.35, 2.47, 2.28, 2.22, 2.66, 3.43, 1.98]\n",
    "\n",
    "stats, p_val = shapiro(temp_winter)\n",
    "print('Test statistic =', stats, '\\nP-value =', p_val)\n",
    "\n",
    "# for 99% confidence interval, alpha = 0.01\n",
    "alpha = 0.01\n",
    "\n",
    "if (p_val > alpha):\n",
    "    print('\\np_val is greater than alpha at 99% confidence level. So the data is normally distributed')\n",
    "else:\n",
    "    print('\\np_val is lesser than alpha at 99% confidence level. So the data is not normally distributed')"
   ]
  },
  {
   "cell_type": "markdown",
   "metadata": {
    "id": "1EQzDVF36n4o"
   },
   "source": [
    "<table align=\"left\">\n",
    "    <tr>\n",
    "        <td width=\"6%\">\n",
    "            <img src=\"question_icon.png\">\n",
    "        </td>\n",
    "        <td>\n",
    "            <div align=\"left\", style=\"font-size:120%\">\n",
    "                <font color=\"#21618C\">\n",
    "                    <b>8. Use the temperature data given in the previous question. The weather department claims that the average temperature in Manhattan is less than 2.8 degree celsius in winter. Test the department's claim using a critical value method with 99% confidence.</b>\n",
    "                </font>\n",
    "            </div>\n",
    "        </td>\n",
    "    </tr>\n",
    "</table>"
   ]
  },
  {
   "cell_type": "markdown",
   "metadata": {
    "id": "1hTsJzu76n4o"
   },
   "source": [
    "Use the data given below:\n",
    "        \n",
    "    temp_winter =  [2.51, 2.6, 1.8, 2.61, 3.9, 1.7, 1.9, 3.1, 1.58, 2.85, 2.9, 1.25, 1.3, 2.4, 3.22, 2.56, 1.32, 1.2, 1.26, \n",
    "                    3.2, 2.7, 3.5, 2.8, 1.5, 3.8, 1.84, 3.31, 1.24, 1.75, 1.41, 1.57, 1.4, 1.49, 2.26, 2.5, 2.52, 3.42,\n",
    "                    1.36, 2.35, 2.47, 2.28, 2.22, 2.66, 3.43, 1.98]"
   ]
  },
  {
   "cell_type": "code",
   "execution_count": 55,
   "metadata": {
    "colab": {
     "base_uri": "https://localhost:8080/"
    },
    "executionInfo": {
     "elapsed": 1411,
     "status": "ok",
     "timestamp": 1614591226954,
     "user": {
      "displayName": "Sudha B G",
      "photoUrl": "https://lh3.googleusercontent.com/a-/AOh14GhlQTgtbIyY5WGHUlbWkOwvQCZHf7kALTNEVAhkbw=s64",
      "userId": "11454725486752146023"
     },
     "user_tz": -330
    },
    "id": "tfs416fpHqcY",
    "outputId": "3e97e929-7ef5-4183-dafd-3c7f77d5b2bf"
   },
   "outputs": [],
   "source": [
    "# given data\n",
    "temp_winter =  [2.51, 2.6, 1.8, 2.61, 3.9, 1.7, 1.9, 3.1, 1.58, 2.85, 2.9, 1.25, 1.3, 2.4, 3.22, 2.56, 1.32, 1.2, 1.26, \n",
    "                3.2, 2.7, 3.5, 2.8, 1.5, 3.8, 1.84, 3.31, 1.24, 1.75, 1.41, 1.57, 1.4, 1.49, 2.26, 2.5, 2.52, 3.42, 1.36, \n",
    "                2.35, 2.47, 2.28, 2.22, 2.66, 3.43, 1.98]"
   ]
  },
  {
   "cell_type": "markdown",
   "metadata": {},
   "source": [
    "* Data is normally distributed from Shapiro-Wilk test in previous question\n",
    "\n",
    "\n",
    "H<sub>0</sub>: $\\mu \\geq 2.8 $<br>\n",
    "H<sub>a</sub>: $\\mu < 2.8 $\n",
    "\n",
    "\n",
    "* Null Hypothesis: The average temp. in Manhattan is greater than or equal to 2.8\n",
    "* Alternate Hypothesis: The average temp. in Manhattan is less than 2.8\n",
    "\n",
    "\n",
    "* This is a left-tailed test"
   ]
  },
  {
   "cell_type": "code",
   "execution_count": 58,
   "metadata": {
    "id": "vx9hp76eJGtn"
   },
   "outputs": [
    {
     "name": "stdout",
     "output_type": "stream",
     "text": [
      "xbar = 2.2871111111111113\n",
      "sample_std = 0.7663205660012937\n",
      "\n",
      "Z-score = -4.4897\n",
      "\n",
      "Z-score:  -4.4396\n",
      "p-value:  4.507316464110269e-06\n",
      "\n",
      "Critical value for left-tailed Z-test = -2.3263\n",
      "\n",
      "Confidence interval: (1.9928578371080259, 2.5813643851141967)\n"
     ]
    }
   ],
   "source": [
    "xbar = np.mean(temp_winter)\n",
    "sample_std = np.std(temp_winter)\n",
    "print('xbar =', xbar)\n",
    "print('sample_std =', sample_std)\n",
    "\n",
    "# Given information \n",
    "mu = 2.8\n",
    "alpha = 0.01\n",
    "n = 45\n",
    "se = sample_std / np.sqrt(n)\n",
    "\n",
    "# Calculate Z-score\n",
    "zscore = round((xbar - mu)/se, 4)\n",
    "print('\\nZ-score =', zscore)\n",
    "\n",
    "\n",
    "# Calculate Z-score and p-value using Z-test\n",
    "z_score, pval = stests.ztest(x1 = temp_winter, value = 2.8, alternative = 'smaller')\n",
    "print(\"\\nZ-score: \", round(z_score, 4))\n",
    "print(\"p-value: \", pval)\n",
    "\n",
    "# Calculate Z-critical at 99% confidence level\n",
    "z_val = round(stats.norm.isf(0.01), 4)\n",
    "print('\\nCritical value for left-tailed Z-test =', -z_val)\n",
    "\n",
    "print('\\nConfidence interval:', stats.norm.interval(0.99, loc = np.mean(temp_winter), \n",
    "                                                  scale = sample_std / np.sqrt(n)))\n"
   ]
  },
  {
   "cell_type": "markdown",
   "metadata": {
    "executionInfo": {
     "elapsed": 885,
     "status": "ok",
     "timestamp": 1614591381475,
     "user": {
      "displayName": "Sudha B G",
      "photoUrl": "https://lh3.googleusercontent.com/a-/AOh14GhlQTgtbIyY5WGHUlbWkOwvQCZHf7kALTNEVAhkbw=s64",
      "userId": "11454725486752146023"
     },
     "user_tz": -330
    },
    "id": "1vfXzevf6n4o"
   },
   "source": [
    "* Here the z-score is lesser than -2.32 (Z-crit) i.e. z-score falls in rejection region of H0\n",
    "* p-value is lesser than 0.01\n",
    "* Also the confidence interval does not contain the value in null hypothesis (2.8)\n",
    "* Thus we reject the null hypothesis i.e there is no evidence to conclude that avg winter temperature in Manhattan is greater than or equal to 2.8 celsius"
   ]
  },
  {
   "cell_type": "markdown",
   "metadata": {
    "id": "oAI1VKzx6n4o"
   },
   "source": [
    "<table align=\"left\">\n",
    "    <tr>\n",
    "        <td width=\"6%\">\n",
    "            <img src=\"question_icon.png\">\n",
    "        </td>\n",
    "        <td>\n",
    "            <div align=\"left\", style=\"font-size:120%\">\n",
    "                <font color=\"#21618C\">\n",
    "                    <b>9. The production manager at the automobile company states that all the steel rods are produced with an average length of 26 cm and a standard deviation of 2.4 cm. The length of 60 rods is collected as a sample and the average length of these rods is found to be 24.8 cm. Test whether the length of the rod is different than 26 cm with a 95% confidence interval. </b>\n",
    "                </font>\n",
    "            </div>\n",
    "        </td>\n",
    "    </tr>\n",
    "</table>"
   ]
  },
  {
   "cell_type": "markdown",
   "metadata": {},
   "source": [
    "H<sub>0</sub>: $\\mu = 26 $<br> \n",
    "H<sub>a</sub>: $\\mu ≠ 26 $\n",
    "\n",
    "\n",
    "* Null Hypothesis: The average length of steel rods is equal to 26cm\n",
    "* Alternate Hypothesis: The average length of steel rods is not equal to 26cm\n",
    "* This is a two-tailed test"
   ]
  },
  {
   "cell_type": "code",
   "execution_count": 59,
   "metadata": {},
   "outputs": [
    {
     "name": "stdout",
     "output_type": "stream",
     "text": [
      "Z-score = -3.872983346207415\n",
      "p-value = 0.00010751117672950135\n",
      "\n",
      "Z-crit = 1.96 and -1.96\n",
      "\n",
      "Confidence interval: (24.192727370296804, 25.407272629703197)\n"
     ]
    }
   ],
   "source": [
    "# Given data\n",
    "mu = 26\n",
    "samp_mean = 24.8\n",
    "pop_std = 2.4\n",
    "n = 60\n",
    "alpha = 0.05\n",
    "\n",
    "# calculate the Z statistic\n",
    "zscore = (samp_mean - mu)/(pop_std/np.sqrt(n))\n",
    "print('Z-score =', zscore)\n",
    "\n",
    "# p-value for Z statistic\n",
    "p_val = stats.norm.cdf(zscore)\n",
    "print('p-value =', p_val * 2)\n",
    "\n",
    "# Critical z-value for two-tailed test\n",
    "zval = round(stats.norm.isf(q = alpha/2), 2)\n",
    "print('\\nZ-crit =', zval, 'and', -zval)\n",
    "\n",
    "\n",
    "# Calculate confidence interval\n",
    "interval = stats.norm.interval(0.95, loc = samp_mean, scale = pop_std/np.sqrt(n))\n",
    "print('\\nConfidence interval:', interval)"
   ]
  },
  {
   "cell_type": "markdown",
   "metadata": {
    "colab": {
     "base_uri": "https://localhost:8080/"
    },
    "executionInfo": {
     "elapsed": 1770,
     "status": "ok",
     "timestamp": 1614592685480,
     "user": {
      "displayName": "Sudha B G",
      "photoUrl": "https://lh3.googleusercontent.com/a-/AOh14GhlQTgtbIyY5WGHUlbWkOwvQCZHf7kALTNEVAhkbw=s64",
      "userId": "11454725486752146023"
     },
     "user_tz": -330
    },
    "id": "CpKGAfJ96n4o",
    "outputId": "0badff90-133b-48e9-e8d6-dfe2ccafdf5e"
   },
   "source": [
    "* Here the confidence interval does not contain the value in the null hypothesis (i.e. 26)\n",
    "* Thus we reject the null hypothesis and conclude that there is enough evidence to claim that the length of the rod is different than 26cm.\n",
    "* The z score is less than -1.96 i.e. z-score falls in rejection region of H0\n",
    "* p-value is less than alpha (0.05)"
   ]
  },
  {
   "cell_type": "markdown",
   "metadata": {
    "id": "-3erVxEt6n4o"
   },
   "source": [
    "<table align=\"left\">\n",
    "    <tr>\n",
    "        <td width=\"6%\">\n",
    "            <img src=\"question_icon.png\">\n",
    "        </td>\n",
    "        <td>\n",
    "            <div align=\"left\", style=\"font-size:120%\">\n",
    "                <font color=\"#21618C\">\n",
    "                        <b>10. The production manager at tea emporium claims that the weight of a green tea bag is less than 3.5 g. To test the manager's claim consider a sample of 50 tea bags. The sample average weight is found to be 3.28 g with a standard deviation of 0.6 g. Use the p-value technique to test the claim at a 10% level of significance. </b>\n",
    "                </font>\n",
    "            </div>\n",
    "        </td>\n",
    "    </tr>\n",
    "</table>"
   ]
  },
  {
   "cell_type": "markdown",
   "metadata": {},
   "source": [
    "H<sub>0</sub>: $\\mu \\geq 3.5 $<br>\n",
    "H<sub>a</sub>: $\\mu < 3.5 $\n",
    "\n",
    "\n",
    "* Null Hypothesis: The weight of a tea bag is greater than or equal to 3.5g\n",
    "* Alternate Hypothesis: The weight of a tea bag is lesser than 3.5g\n",
    "* This is a left-tailed test"
   ]
  },
  {
   "cell_type": "code",
   "execution_count": 60,
   "metadata": {},
   "outputs": [
    {
     "name": "stdout",
     "output_type": "stream",
     "text": [
      "Z-score = -2.592724864350677\n",
      "p-value = 0.0047609455920493825\n",
      "\n",
      "Z-crit = -1.28\n",
      "\n",
      "Confidence interval: (3.140429541558799, 3.4195704584412008)\n"
     ]
    }
   ],
   "source": [
    "# Given data\n",
    "mu = 3.5\n",
    "samp_mean = 3.28\n",
    "pop_std = 0.6\n",
    "n = 50\n",
    "alpha = 0.1\n",
    "\n",
    "# calculate the Z statistic\n",
    "zscore = (samp_mean - mu)/(pop_std/np.sqrt(n))\n",
    "print('Z-score =', zscore)\n",
    "\n",
    "# p-value for Z statistic\n",
    "p_val = stats.norm.cdf(zscore)\n",
    "print('p-value =', p_val)\n",
    "\n",
    "# Critical z-value for two-tailed test\n",
    "zval = round(stats.norm.isf(q = alpha), 2)\n",
    "print('\\nZ-crit =', -zval)\n",
    "\n",
    " \n",
    "# Calculate confidence interval\n",
    "interval = stats.norm.interval(0.9, loc = samp_mean, scale = pop_std/np.sqrt(n))\n",
    "print('\\nConfidence interval:', interval)"
   ]
  },
  {
   "cell_type": "markdown",
   "metadata": {
    "id": "hZbz_rZt6n4o"
   },
   "source": [
    "* Here the p-value is lesser than alpha (0.1)\n",
    "* The z-score is lesser than -1.28 (Z-crit) i.e. z-score falls in rejection region of H0\n",
    "* Also the confidence interval does not contain the value in null hypothesis (3.5)\n",
    "* Thus we reject the null hypothesis i.e there is no evidence to conclude that avg weight of a green tea bag is greater than or equal to 3.5g"
   ]
  },
  {
   "cell_type": "markdown",
   "metadata": {
    "collapsed": true,
    "id": "HZFFslCG6n4o"
   },
   "source": [
    "<table align=\"left\">\n",
    "    <tr>\n",
    "        <td width=\"6%\">\n",
    "            <img src=\"question_icon.png\">\n",
    "        </td>\n",
    "        <td>\n",
    "            <div align=\"left\", style=\"font-size:120%\">\n",
    "                <font color=\"#21618C\">\n",
    "                    <b>11. The physician at university claims that the average height of male students in the university hostel is more than 175 cm with a standard deviation of 8 cm. To test the claim the physical trainer at a university collects the data of 75 male students in the hostel and calculate the average height of those 75 students as 176.3 cm. Plot the acceptance and rejection region to test the physician's claim at 95% confidence.\n",
    "</b>\n",
    "                </font>\n",
    "            </div>\n",
    "        </td>\n",
    "    </tr>\n",
    "</table>"
   ]
  },
  {
   "cell_type": "markdown",
   "metadata": {},
   "source": [
    "H<sub>0</sub>: $\\mu \\leq 175 $<br>\n",
    "H<sub>a</sub>: $\\mu > 175 $\n",
    "\n",
    "\n",
    "* Null Hypothesis: The average height of male students in the univeristy hostel is less than or equal to 175cm\n",
    "* Alternate Hypothesis: The average height of male students in the univeristy hostel is greater than 175cm\n",
    "* This is a right-tailed test"
   ]
  },
  {
   "cell_type": "code",
   "execution_count": 61,
   "metadata": {
    "id": "K-_BRUoO6n4o"
   },
   "outputs": [
    {
     "name": "stdout",
     "output_type": "stream",
     "text": [
      "Z-score = 1.4072912811497253\n",
      "p-value = 0.07967051682425197\n",
      "\n",
      "Z-crit = 1.64\n",
      "\n",
      "Confidence interval: (174.78054930512326, 177.81945069487676)\n"
     ]
    }
   ],
   "source": [
    "# Given data\n",
    "mu = 175\n",
    "samp_mean = 176.3\n",
    "pop_std = 8\n",
    "n = 75\n",
    "alpha = 0.05\n",
    "\n",
    "# calculate the Z statistic\n",
    "zscore = (samp_mean - mu)/(pop_std/np.sqrt(n))\n",
    "print('Z-score =', zscore)\n",
    "\n",
    "# p-value for Z statistic\n",
    "p_val = stats.norm.sf(zscore)\n",
    "print('p-value =', p_val)\n",
    "\n",
    "# Critical z-value for two-tailed test\n",
    "zval = round(stats.norm.isf(q = alpha), 2)\n",
    "print('\\nZ-crit =', zval)\n",
    "\n",
    "\n",
    "# Calculate confidence interval\n",
    "interval = stats.norm.interval(0.9, loc = samp_mean, scale = pop_std/np.sqrt(n))\n",
    "print('\\nConfidence interval:', interval)"
   ]
  },
  {
   "cell_type": "markdown",
   "metadata": {},
   "source": [
    "* Here the z-score falls to the left of 1.64 (Z-crit) on the positive tail i.e. z-score falls outside the rejection region of H0\n",
    "* p-value is greater than alpha (0.05)\n",
    "* Also the confidence interval contains the value in null hypothesis (175)\n",
    "* Thus we fail to reject the null hypothesis i.e there is no evidence to conclude that the average height of male students in the univeristy hostel is greater than 175cm"
   ]
  },
  {
   "cell_type": "code",
   "execution_count": 62,
   "metadata": {},
   "outputs": [
    {
     "data": {
      "image/png": "[encoded data removed]",
      "text/plain": [
       "<Figure size 1440x792 with 1 Axes>"
      ]
     },
     "metadata": {
      "needs_background": "light"
     },
     "output_type": "display_data"
    }
   ],
   "source": [
    "# consider a random variable 'X' that follows a standard normal distribution \n",
    "X = stats.norm.rvs(size = 1000000, random_state = 20)\n",
    "\n",
    "# plot the distribution of X\n",
    "ax = sns.distplot(a = X, hist = False, kde_kws = dict(cumulative=False))\n",
    "\n",
    "# set the limit for y-axis\n",
    "plt.ylim(0, 0.42)\n",
    "\n",
    "# Calculate the critical z-value for alpha = 0.1\n",
    "z = stats.norm.isf(q = 0.05)\n",
    "\n",
    "# plot a vertical line at z-value\n",
    "x, y = [z, z], [0, 0.3]\n",
    "plt.plot(x, y, color = 'black')\n",
    "\n",
    "# plot a vertical line at z-score value\n",
    "x, y = [zscore, zscore], [0, 0.013]\n",
    "plt.plot(x, y, color = 'black')\n",
    "\n",
    "# add the color to the right of the z-value and left of -(z-value)\n",
    "# get the data for x and y axes\n",
    "l1 = ax.lines[0]\n",
    "x1 = l1.get_xydata()[:,0]\n",
    "y1 = l1.get_xydata()[:,1]\n",
    "\n",
    "# fill the color for the region where x-values are greater than the critical z-value\n",
    "# pass the condition to shade the required region\n",
    "# pass the required color to the parameter, 'color'\n",
    "ax.fill_between(x1[x1 >= z], y1[x1 >= z], color = 'lightblue')\n",
    "\n",
    "# use 'annonate' function to draw an arrow between points xy and xytext\n",
    "# 's' is a argument to write text\n",
    "plt.annotate(text = 'Mean (μ)', xy = (0, 0), xytext = (-0.3, 0.04), arrowprops = dict(facecolor = 'black', arrowstyle = 'simple'))\n",
    "\n",
    "plt.annotate(text = 'α = 0.05\\n(Rejection Region for H0)', xy = (2.8, 0.004), xytext = (2.8, 0.055), \n",
    "             arrowprops = dict(facecolor = 'black', arrowstyle = 'simple'))\n",
    "\n",
    "plt.annotate(text = 'z_crit = '+ str(round(z,2)), xy = (z, 0), xytext = (z-1.2, 0.02), \n",
    "             arrowprops = dict(facecolor = 'black', arrowstyle = 'simple'))\n",
    "\n",
    "plt.text(x = -1.15, y = 0.2, s = 'Acceptance Region for H0 (1 - α)')\n",
    "\n",
    "# assign the x-axis labels\n",
    "# pass the position of labels to the parameter, 'ticks'\n",
    "# pass the required labels to the parameter, 'labels'\n",
    "plt.xticks(ticks = [-6, -4, -2, 0, 2, 4, 6, round(zscore,2)], \n",
    "           labels = [-6, -4, -2, 0, 2, 4, 6, 'z_test = '+str(round(zscore,2))])\n",
    "\n",
    "# set plot and axes labels\n",
    "# set text size using 'fontsize'\n",
    "plt.xlabel('Z', fontsize = 15)\n",
    "plt.ylabel('Probability', fontsize = 15)\n",
    "plt.title('Right-Tailed Test', fontsize = 15)\n",
    "\n",
    "# display the plot\n",
    "plt.show()"
   ]
  },
  {
   "cell_type": "markdown",
   "metadata": {
    "id": "Lzs2ddCwf99m"
   },
   "source": [
    "<table align=\"left\">\n",
    "    <tr>\n",
    "        <td width=\"6%\">\n",
    "            <img src=\"question_icon.png\">\n",
    "        </td>\n",
    "        <td>\n",
    "            <div align=\"left\", style=\"font-size:120%\">\n",
    "                <font color=\"#21618C\">\n",
    "                    <b>12. The quality control department at a soap company states that their herbal soap contains 28 ml of palm oil with a standard deviation of 3.5 ml. A sample of 120 soaps is considered. The average amount of palm oil in the sample is 27.6 ml. Test whether the amount of palm oil is different than 28 ml using the 90% confidence interval. </b>\n",
    "                </font>\n",
    "            </div>\n",
    "        </td>\n",
    "    </tr>\n",
    "</table>"
   ]
  },
  {
   "cell_type": "markdown",
   "metadata": {},
   "source": [
    "H<sub>0</sub>: $\\mu = 28 $<br> \n",
    "H<sub>a</sub>: $\\mu ≠ 28 $\n",
    "\n",
    "\n",
    "* Null Hypothesis: The amount of palm oil in the herbal soap is equal to 28ml\n",
    "* Alternate Hypothesis: The amount of palm oil in the herbal soap is not equal to 28ml\n",
    "* This is a two-tailed test"
   ]
  },
  {
   "cell_type": "code",
   "execution_count": 63,
   "metadata": {
    "id": "i0R804536n4p"
   },
   "outputs": [
    {
     "name": "stdout",
     "output_type": "stream",
     "text": [
      "Z-score = -1.251937274297518\n",
      "p-value = 0.2105927211869113\n",
      "\n",
      "Z-crit = 1.64 and -1.64\n",
      "\n",
      "Confidence interval: (27.074461329422622, 28.12553867057738)\n"
     ]
    }
   ],
   "source": [
    "# Given data\n",
    "mu = 28\n",
    "samp_mean = 27.6\n",
    "pop_std = 3.5\n",
    "n = 120\n",
    "alpha = 0.1\n",
    "\n",
    "# calculate the Z statistic\n",
    "zscore = (samp_mean - mu)/(pop_std/np.sqrt(n))\n",
    "print('Z-score =', zscore)\n",
    "\n",
    "# p-value for Z statistic\n",
    "p_val = stats.norm.cdf(zscore)\n",
    "print('p-value =', p_val * 2)\n",
    "\n",
    "# Critical z-value for two-tailed test\n",
    "zval = round(stats.norm.isf(q = alpha/2), 2)\n",
    "print('\\nZ-crit =', zval, 'and', -zval)\n",
    "\n",
    "\n",
    "# Calculate confidence interval\n",
    "interval = stats.norm.interval(0.9, loc = samp_mean, scale = pop_std/np.sqrt(n))\n",
    "print('\\nConfidence interval:', interval)"
   ]
  },
  {
   "cell_type": "markdown",
   "metadata": {},
   "source": [
    "* Here the confidence interval contains the value in null hypothesis (28)\n",
    "* Thus we fail to reject the null hypothesis i.e there is no evidence to conclude that the amount of palm oil in the herbal soap is different than 28ml\n",
    "* The z-score is greater than -1.64 (Z-crit) i.e. z-score falls outside the rejection region of H0\n",
    "* p-value is greater than alpha (0.1)"
   ]
  },
  {
   "cell_type": "markdown",
   "metadata": {
    "id": "3uPwVwgAf99s"
   },
   "source": [
    "<table align=\"left\">\n",
    "    <tr>\n",
    "        <td width=\"6%\">\n",
    "            <img src=\"question_icon.png\">\n",
    "        </td>\n",
    "        <td>\n",
    "            <div align=\"left\", style=\"font-size:120%\">\n",
    "                <font color=\"#21618C\">\n",
    "                    <b>13. The bank manager claims that the complaints regarding fraud transactions are less than 12 per month with a standard deviation of 3 frauds. To test the claim the sample data for 3 years is collected. The average number of frauds in sample data is 10. Use the critical value method to test the claim with 95% confidence.</b>\n",
    "                </font>\n",
    "            </div>\n",
    "        </td>\n",
    "    </tr>\n",
    "</table>"
   ]
  },
  {
   "cell_type": "markdown",
   "metadata": {},
   "source": [
    "H<sub>0</sub>: $\\mu \\geq 12 $<br>\n",
    "H<sub>a</sub>: $\\mu < 12 $\n",
    "\n",
    "\n",
    "* Null Hypothesis: The number of fraud transactions per month is greater than or equal to 12\n",
    "* Alternate Hypothesis: The number of fraud transactions per month is lesser than 12\n",
    "* This is a left-tailed test"
   ]
  },
  {
   "cell_type": "code",
   "execution_count": 64,
   "metadata": {
    "id": "k8Uql9Or6n4p"
   },
   "outputs": [
    {
     "name": "stdout",
     "output_type": "stream",
     "text": [
      "Z-score = -4.0\n",
      "p-value = 3.167124183311986e-05\n",
      "\n",
      "Z-crit = -1.64\n",
      "\n",
      "Confidence interval: (9.177573186524263, 10.822426813475737)\n"
     ]
    }
   ],
   "source": [
    "# Given data\n",
    "mu = 12\n",
    "samp_mean = 10\n",
    "pop_std = 3\n",
    "n = 3*12\n",
    "alpha = 0.05\n",
    "\n",
    "# calculate the Z statistic\n",
    "zscore = (samp_mean - mu)/(pop_std/np.sqrt(n))\n",
    "print('Z-score =', zscore)\n",
    "\n",
    "# p-value for Z statistic\n",
    "p_val = stats.norm.cdf(zscore)\n",
    "print('p-value =', p_val)\n",
    "\n",
    "# Critical z-value for two-tailed test\n",
    "zval = round(stats.norm.isf(q = alpha), 2)\n",
    "print('\\nZ-crit =', -zval)\n",
    "\n",
    "\n",
    "# Calculate confidence interval\n",
    "interval = stats.norm.interval(0.9, loc = samp_mean, scale = pop_std/np.sqrt(n))\n",
    "print('\\nConfidence interval:', interval)"
   ]
  },
  {
   "cell_type": "markdown",
   "metadata": {},
   "source": [
    "* Here the z-score is lesser than -1.64 (Z-crit) i.e. z-score falls in rejection region of H0\n",
    "* p-value is lesser than alpha (0.05)\n",
    "* Also the confidence interval does not contain the value in null hypothesis (12)\n",
    "* Thus we reject the null hypothesis i.e there is no evidence to conclude that the number of fraud transactions per month is greater than or equal to 12"
   ]
  },
  {
   "cell_type": "markdown",
   "metadata": {
    "id": "EE_L86gBf99t"
   },
   "source": [
    "<table align=\"left\">\n",
    "    <tr>\n",
    "        <td width=\"6%\">\n",
    "            <img src=\"question_icon.png\">\n",
    "        </td>\n",
    "        <td>\n",
    "            <div align=\"left\", style=\"font-size:120%\">\n",
    "                <font color=\"#21618C\">\n",
    "                    <b>14. The internet provider claims that their router gives a speed of 25 Mbps with a standard deviation of 4.8 Mbps. The computer engineer wants to check whether the speed is different than what the provider claims. For this study, the engineer collects the speed of 40 routers and found that the average speed is 23.2 Mbps for those 40 routers. Plot the acceptance and rejection region for a two-sided test to test the claim of engineer with 90% confidence.</b>\n",
    "                </font> \n",
    "            </div>\n",
    "        </td>\n",
    "    </tr>\n",
    "</table>"
   ]
  },
  {
   "cell_type": "markdown",
   "metadata": {
    "id": "Mln3QH67-WFR"
   },
   "source": [
    "H<sub>0</sub>: $\\mu = 25 $<br> \n",
    "H<sub>a</sub>: $\\mu ≠ 25 $\n",
    "\n",
    "\n",
    "* Null Hypothesis: The internet speed is equal to 25 Mbps\n",
    "* Alternate Hypothesis: The internet speed is not equal to 25 Mbps\n",
    "* This is a two-tailed test"
   ]
  },
  {
   "cell_type": "code",
   "execution_count": 65,
   "metadata": {
    "id": "NRJXKEf_6n4p"
   },
   "outputs": [
    {
     "name": "stdout",
     "output_type": "stream",
     "text": [
      "Z-score = -2.3717082451262854\n",
      "p-value = 0.01770606580736657\n",
      "\n",
      "Z-crit = 1.64 and -1.64\n",
      "\n",
      "Confidence interval: (21.95164386909866, 24.448356130901338)\n"
     ]
    }
   ],
   "source": [
    "# Given data\n",
    "mu = 25\n",
    "samp_mean = 23.2\n",
    "pop_std = 4.8\n",
    "n = 40\n",
    "alpha = 0.1\n",
    "\n",
    "# calculate the Z statistic\n",
    "zscore = (samp_mean - mu)/(pop_std/np.sqrt(n)) \n",
    "print('Z-score =', zscore)\n",
    "\n",
    "# p-value for Z statistic\n",
    "p_val = stats.norm.cdf(zscore)\n",
    "print('p-value =', p_val * 2)\n",
    "\n",
    "# Critical z-value for two-tailed test\n",
    "zval = round(stats.norm.isf(q = alpha/2), 2)\n",
    "print('\\nZ-crit =', zval, 'and', -zval)\n",
    "\n",
    "\n",
    "# Calculate confidence interval\n",
    "interval = stats.norm.interval(0.9, loc = samp_mean, scale = pop_std/np.sqrt(n))\n",
    "print('\\nConfidence interval:', interval)"
   ]
  },
  {
   "cell_type": "markdown",
   "metadata": {},
   "source": [
    "* p-value is lesser than alpha (0.1)\n",
    "* The z-score is lesser than -1.64 (Z-crit) i.e. z-score falls in the rejection region of H0\n",
    "* The confidence interval does not contain the value in null hypothesis (25)\n",
    "* Thus we reject the null hypothesis i.e there is no evidence to conclude that the internet speed is 25 Mbps"
   ]
  },
  {
   "cell_type": "code",
   "execution_count": 66,
   "metadata": {},
   "outputs": [
    {
     "data": {
      "image/png": "[encoded data removed]",
      "text/plain": [
       "<Figure size 1440x792 with 1 Axes>"
      ]
     },
     "metadata": {
      "needs_background": "light"
     },
     "output_type": "display_data"
    }
   ],
   "source": [
    "# consider a random variable 'X' that follows a standard normal distribution \n",
    "X = stats.norm.rvs(size = 1000000, random_state = 20)\n",
    "\n",
    "# plot the distribution of X\n",
    "ax = sns.distplot(a = X, hist = False, kde_kws = dict(cumulative=False))\n",
    "\n",
    "# set the limit for y-axis\n",
    "plt.ylim(0, 0.42)\n",
    "\n",
    "# Calculate the critical z-value for alpha = 0.1\n",
    "z = stats.norm.isf(q = 0.1/2)\n",
    "\n",
    "# plot a vertical line at z-value\n",
    "x, y = [z, z], [0, 0.3]\n",
    "plt.plot(x, y, color = 'black')\n",
    "\n",
    "# plot a vertical line at -(z-value)\n",
    "x, y = [-z, -z], [0, 0.3]\n",
    "plt.plot(x, y, color = 'black')\n",
    "\n",
    "# plot a vertical line at z-score value\n",
    "x, y = [zscore, zscore], [0, 0.013]\n",
    "plt.plot(x, y, color = 'black')\n",
    "\n",
    "# add the color to the right of the z-value and left of -(z-value)\n",
    "# get the data for x and y axes\n",
    "l1 = ax.lines[0]\n",
    "x1 = l1.get_xydata()[:,0]\n",
    "y1 = l1.get_xydata()[:,1]\n",
    "\n",
    "# fill the color for the region where x-values are greater than the critical z-value\n",
    "# pass the condition to shade the required region\n",
    "# pass the required color to the parameter, 'color'\n",
    "ax.fill_between(x1[x1 >= z], y1[x1 >= z], color = 'lightblue')\n",
    "\n",
    "# fill the color for the region where x-values are less than -(z-value)\n",
    "# pass the condition to shade the required region\n",
    "# pass the required color to the parameter, 'color'\n",
    "ax.fill_between(x1[x1 <= -z], y1[x1 <= -z], color = 'lightblue')\n",
    "\n",
    "# use 'annonate' function to draw an arrow between points xy and xytext\n",
    "# 's' is a argument to write text\n",
    "plt.annotate(text = 'Mean (μ)', xy = (0, 0), xytext = (-0.3, 0.04), arrowprops = dict(facecolor = 'black', arrowstyle = 'simple'))\n",
    "\n",
    "plt.annotate(text = 'α/2 = 0.05\\n(Rejection Region for H0)', xy = (2.8, 0.004), xytext = (2.8, 0.055), \n",
    "             arrowprops = dict(facecolor = 'black', arrowstyle = 'simple'))\n",
    "\n",
    "plt.annotate(text = 'α/2 = 0.05\\n(Rejection Region for H0)', xy = (-2.8, 0.004), xytext = (-4.5, 0.055), \n",
    "             arrowprops = dict(facecolor = 'black', arrowstyle = 'simple'))\n",
    "\n",
    "plt.annotate(text = 'z_crit = '+ str(round(z,2)), xy = (z, 0), xytext = (z-1.2, 0.02), \n",
    "             arrowprops = dict(facecolor = 'black', arrowstyle = 'simple'))\n",
    "\n",
    "plt.annotate(text = 'z_crit = '+ str(round(-z,2)), xy = (-z, 0), xytext = (-z+0.3, 0.02), \n",
    "             arrowprops = dict(facecolor = 'black', arrowstyle = 'simple'))\n",
    "\n",
    "plt.text(x = -1.15, y = 0.2, s = 'Acceptance Region for H0 (1 - α)')\n",
    "\n",
    "# assign the x-axis labels\n",
    "# pass the position of labels to the parameter, 'ticks'\n",
    "# pass the required labels to the parameter, 'labels'\n",
    "plt.xticks(ticks = [-6, -4, -2, 0, 2, 4, 6, round(zscore,2)], \n",
    "           labels = [-6, -4, -2, 0, 2, 4, 6, 'z_test = '+str(round(zscore,2))])\n",
    "\n",
    "# set plot and axes labels\n",
    "# set text size using 'fontsize'\n",
    "plt.xlabel('Z', fontsize = 15)\n",
    "plt.ylabel('Probability', fontsize = 15)\n",
    "plt.title('Two-Tailed Test', fontsize = 15)\n",
    "\n",
    "# display the plot\n",
    "plt.show()"
   ]
  },
  {
   "cell_type": "markdown",
   "metadata": {
    "id": "EFaFOXFTf99t"
   },
   "source": [
    "<table align=\"left\">\n",
    "    <tr>\n",
    "        <td width=\"6%\">\n",
    "            <img src=\"question_icon.png\">\n",
    "        </td>\n",
    "        <td>\n",
    "            <div align=\"left\", style=\"font-size:120%\">\n",
    "                <font color=\"#21618C\">\n",
    "                    <b>15. The health magazine in New York states that every person in NY drinks more than 1.8 L water every day with a standard deviation of 0.5 L. To test this claim the physician collects the data of 45 people and found that the average water intake for these people is 1.93 L. Use the p-value technique to test the claim with 95% confidence.</b>\n",
    "                </font>\n",
    "            </div>\n",
    "        </td>\n",
    "    </tr>\n",
    "</table>"
   ]
  },
  {
   "cell_type": "markdown",
   "metadata": {},
   "source": [
    "H<sub>0</sub>: $\\mu \\leq 1.8 $<br>\n",
    "H<sub>a</sub>: $\\mu > 1.8 $\n",
    "\n",
    "\n",
    "* Null Hypothesis: The average water intake per day for people in New York is less than or equal to 1.8L\n",
    "* Alternate Hypothesis: The average water intake per day for people in New York is greater than 1.8L\n",
    "* This is a right-tailed test"
   ]
  },
  {
   "cell_type": "code",
   "execution_count": 67,
   "metadata": {
    "id": "tFXqdj1X6n4p"
   },
   "outputs": [
    {
     "name": "stdout",
     "output_type": "stream",
     "text": [
      "Z-score = 1.7441330224498344\n",
      "p-value = 0.040567948511057134\n",
      "\n",
      "Z-crit = 1.64\n",
      "\n",
      "Confidence interval: (1.783912909903903, 2.076087090096097)\n"
     ]
    }
   ],
   "source": [
    "# Given data\n",
    "mu = 1.8\n",
    "samp_mean = 1.93\n",
    "pop_std = 0.5\n",
    "n = 45\n",
    "alpha = 0.05\n",
    "\n",
    "# calculate the Z statistic\n",
    "zscore = (samp_mean - mu)/(pop_std/np.sqrt(n)) \n",
    "print('Z-score =', zscore)\n",
    "\n",
    "# p-value for Z statistic\n",
    "p_val = stats.norm.sf(zscore)\n",
    "print('p-value =', p_val)\n",
    "\n",
    "# Critical z-value for two-tailed test\n",
    "zval = round(stats.norm.isf(q = alpha), 2)\n",
    "print('\\nZ-crit =', zval)\n",
    "\n",
    "\n",
    "# Calculate confidence interval\n",
    "interval = stats.norm.interval(0.95, loc = samp_mean, scale = pop_std/np.sqrt(n))\n",
    "print('\\nConfidence interval:', interval)"
   ]
  },
  {
   "cell_type": "markdown",
   "metadata": {},
   "source": [
    "* p-value is lesser than alpha (0.05)\n",
    "* Here the z-score is greater than 1.64 (Z-crit) i.e. z-score falls in rejection region of H0\n",
    "* Thus we reject the null hypothesis i.e there is no evidence to claim that the average water intake per day for people in New York is less than or equal to 1.8L"
   ]
  }
 ],
 "metadata": {
  "colab": {
   "collapsed_sections": [],
   "name": "S5_Parameter_Estimation_Hypothesis_Testing I_Basics_Inclass_Questions.ipynb",
   "provenance": []
  },
  "kernelspec": {
   "display_name": "Python 3",
   "language": "python",
   "name": "python3"
  },
  "language_info": {
   "codemirror_mode": {
    "name": "ipython",
    "version": 3
   },
   "file_extension": ".py",
   "mimetype": "text/x-python",
   "name": "python",
   "nbconvert_exporter": "python",
   "pygments_lexer": "ipython3",
   "version": "3.8.5"
  }
 },
 "nbformat": 4,
 "nbformat_minor": 1
}
