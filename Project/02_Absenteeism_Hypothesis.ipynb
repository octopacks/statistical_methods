{
 "cells": [
  {
   "cell_type": "code",
   "execution_count": 24,
   "metadata": {},
   "outputs": [],
   "source": [
    "import pandas as pd\n",
    "import scipy.stats as stats\n",
    "import numpy as np\n",
    "import seaborn as sns\n",
    "import matplotlib.pyplot as plt\n",
    "from scipy.stats import shapiro\n",
    "from statsmodels.stats import weightstats as stests\n",
    "\n",
    "import statsmodels.api as sm\n",
    "from statsmodels.formula.api import ols\n",
    "from statsmodels.stats.anova import anova_lm\n",
    "\n",
    "import statsmodels.stats.multicomp as mc\n",
    "import scikit_posthocs\n",
    "\n",
    "import warnings\n",
    "warnings.filterwarnings(\"ignore\")"
   ]
  },
  {
   "cell_type": "code",
   "execution_count": 25,
   "metadata": {},
   "outputs": [
    {
     "data": {
      "text/html": [
       "<div>\n",
       "<style scoped>\n",
       "    .dataframe tbody tr th:only-of-type {\n",
       "        vertical-align: middle;\n",
       "    }\n",
       "\n",
       "    .dataframe tbody tr th {\n",
       "        vertical-align: top;\n",
       "    }\n",
       "\n",
       "    .dataframe thead th {\n",
       "        text-align: right;\n",
       "    }\n",
       "</style>\n",
       "<table border=\"1\" class=\"dataframe\">\n",
       "  <thead>\n",
       "    <tr style=\"text-align: right;\">\n",
       "      <th></th>\n",
       "      <th>ID</th>\n",
       "      <th>Reason_for_absence</th>\n",
       "      <th>Month_of_absence</th>\n",
       "      <th>Day_of_the_week</th>\n",
       "      <th>Seasons</th>\n",
       "      <th>Transportation_expense</th>\n",
       "      <th>Distance_from_Residence_to_Work</th>\n",
       "      <th>Service_time</th>\n",
       "      <th>Age</th>\n",
       "      <th>Work_load</th>\n",
       "      <th>...</th>\n",
       "      <th>Disciplinary_failure</th>\n",
       "      <th>Education</th>\n",
       "      <th>No_of_Children</th>\n",
       "      <th>Social_drinker</th>\n",
       "      <th>Social_smoker</th>\n",
       "      <th>No_of_Pets</th>\n",
       "      <th>Weight</th>\n",
       "      <th>Height</th>\n",
       "      <th>Body_mass_index</th>\n",
       "      <th>Absenteeism_time_hours</th>\n",
       "    </tr>\n",
       "  </thead>\n",
       "  <tbody>\n",
       "    <tr>\n",
       "      <th>0</th>\n",
       "      <td>11</td>\n",
       "      <td>26</td>\n",
       "      <td>7</td>\n",
       "      <td>3</td>\n",
       "      <td>1</td>\n",
       "      <td>289</td>\n",
       "      <td>36</td>\n",
       "      <td>13</td>\n",
       "      <td>33</td>\n",
       "      <td>239.554</td>\n",
       "      <td>...</td>\n",
       "      <td>0</td>\n",
       "      <td>1</td>\n",
       "      <td>2</td>\n",
       "      <td>1</td>\n",
       "      <td>0</td>\n",
       "      <td>1</td>\n",
       "      <td>90</td>\n",
       "      <td>172</td>\n",
       "      <td>30</td>\n",
       "      <td>4</td>\n",
       "    </tr>\n",
       "    <tr>\n",
       "      <th>1</th>\n",
       "      <td>36</td>\n",
       "      <td>0</td>\n",
       "      <td>7</td>\n",
       "      <td>3</td>\n",
       "      <td>1</td>\n",
       "      <td>118</td>\n",
       "      <td>13</td>\n",
       "      <td>18</td>\n",
       "      <td>50</td>\n",
       "      <td>239.554</td>\n",
       "      <td>...</td>\n",
       "      <td>1</td>\n",
       "      <td>1</td>\n",
       "      <td>1</td>\n",
       "      <td>1</td>\n",
       "      <td>0</td>\n",
       "      <td>0</td>\n",
       "      <td>98</td>\n",
       "      <td>178</td>\n",
       "      <td>31</td>\n",
       "      <td>0</td>\n",
       "    </tr>\n",
       "    <tr>\n",
       "      <th>2</th>\n",
       "      <td>3</td>\n",
       "      <td>23</td>\n",
       "      <td>7</td>\n",
       "      <td>4</td>\n",
       "      <td>1</td>\n",
       "      <td>179</td>\n",
       "      <td>51</td>\n",
       "      <td>18</td>\n",
       "      <td>38</td>\n",
       "      <td>239.554</td>\n",
       "      <td>...</td>\n",
       "      <td>0</td>\n",
       "      <td>1</td>\n",
       "      <td>0</td>\n",
       "      <td>1</td>\n",
       "      <td>0</td>\n",
       "      <td>0</td>\n",
       "      <td>89</td>\n",
       "      <td>170</td>\n",
       "      <td>31</td>\n",
       "      <td>2</td>\n",
       "    </tr>\n",
       "    <tr>\n",
       "      <th>3</th>\n",
       "      <td>7</td>\n",
       "      <td>7</td>\n",
       "      <td>7</td>\n",
       "      <td>5</td>\n",
       "      <td>1</td>\n",
       "      <td>279</td>\n",
       "      <td>5</td>\n",
       "      <td>14</td>\n",
       "      <td>39</td>\n",
       "      <td>239.554</td>\n",
       "      <td>...</td>\n",
       "      <td>0</td>\n",
       "      <td>1</td>\n",
       "      <td>2</td>\n",
       "      <td>1</td>\n",
       "      <td>1</td>\n",
       "      <td>0</td>\n",
       "      <td>68</td>\n",
       "      <td>168</td>\n",
       "      <td>24</td>\n",
       "      <td>4</td>\n",
       "    </tr>\n",
       "    <tr>\n",
       "      <th>4</th>\n",
       "      <td>11</td>\n",
       "      <td>23</td>\n",
       "      <td>7</td>\n",
       "      <td>5</td>\n",
       "      <td>1</td>\n",
       "      <td>289</td>\n",
       "      <td>36</td>\n",
       "      <td>13</td>\n",
       "      <td>33</td>\n",
       "      <td>239.554</td>\n",
       "      <td>...</td>\n",
       "      <td>0</td>\n",
       "      <td>1</td>\n",
       "      <td>2</td>\n",
       "      <td>1</td>\n",
       "      <td>0</td>\n",
       "      <td>1</td>\n",
       "      <td>90</td>\n",
       "      <td>172</td>\n",
       "      <td>30</td>\n",
       "      <td>2</td>\n",
       "    </tr>\n",
       "  </tbody>\n",
       "</table>\n",
       "<p>5 rows × 21 columns</p>\n",
       "</div>"
      ],
      "text/plain": [
       "   ID  Reason_for_absence  Month_of_absence  Day_of_the_week  Seasons  \\\n",
       "0  11                  26                 7                3        1   \n",
       "1  36                   0                 7                3        1   \n",
       "2   3                  23                 7                4        1   \n",
       "3   7                   7                 7                5        1   \n",
       "4  11                  23                 7                5        1   \n",
       "\n",
       "   Transportation_expense  Distance_from_Residence_to_Work  Service_time  Age  \\\n",
       "0                     289                               36            13   33   \n",
       "1                     118                               13            18   50   \n",
       "2                     179                               51            18   38   \n",
       "3                     279                                5            14   39   \n",
       "4                     289                               36            13   33   \n",
       "\n",
       "   Work_load  ...  Disciplinary_failure  Education  No_of_Children  \\\n",
       "0    239.554  ...                     0          1               2   \n",
       "1    239.554  ...                     1          1               1   \n",
       "2    239.554  ...                     0          1               0   \n",
       "3    239.554  ...                     0          1               2   \n",
       "4    239.554  ...                     0          1               2   \n",
       "\n",
       "   Social_drinker  Social_smoker  No_of_Pets  Weight  Height  Body_mass_index  \\\n",
       "0               1              0           1      90     172               30   \n",
       "1               1              0           0      98     178               31   \n",
       "2               1              0           0      89     170               31   \n",
       "3               1              1           0      68     168               24   \n",
       "4               1              0           1      90     172               30   \n",
       "\n",
       "   Absenteeism_time_hours  \n",
       "0                       4  \n",
       "1                       0  \n",
       "2                       2  \n",
       "3                       4  \n",
       "4                       2  \n",
       "\n",
       "[5 rows x 21 columns]"
      ]
     },
     "execution_count": 25,
     "metadata": {},
     "output_type": "execute_result"
    }
   ],
   "source": [
    "absent = pd.read_csv('Absenteeism_at_work.csv')\n",
    "absent.head()"
   ]
  },
  {
   "cell_type": "code",
   "execution_count": 26,
   "metadata": {},
   "outputs": [],
   "source": [
    "absent['Reason_for_absence'] = absent['Reason_for_absence'].astype(object)\n",
    "absent['Month_of_absence'] = absent['Month_of_absence'].astype(object)\n",
    "absent['Day_of_the_week'] = absent['Day_of_the_week'].astype(object)\n",
    "absent['Seasons'] = absent['Seasons'].astype(object)\n",
    "absent['Disciplinary_failure'] = absent['Disciplinary_failure'].astype(object)\n",
    "absent['Education'] = absent['Education'].astype(object)\n",
    "absent['No_of_Children'] = absent['No_of_Children'].astype(object)\n",
    "absent['Social_drinker'] = absent['Social_drinker'].astype(object)\n",
    "absent['Social_smoker'] = absent['Social_smoker'].astype(object)\n",
    "absent['No_of_Pets'] = absent['No_of_Pets'].astype(object)"
   ]
  },
  {
   "cell_type": "markdown",
   "metadata": {},
   "source": [
    "## Z-test"
   ]
  },
  {
   "cell_type": "markdown",
   "metadata": {},
   "source": [
    "<table align=\"left\">\n",
    "    <tr>\n",
    "        <td width=\"6%\">\n",
    "        </td>\n",
    "        <td>\n",
    "            <div align=\"left\", style=\"font-size:120%\">\n",
    "                <font color=\"#21618C\">\n",
    "                    <b>1. The HR department of the company claims that the average transport expense of all employees in the company is less than 200.</b>\n",
    "                </font>\n",
    "            </div>\n",
    "        </td>\n",
    "    </tr>\n",
    "</table>"
   ]
  },
  {
   "cell_type": "code",
   "execution_count": 6,
   "metadata": {},
   "outputs": [
    {
     "name": "stdout",
     "output_type": "stream",
     "text": [
      "Test statistic = 0.95881 \n",
      "p-value = 0.19743\n"
     ]
    }
   ],
   "source": [
    "# H0 : mu >= 200\n",
    "# Ha : mu < 200\n",
    "\n",
    "transport_expense = absent.groupby('ID').Transportation_expense.unique().apply(lambda x: sum(x))\n",
    "stats, p_val = shapiro(transport_expense)\n",
    "print('Test statistic =', round(stats, 5), '\\np-value =', round(p_val, 5))"
   ]
  },
  {
   "cell_type": "markdown",
   "metadata": {},
   "source": [
    "* p_val is greater than alpha (0.05) at 95% confidence level. So we can say the data is normally distributed"
   ]
  },
  {
   "cell_type": "code",
   "execution_count": 12,
   "metadata": {},
   "outputs": [
    {
     "name": "stdout",
     "output_type": "stream",
     "text": [
      "Sample mean = 237.27778\n",
      "Sample stdev = 72.94732\n",
      "Sample size =  36\n",
      "\n",
      "Z-score = 3.066139534193181\n"
     ]
    },
    {
     "ename": "AttributeError",
     "evalue": "'float' object has no attribute 'norm'",
     "output_type": "error",
     "traceback": [
      "\u001b[1;31m---------------------------------------------------------------------------\u001b[0m",
      "\u001b[1;31mAttributeError\u001b[0m                            Traceback (most recent call last)",
      "\u001b[1;32m<ipython-input-12-265670a25a04>\u001b[0m in \u001b[0;36m<module>\u001b[1;34m\u001b[0m\n\u001b[0;32m     17\u001b[0m \u001b[1;33m\u001b[0m\u001b[0m\n\u001b[0;32m     18\u001b[0m \u001b[1;31m# p-value for Z statistic\u001b[0m\u001b[1;33m\u001b[0m\u001b[1;33m\u001b[0m\u001b[1;33m\u001b[0m\u001b[0m\n\u001b[1;32m---> 19\u001b[1;33m \u001b[0mp_val\u001b[0m \u001b[1;33m=\u001b[0m \u001b[0mstats\u001b[0m\u001b[1;33m.\u001b[0m\u001b[0mnorm\u001b[0m\u001b[1;33m.\u001b[0m\u001b[0mcdf\u001b[0m\u001b[1;33m(\u001b[0m\u001b[0mz_score\u001b[0m\u001b[1;33m)\u001b[0m\u001b[1;33m\u001b[0m\u001b[1;33m\u001b[0m\u001b[0m\n\u001b[0m\u001b[0;32m     20\u001b[0m \u001b[0mprint\u001b[0m\u001b[1;33m(\u001b[0m\u001b[1;34m'p-value ='\u001b[0m\u001b[1;33m,\u001b[0m \u001b[0mp_val\u001b[0m\u001b[1;33m)\u001b[0m\u001b[1;33m\u001b[0m\u001b[1;33m\u001b[0m\u001b[0m\n\u001b[0;32m     21\u001b[0m \u001b[1;33m\u001b[0m\u001b[0m\n",
      "\u001b[1;31mAttributeError\u001b[0m: 'float' object has no attribute 'norm'"
     ]
    }
   ],
   "source": [
    "xbar = np.mean(transport_expense)\n",
    "sample_std = np.std(transport_expense)\n",
    "print('Sample mean =', round(xbar, 5))\n",
    "print('Sample stdev =', round(sample_std, 5))\n",
    "\n",
    "\n",
    "# Given information \n",
    "mu = 200\n",
    "alpha = 0.05\n",
    "n = len(absent['ID'].unique())\n",
    "se = sample_std / np.sqrt(n)\n",
    "print(\"Sample size = \", n)\n",
    "\n",
    "# Calculate Z-score\n",
    "z_score = (xbar - mu)/(sample_std / np.sqrt(n))\n",
    "print('\\nZ-score =', z_score)\n",
    "\n",
    "# p-value for Z statistic\n",
    "p_val = stats.norm.cdf(z_score)\n",
    "print('p-value =', p_val)\n",
    "\n",
    "# Calculate Z-critical for left-tailed test at 99% confidence level\n",
    "z_crit = round(stats.norm.isf(alpha), 4)\n",
    "print('\\nCritical value for left-tailed Z-test =', -z_crit)\n",
    "\n",
    "print('\\nConfidence interval:', stats.norm.interval(0.95, loc = np.mean(transport_expense), \n",
    "                                                  scale = sample_std / np.sqrt(n)))\n"
   ]
  },
  {
   "cell_type": "code",
   "execution_count": 22,
   "metadata": {},
   "outputs": [
    {
     "data": {
      "image/png": "[encoded data removed]",
      "text/plain": [
       "<Figure size 900x500 with 1 Axes>"
      ]
     },
     "metadata": {
      "needs_background": "light"
     },
     "output_type": "display_data"
    }
   ],
   "source": [
    "plt.figure(figsize=(9,5), dpi=100)\n",
    "plt.boxplot(x = absent['Transportation_expense'])\n",
    "plt.title('Boxplot', fontsize = 15)\n",
    "plt.ylabel('Transportation expense')\n",
    "plt.xticks([])\n",
    "plt.show()"
   ]
  },
  {
   "cell_type": "markdown",
   "metadata": {},
   "source": [
    "* p_val is greater than alpha (0.05) at 95% confidence level\n",
    "* Z-score is greater than Z-critical, Z-score falls in acceptance region of H0\n",
    "* Confidence interval does not contain the hypothesized mean \n",
    "* Therefore we fail to reject the null hypothesis and conclude that the average transport expense of employees is greater than 200"
   ]
  },
  {
   "cell_type": "markdown",
   "metadata": {},
   "source": [
    "## Kruskal Wallis H test"
   ]
  },
  {
   "cell_type": "markdown",
   "metadata": {},
   "source": [
    "<table align=\"left\">\n",
    "    <tr>\n",
    "        <td width=\"6%\">\n",
    "        </td>\n",
    "        <td>\n",
    "            <div align=\"left\", style=\"font-size:120%\">\n",
    "                <font color=\"#21618C\">\n",
    "                    <b>2. The HR department of the company wants to check if the average absenteeism hours is different for different seasons.</b>\n",
    "                </font>\n",
    "            </div>\n",
    "        </td>\n",
    "    </tr>\n",
    "</table>"
   ]
  },
  {
   "cell_type": "code",
   "execution_count": 65,
   "metadata": {},
   "outputs": [],
   "source": [
    "# 1 - Summer, 2 - Autumn, 3 - Winter, 4 - Spring\n",
    "\n",
    "abstime_1 = absent[absent['Seasons'] == 1]['Absenteeism_time_hours']\n",
    "abstime_2 = absent[absent['Seasons'] == 2]['Absenteeism_time_hours']\n",
    "abstime_3 = absent[absent['Seasons'] == 3]['Absenteeism_time_hours']\n",
    "abstime_4 = absent[absent['Seasons'] == 4]['Absenteeism_time_hours']"
   ]
  },
  {
   "cell_type": "code",
   "execution_count": 44,
   "metadata": {},
   "outputs": [
    {
     "name": "stdout",
     "output_type": "stream",
     "text": [
      "Test statistic: 0.40077584981918335\n",
      "p-value: 7.286752014489049e-44\n"
     ]
    }
   ],
   "source": [
    "# perform Shapiro-Wilk test to test the normality\n",
    "stat, p_value = stats.shapiro(absent['Absenteeism_time_hours'])\n",
    "\n",
    "# print the test statistic and p-value\n",
    "print('Test statistic:', stat)\n",
    "print('p-value:', p_value)"
   ]
  },
  {
   "cell_type": "markdown",
   "metadata": {},
   "source": [
    "From the above result, we can see that the p-value is less than 0.05, thus we can say that the absenteeism time is not normally distributed. This does not satisfy the assumption of normality for ANOVA.\n",
    "\n",
    "Thus we can not apply one-way ANOVA to test the equality of average absenteeism hours. We need to use the non-parametric equivalent Kruskal-Wallis H test"
   ]
  },
  {
   "cell_type": "code",
   "execution_count": 43,
   "metadata": {},
   "outputs": [
    {
     "name": "stdout",
     "output_type": "stream",
     "text": [
      "Test statistic: 1.0317681713491622\n",
      "p-value: 0.37782075299767054\n"
     ]
    }
   ],
   "source": [
    "# perform Levene's test for the equality of variances \n",
    "stat, p_value = stats.levene(abstime_1, abstime_2, abstime_3, abstime_4)\n",
    "\n",
    "# print the test statistic and p-value\n",
    "print('Test statistic:', stat)\n",
    "print('p-value:', p_value)"
   ]
  },
  {
   "cell_type": "markdown",
   "metadata": {},
   "source": [
    "From the above result, we can see that the p-value is greater than 0.05, thus we can say that the population variances are equal for all the different seasons."
   ]
  },
  {
   "cell_type": "code",
   "execution_count": 41,
   "metadata": {},
   "outputs": [
    {
     "name": "stdout",
     "output_type": "stream",
     "text": [
      "t: 4\n",
      "Unique seasons in the data: [1, 2, 3, 4]\n",
      "\n",
      "Critical value for chi-square test: 7.8147\n"
     ]
    }
   ],
   "source": [
    "# H0 : The average absenteeism hours is the same across all seasons\n",
    "# Ha : The average absenteeism hours is different across seasons\n",
    "\n",
    "# obtain number of unique types of seasons\n",
    "t = absent['Seasons'].nunique()\n",
    "print('t:', t)\n",
    "\n",
    "# unique seasons in the data\n",
    "print('Unique seasons in the data:', sorted(absent['Seasons'].unique()))\n",
    "\n",
    "# calculate the χ2-value for 95% of confidence level\n",
    "# use 'stats.chi2.isf()' to find the χ2-value corresponding to the upper tail probability 'q'\n",
    "chi2_val = np.abs(round(stats.chi2.isf(q = 0.05, df = t-1), 4))\n",
    "\n",
    "print('\\nCritical value for chi-square test:', chi2_val)"
   ]
  },
  {
   "cell_type": "code",
   "execution_count": 66,
   "metadata": {},
   "outputs": [
    {
     "name": "stdout",
     "output_type": "stream",
     "text": [
      "Test statistic: 7.379434123701476\n",
      "p-value: 0.06073858686061599\n"
     ]
    }
   ],
   "source": [
    "# perform kruskal-wallis H test\n",
    "test_stat, p_val = stats.kruskal(abstime_1, abstime_2, abstime_3, abstime_4)\n",
    "\n",
    "# print the test statistic and corresponding p-value\n",
    "print('Test statistic:', test_stat)\n",
    "print('p-value:', p_val)"
   ]
  },
  {
   "cell_type": "markdown",
   "metadata": {},
   "source": [
    "* p_val is greater than alpha (0.05) at 95% confidence level\n",
    "* Test statistic is lesser than Chi-critical (7.8147), Test statistic falls in acceptance region of H0\n",
    "* Therefore we fail to reject the null hypothesis and conclude that the average absenteeism hours among employees is same across all the seasons"
   ]
  },
  {
   "cell_type": "markdown",
   "metadata": {},
   "source": [
    "## Mann-Whitney U test"
   ]
  },
  {
   "cell_type": "markdown",
   "metadata": {},
   "source": [
    "<table align=\"left\">\n",
    "    <tr>\n",
    "        <td width=\"6%\">\n",
    "        </td>\n",
    "        <td>\n",
    "            <div align=\"left\", style=\"font-size:120%\">\n",
    "                <font color=\"#21618C\">\n",
    "                    <b>3. The HR department of the company wants to check if the distribution of sum of absenteeism hours for smokers is different than the distribution of sum of absenteeism hours for non-smokers.</b>\n",
    "                </font>\n",
    "            </div>\n",
    "        </td>\n",
    "    </tr>\n",
    "</table>"
   ]
  },
  {
   "cell_type": "code",
   "execution_count": 1,
   "metadata": {},
   "outputs": [],
   "source": [
    "# H0 : F_smokers = F_non-smokers (Sum of absenteeism hours among smokers and non-smokers are the same)\n",
    "# Ha : F_smokers != F_non-smokers (Sum of absenteeism hours among smokers and non-smokers are different)"
   ]
  },
  {
   "cell_type": "code",
   "execution_count": 84,
   "metadata": {},
   "outputs": [
    {
     "name": "stdout",
     "output_type": "stream",
     "text": [
      "Total of absenteeism hours among smokers:\n",
      "ID\n",
      "2      25\n",
      "7      30\n",
      "16     16\n",
      "17    126\n",
      "23     40\n",
      "26     83\n",
      "30     31\n",
      "Name: Absenteeism_time_hours, dtype: int64\n",
      "\n",
      "Number of smokers: 7\n",
      "\n",
      "p-value: 0.04678918793797493\n"
     ]
    }
   ],
   "source": [
    "# Sum of absenteeism hours among smokers\n",
    "abstime_sum_smoker = absent[absent['Social_smoker'] == 1].groupby('ID').Absenteeism_time_hours.sum()\n",
    "print(\"Total of absenteeism hours among smokers:\") \n",
    "print(abstime_sum_smoker)\n",
    "print(\"\\nNumber of smokers:\", len(abstime_sum_smoker))\n",
    "\n",
    "# perform Shapiro-Wilk test to test the normality\n",
    "stat, p_value = shapiro(abstime_sum_smoker)\n",
    "\n",
    "# print the corresponding p-value \n",
    "print('\\np-value:', p_value)"
   ]
  },
  {
   "cell_type": "markdown",
   "metadata": {},
   "source": [
    "From the above result, we can see that the p-value is lesser than 0.05, thus we can say that the sum of absenteeism hours for smokers are not normally distributed."
   ]
  },
  {
   "cell_type": "code",
   "execution_count": 81,
   "metadata": {},
   "outputs": [
    {
     "name": "stdout",
     "output_type": "stream",
     "text": [
      "Total of absenteeism hours among non-smokers:\n",
      "ID\n",
      "1     121\n",
      "3     482\n",
      "4       0\n",
      "5     104\n",
      "6      72\n",
      "8       0\n",
      "9     262\n",
      "10    186\n",
      "11    450\n",
      "12     34\n",
      "13    183\n",
      "14    476\n",
      "15    253\n",
      "18    118\n",
      "19      6\n",
      "20    306\n",
      "21     16\n",
      "22    253\n",
      "24    254\n",
      "25     42\n",
      "27     27\n",
      "28    347\n",
      "29     21\n",
      "31     16\n",
      "32     16\n",
      "33     73\n",
      "34    344\n",
      "35      0\n",
      "36    311\n",
      "Name: Absenteeism_time_hours, dtype: int64\n",
      "\n",
      "Number of non-smokers: 29\n",
      "\n",
      "p-value: 0.00296563608571887\n"
     ]
    }
   ],
   "source": [
    "# Sum of absenteeism hours among non-smokers\n",
    "abstime_sum_nonsmoker = absent[absent['Social_smoker'] == 0].groupby('ID').Absenteeism_time_hours.sum()\n",
    "print(\"Total of absenteeism hours among non-smokers:\")\n",
    "print(abstime_sum_nonsmoker)\n",
    "print(\"\\nNumber of non-smokers:\", len(abstime_sum_nonsmoker))\n",
    "\n",
    "# perform Shapiro-Wilk test to test the normality\n",
    "stat, p_value = shapiro(abstime_sum_nonsmoker)\n",
    "\n",
    "# print the corresponding p-value \n",
    "print('\\np-value:', p_value)"
   ]
  },
  {
   "cell_type": "markdown",
   "metadata": {},
   "source": [
    "From the above result, we can see that the p-value is lesser than 0.05, thus we can say that the sum of absenteeism hours for non-smokers are not normally distributed."
   ]
  },
  {
   "cell_type": "code",
   "execution_count": 82,
   "metadata": {},
   "outputs": [
    {
     "name": "stdout",
     "output_type": "stream",
     "text": [
      "Test statistic: 70.5\n",
      "p-value: 0.22235694262452077\n"
     ]
    }
   ],
   "source": [
    "# compute test statistic and corresponding p-value for two-tailed test\n",
    "test_stat, p_value = stats.mannwhitneyu(abstime_sum_smoker, abstime_sum_nonsmoker, alternative = 'two-sided')\n",
    "\n",
    "# print the test statistic and corresponding p-value\n",
    "print('Test statistic:', test_stat)\n",
    "print('p-value:', p_value)"
   ]
  },
  {
   "cell_type": "markdown",
   "metadata": {},
   "source": [
    "* p_val is greater than alpha (0.05) at 95% confidence level\n",
    "* Therefore we fail to reject the null hypothesis and conclude that the distribution of sum of absenteeism hours for smokers is the same as the distribution of sum of absenteeism for non-smokers"
   ]
  },
  {
   "cell_type": "markdown",
   "metadata": {},
   "source": [
    "## One-way ANOVA - Weight vs. number_children"
   ]
  },
  {
   "cell_type": "markdown",
   "metadata": {},
   "source": [
    "<table align=\"left\">\n",
    "    <tr>\n",
    "        <td width=\"6%\">\n",
    "        </td>\n",
    "        <td>\n",
    "            <div align=\"left\", style=\"font-size:120%\">\n",
    "                <font color=\"#21618C\">\n",
    "                    <b>4. A consulting company wants to study the equality of average weight of employees with different number of children.</b>\n",
    "                </font>\n",
    "            </div>\n",
    "        </td>\n",
    "    </tr>\n",
    "</table>"
   ]
  },
  {
   "cell_type": "code",
   "execution_count": 138,
   "metadata": {},
   "outputs": [
    {
     "name": "stdout",
     "output_type": "stream",
     "text": [
      "\n",
      "p-value: 0.22908827662467957\n"
     ]
    }
   ],
   "source": [
    "# H0: The average weights of employees with different number of children is the same\n",
    "# H1: The average weights of employees with different number of children is different\n",
    "\n",
    "# Sum of absenteeism hours among non-smokers\n",
    "emp_wt = absent.groupby('ID').Weight.unique().apply(lambda x: sum(x))\n",
    "\n",
    "# perform Shapiro-Wilk test to test the normality\n",
    "stat, p_value = shapiro(emp_wt)\n",
    "\n",
    "# print the corresponding p-value \n",
    "print('\\np-value:', p_value)"
   ]
  },
  {
   "cell_type": "markdown",
   "metadata": {},
   "source": [
    "From the above result, we can see that the p-value is greater than 0.05, thus we can say that the weight of employees is normally distributed."
   ]
  },
  {
   "cell_type": "code",
   "execution_count": 139,
   "metadata": {},
   "outputs": [],
   "source": [
    "wt_zero = absent[absent['No_of_Children'] == 0].groupby('ID').Weight.unique().apply(lambda x: sum(x))\n",
    "wt_one = absent[absent['No_of_Children'] == 1].groupby('ID').Weight.unique().apply(lambda x: sum(x))\n",
    "wt_two = absent[absent['No_of_Children'] == 2].groupby('ID').Weight.unique().apply(lambda x: sum(x))\n",
    "wt_three = absent[absent['No_of_Children'] == 3].groupby('ID').Weight.unique().apply(lambda x: sum(x))\n",
    "wt_four = absent[absent['No_of_Children'] == 4].groupby('ID').Weight.unique().apply(lambda x: sum(x))"
   ]
  },
  {
   "cell_type": "code",
   "execution_count": 140,
   "metadata": {},
   "outputs": [
    {
     "name": "stdout",
     "output_type": "stream",
     "text": [
      "p-value: 0.4335248705454786\n"
     ]
    }
   ],
   "source": [
    "# perform Levene's test for the equality of variances \n",
    "stat, p_value = stats.levene(wt_zero, wt_one, wt_two, wt_three, wt_four)\n",
    "\n",
    "# print the p-value \n",
    "print('p-value:', p_value)"
   ]
  },
  {
   "cell_type": "markdown",
   "metadata": {},
   "source": [
    "From the above result, we can see that the p-value is greater than 0.05, thus we can say that the population variances are equal for the different groups.\n",
    "\n",
    "* Assumption of normality is satisfied by Shapiro-Wilk test\n",
    "* Assumption of equality of variance is satisfied by Levene's test"
   ]
  },
  {
   "cell_type": "code",
   "execution_count": 141,
   "metadata": {},
   "outputs": [
    {
     "name": "stdout",
     "output_type": "stream",
     "text": [
      "t: 5\n",
      "N: 36\n"
     ]
    }
   ],
   "source": [
    "# obtain count of unique categories under number of children\n",
    "t = absent['No_of_Children'].nunique()\n",
    "print('t:', t)\n",
    "\n",
    "# count of total number of employees\n",
    "N = absent['ID'].nunique()\n",
    "print('N:', N)"
   ]
  },
  {
   "cell_type": "code",
   "execution_count": 142,
   "metadata": {},
   "outputs": [
    {
     "name": "stdout",
     "output_type": "stream",
     "text": [
      "Critical value for F-test: 2.6787\n"
     ]
    }
   ],
   "source": [
    "# calculate the F-value for 95% of confidence level\n",
    "# use 'stats.f.isf()' to find the F-value corresponding to the upper tail probability 'q'\n",
    "\n",
    "f = np.abs(round(stats.f.isf(q = 0.05, dfn = t-1, dfd = N-t), 4))\n",
    "\n",
    "print('Critical value for F-test:', f)"
   ]
  },
  {
   "cell_type": "code",
   "execution_count": 143,
   "metadata": {},
   "outputs": [
    {
     "name": "stdout",
     "output_type": "stream",
     "text": [
      "Test statistic: 0.8962251490577251\n",
      "p-value: 0.47802251612924485\n"
     ]
    }
   ],
   "source": [
    "# perform one-way ANOVA\n",
    "# pass the given data\n",
    "f_test, p_val = stats.f_oneway(wt_zero, wt_one, wt_two, wt_three, wt_four)\n",
    "\n",
    "# print the test statistic and corresponding p-value\n",
    "print('Test statistic:', f_test)\n",
    "print('p-value:', p_val)"
   ]
  },
  {
   "cell_type": "markdown",
   "metadata": {},
   "source": [
    "* p_val is greater than alpha (0.05) at 95% confidence level\n",
    "* Test statistic falls in acceptance region of H0\n",
    "* Therefore we fail to reject the null hypothesis and conclude that the average weights of employees with different number of children are equal"
   ]
  },
  {
   "cell_type": "markdown",
   "metadata": {},
   "source": [
    "## Chi-square goodness of fit"
   ]
  },
  {
   "cell_type": "markdown",
   "metadata": {},
   "source": [
    "<table align=\"left\">\n",
    "    <tr>\n",
    "        <td width=\"6%\">\n",
    "        </td>\n",
    "        <td>\n",
    "            <div align=\"left\", style=\"font-size:120%\">\n",
    "                <font color=\"#21618C\">\n",
    "                    <b>5. The HR department claims that the 50% employees have completed high school (Education = 1), 25% employees are graduates (Education = 2), 20% employees are postgraduates (Education = 3) and 5% employees are doctorates (Education = 4).</b>\n",
    "                </font>\n",
    "            </div>\n",
    "        </td>\n",
    "    </tr>\n",
    "</table>"
   ]
  },
  {
   "cell_type": "code",
   "execution_count": 43,
   "metadata": {},
   "outputs": [
    {
     "data": {
      "text/plain": [
       "1    28\n",
       "2     4\n",
       "3     3\n",
       "4     1\n",
       "Name: Education, dtype: int64"
      ]
     },
     "execution_count": 43,
     "metadata": {},
     "output_type": "execute_result"
    }
   ],
   "source": [
    "# H0 : The observed number of employees from different education backgrounds is same as the claims made by HR\n",
    "# Ha : The observed number of employees from different education backgrounds is different from the claims made by HR\n",
    "\n",
    "absent.groupby('ID')['Education'].unique().apply(lambda x: sum(x)).value_counts()"
   ]
  },
  {
   "cell_type": "code",
   "execution_count": 44,
   "metadata": {},
   "outputs": [
    {
     "name": "stdout",
     "output_type": "stream",
     "text": [
      "Number of employees: 36\n",
      "Observed values: [28  4  3  1]\n",
      "Expected values: [18.   9.   7.2  1.8]\n",
      "\n",
      "Test statistic: 11.13889\n",
      "p-value: 0.010998076\n"
     ]
    }
   ],
   "source": [
    "#### n = absent['ID'].nunique()\n",
    "print(\"Number of employees:\", n)\n",
    "\n",
    "observed_values = np.array(absent.groupby('ID')['Education'].unique().apply(lambda x: sum(x)).value_counts())\n",
    "print(\"Observed values:\", observed_values)\n",
    "\n",
    "expected_values = np.array(([n*0.5, n*0.25, n*0.2, n*0.05]))\n",
    "print(\"Expected values:\", expected_values)\n",
    "\n",
    "# use the 'chisquare()' to perform the goodness of fit test\n",
    "test_stat, p_value = stats.chisquare(f_obs = observed_values, f_exp = expected_values)\n",
    "\n",
    "print('\\nTest statistic:', round(test_stat, 5))\n",
    "print('p-value:', round(p_value, 9))"
   ]
  },
  {
   "cell_type": "code",
   "execution_count": 54,
   "metadata": {},
   "outputs": [
    {
     "name": "stdout",
     "output_type": "stream",
     "text": [
      "Critical value for chi-square test: 7.8147\n"
     ]
    }
   ],
   "source": [
    "# calculate the χ2-value for 90% of confidence level\n",
    "chi2_val = np.abs(round(stats.chi2.isf(q = 0.05, df = 4-1), 4))\n",
    "\n",
    "print('Critical value for chi-square test:', chi2_val)"
   ]
  },
  {
   "cell_type": "markdown",
   "metadata": {},
   "source": [
    "* p-value is lesser than alpha (0.05)\n",
    "* Test statistic is greater than Chi-critical and falls in rejection region of H0\n",
    "* Therefore we reject the null hypothesis and conclude that the number of employees from different education backgrounds is different from the claims made by HR"
   ]
  },
  {
   "cell_type": "code",
   "execution_count": 116,
   "metadata": {},
   "outputs": [
    {
     "data": {
      "image/png": "[encoded data removed]",
      "text/plain": [
       "<Figure size 900x900 with 1 Axes>"
      ]
     },
     "metadata": {},
     "output_type": "display_data"
    }
   ],
   "source": [
    "plt.figure(figsize=(9,9), dpi=100)\n",
    "circle1 = plt.Circle(xy = (1.5,4), radius = 0.78, color = 'blue')\n",
    "label = plt.text(x = 1.5, y = 4, s = \"28\", fontsize=10, ha=\"center\", color = 'white')\n",
    "circle2 = plt.Circle(xy = (2.5,3.5), radius = 0.22, color = 'purple')\n",
    "label = plt.text(x = 2.5, y = 3.5, s = \"4\", fontsize=10, ha=\"center\", color = 'white')\n",
    "circle3 = plt.Circle(xy = (2,3), radius = 0.16, color = 'orange')\n",
    "label = plt.text(x = 2, y = 3, s = \"3\", fontsize=10, ha=\"center\", color = 'white')\n",
    "circle4 = plt.Circle(xy = (2.5,3), radius = 0.1, color = 'green')\n",
    "label = plt.text(x = 2.5, y = 3, s = \"1\", fontsize=10, ha=\"center\", color = 'white')\n",
    "ax = plt.gca()\n",
    "ax.set_xlim((0, 5))\n",
    "ax.set_ylim((0, 5))\n",
    "plt.xticks([])\n",
    "plt.yticks([])\n",
    "ax.add_artist(circle1)\n",
    "ax.add_artist(circle2)\n",
    "ax.add_artist(circle3)\n",
    "ax.add_artist(circle4)\n",
    "plt.show()"
   ]
  },
  {
   "cell_type": "markdown",
   "metadata": {},
   "source": [
    "## Chi-square test for independence"
   ]
  },
  {
   "cell_type": "markdown",
   "metadata": {},
   "source": [
    "<table align=\"left\">\n",
    "    <tr>\n",
    "        <td width=\"6%\">\n",
    "        </td>\n",
    "        <td>\n",
    "            <div align=\"left\", style=\"font-size:120%\">\n",
    "                <font color=\"#21618C\">\n",
    "                    <b>6. A consulting company wants to check if there is any relationship between reason for absence and day of the week.</b>\n",
    "                </font>\n",
    "            </div>\n",
    "        </td>\n",
    "    </tr>\n",
    "</table>"
   ]
  },
  {
   "cell_type": "code",
   "execution_count": 23,
   "metadata": {},
   "outputs": [
    {
     "name": "stdout",
     "output_type": "stream",
     "text": [
      "Day_of_the_week      2   3   4   5   6\n",
      "Reason_for_absence                    \n",
      "0                    5  13  11   7   6\n",
      "1                    6   3   6   0   1\n",
      "2                    0   0   1   0   0\n",
      "3                    0   0   1   0   0\n",
      "4                    0   0   0   2   0\n",
      "5                    0   1   1   0   1\n",
      "6                    2   2   2   1   1\n",
      "7                    7   1   5   1   1\n",
      "8                    1   2   1   1   1\n",
      "9                    1   2   1   0   0\n",
      "10                   9   1   6   4   5\n",
      "11                  10   4   7   4   1\n",
      "12                   2   2   2   1   1\n",
      "13                  12  10  14  12   7\n",
      "14                   3   4   1   7   4\n",
      "15                   1   0   0   0   1\n",
      "16                   0   2   0   0   1\n",
      "17                   0   1   0   0   0\n",
      "18                   5   8   4   2   2\n",
      "19                  11   9   5   8   7\n",
      "21                   1   1   2   2   0\n",
      "22                   9   6   9   4  10\n",
      "23                  22  37  33  30  27\n",
      "24                   1   1   1   0   0\n",
      "25                  10   5   3   8   5\n",
      "26                  10   6   7   2   8\n",
      "27                  10   7  20  12  20\n",
      "28                  22  26  13  17  34\n"
     ]
    },
    {
     "data": {
      "text/plain": [
       "array([[ 5, 13, 11,  7,  6],\n",
       "       [ 6,  3,  6,  0,  1],\n",
       "       [ 0,  0,  1,  0,  0],\n",
       "       [ 0,  0,  1,  0,  0],\n",
       "       [ 0,  0,  0,  2,  0],\n",
       "       [ 0,  1,  1,  0,  1],\n",
       "       [ 2,  2,  2,  1,  1],\n",
       "       [ 7,  1,  5,  1,  1],\n",
       "       [ 1,  2,  1,  1,  1],\n",
       "       [ 1,  2,  1,  0,  0],\n",
       "       [ 9,  1,  6,  4,  5],\n",
       "       [10,  4,  7,  4,  1],\n",
       "       [ 2,  2,  2,  1,  1],\n",
       "       [12, 10, 14, 12,  7],\n",
       "       [ 3,  4,  1,  7,  4],\n",
       "       [ 1,  0,  0,  0,  1],\n",
       "       [ 0,  2,  0,  0,  1],\n",
       "       [ 0,  1,  0,  0,  0],\n",
       "       [ 5,  8,  4,  2,  2],\n",
       "       [11,  9,  5,  8,  7],\n",
       "       [ 1,  1,  2,  2,  0],\n",
       "       [ 9,  6,  9,  4, 10],\n",
       "       [22, 37, 33, 30, 27],\n",
       "       [ 1,  1,  1,  0,  0],\n",
       "       [10,  5,  3,  8,  5],\n",
       "       [10,  6,  7,  2,  8],\n",
       "       [10,  7, 20, 12, 20],\n",
       "       [22, 26, 13, 17, 34]], dtype=int64)"
      ]
     },
     "execution_count": 23,
     "metadata": {},
     "output_type": "execute_result"
    }
   ],
   "source": [
    "# H0 : Reason for absence is independent of day of the week\n",
    "# H1 : Reason for absence is dependent on day of the week\n",
    "\n",
    "# use 'crosstab()' to create a table for each job role level and business travel count \n",
    "table = pd.crosstab(absent['Reason_for_absence'], absent['Day_of_the_week'])\n",
    "print(table)\n",
    "\n",
    "# observed values  \n",
    "observed_values = table.values\n",
    "observed_values"
   ]
  },
  {
   "cell_type": "code",
   "execution_count": 22,
   "metadata": {},
   "outputs": [
    {
     "name": "stdout",
     "output_type": "stream",
     "text": [
      "Critical value for chi-square test: 133.2569\n"
     ]
    }
   ],
   "source": [
    "# calculate the χ2-value for 99% of confidence level\n",
    "# use 'stats.chi2.isf()' to find the χ2-value corresponding to the upper tail probability 'q'\n",
    "\n",
    "# df = (r - 1) * (c - 1)\n",
    "# df = 27 * 4 = 108\n",
    "\n",
    "chi2_val = np.abs(round(stats.chi2.isf(q = 0.05, df = 108), 4))\n",
    "\n",
    "print('Critical value for chi-square test:', chi2_val)"
   ]
  },
  {
   "cell_type": "code",
   "execution_count": 24,
   "metadata": {},
   "outputs": [
    {
     "name": "stdout",
     "output_type": "stream",
     "text": [
      "Test statistic: 132.9140038\n",
      "p-value: 0.05213\n",
      "Degrees of freedom: 108\n",
      "\n",
      "Expected values:\n",
      "[[ 9.09336942  8.75236806  8.86603518  7.10419486  8.18403248]\n",
      " [ 3.46414073  3.33423545  3.37753721  2.70635995  3.11772666]\n",
      " [ 0.2165088   0.20838972  0.21109608  0.1691475   0.19485792]\n",
      " [ 0.2165088   0.20838972  0.21109608  0.1691475   0.19485792]\n",
      " [ 0.43301759  0.41677943  0.42219215  0.33829499  0.38971583]\n",
      " [ 0.64952639  0.62516915  0.63328823  0.50744249  0.58457375]\n",
      " [ 1.73207037  1.66711773  1.68876861  1.35317997  1.55886333]\n",
      " [ 3.24763194  3.12584574  3.16644114  2.53721245  2.92286874]\n",
      " [ 1.29905277  1.25033829  1.26657645  1.01488498  1.1691475 ]\n",
      " [ 0.86603518  0.83355886  0.8443843   0.67658999  0.77943166]\n",
      " [ 5.41271989  5.2097429   5.27740189  4.22868742  4.8714479 ]\n",
      " [ 5.62922869  5.41813261  5.48849797  4.39783491  5.06630582]\n",
      " [ 1.73207037  1.66711773  1.68876861  1.35317997  1.55886333]\n",
      " [11.90798376 11.46143437 11.61028417  9.30311231 10.71718539]\n",
      " [ 4.11366712  3.9594046   4.01082544  3.21380244  3.70230041]\n",
      " [ 0.43301759  0.41677943  0.42219215  0.33829499  0.38971583]\n",
      " [ 0.64952639  0.62516915  0.63328823  0.50744249  0.58457375]\n",
      " [ 0.2165088   0.20838972  0.21109608  0.1691475   0.19485792]\n",
      " [ 4.54668471  4.37618403  4.43301759  3.55209743  4.09201624]\n",
      " [ 8.66035183  8.33558863  8.44384303  6.76589986  7.79431664]\n",
      " [ 1.29905277  1.25033829  1.26657645  1.01488498  1.1691475 ]\n",
      " [ 8.22733424  7.9188092   8.02165088  6.42760487  7.40460081]\n",
      " [32.25981055 31.05006766 31.45331529 25.202977   29.0338295 ]\n",
      " [ 0.64952639  0.62516915  0.63328823  0.50744249  0.58457375]\n",
      " [ 6.71177267  6.46008119  6.54397835  5.2435724   6.0405954 ]\n",
      " [ 7.14479026  6.87686062  6.9661705   5.58186739  6.43031123]\n",
      " [14.9391069  14.37889039 14.56562923 11.67117727 13.44519621]\n",
      " [24.24898512 23.33964817 23.64276049 18.94451962 21.8240866 ]]\n"
     ]
    }
   ],
   "source": [
    "# use the 'chi2_contingency()' to check the independence of variables\n",
    "\n",
    "test_stat, p, dof, expected_value = stats.chi2_contingency(observed = observed_values, correction = False)\n",
    "\n",
    "print(\"Test statistic:\", round(test_stat, 7))\n",
    "print(\"p-value:\", round(p, 6))\n",
    "print(\"Degrees of freedom:\", dof)\n",
    "print(\"\\nExpected values:\") \n",
    "print(expected_value)"
   ]
  },
  {
   "cell_type": "markdown",
   "metadata": {},
   "source": [
    "* p-value is just slightly greater than alpha (0.05)\n",
    "* Test statistic is lesser than Chi-critical value and falls in acceptance region of H0\n",
    "* Therefore we fail to reject the null hypothesis and conclude that reason for absence is independent of day of the week**"
   ]
  },
  {
   "cell_type": "markdown",
   "metadata": {},
   "source": [
    "## Wilcoxon Rank Sum test"
   ]
  },
  {
   "cell_type": "markdown",
   "metadata": {},
   "source": [
    "<table align=\"left\">\n",
    "    <tr>\n",
    "        <td width=\"6%\">\n",
    "        </td>\n",
    "        <td>\n",
    "            <div align=\"left\", style=\"font-size:120%\">\n",
    "                <font color=\"#21618C\">\n",
    "                    <b>7. A consulting company wants to check if there is any difference in medians of absenteeism hours for social drinkers and non-drinkers.</b>\n",
    "                </font>\n",
    "            </div>\n",
    "        </td>\n",
    "    </tr>\n",
    "</table>"
   ]
  },
  {
   "cell_type": "code",
   "execution_count": 27,
   "metadata": {},
   "outputs": [
    {
     "name": "stdout",
     "output_type": "stream",
     "text": [
      "Critical value for two-tailed Z-test: 1.96\n"
     ]
    }
   ],
   "source": [
    "# H0 : Median absenteeism hours of social drinkers and non-drinkers are same\n",
    "# Ha : Median absenteeism hours of social drinkers and non-drinkers are different\n",
    "\n",
    "# calculate the z-value for 95% of confidence level\n",
    "z_val = np.abs(round(stats.norm.isf(q = 0.05/2), 2))\n",
    "\n",
    "print('Critical value for two-tailed Z-test:', z_val)"
   ]
  },
  {
   "cell_type": "code",
   "execution_count": 28,
   "metadata": {},
   "outputs": [
    {
     "name": "stdout",
     "output_type": "stream",
     "text": [
      "Test statistic: 2.74685\n",
      "p-value: 0.006017126\n"
     ]
    }
   ],
   "source": [
    "abstime_nondrinker = absent[absent['Social_drinker'] == 0]['Absenteeism_time_hours']\n",
    "abstime_drinker = absent[absent['Social_drinker'] == 1]['Absenteeism_time_hours']\n",
    "\n",
    "test_stat, p_value = stats.ranksums(abstime_drinker, abstime_nondrinker)\n",
    "print(\"Test statistic:\", round(test_stat, 5))\n",
    "print(\"p-value:\", round(p_value, 9))"
   ]
  },
  {
   "cell_type": "markdown",
   "metadata": {},
   "source": [
    "* p-value is less than alpha (0.05)\n",
    "* Test statistic is greater than Z-critical (1.96) and it falls in rejection region of H0\n",
    "* Therefore, we reject the null hypothesis and conclude there is difference in medians of absenteeism hours among social drinkers and non-drinkers "
   ]
  },
  {
   "cell_type": "code",
   "execution_count": 42,
   "metadata": {},
   "outputs": [
    {
     "data": {
      "image/png": "[encoded data removed]",
      "text/plain": [
       "<Figure size 900x500 with 1 Axes>"
      ]
     },
     "metadata": {
      "needs_background": "light"
     },
     "output_type": "display_data"
    }
   ],
   "source": [
    "plt.figure(figsize=(9,5), dpi=100)\n",
    "sns.boxplot(x = absent['Social_drinker'], \n",
    "            y = absent['Absenteeism_time_hours'],\n",
    "            orient = \"v\")\n",
    "plt.ylabel('Absenteeism time (hours)')\n",
    "plt.show()"
   ]
  },
  {
   "cell_type": "markdown",
   "metadata": {},
   "source": [
    "## CLT Simulation of Absenteeism time "
   ]
  },
  {
   "cell_type": "code",
   "execution_count": 59,
   "metadata": {},
   "outputs": [
    {
     "data": {
      "image/png": "[encoded data removed]",
      "text/plain": [
       "<Figure size 648x504 with 1 Axes>"
      ]
     },
     "metadata": {
      "needs_background": "light"
     },
     "output_type": "display_data"
    }
   ],
   "source": [
    "plt.figure(figsize = (9, 7))\n",
    "sns.distplot(absent['Absenteeism_time_hours'], color = 'blue')\n",
    "mu = absent['Absenteeism_time_hours'].mean()\n",
    "sigma = absent['Absenteeism_time_hours'].std()\n",
    "plt.title(\"Population distribution\\n$\\mu$ = %.4f & $\\sigma$ = %.4f\" % (mu, sigma))\n",
    "plt.ylabel('Freq.', fontsize = 12)\n",
    "plt.xlabel('Absenteeism time (hours)', fontsize = 12)\n",
    "plt.show()"
   ]
  },
  {
   "cell_type": "code",
   "execution_count": 61,
   "metadata": {},
   "outputs": [
    {
     "data": {
      "image/png": "[encoded data removed]",
      "text/plain": [
       "<Figure size 648x504 with 1 Axes>"
      ]
     },
     "metadata": {
      "needs_background": "light"
     },
     "output_type": "display_data"
    }
   ],
   "source": [
    "# Simulation of Absenteeism time (hours)\n",
    "\n",
    "number_of_sample = 500\n",
    "sample_size = 1000\n",
    "\n",
    "df500 = pd.DataFrame()\n",
    "\n",
    "for i in range(1, number_of_sample+1):\n",
    "    normal_sample = np.random.normal(loc = mu, scale = sigma, size = sample_size)\n",
    "    col = f'Sample_{i}'\n",
    "    df500[col] = normal_sample\n",
    "    \n",
    "# Plotting the sampling distribution\n",
    "df_absenteeism_sample_means = pd.DataFrame(df500.mean(), columns = ['Sample_Means'])\n",
    "\n",
    "\n",
    "plt.figure(figsize = (9, 7))\n",
    "sns.distplot(df_absenteeism_sample_means, color = 'darkorange')\n",
    "xbar = df_absenteeism_sample_means['Sample_Means'].mean()\n",
    "SE = df_absenteeism_sample_means['Sample_Means'].std()\n",
    "plt.title(\"Sampling distribution\\n$\\mu$ = %.4f & SE = %.4f\" % (xbar, SE))\n",
    "plt.legend(['Number of samples: %d\\nSample size: %d' % (number_of_sample, sample_size)], handlelength=0)\n",
    "plt.ylabel('Freq.', fontsize = 12)\n",
    "plt.xlabel('Absenteeism time (hours)', fontsize = 12)\n",
    "plt.show()"
   ]
  },
  {
   "cell_type": "code",
   "execution_count": 48,
   "metadata": {},
   "outputs": [
    {
     "data": {
      "text/html": [
       "<div>\n",
       "<style scoped>\n",
       "    .dataframe tbody tr th:only-of-type {\n",
       "        vertical-align: middle;\n",
       "    }\n",
       "\n",
       "    .dataframe tbody tr th {\n",
       "        vertical-align: top;\n",
       "    }\n",
       "\n",
       "    .dataframe thead th {\n",
       "        text-align: right;\n",
       "    }\n",
       "</style>\n",
       "<table border=\"1\" class=\"dataframe\">\n",
       "  <thead>\n",
       "    <tr style=\"text-align: right;\">\n",
       "      <th></th>\n",
       "      <th>Sample_1</th>\n",
       "      <th>Sample_2</th>\n",
       "      <th>Sample_3</th>\n",
       "      <th>Sample_4</th>\n",
       "      <th>Sample_5</th>\n",
       "      <th>Sample_6</th>\n",
       "      <th>Sample_7</th>\n",
       "      <th>Sample_8</th>\n",
       "      <th>Sample_9</th>\n",
       "      <th>Sample_10</th>\n",
       "      <th>...</th>\n",
       "      <th>Sample_491</th>\n",
       "      <th>Sample_492</th>\n",
       "      <th>Sample_493</th>\n",
       "      <th>Sample_494</th>\n",
       "      <th>Sample_495</th>\n",
       "      <th>Sample_496</th>\n",
       "      <th>Sample_497</th>\n",
       "      <th>Sample_498</th>\n",
       "      <th>Sample_499</th>\n",
       "      <th>Sample_500</th>\n",
       "    </tr>\n",
       "  </thead>\n",
       "  <tbody>\n",
       "    <tr>\n",
       "      <th>0</th>\n",
       "      <td>-16.139066</td>\n",
       "      <td>6.728833</td>\n",
       "      <td>-2.494037</td>\n",
       "      <td>23.635990</td>\n",
       "      <td>-11.538505</td>\n",
       "      <td>3.832489</td>\n",
       "      <td>-9.763650</td>\n",
       "      <td>1.959997</td>\n",
       "      <td>-15.463620</td>\n",
       "      <td>21.768849</td>\n",
       "      <td>...</td>\n",
       "      <td>-3.914468</td>\n",
       "      <td>-9.254634</td>\n",
       "      <td>24.754786</td>\n",
       "      <td>6.975374</td>\n",
       "      <td>7.268947</td>\n",
       "      <td>0.920033</td>\n",
       "      <td>6.374920</td>\n",
       "      <td>-5.980468</td>\n",
       "      <td>-8.980728</td>\n",
       "      <td>-16.280839</td>\n",
       "    </tr>\n",
       "    <tr>\n",
       "      <th>1</th>\n",
       "      <td>25.448047</td>\n",
       "      <td>19.337303</td>\n",
       "      <td>21.508415</td>\n",
       "      <td>9.620630</td>\n",
       "      <td>20.598964</td>\n",
       "      <td>1.612801</td>\n",
       "      <td>-11.851344</td>\n",
       "      <td>25.625837</td>\n",
       "      <td>-8.960519</td>\n",
       "      <td>1.728561</td>\n",
       "      <td>...</td>\n",
       "      <td>-2.304623</td>\n",
       "      <td>3.813681</td>\n",
       "      <td>34.499700</td>\n",
       "      <td>12.954012</td>\n",
       "      <td>-4.374760</td>\n",
       "      <td>-13.355192</td>\n",
       "      <td>22.547168</td>\n",
       "      <td>6.794343</td>\n",
       "      <td>7.843246</td>\n",
       "      <td>15.710863</td>\n",
       "    </tr>\n",
       "    <tr>\n",
       "      <th>2</th>\n",
       "      <td>13.585760</td>\n",
       "      <td>0.172898</td>\n",
       "      <td>15.677808</td>\n",
       "      <td>13.219104</td>\n",
       "      <td>5.542606</td>\n",
       "      <td>2.651442</td>\n",
       "      <td>18.606327</td>\n",
       "      <td>-6.527411</td>\n",
       "      <td>4.056884</td>\n",
       "      <td>22.294198</td>\n",
       "      <td>...</td>\n",
       "      <td>13.843119</td>\n",
       "      <td>-1.421962</td>\n",
       "      <td>12.742190</td>\n",
       "      <td>23.691456</td>\n",
       "      <td>26.334157</td>\n",
       "      <td>9.782888</td>\n",
       "      <td>14.854822</td>\n",
       "      <td>-5.804578</td>\n",
       "      <td>6.216379</td>\n",
       "      <td>34.650198</td>\n",
       "    </tr>\n",
       "    <tr>\n",
       "      <th>3</th>\n",
       "      <td>10.775075</td>\n",
       "      <td>1.647186</td>\n",
       "      <td>-8.650587</td>\n",
       "      <td>-11.916028</td>\n",
       "      <td>9.158382</td>\n",
       "      <td>16.400570</td>\n",
       "      <td>12.619845</td>\n",
       "      <td>6.919026</td>\n",
       "      <td>-0.965978</td>\n",
       "      <td>9.816054</td>\n",
       "      <td>...</td>\n",
       "      <td>12.845302</td>\n",
       "      <td>4.363031</td>\n",
       "      <td>14.468747</td>\n",
       "      <td>34.765632</td>\n",
       "      <td>35.808134</td>\n",
       "      <td>15.048218</td>\n",
       "      <td>28.900804</td>\n",
       "      <td>-7.441358</td>\n",
       "      <td>-11.858530</td>\n",
       "      <td>14.670389</td>\n",
       "    </tr>\n",
       "    <tr>\n",
       "      <th>4</th>\n",
       "      <td>-6.760873</td>\n",
       "      <td>22.012182</td>\n",
       "      <td>33.298232</td>\n",
       "      <td>23.568805</td>\n",
       "      <td>32.674028</td>\n",
       "      <td>-2.399156</td>\n",
       "      <td>27.084806</td>\n",
       "      <td>6.623454</td>\n",
       "      <td>25.772927</td>\n",
       "      <td>-7.065315</td>\n",
       "      <td>...</td>\n",
       "      <td>-16.598622</td>\n",
       "      <td>-11.619569</td>\n",
       "      <td>2.993537</td>\n",
       "      <td>-18.164722</td>\n",
       "      <td>9.763253</td>\n",
       "      <td>-0.515314</td>\n",
       "      <td>13.198739</td>\n",
       "      <td>20.477720</td>\n",
       "      <td>19.548602</td>\n",
       "      <td>-9.752459</td>\n",
       "    </tr>\n",
       "    <tr>\n",
       "      <th>...</th>\n",
       "      <td>...</td>\n",
       "      <td>...</td>\n",
       "      <td>...</td>\n",
       "      <td>...</td>\n",
       "      <td>...</td>\n",
       "      <td>...</td>\n",
       "      <td>...</td>\n",
       "      <td>...</td>\n",
       "      <td>...</td>\n",
       "      <td>...</td>\n",
       "      <td>...</td>\n",
       "      <td>...</td>\n",
       "      <td>...</td>\n",
       "      <td>...</td>\n",
       "      <td>...</td>\n",
       "      <td>...</td>\n",
       "      <td>...</td>\n",
       "      <td>...</td>\n",
       "      <td>...</td>\n",
       "      <td>...</td>\n",
       "      <td>...</td>\n",
       "    </tr>\n",
       "    <tr>\n",
       "      <th>995</th>\n",
       "      <td>17.707583</td>\n",
       "      <td>4.727857</td>\n",
       "      <td>32.105811</td>\n",
       "      <td>19.600962</td>\n",
       "      <td>4.948897</td>\n",
       "      <td>-6.041978</td>\n",
       "      <td>4.421426</td>\n",
       "      <td>10.313261</td>\n",
       "      <td>6.111684</td>\n",
       "      <td>6.436548</td>\n",
       "      <td>...</td>\n",
       "      <td>27.612091</td>\n",
       "      <td>-9.755531</td>\n",
       "      <td>-6.709051</td>\n",
       "      <td>9.309210</td>\n",
       "      <td>0.130803</td>\n",
       "      <td>10.156606</td>\n",
       "      <td>-12.564230</td>\n",
       "      <td>-15.518254</td>\n",
       "      <td>-5.717470</td>\n",
       "      <td>12.803121</td>\n",
       "    </tr>\n",
       "    <tr>\n",
       "      <th>996</th>\n",
       "      <td>23.917443</td>\n",
       "      <td>24.971981</td>\n",
       "      <td>4.251343</td>\n",
       "      <td>-14.170737</td>\n",
       "      <td>12.490826</td>\n",
       "      <td>21.477978</td>\n",
       "      <td>-3.347635</td>\n",
       "      <td>4.491376</td>\n",
       "      <td>0.079160</td>\n",
       "      <td>23.478512</td>\n",
       "      <td>...</td>\n",
       "      <td>17.103707</td>\n",
       "      <td>10.983736</td>\n",
       "      <td>7.073011</td>\n",
       "      <td>12.722370</td>\n",
       "      <td>15.899241</td>\n",
       "      <td>28.790592</td>\n",
       "      <td>-8.365495</td>\n",
       "      <td>14.302962</td>\n",
       "      <td>18.585622</td>\n",
       "      <td>7.758792</td>\n",
       "    </tr>\n",
       "    <tr>\n",
       "      <th>997</th>\n",
       "      <td>5.170038</td>\n",
       "      <td>-27.273194</td>\n",
       "      <td>27.711120</td>\n",
       "      <td>-9.570659</td>\n",
       "      <td>-1.567656</td>\n",
       "      <td>-2.568007</td>\n",
       "      <td>25.915789</td>\n",
       "      <td>6.038277</td>\n",
       "      <td>-11.183797</td>\n",
       "      <td>7.005927</td>\n",
       "      <td>...</td>\n",
       "      <td>13.565462</td>\n",
       "      <td>-2.972409</td>\n",
       "      <td>-3.968904</td>\n",
       "      <td>7.515177</td>\n",
       "      <td>2.084750</td>\n",
       "      <td>17.498387</td>\n",
       "      <td>-7.547584</td>\n",
       "      <td>17.868446</td>\n",
       "      <td>-5.391384</td>\n",
       "      <td>11.766543</td>\n",
       "    </tr>\n",
       "    <tr>\n",
       "      <th>998</th>\n",
       "      <td>29.455908</td>\n",
       "      <td>8.104574</td>\n",
       "      <td>5.594539</td>\n",
       "      <td>1.952610</td>\n",
       "      <td>-8.909407</td>\n",
       "      <td>3.683961</td>\n",
       "      <td>11.855156</td>\n",
       "      <td>-13.732758</td>\n",
       "      <td>-8.865303</td>\n",
       "      <td>13.349624</td>\n",
       "      <td>...</td>\n",
       "      <td>-0.974792</td>\n",
       "      <td>9.853366</td>\n",
       "      <td>0.473133</td>\n",
       "      <td>15.502126</td>\n",
       "      <td>22.400724</td>\n",
       "      <td>14.652107</td>\n",
       "      <td>21.006365</td>\n",
       "      <td>-6.555682</td>\n",
       "      <td>-8.428681</td>\n",
       "      <td>9.519564</td>\n",
       "    </tr>\n",
       "    <tr>\n",
       "      <th>999</th>\n",
       "      <td>-0.297076</td>\n",
       "      <td>15.277566</td>\n",
       "      <td>13.044725</td>\n",
       "      <td>-4.174306</td>\n",
       "      <td>11.898330</td>\n",
       "      <td>8.776446</td>\n",
       "      <td>0.231357</td>\n",
       "      <td>4.358976</td>\n",
       "      <td>12.836873</td>\n",
       "      <td>-11.034297</td>\n",
       "      <td>...</td>\n",
       "      <td>5.041941</td>\n",
       "      <td>34.589124</td>\n",
       "      <td>24.908457</td>\n",
       "      <td>21.924102</td>\n",
       "      <td>10.576856</td>\n",
       "      <td>5.624834</td>\n",
       "      <td>11.876451</td>\n",
       "      <td>3.166506</td>\n",
       "      <td>-4.667548</td>\n",
       "      <td>11.322367</td>\n",
       "    </tr>\n",
       "  </tbody>\n",
       "</table>\n",
       "<p>1000 rows × 500 columns</p>\n",
       "</div>"
      ],
      "text/plain": [
       "      Sample_1   Sample_2   Sample_3   Sample_4   Sample_5   Sample_6  \\\n",
       "0   -16.139066   6.728833  -2.494037  23.635990 -11.538505   3.832489   \n",
       "1    25.448047  19.337303  21.508415   9.620630  20.598964   1.612801   \n",
       "2    13.585760   0.172898  15.677808  13.219104   5.542606   2.651442   \n",
       "3    10.775075   1.647186  -8.650587 -11.916028   9.158382  16.400570   \n",
       "4    -6.760873  22.012182  33.298232  23.568805  32.674028  -2.399156   \n",
       "..         ...        ...        ...        ...        ...        ...   \n",
       "995  17.707583   4.727857  32.105811  19.600962   4.948897  -6.041978   \n",
       "996  23.917443  24.971981   4.251343 -14.170737  12.490826  21.477978   \n",
       "997   5.170038 -27.273194  27.711120  -9.570659  -1.567656  -2.568007   \n",
       "998  29.455908   8.104574   5.594539   1.952610  -8.909407   3.683961   \n",
       "999  -0.297076  15.277566  13.044725  -4.174306  11.898330   8.776446   \n",
       "\n",
       "      Sample_7   Sample_8   Sample_9  Sample_10  ...  Sample_491  Sample_492  \\\n",
       "0    -9.763650   1.959997 -15.463620  21.768849  ...   -3.914468   -9.254634   \n",
       "1   -11.851344  25.625837  -8.960519   1.728561  ...   -2.304623    3.813681   \n",
       "2    18.606327  -6.527411   4.056884  22.294198  ...   13.843119   -1.421962   \n",
       "3    12.619845   6.919026  -0.965978   9.816054  ...   12.845302    4.363031   \n",
       "4    27.084806   6.623454  25.772927  -7.065315  ...  -16.598622  -11.619569   \n",
       "..         ...        ...        ...        ...  ...         ...         ...   \n",
       "995   4.421426  10.313261   6.111684   6.436548  ...   27.612091   -9.755531   \n",
       "996  -3.347635   4.491376   0.079160  23.478512  ...   17.103707   10.983736   \n",
       "997  25.915789   6.038277 -11.183797   7.005927  ...   13.565462   -2.972409   \n",
       "998  11.855156 -13.732758  -8.865303  13.349624  ...   -0.974792    9.853366   \n",
       "999   0.231357   4.358976  12.836873 -11.034297  ...    5.041941   34.589124   \n",
       "\n",
       "     Sample_493  Sample_494  Sample_495  Sample_496  Sample_497  Sample_498  \\\n",
       "0     24.754786    6.975374    7.268947    0.920033    6.374920   -5.980468   \n",
       "1     34.499700   12.954012   -4.374760  -13.355192   22.547168    6.794343   \n",
       "2     12.742190   23.691456   26.334157    9.782888   14.854822   -5.804578   \n",
       "3     14.468747   34.765632   35.808134   15.048218   28.900804   -7.441358   \n",
       "4      2.993537  -18.164722    9.763253   -0.515314   13.198739   20.477720   \n",
       "..          ...         ...         ...         ...         ...         ...   \n",
       "995   -6.709051    9.309210    0.130803   10.156606  -12.564230  -15.518254   \n",
       "996    7.073011   12.722370   15.899241   28.790592   -8.365495   14.302962   \n",
       "997   -3.968904    7.515177    2.084750   17.498387   -7.547584   17.868446   \n",
       "998    0.473133   15.502126   22.400724   14.652107   21.006365   -6.555682   \n",
       "999   24.908457   21.924102   10.576856    5.624834   11.876451    3.166506   \n",
       "\n",
       "     Sample_499  Sample_500  \n",
       "0     -8.980728  -16.280839  \n",
       "1      7.843246   15.710863  \n",
       "2      6.216379   34.650198  \n",
       "3    -11.858530   14.670389  \n",
       "4     19.548602   -9.752459  \n",
       "..          ...         ...  \n",
       "995   -5.717470   12.803121  \n",
       "996   18.585622    7.758792  \n",
       "997   -5.391384   11.766543  \n",
       "998   -8.428681    9.519564  \n",
       "999   -4.667548   11.322367  \n",
       "\n",
       "[1000 rows x 500 columns]"
      ]
     },
     "execution_count": 48,
     "metadata": {},
     "output_type": "execute_result"
    }
   ],
   "source": [
    "df500"
   ]
  },
  {
   "cell_type": "code",
   "execution_count": 49,
   "metadata": {},
   "outputs": [
    {
     "data": {
      "text/html": [
       "<div>\n",
       "<style scoped>\n",
       "    .dataframe tbody tr th:only-of-type {\n",
       "        vertical-align: middle;\n",
       "    }\n",
       "\n",
       "    .dataframe tbody tr th {\n",
       "        vertical-align: top;\n",
       "    }\n",
       "\n",
       "    .dataframe thead th {\n",
       "        text-align: right;\n",
       "    }\n",
       "</style>\n",
       "<table border=\"1\" class=\"dataframe\">\n",
       "  <thead>\n",
       "    <tr style=\"text-align: right;\">\n",
       "      <th></th>\n",
       "      <th>Sample_Means</th>\n",
       "    </tr>\n",
       "  </thead>\n",
       "  <tbody>\n",
       "    <tr>\n",
       "      <th>Sample_1</th>\n",
       "      <td>6.596846</td>\n",
       "    </tr>\n",
       "    <tr>\n",
       "      <th>Sample_2</th>\n",
       "      <td>6.788536</td>\n",
       "    </tr>\n",
       "    <tr>\n",
       "      <th>Sample_3</th>\n",
       "      <td>7.361932</td>\n",
       "    </tr>\n",
       "    <tr>\n",
       "      <th>Sample_4</th>\n",
       "      <td>7.688025</td>\n",
       "    </tr>\n",
       "    <tr>\n",
       "      <th>Sample_5</th>\n",
       "      <td>6.924656</td>\n",
       "    </tr>\n",
       "    <tr>\n",
       "      <th>...</th>\n",
       "      <td>...</td>\n",
       "    </tr>\n",
       "    <tr>\n",
       "      <th>Sample_496</th>\n",
       "      <td>6.259948</td>\n",
       "    </tr>\n",
       "    <tr>\n",
       "      <th>Sample_497</th>\n",
       "      <td>6.475338</td>\n",
       "    </tr>\n",
       "    <tr>\n",
       "      <th>Sample_498</th>\n",
       "      <td>6.808419</td>\n",
       "    </tr>\n",
       "    <tr>\n",
       "      <th>Sample_499</th>\n",
       "      <td>7.100080</td>\n",
       "    </tr>\n",
       "    <tr>\n",
       "      <th>Sample_500</th>\n",
       "      <td>7.427319</td>\n",
       "    </tr>\n",
       "  </tbody>\n",
       "</table>\n",
       "<p>500 rows × 1 columns</p>\n",
       "</div>"
      ],
      "text/plain": [
       "            Sample_Means\n",
       "Sample_1        6.596846\n",
       "Sample_2        6.788536\n",
       "Sample_3        7.361932\n",
       "Sample_4        7.688025\n",
       "Sample_5        6.924656\n",
       "...                  ...\n",
       "Sample_496      6.259948\n",
       "Sample_497      6.475338\n",
       "Sample_498      6.808419\n",
       "Sample_499      7.100080\n",
       "Sample_500      7.427319\n",
       "\n",
       "[500 rows x 1 columns]"
      ]
     },
     "execution_count": 49,
     "metadata": {},
     "output_type": "execute_result"
    }
   ],
   "source": [
    "df_absenteeism_sample_means"
   ]
  },
  {
   "cell_type": "code",
   "execution_count": 64,
   "metadata": {},
   "outputs": [
    {
     "data": {
      "image/png": "[encoded data removed]",
      "text/plain": [
       "<Figure size 648x504 with 1 Axes>"
      ]
     },
     "metadata": {
      "needs_background": "light"
     },
     "output_type": "display_data"
    }
   ],
   "source": [
    "# Simulation of Absenteeism time (hours)\n",
    "\n",
    "number_of_sample = 30\n",
    "sample_size = 40\n",
    "\n",
    "df500 = pd.DataFrame()\n",
    "\n",
    "for i in range(1, number_of_sample+1):\n",
    "    normal_sample = np.random.normal(loc = mu, scale = sigma, size = sample_size)\n",
    "    col = f'Sample_{i}'\n",
    "    df500[col] = normal_sample\n",
    "    \n",
    "# Plotting the sampling distribution\n",
    "df_absenteeism_sample_means = pd.DataFrame(df500.mean(), columns = ['Sample_Means'])\n",
    "\n",
    "\n",
    "plt.figure(figsize = (9, 7))\n",
    "sns.distplot(df_absenteeism_sample_means, color = 'darkorange')\n",
    "xbar = df_absenteeism_sample_means['Sample_Means'].mean()\n",
    "SE = df_absenteeism_sample_means['Sample_Means'].std()\n",
    "plt.title(\"Sampling distribution\\n$\\mu$ = %.4f & SE = %.4f\" % (xbar, SE))\n",
    "plt.legend(['Number of samples: %d\\nSample size: %d' % (number_of_sample, sample_size)], handlelength=0)\n",
    "plt.ylabel('Freq.', fontsize = 12)\n",
    "plt.xlabel('Absenteeism time (hours)', fontsize = 12)\n",
    "plt.show()"
   ]
  }
 ],
 "metadata": {
  "kernelspec": {
   "display_name": "Python 3",
   "language": "python",
   "name": "python3"
  },
  "language_info": {
   "codemirror_mode": {
    "name": "ipython",
    "version": 3
   },
   "file_extension": ".py",
   "mimetype": "text/x-python",
   "name": "python",
   "nbconvert_exporter": "python",
   "pygments_lexer": "ipython3",
   "version": "3.8.5"
  }
 },
 "nbformat": 4,
 "nbformat_minor": 4
}
